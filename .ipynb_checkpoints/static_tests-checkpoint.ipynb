{
 "cells": [
  {
   "cell_type": "code",
   "execution_count": 1,
   "metadata": {
    "collapsed": true
   },
   "outputs": [],
   "source": [
    "import pandas as pd\n",
    "import matplotlib.pyplot as plt\n",
    "import numpy as np\n",
    "import scipy.stats as sp\n",
    "# import sklearn.preprocessing as sk\n",
    "from collections import Counter\n",
    "\n",
    "# from matplotlib.ticker import FuncFormatter\n",
    "%matplotlib inline"
   ]
  },
  {
   "cell_type": "code",
   "execution_count": 2,
   "metadata": {
    "collapsed": true
   },
   "outputs": [],
   "source": [
    "exp1_data = pd.read_csv(\"allTogetherSep.csv\")\n",
    "exp2_data = pd.read_csv(\"allTogetherOct.csv\")"
   ]
  },
  {
   "cell_type": "code",
   "execution_count": 3,
   "metadata": {
    "scrolled": true
   },
   "outputs": [
    {
     "data": {
      "text/html": [
       "<div>\n",
       "<style>\n",
       "    .dataframe thead tr:only-child th {\n",
       "        text-align: right;\n",
       "    }\n",
       "\n",
       "    .dataframe thead th {\n",
       "        text-align: left;\n",
       "    }\n",
       "\n",
       "    .dataframe tbody tr th {\n",
       "        vertical-align: top;\n",
       "    }\n",
       "</style>\n",
       "<table border=\"1\" class=\"dataframe\">\n",
       "  <thead>\n",
       "    <tr style=\"text-align: right;\">\n",
       "      <th></th>\n",
       "      <th>index</th>\n",
       "      <th>0</th>\n",
       "      <th>1</th>\n",
       "      <th>2</th>\n",
       "      <th>3</th>\n",
       "      <th>4</th>\n",
       "      <th>5</th>\n",
       "      <th>6</th>\n",
       "      <th>7</th>\n",
       "      <th>8</th>\n",
       "      <th>...</th>\n",
       "      <th>286</th>\n",
       "      <th>287</th>\n",
       "      <th>288</th>\n",
       "      <th>289</th>\n",
       "      <th>290</th>\n",
       "      <th>291</th>\n",
       "      <th>292</th>\n",
       "      <th>293</th>\n",
       "      <th>294</th>\n",
       "      <th>295</th>\n",
       "    </tr>\n",
       "  </thead>\n",
       "  <tbody>\n",
       "    <tr>\n",
       "      <th>0</th>\n",
       "      <td>Basic information</td>\n",
       "      <td>What is your gender?</td>\n",
       "      <td>Please indicate your age</td>\n",
       "      <td>Please indicate your ethnic background (optional)</td>\n",
       "      <td>What is your highest level of education?</td>\n",
       "      <td>How would you rate your technology expertise?</td>\n",
       "      <td>How do you feel about including technology in ...</td>\n",
       "      <td>How would you rate your experience with smart ...</td>\n",
       "      <td>Propensity Questions</td>\n",
       "      <td>I usually trust machines until there is a reas...</td>\n",
       "      <td>...</td>\n",
       "      <td>exp2-st2-sec2</td>\n",
       "      <td>#ignore an alert</td>\n",
       "      <td>exp1-st1-sec1</td>\n",
       "      <td>exp1-st1-sec2</td>\n",
       "      <td>exp1-st2-sec1</td>\n",
       "      <td>exp1-st2-sec2</td>\n",
       "      <td>exp2-st1-sec1</td>\n",
       "      <td>exp2-st1-sec2</td>\n",
       "      <td>exp2-st2-sec1</td>\n",
       "      <td>exp2-st2-sec2</td>\n",
       "    </tr>\n",
       "    <tr>\n",
       "      <th>1</th>\n",
       "      <td>1</td>\n",
       "      <td>2</td>\n",
       "      <td>1</td>\n",
       "      <td>7</td>\n",
       "      <td>4</td>\n",
       "      <td>2</td>\n",
       "      <td>0</td>\n",
       "      <td>3</td>\n",
       "      <td>NaN</td>\n",
       "      <td>3</td>\n",
       "      <td>...</td>\n",
       "      <td>17</td>\n",
       "      <td>NaN</td>\n",
       "      <td>9</td>\n",
       "      <td>11</td>\n",
       "      <td>13</td>\n",
       "      <td>1</td>\n",
       "      <td>0</td>\n",
       "      <td>0</td>\n",
       "      <td>0</td>\n",
       "      <td>0</td>\n",
       "    </tr>\n",
       "    <tr>\n",
       "      <th>2</th>\n",
       "      <td>2</td>\n",
       "      <td>1</td>\n",
       "      <td>1</td>\n",
       "      <td>4</td>\n",
       "      <td>4</td>\n",
       "      <td>2</td>\n",
       "      <td>1</td>\n",
       "      <td>2</td>\n",
       "      <td>NaN</td>\n",
       "      <td>4</td>\n",
       "      <td>...</td>\n",
       "      <td>17</td>\n",
       "      <td>NaN</td>\n",
       "      <td>0</td>\n",
       "      <td>0</td>\n",
       "      <td>1</td>\n",
       "      <td>0</td>\n",
       "      <td>0</td>\n",
       "      <td>0</td>\n",
       "      <td>0</td>\n",
       "      <td>0</td>\n",
       "    </tr>\n",
       "    <tr>\n",
       "      <th>3</th>\n",
       "      <td>3</td>\n",
       "      <td>2</td>\n",
       "      <td>1</td>\n",
       "      <td>7</td>\n",
       "      <td>4</td>\n",
       "      <td>2</td>\n",
       "      <td>1</td>\n",
       "      <td>2</td>\n",
       "      <td>NaN</td>\n",
       "      <td>4</td>\n",
       "      <td>...</td>\n",
       "      <td>16</td>\n",
       "      <td>NaN</td>\n",
       "      <td>0</td>\n",
       "      <td>0</td>\n",
       "      <td>0</td>\n",
       "      <td>0</td>\n",
       "      <td>0</td>\n",
       "      <td>0</td>\n",
       "      <td>0</td>\n",
       "      <td>0</td>\n",
       "    </tr>\n",
       "    <tr>\n",
       "      <th>4</th>\n",
       "      <td>4</td>\n",
       "      <td>2</td>\n",
       "      <td>1</td>\n",
       "      <td>4</td>\n",
       "      <td>4</td>\n",
       "      <td>3</td>\n",
       "      <td>1</td>\n",
       "      <td>2</td>\n",
       "      <td>NaN</td>\n",
       "      <td>4</td>\n",
       "      <td>...</td>\n",
       "      <td>15</td>\n",
       "      <td>NaN</td>\n",
       "      <td>1</td>\n",
       "      <td>0</td>\n",
       "      <td>0</td>\n",
       "      <td>0</td>\n",
       "      <td>0</td>\n",
       "      <td>0</td>\n",
       "      <td>0</td>\n",
       "      <td>1</td>\n",
       "    </tr>\n",
       "    <tr>\n",
       "      <th>5</th>\n",
       "      <td>5</td>\n",
       "      <td>2</td>\n",
       "      <td>1</td>\n",
       "      <td>7</td>\n",
       "      <td>4</td>\n",
       "      <td>2</td>\n",
       "      <td>1</td>\n",
       "      <td>2</td>\n",
       "      <td>NaN</td>\n",
       "      <td>4</td>\n",
       "      <td>...</td>\n",
       "      <td>2</td>\n",
       "      <td>NaN</td>\n",
       "      <td>7</td>\n",
       "      <td>9</td>\n",
       "      <td>8</td>\n",
       "      <td>14</td>\n",
       "      <td>5</td>\n",
       "      <td>10</td>\n",
       "      <td>15</td>\n",
       "      <td>15</td>\n",
       "    </tr>\n",
       "    <tr>\n",
       "      <th>6</th>\n",
       "      <td>6</td>\n",
       "      <td>2</td>\n",
       "      <td>1</td>\n",
       "      <td>7</td>\n",
       "      <td>3</td>\n",
       "      <td>2</td>\n",
       "      <td>0</td>\n",
       "      <td>2</td>\n",
       "      <td>NaN</td>\n",
       "      <td>5</td>\n",
       "      <td>...</td>\n",
       "      <td>5</td>\n",
       "      <td>NaN</td>\n",
       "      <td>0</td>\n",
       "      <td>0</td>\n",
       "      <td>3</td>\n",
       "      <td>9</td>\n",
       "      <td>6</td>\n",
       "      <td>7</td>\n",
       "      <td>7</td>\n",
       "      <td>8</td>\n",
       "    </tr>\n",
       "    <tr>\n",
       "      <th>7</th>\n",
       "      <td>7</td>\n",
       "      <td>1</td>\n",
       "      <td>1</td>\n",
       "      <td>4</td>\n",
       "      <td>4</td>\n",
       "      <td>2</td>\n",
       "      <td>1</td>\n",
       "      <td>1</td>\n",
       "      <td>NaN</td>\n",
       "      <td>4</td>\n",
       "      <td>...</td>\n",
       "      <td>6</td>\n",
       "      <td>NaN</td>\n",
       "      <td>4</td>\n",
       "      <td>2</td>\n",
       "      <td>5</td>\n",
       "      <td>2</td>\n",
       "      <td>0</td>\n",
       "      <td>1</td>\n",
       "      <td>0</td>\n",
       "      <td>9</td>\n",
       "    </tr>\n",
       "    <tr>\n",
       "      <th>8</th>\n",
       "      <td>9</td>\n",
       "      <td>1</td>\n",
       "      <td>1</td>\n",
       "      <td>4</td>\n",
       "      <td>2</td>\n",
       "      <td>2</td>\n",
       "      <td>1</td>\n",
       "      <td>2</td>\n",
       "      <td>NaN</td>\n",
       "      <td>4</td>\n",
       "      <td>...</td>\n",
       "      <td>17</td>\n",
       "      <td>NaN</td>\n",
       "      <td>5</td>\n",
       "      <td>0</td>\n",
       "      <td>4</td>\n",
       "      <td>1</td>\n",
       "      <td>1</td>\n",
       "      <td>0</td>\n",
       "      <td>0</td>\n",
       "      <td>0</td>\n",
       "    </tr>\n",
       "    <tr>\n",
       "      <th>9</th>\n",
       "      <td>10</td>\n",
       "      <td>1</td>\n",
       "      <td>1</td>\n",
       "      <td>1</td>\n",
       "      <td>5</td>\n",
       "      <td>2</td>\n",
       "      <td>0</td>\n",
       "      <td>1</td>\n",
       "      <td>NaN</td>\n",
       "      <td>5</td>\n",
       "      <td>...</td>\n",
       "      <td>9</td>\n",
       "      <td>NaN</td>\n",
       "      <td>8</td>\n",
       "      <td>11</td>\n",
       "      <td>13</td>\n",
       "      <td>16</td>\n",
       "      <td>11</td>\n",
       "      <td>7</td>\n",
       "      <td>9</td>\n",
       "      <td>8</td>\n",
       "    </tr>\n",
       "    <tr>\n",
       "      <th>10</th>\n",
       "      <td>11</td>\n",
       "      <td>2</td>\n",
       "      <td>1</td>\n",
       "      <td>7</td>\n",
       "      <td>3</td>\n",
       "      <td>2</td>\n",
       "      <td>1</td>\n",
       "      <td>2</td>\n",
       "      <td>NaN</td>\n",
       "      <td>4</td>\n",
       "      <td>...</td>\n",
       "      <td>14</td>\n",
       "      <td>NaN</td>\n",
       "      <td>5</td>\n",
       "      <td>0</td>\n",
       "      <td>0</td>\n",
       "      <td>1</td>\n",
       "      <td>0</td>\n",
       "      <td>0</td>\n",
       "      <td>0</td>\n",
       "      <td>0</td>\n",
       "    </tr>\n",
       "    <tr>\n",
       "      <th>11</th>\n",
       "      <td>12</td>\n",
       "      <td>1</td>\n",
       "      <td>1</td>\n",
       "      <td>4</td>\n",
       "      <td>2</td>\n",
       "      <td>3</td>\n",
       "      <td>1</td>\n",
       "      <td>1</td>\n",
       "      <td>NaN</td>\n",
       "      <td>4</td>\n",
       "      <td>...</td>\n",
       "      <td>17</td>\n",
       "      <td>NaN</td>\n",
       "      <td>0</td>\n",
       "      <td>0</td>\n",
       "      <td>0</td>\n",
       "      <td>0</td>\n",
       "      <td>0</td>\n",
       "      <td>0</td>\n",
       "      <td>0</td>\n",
       "      <td>0</td>\n",
       "    </tr>\n",
       "    <tr>\n",
       "      <th>12</th>\n",
       "      <td>13</td>\n",
       "      <td>2</td>\n",
       "      <td>1</td>\n",
       "      <td>3</td>\n",
       "      <td>2</td>\n",
       "      <td>3</td>\n",
       "      <td>1</td>\n",
       "      <td>3</td>\n",
       "      <td>NaN</td>\n",
       "      <td>5</td>\n",
       "      <td>...</td>\n",
       "      <td>16</td>\n",
       "      <td>NaN</td>\n",
       "      <td>4</td>\n",
       "      <td>3</td>\n",
       "      <td>5</td>\n",
       "      <td>11</td>\n",
       "      <td>2</td>\n",
       "      <td>2</td>\n",
       "      <td>1</td>\n",
       "      <td>1</td>\n",
       "    </tr>\n",
       "    <tr>\n",
       "      <th>13</th>\n",
       "      <td>15</td>\n",
       "      <td>1</td>\n",
       "      <td>1</td>\n",
       "      <td>4</td>\n",
       "      <td>2</td>\n",
       "      <td>3</td>\n",
       "      <td>1</td>\n",
       "      <td>2</td>\n",
       "      <td>NaN</td>\n",
       "      <td>4</td>\n",
       "      <td>...</td>\n",
       "      <td>17</td>\n",
       "      <td>NaN</td>\n",
       "      <td>4</td>\n",
       "      <td>4</td>\n",
       "      <td>1</td>\n",
       "      <td>0</td>\n",
       "      <td>1</td>\n",
       "      <td>0</td>\n",
       "      <td>0</td>\n",
       "      <td>0</td>\n",
       "    </tr>\n",
       "    <tr>\n",
       "      <th>14</th>\n",
       "      <td>16</td>\n",
       "      <td>1</td>\n",
       "      <td>1</td>\n",
       "      <td>8</td>\n",
       "      <td>4</td>\n",
       "      <td>2</td>\n",
       "      <td>1</td>\n",
       "      <td>2</td>\n",
       "      <td>NaN</td>\n",
       "      <td>4</td>\n",
       "      <td>...</td>\n",
       "      <td>10</td>\n",
       "      <td>NaN</td>\n",
       "      <td>0</td>\n",
       "      <td>0</td>\n",
       "      <td>0</td>\n",
       "      <td>0</td>\n",
       "      <td>0</td>\n",
       "      <td>0</td>\n",
       "      <td>0</td>\n",
       "      <td>0</td>\n",
       "    </tr>\n",
       "    <tr>\n",
       "      <th>15</th>\n",
       "      <td>17</td>\n",
       "      <td>2</td>\n",
       "      <td>1</td>\n",
       "      <td>7</td>\n",
       "      <td>2</td>\n",
       "      <td>2</td>\n",
       "      <td>1</td>\n",
       "      <td>1</td>\n",
       "      <td>NaN</td>\n",
       "      <td>5</td>\n",
       "      <td>...</td>\n",
       "      <td>17</td>\n",
       "      <td>NaN</td>\n",
       "      <td>3</td>\n",
       "      <td>5</td>\n",
       "      <td>3</td>\n",
       "      <td>2</td>\n",
       "      <td>2</td>\n",
       "      <td>1</td>\n",
       "      <td>0</td>\n",
       "      <td>0</td>\n",
       "    </tr>\n",
       "    <tr>\n",
       "      <th>16</th>\n",
       "      <td>18</td>\n",
       "      <td>1</td>\n",
       "      <td>1</td>\n",
       "      <td>8</td>\n",
       "      <td>3</td>\n",
       "      <td>2</td>\n",
       "      <td>1</td>\n",
       "      <td>1</td>\n",
       "      <td>NaN</td>\n",
       "      <td>3</td>\n",
       "      <td>...</td>\n",
       "      <td>16</td>\n",
       "      <td>NaN</td>\n",
       "      <td>4</td>\n",
       "      <td>0</td>\n",
       "      <td>1</td>\n",
       "      <td>0</td>\n",
       "      <td>0</td>\n",
       "      <td>1</td>\n",
       "      <td>0</td>\n",
       "      <td>0</td>\n",
       "    </tr>\n",
       "    <tr>\n",
       "      <th>17</th>\n",
       "      <td>19</td>\n",
       "      <td>2</td>\n",
       "      <td>1</td>\n",
       "      <td>4</td>\n",
       "      <td>4</td>\n",
       "      <td>2</td>\n",
       "      <td>0</td>\n",
       "      <td>2</td>\n",
       "      <td>NaN</td>\n",
       "      <td>4</td>\n",
       "      <td>...</td>\n",
       "      <td>14</td>\n",
       "      <td>NaN</td>\n",
       "      <td>0</td>\n",
       "      <td>1</td>\n",
       "      <td>0</td>\n",
       "      <td>0</td>\n",
       "      <td>0</td>\n",
       "      <td>0</td>\n",
       "      <td>0</td>\n",
       "      <td>0</td>\n",
       "    </tr>\n",
       "    <tr>\n",
       "      <th>18</th>\n",
       "      <td>20</td>\n",
       "      <td>1</td>\n",
       "      <td>1</td>\n",
       "      <td>7</td>\n",
       "      <td>4</td>\n",
       "      <td>3</td>\n",
       "      <td>1</td>\n",
       "      <td>3</td>\n",
       "      <td>NaN</td>\n",
       "      <td>4</td>\n",
       "      <td>...</td>\n",
       "      <td>15</td>\n",
       "      <td>NaN</td>\n",
       "      <td>10</td>\n",
       "      <td>7</td>\n",
       "      <td>9</td>\n",
       "      <td>11</td>\n",
       "      <td>3</td>\n",
       "      <td>3</td>\n",
       "      <td>5</td>\n",
       "      <td>2</td>\n",
       "    </tr>\n",
       "    <tr>\n",
       "      <th>19</th>\n",
       "      <td>21</td>\n",
       "      <td>2</td>\n",
       "      <td>1</td>\n",
       "      <td>7</td>\n",
       "      <td>2</td>\n",
       "      <td>2</td>\n",
       "      <td>1</td>\n",
       "      <td>2</td>\n",
       "      <td>NaN</td>\n",
       "      <td>3</td>\n",
       "      <td>...</td>\n",
       "      <td>17</td>\n",
       "      <td>NaN</td>\n",
       "      <td>0</td>\n",
       "      <td>0</td>\n",
       "      <td>0</td>\n",
       "      <td>0</td>\n",
       "      <td>0</td>\n",
       "      <td>0</td>\n",
       "      <td>0</td>\n",
       "      <td>0</td>\n",
       "    </tr>\n",
       "  </tbody>\n",
       "</table>\n",
       "<p>20 rows × 297 columns</p>\n",
       "</div>"
      ],
      "text/plain": [
       "                index                     0                         1  \\\n",
       "0   Basic information  What is your gender?  Please indicate your age   \n",
       "1                   1                     2                         1   \n",
       "2                   2                     1                         1   \n",
       "3                   3                     2                         1   \n",
       "4                   4                     2                         1   \n",
       "5                   5                     2                         1   \n",
       "6                   6                     2                         1   \n",
       "7                   7                     1                         1   \n",
       "8                   9                     1                         1   \n",
       "9                  10                     1                         1   \n",
       "10                 11                     2                         1   \n",
       "11                 12                     1                         1   \n",
       "12                 13                     2                         1   \n",
       "13                 15                     1                         1   \n",
       "14                 16                     1                         1   \n",
       "15                 17                     2                         1   \n",
       "16                 18                     1                         1   \n",
       "17                 19                     2                         1   \n",
       "18                 20                     1                         1   \n",
       "19                 21                     2                         1   \n",
       "\n",
       "                                                    2  \\\n",
       "0   Please indicate your ethnic background (optional)   \n",
       "1                                                   7   \n",
       "2                                                   4   \n",
       "3                                                   7   \n",
       "4                                                   4   \n",
       "5                                                   7   \n",
       "6                                                   7   \n",
       "7                                                   4   \n",
       "8                                                   4   \n",
       "9                                                   1   \n",
       "10                                                  7   \n",
       "11                                                  4   \n",
       "12                                                  3   \n",
       "13                                                  4   \n",
       "14                                                  8   \n",
       "15                                                  7   \n",
       "16                                                  8   \n",
       "17                                                  4   \n",
       "18                                                  7   \n",
       "19                                                  7   \n",
       "\n",
       "                                           3  \\\n",
       "0   What is your highest level of education?   \n",
       "1                                          4   \n",
       "2                                          4   \n",
       "3                                          4   \n",
       "4                                          4   \n",
       "5                                          4   \n",
       "6                                          3   \n",
       "7                                          4   \n",
       "8                                          2   \n",
       "9                                          5   \n",
       "10                                         3   \n",
       "11                                         2   \n",
       "12                                         2   \n",
       "13                                         2   \n",
       "14                                         4   \n",
       "15                                         2   \n",
       "16                                         3   \n",
       "17                                         4   \n",
       "18                                         4   \n",
       "19                                         2   \n",
       "\n",
       "                                                4  \\\n",
       "0   How would you rate your technology expertise?   \n",
       "1                                               2   \n",
       "2                                               2   \n",
       "3                                               2   \n",
       "4                                               3   \n",
       "5                                               2   \n",
       "6                                               2   \n",
       "7                                               2   \n",
       "8                                               2   \n",
       "9                                               2   \n",
       "10                                              2   \n",
       "11                                              3   \n",
       "12                                              3   \n",
       "13                                              3   \n",
       "14                                              2   \n",
       "15                                              2   \n",
       "16                                              2   \n",
       "17                                              2   \n",
       "18                                              3   \n",
       "19                                              2   \n",
       "\n",
       "                                                    5  \\\n",
       "0   How do you feel about including technology in ...   \n",
       "1                                                   0   \n",
       "2                                                   1   \n",
       "3                                                   1   \n",
       "4                                                   1   \n",
       "5                                                   1   \n",
       "6                                                   0   \n",
       "7                                                   1   \n",
       "8                                                   1   \n",
       "9                                                   0   \n",
       "10                                                  1   \n",
       "11                                                  1   \n",
       "12                                                  1   \n",
       "13                                                  1   \n",
       "14                                                  1   \n",
       "15                                                  1   \n",
       "16                                                  1   \n",
       "17                                                  0   \n",
       "18                                                  1   \n",
       "19                                                  1   \n",
       "\n",
       "                                                    6                     7  \\\n",
       "0   How would you rate your experience with smart ...  Propensity Questions   \n",
       "1                                                   3                   NaN   \n",
       "2                                                   2                   NaN   \n",
       "3                                                   2                   NaN   \n",
       "4                                                   2                   NaN   \n",
       "5                                                   2                   NaN   \n",
       "6                                                   2                   NaN   \n",
       "7                                                   1                   NaN   \n",
       "8                                                   2                   NaN   \n",
       "9                                                   1                   NaN   \n",
       "10                                                  2                   NaN   \n",
       "11                                                  1                   NaN   \n",
       "12                                                  3                   NaN   \n",
       "13                                                  2                   NaN   \n",
       "14                                                  2                   NaN   \n",
       "15                                                  1                   NaN   \n",
       "16                                                  1                   NaN   \n",
       "17                                                  2                   NaN   \n",
       "18                                                  3                   NaN   \n",
       "19                                                  2                   NaN   \n",
       "\n",
       "                                                    8      ...        \\\n",
       "0   I usually trust machines until there is a reas...      ...         \n",
       "1                                                   3      ...         \n",
       "2                                                   4      ...         \n",
       "3                                                   4      ...         \n",
       "4                                                   4      ...         \n",
       "5                                                   4      ...         \n",
       "6                                                   5      ...         \n",
       "7                                                   4      ...         \n",
       "8                                                   4      ...         \n",
       "9                                                   5      ...         \n",
       "10                                                  4      ...         \n",
       "11                                                  4      ...         \n",
       "12                                                  5      ...         \n",
       "13                                                  4      ...         \n",
       "14                                                  4      ...         \n",
       "15                                                  5      ...         \n",
       "16                                                  3      ...         \n",
       "17                                                  4      ...         \n",
       "18                                                  4      ...         \n",
       "19                                                  3      ...         \n",
       "\n",
       "              286               287            288            289  \\\n",
       "0   exp2-st2-sec2  #ignore an alert  exp1-st1-sec1  exp1-st1-sec2   \n",
       "1              17               NaN              9             11   \n",
       "2              17               NaN              0              0   \n",
       "3              16               NaN              0              0   \n",
       "4              15               NaN              1              0   \n",
       "5               2               NaN              7              9   \n",
       "6               5               NaN              0              0   \n",
       "7               6               NaN              4              2   \n",
       "8              17               NaN              5              0   \n",
       "9               9               NaN              8             11   \n",
       "10             14               NaN              5              0   \n",
       "11             17               NaN              0              0   \n",
       "12             16               NaN              4              3   \n",
       "13             17               NaN              4              4   \n",
       "14             10               NaN              0              0   \n",
       "15             17               NaN              3              5   \n",
       "16             16               NaN              4              0   \n",
       "17             14               NaN              0              1   \n",
       "18             15               NaN             10              7   \n",
       "19             17               NaN              0              0   \n",
       "\n",
       "              290            291            292            293            294  \\\n",
       "0   exp1-st2-sec1  exp1-st2-sec2  exp2-st1-sec1  exp2-st1-sec2  exp2-st2-sec1   \n",
       "1              13              1              0              0              0   \n",
       "2               1              0              0              0              0   \n",
       "3               0              0              0              0              0   \n",
       "4               0              0              0              0              0   \n",
       "5               8             14              5             10             15   \n",
       "6               3              9              6              7              7   \n",
       "7               5              2              0              1              0   \n",
       "8               4              1              1              0              0   \n",
       "9              13             16             11              7              9   \n",
       "10              0              1              0              0              0   \n",
       "11              0              0              0              0              0   \n",
       "12              5             11              2              2              1   \n",
       "13              1              0              1              0              0   \n",
       "14              0              0              0              0              0   \n",
       "15              3              2              2              1              0   \n",
       "16              1              0              0              1              0   \n",
       "17              0              0              0              0              0   \n",
       "18              9             11              3              3              5   \n",
       "19              0              0              0              0              0   \n",
       "\n",
       "              295  \n",
       "0   exp2-st2-sec2  \n",
       "1               0  \n",
       "2               0  \n",
       "3               0  \n",
       "4               1  \n",
       "5              15  \n",
       "6               8  \n",
       "7               9  \n",
       "8               0  \n",
       "9               8  \n",
       "10              0  \n",
       "11              0  \n",
       "12              1  \n",
       "13              0  \n",
       "14              0  \n",
       "15              0  \n",
       "16              0  \n",
       "17              0  \n",
       "18              2  \n",
       "19              0  \n",
       "\n",
       "[20 rows x 297 columns]"
      ]
     },
     "execution_count": 3,
     "metadata": {},
     "output_type": "execute_result"
    }
   ],
   "source": [
    "exp1_data_T = pd.DataFrame.transpose(exp1_data).reset_index()\n",
    "exp2_data_T = pd.DataFrame.transpose(exp2_data).reset_index()\n",
    "exp1_data_T"
   ]
  },
  {
   "cell_type": "code",
   "execution_count": 4,
   "metadata": {},
   "outputs": [
    {
     "data": {
      "text/plain": [
       "(38, 8)"
      ]
     },
     "execution_count": 4,
     "metadata": {},
     "output_type": "execute_result"
    }
   ],
   "source": [
    "n_participant = exp1_data_T.shape[0]\n",
    "\n",
    "exp1_trust = exp1_data_T.values[1:n_participant,79:87].astype(int)\n",
    "exp2_trust = exp2_data_T.values[1:n_participant,79:87].astype(int)\n",
    "#exp_demo = np.concatenate((exp1_demo,exp2_demo),axis=0)\n",
    "exp_trust = np.vstack((exp1_trust,np.hstack((exp2_trust[:,4:],exp2_trust[:,:4])))).astype(int)\n",
    "exp_trust.shape"
   ]
  },
  {
   "cell_type": "code",
   "execution_count": 5,
   "metadata": {
    "collapsed": true,
    "scrolled": false
   },
   "outputs": [],
   "source": [
    "exp2_data_T = pd.DataFrame.transpose(exp2_data).reset_index()\n",
    "#exp2_data_T"
   ]
  },
  {
   "cell_type": "code",
   "execution_count": 6,
   "metadata": {},
   "outputs": [
    {
     "data": {
      "text/plain": [
       "(38, 7)"
      ]
     },
     "execution_count": 6,
     "metadata": {},
     "output_type": "execute_result"
    }
   ],
   "source": [
    "exp1_demo = exp1_data_T.values[1:n_participant,1:8]\n",
    "exp2_demo = exp2_data_T.values[1:n_participant,1:8]\n",
    "#exp_demo = np.concatenate((exp1_demo,exp2_demo),axis=0)\n",
    "exp_demo = np.vstack((exp1_demo,exp2_demo)).astype(int)\n",
    "exp_demo.shape"
   ]
  },
  {
   "cell_type": "code",
   "execution_count": 7,
   "metadata": {
    "scrolled": true
   },
   "outputs": [
    {
     "name": "stdout",
     "output_type": "stream",
     "text": [
      "[1 2]\n"
     ]
    },
    {
     "data": {
      "image/png": "[encoded data removed]",
      "text/plain": [
       "<matplotlib.figure.Figure at 0x1957a168550>"
      ]
     },
     "metadata": {},
     "output_type": "display_data"
    },
    {
     "data": {
      "text/plain": [
       "(None, Counter({1: 15, 2: 23}))"
      ]
     },
     "execution_count": 7,
     "metadata": {},
     "output_type": "execute_result"
    }
   ],
   "source": [
    "gender = Counter(exp_demo[:,0])\n",
    "print(np.array(sorted(gender.items(), key= lambda t: (t[0]), reverse=False))[:,0])\n",
    "\n",
    "x = np.arange(len(gender.keys()))\n",
    "plt.bar(x, np.array(sorted(gender.items(), key= lambda t: (t[0]), reverse=False))[:,1])\n",
    "plt.xticks(x, \n",
    "           ('Male','Female'),\n",
    "           rotation=17)\n",
    "plt.title(\"Gender Distribution\")\n",
    "# plt.xlabel(\"Value\")\n",
    "plt.ylabel(\"Count\")\n",
    "\n",
    "plt.show(), Counter(pd.to_numeric(exp_demo[:,0]))"
   ]
  },
  {
   "cell_type": "code",
   "execution_count": 8,
   "metadata": {
    "scrolled": true
   },
   "outputs": [
    {
     "name": "stdout",
     "output_type": "stream",
     "text": [
      "[1 2 3]\n"
     ]
    },
    {
     "data": {
      "image/png": "[encoded data removed]",
      "text/plain": [
       "<matplotlib.figure.Figure at 0x1957a238128>"
      ]
     },
     "metadata": {},
     "output_type": "display_data"
    },
    {
     "data": {
      "text/plain": [
       "(None, Counter({1: 35, 2: 2, 3: 1}))"
      ]
     },
     "execution_count": 8,
     "metadata": {},
     "output_type": "execute_result"
    }
   ],
   "source": [
    "age = Counter(exp_demo[:,1])\n",
    "print(np.array(sorted(age.items(), key= lambda t: (t[0]), reverse=False))[:,0])\n",
    "\n",
    "x = np.arange(len(age.keys()))\n",
    "plt.bar(x, np.array(sorted(age.items(), key= lambda t: (t[0]), reverse=False))[:,1])\n",
    "plt.xticks(x, \n",
    "           ('Under 30','30-40','41-50'),\n",
    "           rotation=17)\n",
    "plt.title(\"Age Distribution\")\n",
    "# plt.xlabel(\"Value\")\n",
    "plt.ylabel(\"Count\")\n",
    "\n",
    "plt.show(), Counter(pd.to_numeric(exp_demo[:,1]))"
   ]
  },
  {
   "cell_type": "code",
   "execution_count": 9,
   "metadata": {},
   "outputs": [
    {
     "name": "stdout",
     "output_type": "stream",
     "text": [
      "[1 3 4 6 7 8]\n"
     ]
    },
    {
     "data": {
      "image/png": "[encoded data removed]",
      "text/plain": [
       "<matplotlib.figure.Figure at 0x1957a65c4e0>"
      ]
     },
     "metadata": {},
     "output_type": "display_data"
    },
    {
     "data": {
      "text/plain": [
       "(None, Counter({1: 2, 3: 4, 4: 11, 6: 1, 7: 14, 8: 6}))"
      ]
     },
     "execution_count": 9,
     "metadata": {},
     "output_type": "execute_result"
    }
   ],
   "source": [
    "ethic = Counter(exp_demo[:,2])\n",
    "print(np.array(sorted(ethic.items(), key= lambda t: (t[0]), reverse=False))[:,0])\n",
    "\n",
    "x = np.arange(len(ethic.keys()))\n",
    "plt.bar(x, np.array(sorted(ethic.items(), key= lambda t: (t[0]), reverse=False))[:,1])\n",
    "plt.xticks(x, \n",
    "           ('African','Caucasia','East Asian','Hispanic or Latino','South Asian','Other'),\n",
    "           rotation=17)\n",
    "plt.title(\"Ethic Background\")\n",
    "# plt.xlabel(\"Value\")\n",
    "plt.ylabel(\"Count\")\n",
    "\n",
    "plt.show(), Counter(pd.to_numeric(exp_demo[:,2]))"
   ]
  },
  {
   "cell_type": "code",
   "execution_count": 10,
   "metadata": {
    "scrolled": true
   },
   "outputs": [
    {
     "name": "stdout",
     "output_type": "stream",
     "text": [
      "[2 3 4 5 7]\n"
     ]
    },
    {
     "data": {
      "image/png": "[encoded data removed]",
      "text/plain": [
       "<matplotlib.figure.Figure at 0x1957a1ef048>"
      ]
     },
     "metadata": {},
     "output_type": "display_data"
    },
    {
     "data": {
      "text/plain": [
       "(None, Counter({2: 10, 3: 6, 4: 17, 5: 2, 7: 3}))"
      ]
     },
     "execution_count": 10,
     "metadata": {},
     "output_type": "execute_result"
    }
   ],
   "source": [
    "edu = Counter(exp_demo[:,3])\n",
    "print(np.array(sorted(edu.items(), key= lambda t: (t[0]), reverse=False))[:,0])\n",
    "\n",
    "x = np.arange(len(edu.keys()))\n",
    "plt.bar(x, np.array(sorted(edu.items(), key= lambda t: (t[0]), reverse=False))[:,1])\n",
    "plt.xticks(x, \n",
    "           ('Secondary','Short-cycle','Bachelor','Master/Honours','Other'),\n",
    "           rotation=17)\n",
    "plt.title(\"Education Background\")\n",
    "# plt.xlabel(\"Value\")\n",
    "plt.ylabel(\"Count\")\n",
    "\n",
    "plt.show(), Counter(pd.to_numeric(exp_demo[:,3]))"
   ]
  },
  {
   "cell_type": "code",
   "execution_count": 11,
   "metadata": {
    "scrolled": true
   },
   "outputs": [
    {
     "name": "stdout",
     "output_type": "stream",
     "text": [
      "[2 3]\n"
     ]
    },
    {
     "data": {
      "image/png": "[encoded data removed]",
      "text/plain": [
       "<matplotlib.figure.Figure at 0x1957b793048>"
      ]
     },
     "metadata": {},
     "output_type": "display_data"
    },
    {
     "data": {
      "text/plain": [
       "(None, Counter({2: 28, 3: 10}))"
      ]
     },
     "execution_count": 11,
     "metadata": {},
     "output_type": "execute_result"
    }
   ],
   "source": [
    "# technology expertise\n",
    "te = Counter(exp_demo[:,4])\n",
    "print(np.array(sorted(te.items(), key= lambda t: (t[0]), reverse=False))[:,0])\n",
    "\n",
    "x = np.arange(len(te.keys()))\n",
    "plt.bar(x, np.array(sorted(te.items(), key= lambda t: (t[0]), reverse=False))[:,1])\n",
    "plt.xticks(x, \n",
    "           ('Medium','High'),\n",
    "           rotation=17)\n",
    "plt.title(\"Technology Expertise\")\n",
    "# plt.xlabel(\"Value\")\n",
    "plt.ylabel(\"Count\")\n",
    "\n",
    "plt.show(), Counter(pd.to_numeric(exp_demo[:,4]))"
   ]
  },
  {
   "cell_type": "code",
   "execution_count": 12,
   "metadata": {
    "scrolled": false
   },
   "outputs": [
    {
     "name": "stdout",
     "output_type": "stream",
     "text": [
      "[0 1]\n"
     ]
    },
    {
     "data": {
      "image/png": "[encoded data removed]",
      "text/plain": [
       "<matplotlib.figure.Figure at 0x1957b7ce278>"
      ]
     },
     "metadata": {},
     "output_type": "display_data"
    },
    {
     "data": {
      "text/plain": [
       "(None, Counter({0: 8, 1: 30}))"
      ]
     },
     "execution_count": 12,
     "metadata": {},
     "output_type": "execute_result"
    }
   ],
   "source": [
    "# Feel about technology in your life...\n",
    "\n",
    "tl = Counter(exp_demo[:,5])\n",
    "print(np.array(sorted(tl.items(), key= lambda t: (t[0]), reverse=False))[:,0])\n",
    "\n",
    "x = np.arange(len(tl.keys()))\n",
    "plt.bar(x, np.array(sorted(tl.items(), key= lambda t: (t[0]), reverse=False))[:,1])\n",
    "plt.xticks(x, \n",
    "           ('Neutral','Like'),\n",
    "           rotation=17)\n",
    "plt.title(\"Feel about Technology\")\n",
    "plt.ylabel(\"Count\")\n",
    "\n",
    "plt.show(), Counter(pd.to_numeric(exp_demo[:,5]))"
   ]
  },
  {
   "cell_type": "markdown",
   "metadata": {},
   "source": [
    "# Introductions:\n",
    "There are 4 stages in each experiment: A,B,C,D; Each stage has two sections with identical system settings\n",
    "\n",
    "System settings in the experiment one: \n",
    "\n",
    "|Events| A-1 | A-2 | B-1 | B-2 | C-1 | C-2 | D-1 | D-2 |          \n",
    "| :- |-: |-: |-: |-: |-: |-: |-: |-: |\n",
    "|# True Alerts |12|12|14|14|12|12|14|14|\n",
    "|# False Alerts| 5| 5| 6| 6| 2| 2| 3| 3|\n",
    "|# Misses      | 3| 2| 0| 0| 2| 2| 0| 0|\n",
    "\n",
    "The experiment two has the same system settings to experiment 1, but in a different order, swapped AB and CD\n",
    "\n",
    "|Events| C-1 | C-2 | D-1 | D-2 | A-1 | A-2 | B-1 | B-2 |          \n",
    "| :- |-: |-: |-: |-: |-: |-: |-: |-: |\n",
    "|# True Alerts |12|12|14|14|12|12|14|14|\n",
    "|# False Alerts| 2| 2| 3| 3| 5| 5| 6| 6|\n",
    "|# Misses      | 2| 2| 0| 0| 3| 2| 0| 0|\n",
    "\n",
    "Each experiment has 18 validate results"
   ]
  },
  {
   "cell_type": "markdown",
   "metadata": {},
   "source": [
    "# Trust Scores"
   ]
  },
  {
   "cell_type": "code",
   "execution_count": 13,
   "metadata": {},
   "outputs": [
    {
     "data": {
      "text/plain": [
       "(38, 8)"
      ]
     },
     "execution_count": 13,
     "metadata": {},
     "output_type": "execute_result"
    }
   ],
   "source": [
    "exp1_trust = exp1_data_T.values[1:n_participant,79:87].astype(int)\n",
    "exp2_trust = exp2_data_T.values[1:n_participant,79:87].astype(int)\n",
    "#exp_demo = np.concatenate((exp1_demo,exp2_demo),axis=0)\n",
    "exp_trust = np.vstack((exp1_trust,np.hstack((exp2_trust[:,4:],exp2_trust[:,:4])))).astype(int)\n",
    "exp_trust.shape"
   ]
  },
  {
   "cell_type": "code",
   "execution_count": 14,
   "metadata": {},
   "outputs": [
    {
     "data": {
      "image/png": "[encoded data removed]",
      "text/plain": [
       "<matplotlib.figure.Figure at 0x195768b80b8>"
      ]
     },
     "metadata": {},
     "output_type": "display_data"
    }
   ],
   "source": [
    "# exp1 mean & std\n",
    "x = np.arange(1,9)\n",
    "y = np.array(exp1_trust.mean(axis=0))\n",
    "e = np.array(exp1_trust.std(axis=0))\n",
    "\n",
    "plt.errorbar(x, y, e, linestyle='None', marker='^')\n",
    "axes = plt.gca()\n",
    "axes.set_ylim([0,5])\n",
    "\n",
    "for xy in zip(x, y):\n",
    "    axes.annotate('%.4s' % xy[1], xy=xy, textcoords='data')\n",
    "\n",
    "plt.title(\"Trust Score: Experiment One\")\n",
    "plt.show()\n",
    "\n",
    "# exp1_trust_ms = np.vstack((exp1_trust.mean(axis=0),exp1_trust.std(axis=0)))"
   ]
  },
  {
   "cell_type": "code",
   "execution_count": 15,
   "metadata": {
    "scrolled": true
   },
   "outputs": [
    {
     "data": {
      "image/png": "[encoded data removed]",
      "text/plain": [
       "<matplotlib.figure.Figure at 0x1957b7b07f0>"
      ]
     },
     "metadata": {},
     "output_type": "display_data"
    }
   ],
   "source": [
    "# exp2 mean & std\n",
    "x = np.arange(1,9)\n",
    "y = np.array(exp2_trust.mean(axis=0))\n",
    "e = np.array(exp2_trust.std(axis=0))\n",
    "\n",
    "plt.errorbar(x, y, e, linestyle='None', marker='^')\n",
    "axes = plt.gca()\n",
    "axes.set_ylim([0,5])\n",
    "\n",
    "for xy in zip(x, y):\n",
    "    axes.annotate('%.4s' % xy[1], xy=xy, textcoords='data')\n",
    "    \n",
    "plt.title(\"Trust Score: Experiment Two\")\n",
    "plt.show()\n",
    "\n",
    "# exp2_trust_ms = np.vstack((exp2_trust.mean(axis=0),exp2_trust.std(axis=0)))"
   ]
  },
  {
   "cell_type": "code",
   "execution_count": 16,
   "metadata": {},
   "outputs": [
    {
     "data": {
      "image/png": "[encoded data removed]",
      "text/plain": [
       "<matplotlib.figure.Figure at 0x1957b9de898>"
      ]
     },
     "metadata": {},
     "output_type": "display_data"
    }
   ],
   "source": [
    "# overall mean & std\n",
    "x = np.arange(1,9)\n",
    "y = np.array(exp_trust.mean(axis=0))\n",
    "e = np.array(exp_trust.std(axis=0))\n",
    "\n",
    "plt.errorbar(x, y, e, linestyle='None', marker='^')\n",
    "axes = plt.gca()\n",
    "axes.set_ylim([0,5])\n",
    "\n",
    "for xy in zip(x, y):\n",
    "    axes.annotate('%.4s' % xy[1], xy=xy, textcoords='data')\n",
    "plt.title(\"Trust score: Both Experiments (in order of ABCD)\")\n",
    "plt.show()\n",
    "\n",
    "# np.vstack((exp_trust.mean(axis=0),exp_trust.std(axis=0)))"
   ]
  },
  {
   "cell_type": "markdown",
   "metadata": {},
   "source": [
    "## RQ1a: Trust Scores between first section with same section in the other exp (ind t-test)"
   ]
  },
  {
   "cell_type": "code",
   "execution_count": 17,
   "metadata": {
    "scrolled": true
   },
   "outputs": [
    {
     "name": "stdout",
     "output_type": "stream",
     "text": [
      "A-1 Section in exp1: Mean: 3.0  Std: 0.72547625011\n",
      "A-1 Section in exp2: Mean: 2.52631578947  Std: 1.0447070127\n",
      "Ttest_indResult(statistic=1.580055487147763, pvalue=0.12284166360045007) \n",
      "\n",
      "C-1 Section in exp2: Mean: 3.21052631579  Std: 0.893187513078\n",
      "C-1 Section in exp1: Mean: 3.15789473684  Std: 0.987455949437\n",
      "Ttest_indResult(statistic=0.16770509831248473, pvalue=0.86775386376596964)\n"
     ]
    }
   ],
   "source": [
    "# check if there is a training period\n",
    "\n",
    "exp_trust_1st_sec = exp1_trust[:, 0].T.ravel()\n",
    "exp_trust_5th_sec = exp2_trust[:, 4].T.ravel()\n",
    "\n",
    "print('A-1 Section in exp1: Mean:',exp_trust_1st_sec.mean(),' Std:',exp_trust_1st_sec.std())\n",
    "print('A-1 Section in exp2: Mean:',exp_trust_5th_sec.mean(),' Std:',exp_trust_5th_sec.std())\n",
    "print(sp.ttest_ind(exp_trust_1st_sec,exp_trust_5th_sec),'\\n')\n",
    "\n",
    "exp_trust_1st_sec = exp2_trust[:, 0].T.ravel()\n",
    "exp_trust_5th_sec = exp1_trust[:, 4].T.ravel()\n",
    "\n",
    "print('C-1 Section in exp2: Mean:',exp_trust_1st_sec.mean(),' Std:',exp_trust_1st_sec.std())\n",
    "print('C-1 Section in exp1: Mean:',exp_trust_5th_sec.mean(),' Std:',exp_trust_5th_sec.std())\n",
    "print(sp.ttest_ind(exp_trust_1st_sec,exp_trust_5th_sec))"
   ]
  },
  {
   "cell_type": "markdown",
   "metadata": {},
   "source": [
    "## RQ1b: Trust Scores between first and second section in all stages (related t-test)"
   ]
  },
  {
   "cell_type": "code",
   "execution_count": 18,
   "metadata": {},
   "outputs": [
    {
     "name": "stdout",
     "output_type": "stream",
     "text": [
      "1st Section: Mean: 3.08552631579  Std: 0.910061297439\n",
      "2nd Section: Mean: 3.15789473684  Std: 0.939661635335\n",
      "Ttest_relResult(statistic=-1.1673883477922204, pvalue=0.24489368610921095)\n"
     ]
    }
   ],
   "source": [
    "# check if there is a training period\n",
    "\n",
    "exp_trust_sec1 = exp_trust[:, np.r_[0,2,4,6]].T.ravel()\n",
    "exp_trust_sec2 = exp_trust[:, np.r_[1,3,5,7]].T.ravel()\n",
    "\n",
    "print('1st Section: Mean:',exp_trust_sec1.mean(),' Std:',exp_trust_sec1.std())\n",
    "print('2nd Section: Mean:',exp_trust_sec2.mean(),' Std:',exp_trust_sec2.std())\n",
    "print(sp.ttest_rel(exp_trust_sec1,exp_trust_sec2))"
   ]
  },
  {
   "cell_type": "markdown",
   "metadata": {},
   "source": [
    "## RQ2b Self-reported trust and system performance\n",
    "### Trust Scores vs System Performance (Hi FA vs Low FA ratio) – related t-test + wilcoxon"
   ]
  },
  {
   "cell_type": "code",
   "execution_count": 19,
   "metadata": {},
   "outputs": [
    {
     "name": "stdout",
     "output_type": "stream",
     "text": [
      "Sections in exp1 with high FA: Mean: 2.89473684211  Std: 0.820445119375\n",
      "Sections in exp1 with low FA: Mean: 3.44736842105  Std: 0.864424616087\n",
      "Ttest_relResult(statistic=-4.5854880407820415, pvalue=1.7767717830559524e-05)\n",
      "WilcoxonResult(statistic=316.5, pvalue=6.968389024149851e-05) \n",
      "\n",
      "Sections in exp2 with high FA: Mean: 2.73684210526  Std: 0.893962513235\n",
      "Sections in exp2 with low FA: Mean: 3.40789473684  Std: 0.905794672605\n",
      "Ttest_relResult(statistic=-5.3770670588737053, pvalue=8.2577269749583356e-07)\n",
      "WilcoxonResult(statistic=316.5, pvalue=6.968389024149851e-05) \n",
      "\n",
      "Sections with high FA: Mean: 2.81578947368  Std: 0.86161608125\n",
      "Sections with low FA: Mean: 3.42763157895  Std: 0.885571282193\n",
      "Ttest_relResult(statistic=-7.0657920743741753, pvalue=5.4892475575794535e-11)\n",
      "WilcoxonResult(statistic=1100.5, pvalue=1.0637521562688985e-09)\n"
     ]
    }
   ],
   "source": [
    "# within subject exp1: high/low false rate\n",
    "\n",
    "exp1_trust_hifalse = exp1_trust[:, np.r_[0:4]].T.ravel()\n",
    "exp1_trust_lofalse = exp1_trust[:, np.r_[4:8]].T.ravel()\n",
    "\n",
    "print('Sections in exp1 with high FA: Mean:', exp1_trust_hifalse.mean(),' Std:',exp1_trust_hifalse.std())\n",
    "print('Sections in exp1 with low FA: Mean:', exp1_trust_lofalse.mean(),' Std:',exp1_trust_lofalse.std())\n",
    "print(sp.ttest_rel(exp1_trust_hifalse,exp1_trust_lofalse))\n",
    "print(sp.wilcoxon(exp1_trust_hifalse,exp1_trust_lofalse),'\\n')\n",
    "\n",
    "# within subject exp2: high/low false rate\n",
    "\n",
    "exp2_trust_hifalse = exp2_trust[:, np.r_[4:8]].T.ravel()\n",
    "exp2_trust_lofalse = exp2_trust[:, np.r_[0:4]].T.ravel()\n",
    "\n",
    "print('Sections in exp2 with high FA: Mean:', exp2_trust_hifalse.mean(),' Std:',exp2_trust_hifalse.std())\n",
    "print('Sections in exp2 with low FA: Mean:', exp2_trust_lofalse.mean(),' Std:',exp2_trust_lofalse.std())\n",
    "print(sp.ttest_rel(exp2_trust_hifalse,exp2_trust_lofalse))\n",
    "print(sp.wilcoxon(exp1_trust_hifalse,exp1_trust_lofalse),'\\n')\n",
    "\n",
    "# within subject all exps: high/low false rate\n",
    "\n",
    "exp_trust_hifalse = exp_trust[:, np.r_[0:4]].T.ravel()\n",
    "exp_trust_lofalse = exp_trust[:, np.r_[4:8]].T.ravel()\n",
    "\n",
    "print('Sections with high FA: Mean:',exp_trust_hifalse.mean(),' Std:',exp_trust_hifalse.std())\n",
    "print('Sections with low FA: Mean:',exp_trust_lofalse.mean(),' Std:',exp_trust_lofalse.std())\n",
    "print(sp.ttest_rel(exp_trust_hifalse,exp_trust_lofalse))\n",
    "print(sp.wilcoxon(exp_trust_hifalse,exp_trust_lofalse))"
   ]
  },
  {
   "cell_type": "markdown",
   "metadata": {},
   "source": [
    "## RQ2b Self-reported trust and system performance\n",
    "### Trust Scores vs System Performance (with/without missed events) – related t-test + wilcoxon"
   ]
  },
  {
   "cell_type": "code",
   "execution_count": 20,
   "metadata": {},
   "outputs": [
    {
     "name": "stdout",
     "output_type": "stream",
     "text": [
      "Sections(AC) with Misses: Mean: 3.06578947368  Std: 0.863522868923\n",
      "Sections(BD) without Misses: Mean: 3.27631578947  Std: 0.897345269033\n",
      "Ttest_relResult(statistic=-1.9770672189568099, pvalue=0.051709780643397901)\n",
      "WilcoxonResult(statistic=288.5, pvalue=0.050200899441422059) \n",
      "\n",
      "Sections(A) with Misses: Mean: 2.86842105263  Std: 0.766779067596\n",
      "Sections(B) without Misses: Mean: 2.92105263158  Std: 0.870014487096\n",
      "Ttest_relResult(statistic=-0.36094555010533791, pvalue=0.72019292240387656)\n",
      "WilcoxonResult(statistic=105.5, pvalue=0.70667778469837472) \n",
      "\n",
      "Sections(C) with Misses: Mean: 3.26315789474  Std: 0.908561921139\n",
      "Sections(D) without Misses: Mean: 3.63157894737  Std: 0.775311571719\n",
      "Ttest_relResult(statistic=-2.410580311024181, pvalue=0.02101178643816911)\n",
      "WilcoxonResult(statistic=47.5, pvalue=0.024795739680656508)\n"
     ]
    }
   ],
   "source": [
    "# exp1 AC&BD\n",
    "# within subject exp1: with/without misses \n",
    "\n",
    "exp1_trust_misses = np.hstack((exp1_trust[:,0],exp1_trust[:,1],exp1_trust[:,4],exp1_trust[:,5]))\n",
    "exp1_trust_nomisses = np.hstack((exp1_trust[:,2],exp1_trust[:,3],exp1_trust[:,6],exp1_trust[:,7]))\n",
    "\n",
    "print('Sections(AC) with Misses: Mean:',exp1_trust_misses.mean(),' Std:',exp1_trust_misses.std())\n",
    "print('Sections(BD) without Misses: Mean:',exp1_trust_nomisses.mean(),' Std:',exp1_trust_nomisses.std())\n",
    "print(sp.ttest_rel(exp1_trust_misses,exp1_trust_nomisses))\n",
    "print(sp.wilcoxon(exp1_trust_misses,exp1_trust_nomisses),'\\n')\n",
    "\n",
    "# exp1 A&B\n",
    "\n",
    "# within subject exp1: with/without misses \n",
    "\n",
    "exp1_trust_misses = np.hstack((exp1_trust[:,0],exp1_trust[:,1]))\n",
    "exp1_trust_nomisses = np.hstack((exp1_trust[:,2],exp1_trust[:,3]))\n",
    "\n",
    "print('Sections(A) with Misses: Mean:',exp1_trust_misses.mean(),' Std:',exp1_trust_misses.std())\n",
    "print('Sections(B) without Misses: Mean:',exp1_trust_nomisses.mean(),' Std:',exp1_trust_nomisses.std())\n",
    "print(sp.ttest_rel(exp1_trust_misses,exp1_trust_nomisses))\n",
    "print(sp.wilcoxon(exp1_trust_misses,exp1_trust_nomisses),'\\n')\n",
    "    \n",
    "# exp1 C&D\n",
    "\n",
    "# within subject exp1: with/without misses \n",
    "\n",
    "exp1_trust_misses = np.hstack((exp1_trust[:,4],exp1_trust[:,5]))\n",
    "exp1_trust_nomisses = np.hstack((exp1_trust[:,6],exp1_trust[:,7]))\n",
    "\n",
    "print('Sections(C) with Misses: Mean:',exp1_trust_misses.mean(),' Std:',exp1_trust_misses.std())\n",
    "print('Sections(D) without Misses: Mean:',exp1_trust_nomisses.mean(),' Std:',exp1_trust_nomisses.std())\n",
    "print(sp.ttest_rel(exp1_trust_misses,exp1_trust_nomisses))\n",
    "print(sp.wilcoxon(exp1_trust_misses,exp1_trust_nomisses))"
   ]
  },
  {
   "cell_type": "code",
   "execution_count": 21,
   "metadata": {},
   "outputs": [
    {
     "name": "stdout",
     "output_type": "stream",
     "text": [
      "Sections(AC) with Misses: Mean: 2.90789473684  Std: 1.0282539055\n",
      "Sections(BD) without Misses: Mean: 3.23684210526  Std: 0.856375794488\n",
      "Ttest_relResult(statistic=-3.295947158392472, pvalue=0.0015001302013033257)\n",
      "WilcoxonResult(statistic=189.0, pvalue=0.002581824014835938) \n",
      "\n"
     ]
    }
   ],
   "source": [
    "# within subject exp2: with/without misses\n",
    "\n",
    "exp2_trust_misses = np.hstack((exp2_trust[:,0],exp2_trust[:,1],exp2_trust[:,4],exp2_trust[:,5]))\n",
    "exp2_trust_nomisses = np.hstack((exp2_trust[:,2],exp2_trust[:,3],exp2_trust[:,6],exp2_trust[:,7]))\n",
    "\n",
    "print('Sections(AC) with Misses: Mean:',exp2_trust_misses.mean(),' Std:',exp2_trust_misses.std())\n",
    "print('Sections(BD) without Misses: Mean:',exp2_trust_nomisses.mean(),' Std:',exp2_trust_nomisses.std())\n",
    "print(sp.ttest_rel(exp2_trust_misses,exp2_trust_nomisses))\n",
    "print(sp.wilcoxon(exp2_trust_misses,exp2_trust_nomisses),'\\n')"
   ]
  },
  {
   "cell_type": "code",
   "execution_count": 22,
   "metadata": {},
   "outputs": [
    {
     "name": "stdout",
     "output_type": "stream",
     "text": [
      "Sections with Misses: Mean: 2.98684210526  Std: 0.952744250388\n",
      "Sections without Misses: Mean: 3.25657894737  Std: 0.877321810715\n",
      "Ttest_relResult(statistic=-3.7006331525430305, pvalue=0.0003007330541237643)\n",
      "WilcoxonResult(statistic=945.0, pvalue=0.00052941606895666395) \n",
      "\n"
     ]
    }
   ],
   "source": [
    "# within subject all exps: with/without misses\n",
    "\n",
    "exp_trust_misses = np.hstack((exp_trust[:,0],exp_trust[:,1],exp_trust[:,4],exp_trust[:,5]))\n",
    "exp_trust_nomisses = np.hstack((exp_trust[:,2],exp_trust[:,3],exp_trust[:,6],exp_trust[:,7]))\n",
    "\n",
    "print('Sections with Misses: Mean:',exp_trust_misses.mean(),' Std:',exp_trust_misses.std())\n",
    "print('Sections without Misses: Mean:',exp_trust_nomisses.mean(),' Std:',exp_trust_nomisses.std())\n",
    "print(sp.ttest_rel(exp_trust_misses,exp_trust_nomisses))\n",
    "print(sp.wilcoxon(exp_trust_misses,exp_trust_nomisses),'\\n')"
   ]
  },
  {
   "cell_type": "markdown",
   "metadata": {},
   "source": [
    "# Number of Events Attended"
   ]
  },
  {
   "cell_type": "code",
   "execution_count": 23,
   "metadata": {},
   "outputs": [
    {
     "data": {
      "text/plain": [
       "(38, 8)"
      ]
     },
     "execution_count": 23,
     "metadata": {},
     "output_type": "execute_result"
    }
   ],
   "source": [
    "exp1_attend = exp1_data_T.values[1:n_participant,124:132].astype(int)\n",
    "exp2_attend = exp2_data_T.values[1:n_participant,124:132].astype(int)\n",
    "# exp_demo = np.concatenate((exp1_demo,exp2_demo),axis=0)\n",
    "exp_attend = np.vstack((exp1_attend,np.hstack((exp2_attend[:,4:],exp2_attend[:,:4])))).astype(int)\n",
    "exp_attend.shape"
   ]
  },
  {
   "cell_type": "code",
   "execution_count": 24,
   "metadata": {},
   "outputs": [
    {
     "data": {
      "image/png": "[encoded data removed]",
      "text/plain": [
       "<matplotlib.figure.Figure at 0x1957a76e160>"
      ]
     },
     "metadata": {},
     "output_type": "display_data"
    },
    {
     "name": "stdout",
     "output_type": "stream",
     "text": [
      "[[ 11.68421053  11.68421053  12.68421053  11.78947368  12.          12.31578947\n",
      "   12.73684211  13.21052632]\n",
      " [  3.61360924   3.49514899   2.69605231   3.941399     3.62738125\n",
      "    2.73481706   3.73943572   2.1662227 ]]\n"
     ]
    },
    {
     "data": {
      "image/png": "[encoded data removed]",
      "text/plain": [
       "<matplotlib.figure.Figure at 0x1957b793c88>"
      ]
     },
     "metadata": {},
     "output_type": "display_data"
    },
    {
     "name": "stdout",
     "output_type": "stream",
     "text": [
      "[[ 13.05263158  13.21052632  13.47368421  13.89473684  13.31578947\n",
      "   12.68421053  13.05263158  13.05263158]\n",
      " [  1.0499967    1.32104215   1.81712384   0.3068922    3.17974894\n",
      "    3.24528211   3.20318401   3.13677146]]\n"
     ]
    },
    {
     "data": {
      "image/png": "[encoded data removed]",
      "text/plain": [
       "<matplotlib.figure.Figure at 0x1957b80cb70>"
      ]
     },
     "metadata": {},
     "output_type": "display_data"
    },
    {
     "name": "stdout",
     "output_type": "stream",
     "text": [
      "[[ 12.5         12.18421053  12.86842105  12.42105263  12.52631579\n",
      "   12.76315789  13.10526316  13.55263158]\n",
      " [  3.5          3.40939309   2.96622259   3.61744006   2.72161757\n",
      "    2.19370164   2.96283536   1.58442034]]\n"
     ]
    }
   ],
   "source": [
    "# exp1 mean & std\n",
    "x = np.arange(8)+1\n",
    "y = np.array(exp1_attend.mean(axis=0))\n",
    "e = np.array(exp1_attend.std(axis=0))\n",
    "\n",
    "plt.errorbar(x, y, e, linestyle='None', marker='^')\n",
    "axes = plt.gca()\n",
    "axes.set_ylim([5,20])\n",
    "\n",
    "for xy in zip(x, y):\n",
    "    axes.annotate('%.4s' % xy[1], xy=xy, textcoords='data')\n",
    "plt.title(\"# Event Attended: Experiment One\")\n",
    "plt.show()\n",
    "\n",
    "print(np.vstack((exp1_attend.mean(axis=0),exp1_attend.std(axis=0))))\n",
    "\n",
    "\n",
    "# exp2 mean & std\n",
    "x = np.arange(8)+1\n",
    "y = np.array(exp2_attend.mean(axis=0))\n",
    "e = np.array(exp2_attend.std(axis=0))\n",
    "\n",
    "plt.errorbar(x, y, e, linestyle='None', marker='^')\n",
    "axes = plt.gca()\n",
    "axes.set_ylim([5,20])\n",
    "\n",
    "for xy in zip(x, y):\n",
    "    axes.annotate('%.4s' % xy[1], xy=xy, textcoords='data')\n",
    "plt.title(\"# Event Attended: Experiment Two\")   \n",
    "plt.show()\n",
    "\n",
    "print(np.vstack((exp2_attend.mean(axis=0),exp2_attend.std(axis=0))))\n",
    "\n",
    "\n",
    "# overall mean & std\n",
    "x = np.arange(8)+1\n",
    "y = np.array(exp_attend.mean(axis=0))\n",
    "e = np.array(exp_attend.std(axis=0))\n",
    "\n",
    "plt.errorbar(x, y, e, linestyle='None', marker='^')\n",
    "axes = plt.gca()\n",
    "axes.set_ylim([5,20])\n",
    "\n",
    "for xy in zip(x, y):\n",
    "    axes.annotate('%.4s' % xy[1], xy=xy, textcoords='data')\n",
    "plt.title(\"# Event Attended: Both Experiments (in order of ABCD)\")    \n",
    "plt.show()\n",
    "\n",
    "print(np.vstack((exp_attend.mean(axis=0),exp_attend.std(axis=0))))"
   ]
  },
  {
   "cell_type": "markdown",
   "metadata": {},
   "source": [
    "## RQ1a: # Attended Events between first section with same section in the other exp (ind t-test)"
   ]
  },
  {
   "cell_type": "code",
   "execution_count": 25,
   "metadata": {
    "scrolled": true
   },
   "outputs": [
    {
     "name": "stdout",
     "output_type": "stream",
     "text": [
      "A-1 Section in exp1: Mean: 11.6842105263  Std: 3.61360924079\n",
      "A-1 Section in exp2: Mean: 13.3157894737  Std: 3.17974894042\n",
      "Ttest_indResult(statistic=-1.4381061194862756, pvalue=0.1590409208055984) \n",
      "\n",
      "C-1 Section in exp2: Mean: 13.0526315789  Std: 1.04999670228\n",
      "C-1 Section in exp1: Mean: 12.0  Std: 3.62738125055\n",
      "Ttest_indResult(statistic=1.1826247919781649, pvalue=0.24470991903051437)\n"
     ]
    }
   ],
   "source": [
    "# check if there is a training period\n",
    "\n",
    "exp_attend_1st_sec = exp1_attend[:, 0].T.ravel()\n",
    "exp_attend_5th_sec = exp2_attend[:, 4].T.ravel()\n",
    "\n",
    "print('A-1 Section in exp1: Mean:',exp_attend_1st_sec.mean(),' Std:',exp_attend_1st_sec.std())\n",
    "print('A-1 Section in exp2: Mean:',exp_attend_5th_sec.mean(),' Std:',exp_attend_5th_sec.std())\n",
    "print(sp.ttest_ind(exp_attend_1st_sec,exp_attend_5th_sec),'\\n')\n",
    "\n",
    "exp_attend_1st_sec = exp2_attend[:, 0].T.ravel()\n",
    "exp_attend_5th_sec = exp1_attend[:, 4].T.ravel()\n",
    "\n",
    "print('C-1 Section in exp2: Mean:',exp_attend_1st_sec.mean(),' Std:',exp_attend_1st_sec.std())\n",
    "print('C-1 Section in exp1: Mean:',exp_attend_5th_sec.mean(),' Std:',exp_attend_5th_sec.std())\n",
    "print(sp.ttest_ind(exp_attend_1st_sec,exp_attend_5th_sec))"
   ]
  },
  {
   "cell_type": "markdown",
   "metadata": {},
   "source": [
    "## RQ1b: # Attended Events between first and second section in all stages (related t-test)"
   ]
  },
  {
   "cell_type": "code",
   "execution_count": 26,
   "metadata": {},
   "outputs": [
    {
     "name": "stdout",
     "output_type": "stream",
     "text": [
      "1st Section: Mean: 12.75  std: 3.06132496255\n",
      "2nd Section: Mean: 12.7302631579  std: 2.8767909633\n",
      "Ttest_relResult(statistic=0.10783046667432537, pvalue=0.91427331943994528)\n"
     ]
    }
   ],
   "source": [
    "# check if there is a training period\n",
    "\n",
    "exp_attend_sec1 = exp_attend[:, np.r_[0,2,4,6]].T.ravel()\n",
    "exp_attend_sec2 = exp_attend[:, np.r_[1,3,5,7]].T.ravel()\n",
    "\n",
    "print('1st Section: Mean:',exp_attend_sec1.mean(),' std:',exp_attend_sec1.std())\n",
    "print('2nd Section: Mean:',exp_attend_sec2.mean(),' std:',exp_attend_sec2.std())\n",
    "print(sp.ttest_rel(exp_attend_sec1,exp_attend_sec2))"
   ]
  },
  {
   "cell_type": "markdown",
   "metadata": {},
   "source": [
    "## RQ3 User behaviour vs system performance\n",
    "### RQ3a # attended events vs system performance\n",
    "### Number of Attended Events vs System Performance (Hi FA vs Low FA ratio) – related t-test"
   ]
  },
  {
   "cell_type": "code",
   "execution_count": 27,
   "metadata": {},
   "outputs": [
    {
     "name": "stdout",
     "output_type": "stream",
     "text": [
      "Sections with high FA: Mean: 12.4934210526  std: 3.39115860989\n",
      "Sections with low FA: Mean: 12.9868421053  std: 2.45482029063\n",
      "Ttest_relResult(statistic=-1.8962838884883437, pvalue=0.05983256594281923)\n"
     ]
    }
   ],
   "source": [
    "# within population: high/low false rate\n",
    "\n",
    "exp_attend_hifalse = exp_attend[:, np.r_[0:4]].T.ravel()\n",
    "exp_attend_lofalse = exp_attend[:, np.r_[4:8]].T.ravel()\n",
    "\n",
    "print('Sections with high FA: Mean:', exp_attend_hifalse.mean(),' std:',exp_attend_hifalse.std())\n",
    "print('Sections with low FA: Mean:', exp_attend_lofalse.mean(),' std:',exp_attend_lofalse.std())\n",
    "print(sp.ttest_rel(exp_attend_hifalse,exp_attend_lofalse))"
   ]
  },
  {
   "cell_type": "markdown",
   "metadata": {},
   "source": [
    "### RQ3a # attended events vs system performance\n",
    "### Number of Attended Events vs System Performance (with/without missed events) – related t-test"
   ]
  },
  {
   "cell_type": "code",
   "execution_count": 28,
   "metadata": {},
   "outputs": [
    {
     "name": "stdout",
     "output_type": "stream",
     "text": [
      "Sections with Misses: Mean: 12.4934210526  std: 3.01093775943\n",
      "Sections without Misses: Mean: 12.9868421053  std: 2.90866862767\n",
      "Ttest_relResult(statistic=-3.222845309082226, pvalue=0.0015551865389994369)\n"
     ]
    }
   ],
   "source": [
    "# within population with/without misses\n",
    "\n",
    "exp_attend_misses = np.hstack((exp_attend[:,0],exp_attend[:,1],exp_attend[:,4],exp_attend[:,5]))\n",
    "exp_attend_nomisses = np.hstack((exp_attend[:,2],exp_attend[:,3],exp_attend[:,6],exp_attend[:,7]))\n",
    "\n",
    "print('Sections with Misses: Mean:', exp_attend_misses.mean(),' std:',exp_attend_misses.std())\n",
    "print('Sections without Misses: Mean:', exp_attend_nomisses.mean(),' std:',exp_attend_nomisses.std())\n",
    "print(sp.ttest_rel(exp_attend_misses,exp_attend_nomisses))"
   ]
  },
  {
   "cell_type": "markdown",
   "metadata": {},
   "source": [
    "## RQ4 User Behaviour versus Self-reported Trust\n",
    "### RQ4a Correlation between Number of Attended Events and Trust Scores"
   ]
  },
  {
   "cell_type": "code",
   "execution_count": 29,
   "metadata": {},
   "outputs": [
    {
     "name": "stdout",
     "output_type": "stream",
     "text": [
      "PearsonrResult(correlation= 0.0713161543581  pvalue= 0.215013709621\n",
      "SpearmanrResult(correlation=0.085021493888464458, pvalue=0.13914764411882238) \n",
      "\n"
     ]
    }
   ],
   "source": [
    "# pearson correlation\n",
    "pear_ = sp.pearsonr(exp_trust.T.ravel(), exp_attend.T.ravel())\n",
    "print('PearsonrResult(correlation=',pear_[0],' pvalue=',pear_[1])\n",
    "# spearman correlation\n",
    "print(sp.spearmanr(exp_trust.T.ravel(), exp_attend.T.ravel()),'\\n')"
   ]
  },
  {
   "cell_type": "markdown",
   "metadata": {},
   "source": [
    "# Number of Alerts Attended"
   ]
  },
  {
   "cell_type": "code",
   "execution_count": 30,
   "metadata": {
    "scrolled": true
   },
   "outputs": [
    {
     "data": {
      "text/plain": [
       "(38, 8)"
      ]
     },
     "execution_count": 30,
     "metadata": {},
     "output_type": "execute_result"
    }
   ],
   "source": [
    "exp1_attend_alert = exp1_data_T.values[1:n_participant,280:288].astype(int)\n",
    "exp2_attend_alert = exp2_data_T.values[1:n_participant,280:288].astype(int)\n",
    "# exp_demo = np.concatenate((exp1_demo,exp2_demo),axis=0)\n",
    "exp_attend_alert = np.vstack((exp1_attend_alert,np.hstack((exp2_attend_alert[:,4:],exp2_attend_alert[:,:4])))).astype(int)\n",
    "exp_attend_alert.shape"
   ]
  },
  {
   "cell_type": "code",
   "execution_count": 31,
   "metadata": {
    "scrolled": true
   },
   "outputs": [
    {
     "data": {
      "image/png": "[encoded data removed]",
      "text/plain": [
       "<matplotlib.figure.Figure at 0x1957b918198>"
      ]
     },
     "metadata": {},
     "output_type": "display_data"
    },
    {
     "data": {
      "text/plain": [
       "array([[ 12.73684211,  13.10526316,  14.42105263,  12.15789474,\n",
       "         10.57894737,  10.36842105,  13.36842105,  13.52631579],\n",
       "       [  3.79531713,   4.12814138,   4.70515719,   6.31008514,\n",
       "          3.73202061,   4.04202303,   5.31344398,   4.60398478]])"
      ]
     },
     "execution_count": 31,
     "metadata": {},
     "output_type": "execute_result"
    }
   ],
   "source": [
    "# exp1 mean & std\n",
    "x = np.arange(8)+1\n",
    "y = np.array(exp1_attend_alert.mean(axis=0))\n",
    "e = np.array(exp1_attend_alert.std(axis=0))\n",
    "\n",
    "plt.errorbar(x, y, e, linestyle='None', marker='^')\n",
    "axes = plt.gca()\n",
    "axes.set_ylim([5,20])\n",
    "\n",
    "for xy in zip(x, y):\n",
    "    axes.annotate('%.4s' % xy[1], xy=xy, textcoords='data')\n",
    "plt.title(\"# Alerts Attended: Experiment One\")\n",
    "plt.show()\n",
    "\n",
    "# exp1 mean & std\n",
    "np.vstack((exp1_attend_alert.mean(axis=0),exp1_attend_alert.std(axis=0)))"
   ]
  },
  {
   "cell_type": "code",
   "execution_count": 32,
   "metadata": {
    "scrolled": true
   },
   "outputs": [
    {
     "data": {
      "image/png": "[encoded data removed]",
      "text/plain": [
       "<matplotlib.figure.Figure at 0x1957a6892e8>"
      ]
     },
     "metadata": {},
     "output_type": "display_data"
    },
    {
     "data": {
      "text/plain": [
       "array([[ 12.57894737,  12.78947368,  15.31578947,  15.57894737,\n",
       "         14.52631579,  14.21052632,  16.94736842,  16.84210526],\n",
       "       [  1.66435666,   2.26132116,   3.77041993,   2.34668387,\n",
       "          4.58106424,   4.23741415,   5.60520138,   6.04599178]])"
      ]
     },
     "execution_count": 32,
     "metadata": {},
     "output_type": "execute_result"
    }
   ],
   "source": [
    "# exp2 mean & std\n",
    "x = np.arange(8)+1\n",
    "y = np.array(exp2_attend_alert.mean(axis=0))\n",
    "e = np.array(exp2_attend_alert.std(axis=0))\n",
    "\n",
    "plt.errorbar(x, y, e, linestyle='None', marker='^')\n",
    "axes = plt.gca()\n",
    "# axes.set_ylim([5,20])\n",
    "\n",
    "for xy in zip(x, y):\n",
    "    axes.annotate('%.4s' % xy[1], xy=xy, textcoords='data')\n",
    "plt.title(\"# Alerts Attended: Experiment Two\")   \n",
    "plt.show()\n",
    "\n",
    "# exp2 mean & std\n",
    "np.vstack((exp2_attend_alert.mean(axis=0),exp2_attend_alert.std(axis=0)))"
   ]
  },
  {
   "cell_type": "code",
   "execution_count": 33,
   "metadata": {
    "scrolled": true
   },
   "outputs": [
    {
     "data": {
      "image/png": "[encoded data removed]",
      "text/plain": [
       "<matplotlib.figure.Figure at 0x1957b7f9d30>"
      ]
     },
     "metadata": {},
     "output_type": "display_data"
    },
    {
     "data": {
      "text/plain": [
       "array([[ 13.63157895,  13.65789474,  15.68421053,  14.5       ,\n",
       "         11.57894737,  11.57894737,  14.34210526,  14.55263158],\n",
       "       [  4.30067958,   4.21948061,   5.32672143,   6.60840772,\n",
       "          3.05761843,   3.49158069,   4.7087618 ,   3.79540836]])"
      ]
     },
     "execution_count": 33,
     "metadata": {},
     "output_type": "execute_result"
    }
   ],
   "source": [
    "# overall mean & std\n",
    "x = np.arange(8)+1\n",
    "y = np.array(exp_attend_alert.mean(axis=0))\n",
    "e = np.array(exp_attend_alert.std(axis=0))\n",
    "\n",
    "plt.errorbar(x, y, e, linestyle='None', marker='^')\n",
    "axes = plt.gca()\n",
    "# axes.set_ylim([5,20])\n",
    "\n",
    "for xy in zip(x, y):\n",
    "    axes.annotate('%.4s' % xy[1], xy=xy, textcoords='data')\n",
    "plt.title(\"# Alerts Attended: Both Experiments (in order of ABCD)\")    \n",
    "plt.show()\n",
    "\n",
    "# overall mean & std\n",
    "np.vstack((exp_attend_alert.mean(axis=0),exp_attend_alert.std(axis=0)))"
   ]
  },
  {
   "cell_type": "markdown",
   "metadata": {},
   "source": [
    "## RQ1a: # Attended Alerts between first section with same section in the other exp (ind t-test)"
   ]
  },
  {
   "cell_type": "code",
   "execution_count": 34,
   "metadata": {
    "scrolled": true
   },
   "outputs": [
    {
     "name": "stdout",
     "output_type": "stream",
     "text": [
      "A-1 Section in exp1: Mean: 12.7368421053  Std: 3.79531713207\n",
      "A-1 Section in exp2: Mean: 14.5263157895  Std: 4.58106424147\n",
      "Ttest_indResult(statistic=-1.2761969960389392, pvalue=0.21005815472209249) \n",
      "\n",
      "C-1 Section in exp2: Mean: 12.5789473684  Std: 1.66435666325\n",
      "C-1 Section in exp1: Mean: 10.5789473684  Std: 3.73202061079\n",
      "Ttest_indResult(statistic=2.0765061769999091, pvalue=0.045045171353069402)\n"
     ]
    }
   ],
   "source": [
    "# check if there is a training period\n",
    "\n",
    "exp_attend_alert_1st_sec = exp1_attend_alert[:, 0].T.ravel()\n",
    "exp_attend_alert_5th_sec = exp2_attend_alert[:, 4].T.ravel()\n",
    "\n",
    "print('A-1 Section in exp1: Mean:',exp_attend_alert_1st_sec.mean(),' Std:',exp_attend_alert_1st_sec.std())\n",
    "print('A-1 Section in exp2: Mean:',exp_attend_alert_5th_sec.mean(),' Std:',exp_attend_alert_5th_sec.std())\n",
    "print(sp.ttest_ind(exp_attend_alert_1st_sec,exp_attend_alert_5th_sec),'\\n')\n",
    "\n",
    "exp_attend_alert_1st_sec = exp2_attend_alert[:, 0].T.ravel()\n",
    "exp_attend_alert_5th_sec = exp1_attend_alert[:, 4].T.ravel()\n",
    "\n",
    "print('C-1 Section in exp2: Mean:',exp_attend_alert_1st_sec.mean(),' Std:',exp_attend_alert_1st_sec.std())\n",
    "print('C-1 Section in exp1: Mean:',exp_attend_alert_5th_sec.mean(),' Std:',exp_attend_alert_5th_sec.std())\n",
    "print(sp.ttest_ind(exp_attend_alert_1st_sec,exp_attend_alert_5th_sec))"
   ]
  },
  {
   "cell_type": "markdown",
   "metadata": {},
   "source": [
    "## RQ1b: # Attended Alerts between first and second section in all stages (related t-test)"
   ]
  },
  {
   "cell_type": "code",
   "execution_count": 35,
   "metadata": {
    "scrolled": true
   },
   "outputs": [
    {
     "name": "stdout",
     "output_type": "stream",
     "text": [
      "1st Section: Mean: 13.8092105263  std: 4.66895338299\n",
      "2nd Section: Mean: 13.5723684211  std: 4.84442432309\n",
      "Ttest_relResult(statistic=0.84073229423440998, pvalue=0.4018272557371082)\n"
     ]
    }
   ],
   "source": [
    "# check if there is a training period\n",
    "\n",
    "exp_attend_alert_sec1 = exp_attend_alert[:, np.r_[0,2,4,6]].T.ravel()\n",
    "exp_attend_alert_sec2 = exp_attend_alert[:, np.r_[1,3,5,7]].T.ravel()\n",
    "\n",
    "print('1st Section: Mean:',exp_attend_alert_sec1.mean(),' std:',exp_attend_alert_sec1.std())\n",
    "print('2nd Section: Mean:',exp_attend_alert_sec2.mean(),' std:',exp_attend_alert_sec2.std())\n",
    "print(sp.ttest_rel(exp_attend_alert_sec1,exp_attend_alert_sec2))"
   ]
  },
  {
   "cell_type": "markdown",
   "metadata": {},
   "source": [
    "### RQ3a # attended events vs system performance\n",
    "### Proportion of Attended Alerts vs System Performance (high/low false alert rate) – related t-test"
   ]
  },
  {
   "cell_type": "code",
   "execution_count": 36,
   "metadata": {},
   "outputs": [
    {
     "name": "stdout",
     "output_type": "stream",
     "text": [
      "Sections with high FA: Mean: 0.778618421053  std: 0.278288636158\n",
      "Sections with low FA: Mean: 0.838456435206  std: 0.243444173911\n",
      "Ttest_relResult(statistic=-2.839358184201739, pvalue=0.0051435752204557822)\n"
     ]
    }
   ],
   "source": [
    "# within subject all exps: high/low false rate\n",
    "\n",
    "exp_attend_alert_hifalse = (exp_attend_alert[:, np.r_[0:4]]/np.array([17,17,20,20])).T.ravel()\n",
    "exp_attend_alert_lofalse = (exp_attend_alert[:, np.r_[4:8]]/np.array([14,14,17,17])).T.ravel()\n",
    "\n",
    "print('Sections with high FA: Mean:',exp_attend_alert_hifalse.mean(),' std:',exp_attend_alert_hifalse.std())\n",
    "print('Sections with low FA: Mean:',exp_attend_alert_lofalse.mean(),' std:',exp_attend_alert_lofalse.std())\n",
    "print(sp.ttest_rel(exp_attend_alert_hifalse,exp_attend_alert_lofalse))"
   ]
  },
  {
   "cell_type": "markdown",
   "metadata": {},
   "source": [
    "### RQ3a # attended events vs system performance\n",
    "### Proportion of Attended Alerts vs System Performance (with/without missed events) – related t-test"
   ]
  },
  {
   "cell_type": "code",
   "execution_count": 37,
   "metadata": {},
   "outputs": [
    {
     "name": "stdout",
     "output_type": "stream",
     "text": [
      "Sections with Misses: Mean: 0.81484962406  Std: 0.242951736403\n",
      "Sections without Misses: Mean: 0.802225232198  Std: 0.281770635338\n",
      "Ttest_relResult(statistic=0.72540122187179401, pvalue=0.46932863550032744)\n"
     ]
    }
   ],
   "source": [
    "# within subject all exps: with/without misses\n",
    "\n",
    "exp_attend_alert_misses = (exp_attend_alert[:, np.r_[0,1,4,5]]/np.array([17,17,14,14])).T.ravel()\n",
    "exp_attend_alert_nomisses = (exp_attend_alert[:, np.r_[2,3,6,7]]/np.array([20,20,17,17])).T.ravel()\n",
    "# exp_attend_alert_misses = (np.vstack((exp_attend_alert[:,0],exp_attend_alert[:,1],exp_attend_alert[:,4],exp_attend_alert[:,5])).T/np.array([17,17,14,14])).T.ravel()\n",
    "# exp_attend_alert_nomisses = (np.vstack((exp_attend_alert[:,2],exp_attend_alert[:,3],exp_attend_alert[:,6],exp_attend_alert[:,7])).T/np.array([20,20,17,17])).T.ravel()\n",
    "\n",
    "\n",
    "print('Sections with Misses: Mean:',exp_attend_alert_misses.mean(),' Std:',exp_attend_alert_misses.std())\n",
    "print('Sections without Misses: Mean:',exp_attend_alert_nomisses.mean(),' Std:',exp_attend_alert_nomisses.std())\n",
    "print(sp.ttest_rel(exp_attend_alert_misses,exp_attend_alert_nomisses))\n",
    "# print(sp.wilcoxon(exp_attend_alert_misses,exp_attend_alert_nomisses),'\\n')\n"
   ]
  },
  {
   "cell_type": "markdown",
   "metadata": {},
   "source": [
    "## RQ4 User Behaviour versus Self-reported Trust\n",
    "### RQ4a Correlation between Proportion of Attended Alerts and Trust Scores"
   ]
  },
  {
   "cell_type": "code",
   "execution_count": 38,
   "metadata": {},
   "outputs": [
    {
     "name": "stdout",
     "output_type": "stream",
     "text": [
      "PearsonrResult(correlation= 0.0738798781454  pvalue= 0.198935876945\n",
      "SpearmanrResult(correlation=0.11343986349114865, pvalue=0.048140431453753393)\n"
     ]
    }
   ],
   "source": [
    "# pearson correlation\n",
    "pear_ = sp.pearsonr(exp_trust.T.ravel(), (exp_attend_alert/np.array([17,17,20,20,14,14,17,17])).T.ravel())\n",
    "print('PearsonrResult(correlation=',pear_[0],' pvalue=',pear_[1])\n",
    "# spearman correlation\n",
    "print(sp.spearmanr(exp_trust.T.ravel(), (exp_attend_alert/np.array([17,17,20,20,14,14,17,17])).T.ravel()))"
   ]
  },
  {
   "cell_type": "markdown",
   "metadata": {},
   "source": [
    "## RQ4 User Behaviour versus Self-reported Trust\n",
    "### RQ4a Correlation between Proportion of Attended False Alerts and Trust Scores"
   ]
  },
  {
   "cell_type": "code",
   "execution_count": 39,
   "metadata": {},
   "outputs": [
    {
     "name": "stdout",
     "output_type": "stream",
     "text": [
      "PearsonrResult(correlation= -0.23778281657  pvalue= 2.80134421073e-05\n",
      "SpearmanrResult(correlation=-0.21935290133525415, pvalue=0.00011532548454377155)\n"
     ]
    }
   ],
   "source": [
    "exp1_attendf = exp1_data_T.values[1:n_participant,214:222].astype(int)\n",
    "exp2_attendf = exp2_data_T.values[1:n_participant,214:222].astype(int)\n",
    "exp_attendf = np.vstack((exp1_attendf,np.hstack((exp2_attendf[:,4:],exp2_attendf[:,:4])))).astype(int)\n",
    "\n",
    "# pearson correlation\n",
    "pear_ = sp.pearsonr(exp_trust.T.ravel(), (exp_attendf/np.array([17,17,20,20,14,14,17,17])).T.ravel())\n",
    "print('PearsonrResult(correlation=',pear_[0],' pvalue=',pear_[1])\n",
    "# spearman correlation\n",
    "print(sp.spearmanr(exp_trust.T.ravel(), (exp_attendf/np.array([17,17,20,20,14,14,17,17])).T.ravel()))"
   ]
  },
  {
   "cell_type": "markdown",
   "metadata": {},
   "source": [
    "# Number of Checks Clicked"
   ]
  },
  {
   "cell_type": "code",
   "execution_count": 40,
   "metadata": {
    "scrolled": true
   },
   "outputs": [
    {
     "data": {
      "text/plain": [
       "(38, 8)"
      ]
     },
     "execution_count": 40,
     "metadata": {},
     "output_type": "execute_result"
    }
   ],
   "source": [
    "exp1_check = exp1_data_T.values[1:n_participant,253:261].astype(int)\n",
    "exp2_check = exp2_data_T.values[1:n_participant,253:261].astype(int)\n",
    "# exp_demo = np.concatenate((exp1_demo,exp2_demo),axis=0)\n",
    "exp_check = np.vstack((exp1_check,np.hstack((exp2_check[:,4:],exp2_check[:,:4])))).astype(int)\n",
    "exp_check.shape"
   ]
  },
  {
   "cell_type": "code",
   "execution_count": 41,
   "metadata": {},
   "outputs": [
    {
     "data": {
      "image/png": "[encoded data removed]",
      "text/plain": [
       "<matplotlib.figure.Figure at 0x1957bea6c18>"
      ]
     },
     "metadata": {},
     "output_type": "display_data"
    }
   ],
   "source": [
    "# number of misses\n",
    "x = np.arange(8)+1\n",
    "y = np.array([3, 2, 0, 0, 2, 2, 0, 0])\n",
    "e = np.array([0, 0, 0, 0, 0, 0, 0, 0])\n",
    "\n",
    "plt.errorbar(x, y, e, linestyle='None', marker='^')\n",
    "axes = plt.gca()\n",
    "axes.set_ylim([0,6])\n",
    "\n",
    "for xy in zip(x, y):\n",
    "    axes.annotate('%.4s' % xy[1], xy=xy, textcoords='data')\n",
    "plt.title(\"# Misses: Experiment One (in order of ABCD)\")    \n",
    "plt.show()\n"
   ]
  },
  {
   "cell_type": "code",
   "execution_count": 42,
   "metadata": {
    "scrolled": true
   },
   "outputs": [
    {
     "data": {
      "image/png": "[encoded data removed]",
      "text/plain": [
       "<matplotlib.figure.Figure at 0x1957bea6c50>"
      ]
     },
     "metadata": {},
     "output_type": "display_data"
    },
    {
     "data": {
      "text/plain": [
       "array([[ 3.42105263,  4.52631579,  4.84210526,  4.10526316,  4.42105263,\n",
       "         5.05263158,  3.89473684,  3.73684211],\n",
       "       [ 4.3687381 ,  4.45289286,  3.88334037,  4.06389412,  2.9076268 ,\n",
       "         4.59374499,  3.76821523,  3.80915939]])"
      ]
     },
     "execution_count": 42,
     "metadata": {},
     "output_type": "execute_result"
    }
   ],
   "source": [
    "# exp1 mean & std\n",
    "x = np.arange(8)+1\n",
    "y = np.array(exp1_check.mean(axis=0))\n",
    "e = np.array(exp1_check.std(axis=0))\n",
    "\n",
    "plt.errorbar(x, y, e, linestyle='None', marker='^')\n",
    "axes = plt.gca()\n",
    "axes.set_ylim([0,10])\n",
    "\n",
    "for xy in zip(x, y):\n",
    "    axes.annotate('%.4s' % xy[1], xy=xy, textcoords='data')\n",
    "plt.title(\"# Checks: Experiment One\")\n",
    "plt.show()\n",
    "\n",
    "# exp1 mean & std\n",
    "np.vstack((exp1_check.mean(axis=0),exp1_check.std(axis=0)))"
   ]
  },
  {
   "cell_type": "code",
   "execution_count": 43,
   "metadata": {
    "scrolled": true
   },
   "outputs": [
    {
     "data": {
      "image/png": "[encoded data removed]",
      "text/plain": [
       "<matplotlib.figure.Figure at 0x1957a7449b0>"
      ]
     },
     "metadata": {},
     "output_type": "display_data"
    },
    {
     "data": {
      "text/plain": [
       "array([[ 5.31578947,  4.84210526,  4.42105263,  3.26315789,  3.63157895,\n",
       "         4.57894737,  3.94736842,  4.21052632],\n",
       "       [ 4.41352743,  4.00346111,  4.44043371,  3.20923184,  4.00276912,\n",
       "         3.43841747,  4.01934381,  4.73040498]])"
      ]
     },
     "execution_count": 43,
     "metadata": {},
     "output_type": "execute_result"
    }
   ],
   "source": [
    "# exp2 mean & std\n",
    "x = np.arange(8)+1\n",
    "y = np.array(exp2_check.mean(axis=0))\n",
    "e = np.array(exp2_check.std(axis=0))\n",
    "\n",
    "plt.errorbar(x, y, e, linestyle='None', marker='^')\n",
    "axes = plt.gca()\n",
    "axes.set_ylim([0,10])\n",
    "\n",
    "for xy in zip(x, y):\n",
    "    axes.annotate('%.4s' % xy[1], xy=xy, textcoords='data')\n",
    "plt.title(\"# Checks: Experiment Two\")   \n",
    "plt.show()\n",
    "\n",
    "# exp2 mean & std\n",
    "np.vstack((exp2_check.mean(axis=0),exp2_check.std(axis=0)))"
   ]
  },
  {
   "cell_type": "code",
   "execution_count": 44,
   "metadata": {},
   "outputs": [
    {
     "data": {
      "image/png": "[encoded data removed]",
      "text/plain": [
       "<matplotlib.figure.Figure at 0x1957a1ef668>"
      ]
     },
     "metadata": {},
     "output_type": "display_data"
    },
    {
     "data": {
      "text/plain": [
       "array([[ 3.52631579,  4.55263158,  4.39473684,  4.15789474,  4.86842105,\n",
       "         4.94736842,  4.15789474,  3.5       ],\n",
       "       [ 4.19107348,  3.97821283,  3.97716822,  4.41007409,  3.76389393,\n",
       "         4.31000897,  4.12646348,  3.52994707]])"
      ]
     },
     "execution_count": 44,
     "metadata": {},
     "output_type": "execute_result"
    }
   ],
   "source": [
    "# overall mean & std\n",
    "x = np.arange(8)+1\n",
    "y = np.array(exp_check.mean(axis=0))\n",
    "e = np.array(exp_check.std(axis=0))\n",
    "\n",
    "plt.errorbar(x, y, e, linestyle='None', marker='^')\n",
    "axes = plt.gca()\n",
    "axes.set_ylim([0,10])\n",
    "\n",
    "for xy in zip(x, y):\n",
    "    axes.annotate('%.4s' % xy[1], xy=xy, textcoords='data')\n",
    "plt.title(\"# Checks: Both Experiments (in order of ABCD)\")    \n",
    "plt.show()\n",
    "\n",
    "# overall mean & std\n",
    "np.vstack((exp_check.mean(axis=0),exp_check.std(axis=0)))"
   ]
  },
  {
   "cell_type": "markdown",
   "metadata": {},
   "source": [
    "## RQ1a: # Checks between first section with same section in the other exp (ind t-test)"
   ]
  },
  {
   "cell_type": "code",
   "execution_count": 45,
   "metadata": {
    "scrolled": true
   },
   "outputs": [
    {
     "name": "stdout",
     "output_type": "stream",
     "text": [
      "A-1 Section in exp1: Mean: 3.42105263158  Std: 4.36873809883\n",
      "A-1 Section in exp2: Mean: 3.63157894737  Std: 4.0027691246\n",
      "Ttest_indResult(statistic=-0.15074377694248803, pvalue=0.8810193403883928) \n",
      "\n",
      "C-1 Section in exp2: Mean: 5.31578947368  Std: 4.41352743016\n",
      "C-1 Section in exp1: Mean: 4.42105263158  Std: 2.90762680356\n",
      "Ttest_indResult(statistic=0.71823862299080765, pvalue=0.47724590930973909)\n"
     ]
    }
   ],
   "source": [
    "# check if there is a training period\n",
    "\n",
    "exp_check_1st_sec = exp1_check[:, 0].T.ravel()\n",
    "exp_check_5th_sec = exp2_check[:, 4].T.ravel()\n",
    "\n",
    "print('A-1 Section in exp1: Mean:',exp_check_1st_sec.mean(),' Std:',exp_check_1st_sec.std())\n",
    "print('A-1 Section in exp2: Mean:',exp_check_5th_sec.mean(),' Std:',exp_check_5th_sec.std())\n",
    "print(sp.ttest_ind(exp_check_1st_sec,exp_check_5th_sec),'\\n')\n",
    "\n",
    "exp_check_1st_sec = exp2_check[:, 0].T.ravel()\n",
    "exp_check_5th_sec = exp1_check[:, 4].T.ravel()\n",
    "\n",
    "print('C-1 Section in exp2: Mean:',exp_check_1st_sec.mean(),' Std:',exp_check_1st_sec.std())\n",
    "print('C-1 Section in exp1: Mean:',exp_check_5th_sec.mean(),' Std:',exp_check_5th_sec.std())\n",
    "print(sp.ttest_ind(exp_check_1st_sec,exp_check_5th_sec))"
   ]
  },
  {
   "cell_type": "markdown",
   "metadata": {},
   "source": [
    "## RQ1b: #  Checks between first and second section in all stages (related t-test)"
   ]
  },
  {
   "cell_type": "code",
   "execution_count": 46,
   "metadata": {
    "scrolled": true
   },
   "outputs": [
    {
     "name": "stdout",
     "output_type": "stream",
     "text": [
      "1st Section: Mean: 4.23684210526  std: 4.04698855243\n",
      "2nd Section: Mean: 4.28947368421  std: 4.10652814519\n",
      "Ttest_relResult(statistic=-0.21074098961968069, pvalue=0.83337351027623185)\n"
     ]
    }
   ],
   "source": [
    "# check if there is a training period\n",
    "\n",
    "exp_check_sec1 = exp_check[:, np.r_[0,2,4,6]].T.ravel()\n",
    "exp_check_sec2 = exp_check[:, np.r_[1,3,5,7]].T.ravel()\n",
    "\n",
    "print('1st Section: Mean:',exp_check_sec1.mean(),' std:',exp_check_sec1.std())\n",
    "print('2nd Section: Mean:',exp_check_sec2.mean(),' std:',exp_check_sec2.std())\n",
    "print(sp.ttest_rel(exp_check_sec1,exp_check_sec2))"
   ]
  },
  {
   "cell_type": "markdown",
   "metadata": {},
   "source": [
    "## RQ3b Number of checks on residents vs system performance\n",
    "\n",
    "### Number of checks between high/low false alert rate (related t-test)"
   ]
  },
  {
   "cell_type": "code",
   "execution_count": 47,
   "metadata": {},
   "outputs": [
    {
     "name": "stdout",
     "output_type": "stream",
     "text": [
      "Sections with high FA: Mean: 4.15789473684  std: 4.16139093516\n",
      "Sections with low FA: Mean: 4.36842105263  std: 3.9879492991\n",
      "Ttest_relResult(statistic=-0.6794906291987316, pvalue=0.49786732960202718)\n"
     ]
    }
   ],
   "source": [
    "# within population: high/low false rate\n",
    "\n",
    "exp_check_hifalse = exp_check[:, np.r_[0:4]].T.ravel()\n",
    "exp_check_lofalse = exp_check[:, np.r_[4:8]].T.ravel()\n",
    "\n",
    "print('Sections with high FA: Mean:', exp_check_hifalse.mean(),' std:',exp_check_hifalse.std())\n",
    "print('Sections with low FA: Mean:',exp_check_lofalse.mean(),' std:',exp_check_lofalse.std())\n",
    "print(sp.ttest_rel(exp_check_hifalse,exp_check_lofalse))\n",
    "#sp.ttest_ind"
   ]
  },
  {
   "cell_type": "markdown",
   "metadata": {},
   "source": [
    "## RQ3b Number of checks on residents vs system performance\n",
    "\n",
    "### Number of checks with/without missed events (related t-test)"
   ]
  },
  {
   "cell_type": "code",
   "execution_count": 48,
   "metadata": {},
   "outputs": [
    {
     "name": "stdout",
     "output_type": "stream",
     "text": [
      "Sections with Misses: Mean: 4.47368421053  std: 4.10543184539\n",
      "Sections without Misses: Mean: 4.05263157895  std: 4.03730869464\n",
      "Ttest_relResult(statistic=1.4546250705971051, pvalue=0.14784864815122314)\n"
     ]
    }
   ],
   "source": [
    "# within population with/without misses\n",
    "\n",
    "exp_check_misses = np.hstack((exp_check[:,0],exp_check[:,1],exp_check[:,4],exp_check[:,5]))\n",
    "exp_check_nomisses = np.hstack((exp_check[:,2],exp_check[:,3],exp_check[:,6],exp_check[:,7]))\n",
    "\n",
    "print('Sections with Misses: Mean:',exp_check_misses.mean(),' std:',exp_check_misses.std())\n",
    "print('Sections without Misses: Mean:',exp_check_nomisses.mean(),' std:',exp_check_nomisses.std())\n",
    "print(sp.ttest_rel(exp_check_misses,exp_check_nomisses))\n",
    "#sp.ttest_ind"
   ]
  },
  {
   "cell_type": "markdown",
   "metadata": {},
   "source": [
    "## RQ3b Number of checks vs missed events in the previous segment\n",
    "### Independent t-test/Wilcoxon signed-ranked test for number of checks in consecutive segments."
   ]
  },
  {
   "cell_type": "code",
   "execution_count": 49,
   "metadata": {},
   "outputs": [
    {
     "name": "stdout",
     "output_type": "stream",
     "text": [
      "Exp1: Sec 1  Mean: 3.42105263158  Std: 4.36873809883\n",
      "Exp1: Sec 2  Mean: 4.52631578947  Std: 4.45289286281\n",
      "Ttest_indResult(statistic=-0.75170648684777253, pvalue=0.45711416370623914)\n",
      "WilcoxonResult(statistic=36.5, pvalue=0.18082396332783868) \n",
      "\n",
      "Exp1: Sec 2  Mean: 4.52631578947  Std: 4.45289286281\n",
      "Exp1: Sec 3  Mean: 4.84210526316  Std: 3.88334036752\n",
      "Ttest_indResult(statistic=-0.22676068763967025, pvalue=0.82189257022132334)\n",
      "WilcoxonResult(statistic=40.5, pvalue=0.7242514885299367) \n",
      "\n",
      "Exp1: Sec 3  Mean: 4.84210526316  Std: 3.88334036752\n",
      "Exp1: Sec 4  Mean: 4.10526315789  Std: 4.06389412474\n",
      "Ttest_indResult(statistic=0.55615725204818312, pvalue=0.58154399855793937)\n",
      "WilcoxonResult(statistic=30.5, pvalue=0.2922869621254035) \n",
      "\n",
      "Exp1: Sec 4  Mean: 4.10526315789  Std: 4.06389412474\n",
      "Exp1: Sec 5  Mean: 4.42105263158  Std: 2.90762680356\n",
      "Ttest_indResult(statistic=-0.26811970078983538, pvalue=0.79013756966359006)\n",
      "WilcoxonResult(statistic=57.0, pvalue=0.56510600510745002) \n",
      "\n",
      "Exp1: Sec 5  Mean: 4.42105263158  Std: 2.90762680356\n",
      "Exp1: Sec 6  Mean: 5.05263157895  Std: 4.59374499453\n",
      "Ttest_indResult(statistic=-0.49287329631767912, pvalue=0.62509511582662425)\n",
      "WilcoxonResult(statistic=39.0, pvalue=0.64381389671128475) \n",
      "\n",
      "Exp1: Sec 6  Mean: 5.05263157895  Std: 4.59374499453\n",
      "Exp1: Sec 7  Mean: 3.89473684211  Std: 3.76821522519\n",
      "Ttest_indResult(statistic=0.82681063080311157, pvalue=0.41379121041214761)\n",
      "WilcoxonResult(statistic=38.5, pvalue=0.12358778668842554) \n",
      "\n",
      "Exp1: Sec 7  Mean: 3.89473684211  Std: 3.76821522519\n",
      "Exp1: Sec 8  Mean: 3.73684210526  Std: 3.80915939426\n",
      "Ttest_indResult(statistic=0.1250241196336061, pvalue=0.9012000155734291)\n",
      "WilcoxonResult(statistic=25.5, pvalue=0.4984436914670709) \n",
      "\n",
      "Exp2: Sec 1  Mean: 3.63157894737  Std: 4.0027691246\n",
      "Exp2: Sec 2  Mean: 4.57894736842  Std: 3.43841746759\n",
      "Ttest_indResult(statistic=-0.76169747810375565, pvalue=0.45120200419711676)\n",
      "WilcoxonResult(statistic=23.0, pvalue=0.20519386245574112) \n",
      "\n",
      "Exp2: Sec 2  Mean: 4.57894736842  Std: 3.43841746759\n",
      "Exp2: Sec 3  Mean: 3.94736842105  Std: 4.01934380885\n",
      "Ttest_indResult(statistic=0.5065902322058099, pvalue=0.61553118159818498)\n",
      "WilcoxonResult(statistic=32.0, pvalue=0.34382210506921285) \n",
      "\n",
      "Exp2: Sec 3  Mean: 3.94736842105  Std: 4.01934380885\n",
      "Exp2: Sec 4  Mean: 4.21052631579  Std: 4.73040498287\n",
      "Ttest_indResult(statistic=-0.17986335575472312, pvalue=0.85826846057781236)\n",
      "WilcoxonResult(statistic=35.5, pvalue=0.47278308612015796) \n",
      "\n",
      "Exp2: Sec 4  Mean: 4.21052631579  Std: 4.73040498287\n",
      "Exp2: Sec 5  Mean: 5.31578947368  Std: 4.41352743016\n",
      "Ttest_indResult(statistic=-0.72480856232423951, pvalue=0.47325445301093372)\n",
      "WilcoxonResult(statistic=70.0, pvalue=0.49878992817995915) \n",
      "\n",
      "Exp2: Sec 5  Mean: 5.31578947368  Std: 4.41352743016\n",
      "Exp2: Sec 6  Mean: 4.84210526316  Std: 4.00346110647\n",
      "Ttest_indResult(statistic=0.33726294530184864, pvalue=0.73787723093259727)\n",
      "WilcoxonResult(statistic=52.0, pvalue=0.40480646750716498) \n",
      "\n",
      "Exp2: Sec 6  Mean: 4.84210526316  Std: 4.00346110647\n",
      "Exp2: Sec 7  Mean: 4.42105263158  Std: 4.44043370895\n",
      "Ttest_indResult(statistic=0.29878862682737528, pvalue=0.76681934306803901)\n",
      "WilcoxonResult(statistic=48.5, pvalue=0.51065737498134844) \n",
      "\n",
      "Exp2: Sec 7  Mean: 4.42105263158  Std: 4.44043370895\n",
      "Exp2: Sec 8  Mean: 3.26315789474  Std: 3.20923183567\n",
      "Ttest_indResult(statistic=0.89665306053314509, pvalue=0.3758612489849511)\n",
      "WilcoxonResult(statistic=0.0, pvalue=0.0070583320485281004) \n",
      "\n"
     ]
    },
    {
     "name": "stderr",
     "output_type": "stream",
     "text": [
      "C:\\Users\\final\\Anaconda3\\lib\\site-packages\\scipy\\stats\\morestats.py:2397: UserWarning: Warning: sample size too small for normal approximation.\n",
      "  warnings.warn(\"Warning: sample size too small for normal approximation.\")\n"
     ]
    }
   ],
   "source": [
    "# pearson correlation\n",
    "\n",
    "for sec_i in range(7):\n",
    "    exp_check_1st=exp_check[:n_participant-1,sec_i]\n",
    "    exp_check_2nd=exp_check[:n_participant-1,sec_i+1]\n",
    "    print('Exp1: Sec',sec_i+1,' Mean:',exp_check_1st.mean(),' Std:',exp_check_1st.std())\n",
    "    print('Exp1: Sec',sec_i+2,' Mean:',exp_check_2nd.mean(),' Std:',exp_check_2nd.std())\n",
    "    print(sp.ttest_ind(exp_check_1st.T.ravel(), exp_check_2nd.T.ravel()))\n",
    "    print(sp.wilcoxon(exp_check_1st.T.ravel(), exp_check_2nd.T.ravel()),'\\n')\n",
    "    \n",
    "for sec_i in range(7):\n",
    "    exp_check_1st=exp_check[n_participant-1:,sec_i]\n",
    "    exp_check_2nd=exp_check[n_participant-1:,sec_i+1]\n",
    "    print('Exp2: Sec',sec_i+1,' Mean:',exp_check_1st.mean(),' Std:',exp_check_1st.std())\n",
    "    print('Exp2: Sec',sec_i+2,' Mean:',exp_check_2nd.mean(),' Std:',exp_check_2nd.std())\n",
    "    print(sp.ttest_ind(exp_check_1st.T.ravel(), exp_check_2nd.T.ravel()))\n",
    "    print(sp.wilcoxon(exp_check_1st.T.ravel(), exp_check_2nd.T.ravel()),'\\n')"
   ]
  },
  {
   "cell_type": "markdown",
   "metadata": {},
   "source": [
    "## RQ3b Number of checks vs missed events in the previous segment\n",
    "### Correlation for number of checks in consecutive segments."
   ]
  },
  {
   "cell_type": "code",
   "execution_count": 50,
   "metadata": {},
   "outputs": [
    {
     "name": "stdout",
     "output_type": "stream",
     "text": [
      "Exp1: Sec 1  Mean: 3.42105263158  Std: 4.36873809883\n",
      "Exp1: Sec 2  Mean: 4.52631578947  Std: 4.45289286281\n",
      "PearsonrResult(correlation= 0.646045820594  pvalue= 0.00280575319205\n",
      "SpearmanrResult(correlation=0.53818248318466722, pvalue=0.017453628211873493) \n",
      "\n",
      "Exp1: Sec 2  Mean: 4.52631578947  Std: 4.45289286281\n",
      "Exp1: Sec 3  Mean: 4.84210526316  Std: 3.88334036752\n",
      "PearsonrResult(correlation= 0.780943680236  pvalue= 7.93062478515e-05\n",
      "SpearmanrResult(correlation=0.71891765270139951, pvalue=0.00052360312235611079) \n",
      "\n",
      "Exp1: Sec 3  Mean: 4.84210526316  Std: 3.88334036752\n",
      "Exp1: Sec 4  Mean: 4.10526315789  Std: 4.06389412474\n",
      "PearsonrResult(correlation= 0.634707131007  pvalue= 0.00350843182289\n",
      "SpearmanrResult(correlation=0.83564477493907774, pvalue=8.4189060338691881e-06) \n",
      "\n",
      "Exp1: Sec 4  Mean: 4.10526315789  Std: 4.06389412474\n",
      "Exp1: Sec 5  Mean: 4.42105263158  Std: 2.90762680356\n",
      "PearsonrResult(correlation= 0.664372420114  pvalue= 0.00191792597031\n",
      "SpearmanrResult(correlation=0.72003606620730953, pvalue=0.00050830526051212231) \n",
      "\n",
      "Exp1: Sec 5  Mean: 4.42105263158  Std: 2.90762680356\n",
      "Exp1: Sec 6  Mean: 5.05263157895  Std: 4.59374499453\n",
      "PearsonrResult(correlation= 0.754898625891  pvalue= 0.000187107279727\n",
      "SpearmanrResult(correlation=0.82235606259896277, pvalue=1.5539884876179683e-05) \n",
      "\n",
      "Exp1: Sec 6  Mean: 5.05263157895  Std: 4.59374499453\n",
      "Exp1: Sec 7  Mean: 3.89473684211  Std: 3.76821522519\n",
      "PearsonrResult(correlation= 0.790847882217  pvalue= 5.55048849424e-05\n",
      "SpearmanrResult(correlation=0.74712847216535572, pvalue=0.00023697213016237351) \n",
      "\n",
      "Exp1: Sec 7  Mean: 3.89473684211  Std: 3.76821522519\n",
      "Exp1: Sec 8  Mean: 3.73684210526  Std: 3.80915939426\n",
      "PearsonrResult(correlation= 0.852423376844  pvalue= 3.57988609275e-06\n",
      "SpearmanrResult(correlation=0.73162831106115134, pvalue=0.00037071128094623424) \n",
      "\n",
      "Exp2: Sec 1 2\n",
      "Exp1: Sec 1  Mean: 3.63157894737  Std: 4.0027691246\n",
      "Exp1: Sec 2  Mean: 4.57894736842  Std: 3.43841746759\n",
      "PearsonrResult(correlation= 0.669415705532  pvalue= 0.00171964096458\n",
      "SpearmanrResult(correlation=0.63230763157754355, pvalue=0.0036743216664965606) \n",
      "\n",
      "Exp2: Sec 2 3\n",
      "Exp1: Sec 2  Mean: 4.57894736842  Std: 3.43841746759\n",
      "Exp1: Sec 3  Mean: 3.94736842105  Std: 4.01934380885\n",
      "PearsonrResult(correlation= 0.683892844005  pvalue= 0.00124283675893\n",
      "SpearmanrResult(correlation=0.68350309342329152, pvalue=0.0012540392692213574) \n",
      "\n",
      "Exp2: Sec 3 4\n",
      "Exp1: Sec 3  Mean: 3.94736842105  Std: 4.01934380885\n",
      "Exp1: Sec 4  Mean: 4.21052631579  Std: 4.73040498287\n",
      "PearsonrResult(correlation= 0.911311040899  pvalue= 5.81185549032e-08\n",
      "SpearmanrResult(correlation=0.88823529411764679, pvalue=3.8276989762898139e-07) \n",
      "\n",
      "Exp2: Sec 4 5\n",
      "Exp1: Sec 4  Mean: 4.21052631579  Std: 4.73040498287\n",
      "Exp1: Sec 5  Mean: 5.31578947368  Std: 4.41352743016\n",
      "PearsonrResult(correlation= 0.183365103354  pvalue= 0.452403220623\n",
      "SpearmanrResult(correlation=-0.038566573522455246, pvalue=0.87543978726018801) \n",
      "\n",
      "Exp2: Sec 5 6\n",
      "Exp1: Sec 5  Mean: 5.31578947368  Std: 4.41352743016\n",
      "Exp1: Sec 6  Mean: 4.84210526316  Std: 4.00346110647\n",
      "PearsonrResult(correlation= 0.553879117728  pvalue= 0.0138738781266\n",
      "SpearmanrResult(correlation=0.55293616189332051, pvalue=0.014070780047476816) \n",
      "\n",
      "Exp2: Sec 6 7\n",
      "Exp1: Sec 6  Mean: 4.84210526316  Std: 4.00346110647\n",
      "Exp1: Sec 7  Mean: 4.42105263158  Std: 4.44043370895\n",
      "PearsonrResult(correlation= 0.838639834219  pvalue= 7.27849957224e-06\n",
      "SpearmanrResult(correlation=0.80801789753204967, pvalue=2.8535045120522241e-05) \n",
      "\n",
      "Exp2: Sec 7 8\n",
      "Exp1: Sec 7  Mean: 4.42105263158  Std: 4.44043370895\n",
      "Exp1: Sec 8  Mean: 3.26315789474  Std: 3.20923183567\n",
      "PearsonrResult(correlation= 0.967267703395  pvalue= 1.47354923986e-11\n",
      "SpearmanrResult(correlation=0.96687245687895707, pvalue=1.6296304261305493e-11) \n",
      "\n"
     ]
    }
   ],
   "source": [
    "# pearson correlation\n",
    "\n",
    "for sec_i in range(7):\n",
    "    exp_check_1st=exp_check[:n_participant-1,sec_i]\n",
    "    exp_check_2nd=exp_check[:n_participant-1,sec_i+1]\n",
    "    print('Exp1: Sec',sec_i+1,' Mean:',exp_check_1st.mean(),' Std:',exp_check_1st.std())\n",
    "    print('Exp1: Sec',sec_i+2,' Mean:',exp_check_2nd.mean(),' Std:',exp_check_2nd.std())\n",
    "    pear_ = sp.pearsonr(exp_check_1st.T.ravel(), exp_check_2nd.T.ravel())\n",
    "    print('PearsonrResult(correlation=',pear_[0],' pvalue=',pear_[1])\n",
    "    print(sp.spearmanr(exp_check_1st.T.ravel(), exp_check_2nd.T.ravel()),'\\n')\n",
    "\n",
    "for sec_i in range(7):\n",
    "    exp_check_1st=exp_check[n_participant-1:,sec_i]\n",
    "    exp_check_2nd=exp_check[n_participant-1:,sec_i+1]\n",
    "    print('Exp2: Sec',sec_i+1,sec_i+2)\n",
    "    print('Exp1: Sec',sec_i+1,' Mean:',exp_check_1st.mean(),' Std:',exp_check_1st.std())\n",
    "    print('Exp1: Sec',sec_i+2,' Mean:',exp_check_2nd.mean(),' Std:',exp_check_2nd.std())\n",
    "    pear_ = sp.pearsonr(exp_check_1st.T.ravel(), exp_check_2nd.T.ravel())\n",
    "    print('PearsonrResult(correlation=',pear_[0],' pvalue=',pear_[1])\n",
    "    print(sp.spearmanr(exp_check_1st.T.ravel(), exp_check_2nd.T.ravel()),'\\n')"
   ]
  },
  {
   "cell_type": "code",
   "execution_count": 51,
   "metadata": {},
   "outputs": [],
   "source": [
    "# # Correlation between # Checks and previous misses\n",
    "\n",
    "# # pearson correlation\n",
    "# exp_check_ = exp_check[:,1:]\n",
    "# num_miss = np.multiply(np.ones(exp_check_.shape),[3,2,0,0,2,2,0])\n",
    "\n",
    "# print(num_miss.mean(),num_miss.std())\n",
    "# print(exp_check_.mean(),exp_check_.std())\n",
    "# pear_ = sp.pearsonr(num_miss.T.ravel(), exp_check_.T.ravel())\n",
    "# print('PearsonrResult(correlation=',pear_[0],', pvalue=',pear_[1])\n",
    "# print(sp.spearmanr(num_miss.T.ravel(), exp_check_.T.ravel()))"
   ]
  },
  {
   "cell_type": "markdown",
   "metadata": {},
   "source": [
    "## RQ3b Number of checks vs missed events in the previous segment\n",
    "### plots for number of checks in consecutive segments."
   ]
  },
  {
   "cell_type": "code",
   "execution_count": 52,
   "metadata": {},
   "outputs": [
    {
     "data": {
      "image/png": "[encoded data removed]",
      "text/plain": [
       "<matplotlib.figure.Figure at 0x1957a74cc50>"
      ]
     },
     "metadata": {},
     "output_type": "display_data"
    },
    {
     "data": {
      "image/png": "[encoded data removed]",
      "text/plain": [
       "<matplotlib.figure.Figure at 0x1957a6b6ef0>"
      ]
     },
     "metadata": {},
     "output_type": "display_data"
    },
    {
     "data": {
      "image/png": "[encoded data removed]",
      "text/plain": [
       "<matplotlib.figure.Figure at 0x1957b836e80>"
      ]
     },
     "metadata": {},
     "output_type": "display_data"
    },
    {
     "data": {
      "image/png": "[encoded data removed]",
      "text/plain": [
       "<matplotlib.figure.Figure at 0x1957b974f60>"
      ]
     },
     "metadata": {},
     "output_type": "display_data"
    },
    {
     "data": {
      "image/png": "[encoded data removed]",
      "text/plain": [
       "<matplotlib.figure.Figure at 0x1957a6b6da0>"
      ]
     },
     "metadata": {},
     "output_type": "display_data"
    },
    {
     "data": {
      "image/png": "[encoded data removed]",
      "text/plain": [
       "<matplotlib.figure.Figure at 0x1957bf47860>"
      ]
     },
     "metadata": {},
     "output_type": "display_data"
    },
    {
     "data": {
      "image/png": "[encoded data removed]",
      "text/plain": [
       "<matplotlib.figure.Figure at 0x1957c0a3e80>"
      ]
     },
     "metadata": {},
     "output_type": "display_data"
    }
   ],
   "source": [
    "# Correlation between # Checks and previous misses\n",
    "\n",
    "num_miss = np.array([3,2,0,0,2,2,0])\n",
    "\n",
    "for sec_i in range(7):\n",
    "    sys = (num_miss[sec_i]+1)/(exp1_check[:,sec_i]+1)\n",
    "    check_chgs = (exp1_check[:,sec_i+1]-exp1_check[:,sec_i])/(exp1_check[:,sec_i]+1)\n",
    "    plt.figure()\n",
    "    axes = plt.gca()\n",
    "    axes.set_ylim([-1,8])\n",
    "    axes.set_xlim([0,4])\n",
    "    plt.scatter(sys, check_chgs, marker='.')\n",
    "    plt.title('Exp1: misses in Sec %s vs checks in Sec %s' %(sec_i+1,sec_i+2))   \n",
    "    plt.show()"
   ]
  },
  {
   "cell_type": "code",
   "execution_count": 53,
   "metadata": {
    "scrolled": false
   },
   "outputs": [
    {
     "data": {
      "image/png": "[encoded data removed]",
      "text/plain": [
       "<matplotlib.figure.Figure at 0x1957bfeda90>"
      ]
     },
     "metadata": {},
     "output_type": "display_data"
    },
    {
     "data": {
      "image/png": "[encoded data removed]",
      "text/plain": [
       "<matplotlib.figure.Figure at 0x1957bfed0f0>"
      ]
     },
     "metadata": {},
     "output_type": "display_data"
    },
    {
     "data": {
      "image/png": "[encoded data removed]",
      "text/plain": [
       "<matplotlib.figure.Figure at 0x1957bfaea20>"
      ]
     },
     "metadata": {},
     "output_type": "display_data"
    },
    {
     "data": {
      "image/png": "[encoded data removed]",
      "text/plain": [
       "<matplotlib.figure.Figure at 0x1957b7eb400>"
      ]
     },
     "metadata": {},
     "output_type": "display_data"
    },
    {
     "data": {
      "image/png": "[encoded data removed]",
      "text/plain": [
       "<matplotlib.figure.Figure at 0x1957a756c88>"
      ]
     },
     "metadata": {},
     "output_type": "display_data"
    },
    {
     "data": {
      "image/png": "[encoded data removed]",
      "text/plain": [
       "<matplotlib.figure.Figure at 0x1957bf1af28>"
      ]
     },
     "metadata": {},
     "output_type": "display_data"
    },
    {
     "data": {
      "image/png": "[encoded data removed]",
      "text/plain": [
       "<matplotlib.figure.Figure at 0x1957b879dd8>"
      ]
     },
     "metadata": {},
     "output_type": "display_data"
    }
   ],
   "source": [
    "num_miss = np.array([2,2,0,0,3,2,0])\n",
    "\n",
    "for sec_i in range(7):\n",
    "    sys = (num_miss[sec_i]+1)/(exp2_check[:,sec_i]+1)\n",
    "    check_chgs = (exp2_check[:,sec_i+1]-exp2_check[:,sec_i])/(exp2_check[:,sec_i]+1)\n",
    "    plt.figure()\n",
    "    axes = plt.gca()\n",
    "    axes.set_ylim([-1,8])\n",
    "    axes.set_xlim([0,4])\n",
    "    plt.scatter(sys, check_chgs, marker='.')\n",
    "    plt.title('Exp2: misses in Sec %s vs checks in Sec %s' %(sec_i+1,sec_i+2))   \n",
    "    plt.show()"
   ]
  },
  {
   "cell_type": "markdown",
   "metadata": {},
   "source": [
    "## RQ4 User Behaviour versus Self-reported Trust\n",
    "### RQ4b Correlation between Number of Checks and Trust Scores"
   ]
  },
  {
   "cell_type": "code",
   "execution_count": 54,
   "metadata": {},
   "outputs": [
    {
     "name": "stdout",
     "output_type": "stream",
     "text": [
      "PearsonrResult(correlation= 0.0900060894402  pvalue= 0.117342805176\n",
      "SpearmanrResult(correlation=0.10721346744675458, pvalue=0.061899564184998437)\n"
     ]
    }
   ],
   "source": [
    "# pearson correlation\n",
    "pear_ = sp.pearsonr(exp_trust.T.ravel(), exp_check.T.ravel())\n",
    "print('PearsonrResult(correlation=',pear_[0],' pvalue=',pear_[1])\n",
    "# spearman correlation\n",
    "print(sp.spearmanr(exp_trust.T.ravel(), exp_check.T.ravel()))"
   ]
  },
  {
   "cell_type": "markdown",
   "metadata": {},
   "source": [
    "# Num of Admin Tasks"
   ]
  },
  {
   "cell_type": "code",
   "execution_count": 55,
   "metadata": {},
   "outputs": [
    {
     "data": {
      "text/plain": [
       "(38, 8)"
      ]
     },
     "execution_count": 55,
     "metadata": {},
     "output_type": "execute_result"
    }
   ],
   "source": [
    "exp1_admin = exp1_data_T.values[1:n_participant,94:102].astype(int)\n",
    "exp2_admin = exp2_data_T.values[1:n_participant,94:102].astype(int)\n",
    "# exp_demo = np.concatenate((exp1_demo,exp2_demo),axis=0)\n",
    "exp_admin = np.vstack((exp1_admin,np.hstack((exp2_admin[:,4:],exp2_admin[:,:4])))).astype(int)\n",
    "exp_admin.shape"
   ]
  },
  {
   "cell_type": "code",
   "execution_count": 56,
   "metadata": {},
   "outputs": [
    {
     "data": {
      "image/png": "[encoded data removed]",
      "text/plain": [
       "<matplotlib.figure.Figure at 0x1957bfed2b0>"
      ]
     },
     "metadata": {},
     "output_type": "display_data"
    },
    {
     "data": {
      "text/plain": [
       "array([[ 48.21052632,  50.05263158,  47.57894737,  48.21052632,\n",
       "         51.47368421,  50.84210526,  48.36842105,  49.78947368],\n",
       "       [  6.69311467,   3.31620716,   2.85280636,   6.63784165,\n",
       "          4.81629275,   4.1455513 ,   6.29294113,   4.39591853]])"
      ]
     },
     "execution_count": 56,
     "metadata": {},
     "output_type": "execute_result"
    }
   ],
   "source": [
    "# exp1 mean & std\n",
    "x = np.arange(8)\n",
    "y = np.array(exp1_admin.mean(axis=0))\n",
    "e = np.array(exp1_admin.std(axis=0))\n",
    "\n",
    "plt.errorbar(x, y, e, linestyle='None', marker='^')\n",
    "axes = plt.gca()\n",
    "axes.set_ylim([30,60])\n",
    "\n",
    "for xy in zip(x, y):\n",
    "    axes.annotate('%.4s' % xy[1], xy=xy, textcoords='data')\n",
    "    \n",
    "plt.title(\"# Admin Tasks: Experiment 1 (ABCD)\")    \n",
    "plt.show()\n",
    "\n",
    "# exp1 mean & std\n",
    "np.vstack((exp1_admin.mean(axis=0),exp1_admin.std(axis=0)))"
   ]
  },
  {
   "cell_type": "code",
   "execution_count": 57,
   "metadata": {
    "scrolled": true
   },
   "outputs": [
    {
     "data": {
      "image/png": "[encoded data removed]",
      "text/plain": [
       "<matplotlib.figure.Figure at 0x1957a6e4b70>"
      ]
     },
     "metadata": {},
     "output_type": "display_data"
    },
    {
     "data": {
      "text/plain": [
       "array([[ 51.26315789,  50.31578947,  49.21052632,  50.47368421,\n",
       "         51.05263158,  50.31578947,  47.68421053,  46.68421053],\n",
       "       [  2.35845858,   2.24903796,   2.19038443,   1.04470701,\n",
       "          2.56440583,   2.45062036,   2.97449919,  10.47328748]])"
      ]
     },
     "execution_count": 57,
     "metadata": {},
     "output_type": "execute_result"
    }
   ],
   "source": [
    "# exp2 mean & std\n",
    "x = np.arange(8)\n",
    "y = np.array(exp2_admin.mean(axis=0))\n",
    "e = np.array(exp2_admin.std(axis=0))\n",
    "\n",
    "plt.errorbar(x, y, e, linestyle='None', marker='^')\n",
    "axes = plt.gca()\n",
    "axes.set_ylim([30,60])\n",
    "\n",
    "for xy in zip(x, y):\n",
    "    axes.annotate('%.4s' % xy[1], xy=xy, textcoords='data')\n",
    "\n",
    "plt.title(\"# Admin Tasks: Experiment 2 (CDAB)\")    \n",
    "plt.show()\n",
    "\n",
    "# exp2 mean & std\n",
    "np.vstack((exp2_admin.mean(axis=0),exp2_admin.std(axis=0)))"
   ]
  },
  {
   "cell_type": "code",
   "execution_count": 58,
   "metadata": {},
   "outputs": [
    {
     "data": {
      "image/png": "[encoded data removed]",
      "text/plain": [
       "<matplotlib.figure.Figure at 0x1957bed9048>"
      ]
     },
     "metadata": {},
     "output_type": "display_data"
    },
    {
     "data": {
      "text/plain": [
       "array([[ 49.63157895,  50.18421053,  47.63157895,  47.44736842,\n",
       "         51.36842105,  50.57894737,  48.78947368,  50.13157895],\n",
       "       [  5.26368418,   2.91868088,   2.91476326,   8.80100882,\n",
       "          3.79349202,   3.34531549,   4.73040498,   3.21322147]])"
      ]
     },
     "execution_count": 58,
     "metadata": {},
     "output_type": "execute_result"
    }
   ],
   "source": [
    "# overall mean & std\n",
    "x = np.arange(8)\n",
    "y = np.array(exp_admin.mean(axis=0))\n",
    "e = np.array(exp_admin.std(axis=0))\n",
    "\n",
    "plt.errorbar(x, y, e, linestyle='None', marker='^')\n",
    "axes = plt.gca()\n",
    "axes.set_ylim([30,60])\n",
    "\n",
    "for xy in zip(x, y):\n",
    "    axes.annotate('%.4s' % xy[1], xy=xy, textcoords='data')\n",
    "plt.title(\"# Admin tasks: Both Experiments (in order of ABCD)\")    \n",
    "plt.show()\n",
    "\n",
    "# overall mean & std\n",
    "np.vstack((exp_admin.mean(axis=0),exp_admin.std(axis=0)))"
   ]
  },
  {
   "cell_type": "markdown",
   "metadata": {},
   "source": [
    "## Correlation between # Attended Admins vs # Attended Alerts"
   ]
  },
  {
   "cell_type": "code",
   "execution_count": 59,
   "metadata": {},
   "outputs": [
    {
     "data": {
      "text/plain": [
       "(-0.060715538216567451, 0.29132276131148827)"
      ]
     },
     "execution_count": 59,
     "metadata": {},
     "output_type": "execute_result"
    }
   ],
   "source": [
    "# pearson correlation\n",
    "sp.pearsonr(exp_admin.T.ravel(), exp_attend_alert.ravel())"
   ]
  },
  {
   "cell_type": "code",
   "execution_count": 60,
   "metadata": {},
   "outputs": [
    {
     "data": {
      "text/plain": [
       "SpearmanrResult(correlation=-0.00089258669668704671, pvalue=0.98763434493210511)"
      ]
     },
     "execution_count": 60,
     "metadata": {},
     "output_type": "execute_result"
    }
   ],
   "source": [
    "# spearman correlation\n",
    "sp.spearmanr(exp_admin.T.ravel(), exp_attend_alert.ravel())"
   ]
  },
  {
   "cell_type": "markdown",
   "metadata": {},
   "source": [
    "# Selected report frequency "
   ]
  },
  {
   "cell_type": "code",
   "execution_count": 61,
   "metadata": {},
   "outputs": [
    {
     "name": "stdout",
     "output_type": "stream",
     "text": [
      "[0 1 2]\n",
      "['Disabled' 'High' 'Low']\n",
      "[0 1 2]\n",
      "['Disabled' 'High' 'Low']\n"
     ]
    },
    {
     "data": {
      "text/plain": [
       "(38, 4)"
      ]
     },
     "execution_count": 61,
     "metadata": {},
     "output_type": "execute_result"
    }
   ],
   "source": [
    "exp1_freq = exp1_data_T.values[1:n_participant,88:92]\n",
    "index, exp1_freq_temp =np.unique(exp1_freq.ravel(), return_inverse=True)\n",
    "print(np.arange(len(index)))\n",
    "print(index)\n",
    "exp1_freq = np.reshape(exp1_freq_temp,exp1_freq.shape).astype(int)\n",
    "\n",
    "exp2_freq = exp2_data_T.values[1:n_participant,88:92]\n",
    "index, exp2_freq_temp =np.unique(exp2_freq.ravel(), return_inverse=True)\n",
    "print(np.arange(len(index)))\n",
    "print(index)\n",
    "exp2_freq = np.reshape(exp2_freq_temp,exp2_freq.shape).astype(int)\n",
    "\n",
    "exp_freq = np.vstack((exp1_freq,np.hstack((exp2_freq[:,2:],exp2_freq[:,:2])))).astype(int)\n",
    "exp_freq.shape"
   ]
  },
  {
   "cell_type": "code",
   "execution_count": null,
   "metadata": {
    "collapsed": true
   },
   "outputs": [],
   "source": []
  },
  {
   "cell_type": "markdown",
   "metadata": {},
   "source": [
    "# Earnings & Losses"
   ]
  },
  {
   "cell_type": "code",
   "execution_count": 62,
   "metadata": {
    "collapsed": true
   },
   "outputs": [],
   "source": [
    "exp1_admin_w = exp1_data_T.values[1:n_participant,114:122].astype(int)\n",
    "exp2_admin_w = exp2_data_T.values[1:n_participant,114:122].astype(int)\n",
    "exp_admin_w = np.vstack((exp1_admin_w,np.hstack((exp2_admin_w[:,4:],exp2_admin_w[:,:4])))).astype(int)\n",
    "\n",
    "# correct cards:$4 \n",
    "# wrong cards: $4\n",
    "# use (total admin - 2x wrong admin)x$4 to get net profit\n",
    "Earnings_admin = 4*(exp_admin - 2*exp_admin_w)"
   ]
  },
  {
   "cell_type": "code",
   "execution_count": 63,
   "metadata": {},
   "outputs": [
    {
     "data": {
      "image/png": "[encoded data removed]",
      "text/plain": [
       "<matplotlib.figure.Figure at 0x1957c149278>"
      ]
     },
     "metadata": {},
     "output_type": "display_data"
    },
    {
     "data": {
      "text/plain": [
       "array([[ 165.68421053,  164.10526316,  155.57894737,  156.73684211,\n",
       "         165.68421053,  172.        ,  165.68421053,  169.57894737],\n",
       "       [  30.91082698,   31.01764309,   29.85987589,   38.87746216,\n",
       "          35.07143482,   28.13501284,   28.91194004,   31.96760826]])"
      ]
     },
     "execution_count": 63,
     "metadata": {},
     "output_type": "execute_result"
    }
   ],
   "source": [
    "# overall mean & std\n",
    "x = np.arange(8)\n",
    "y = np.array(Earnings_admin.mean(axis=0))\n",
    "e = np.array(Earnings_admin.std(axis=0))\n",
    "\n",
    "plt.errorbar(x, y, e, linestyle='None', marker='^')\n",
    "axes = plt.gca()\n",
    "# axes.set_ylim([30,60])\n",
    "\n",
    "for xy in zip(x, y):\n",
    "    axes.annotate('%.5s' % xy[1], xy=xy, textcoords='data')\n",
    "plt.title(\"Admin earnings: Both Experiments (in order of ABCD)\")    \n",
    "plt.show()\n",
    "\n",
    "# overall mean & std\n",
    "np.vstack((Earnings_admin.mean(axis=0),Earnings_admin.std(axis=0)))"
   ]
  },
  {
   "cell_type": "code",
   "execution_count": 64,
   "metadata": {
    "collapsed": true
   },
   "outputs": [],
   "source": [
    "# final balance\n",
    "exp1_fnl_balance = exp1_data_T.values[1:n_participant,244:252].astype(int)\n",
    "exp2_fnl_balance = exp2_data_T.values[1:n_participant,244:252].astype(int)\n",
    "# exp_demo = np.concatenate((exp1_demo,exp2_demo),axis=0)\n",
    "exp_fnl_balance = np.vstack((exp1_fnl_balance,np.hstack((exp2_fnl_balance[:,4:],exp2_fnl_balance[:,:4])))).astype(int)\n",
    "\n",
    "# reverse engineering to find total losses from monitoring system\n",
    "Total_loss = exp_fnl_balance - Earnings_admin - 150"
   ]
  },
  {
   "cell_type": "code",
   "execution_count": 65,
   "metadata": {},
   "outputs": [
    {
     "data": {
      "image/png": "[encoded data removed]",
      "text/plain": [
       "<matplotlib.figure.Figure at 0x1957bec1208>"
      ]
     },
     "metadata": {},
     "output_type": "display_data"
    },
    {
     "data": {
      "text/plain": [
       "array([[-365.89473684, -278.52631579, -240.65789474, -251.42105263,\n",
       "        -226.23684211, -194.89473684, -153.        , -134.97368421],\n",
       "       [ 185.97266204,  171.18883646,  171.78678283,  202.3187469 ,\n",
       "         166.28153586,  115.99133123,  166.62643374,  104.42284657]])"
      ]
     },
     "execution_count": 65,
     "metadata": {},
     "output_type": "execute_result"
    }
   ],
   "source": [
    "# overall mean & std\n",
    "x = np.arange(8)\n",
    "y = np.array(Total_loss.mean(axis=0))\n",
    "e = np.array(Total_loss.std(axis=0))\n",
    "\n",
    "plt.errorbar(x, y, e, linestyle='None', marker='^')\n",
    "axes = plt.gca()\n",
    "# axes.set_ylim([30,60])\n",
    "\n",
    "for xy in zip(x, y):\n",
    "    axes.annotate('%.5s' % xy[1], xy=xy, textcoords='data')\n",
    "plt.title(\"Total losses: Both Experiments (in order of ABCD)\")    \n",
    "plt.show()\n",
    "\n",
    "# overall mean & std\n",
    "np.vstack((Total_loss.mean(axis=0),Total_loss.std(axis=0)))"
   ]
  },
  {
   "cell_type": "code",
   "execution_count": 66,
   "metadata": {},
   "outputs": [
    {
     "data": {
      "image/png": "[encoded data removed]",
      "text/plain": [
       "<matplotlib.figure.Figure at 0x1957a6adfd0>"
      ]
     },
     "metadata": {},
     "output_type": "display_data"
    },
    {
     "data": {
      "text/plain": [
       "array([[ -50.21052632,   35.57894737,   64.92105263,   55.31578947,\n",
       "          89.44736842,  127.10526316,  162.68421053,  184.60526316],\n",
       "       [ 203.2698696 ,  183.03186832,  186.19251237,  227.52190239,\n",
       "         181.96337072,  123.18103696,  171.21686852,  115.58490602]])"
      ]
     },
     "execution_count": 66,
     "metadata": {},
     "output_type": "execute_result"
    }
   ],
   "source": [
    "# overall mean & std\n",
    "x = np.arange(8)\n",
    "y = np.array(exp_fnl_balance.mean(axis=0))\n",
    "e = np.array(exp_fnl_balance.std(axis=0))\n",
    "\n",
    "plt.errorbar(x, y, e, linestyle='None', marker='^')\n",
    "axes = plt.gca()\n",
    "# axes.set_ylim([30,60])\n",
    "\n",
    "for xy in zip(x, y):\n",
    "    axes.annotate('%.5s' % xy[1], xy=xy, textcoords='data')\n",
    "plt.title(\"Final balance: Both Experiments (in order of ABCD)\")    \n",
    "plt.show()\n",
    "\n",
    "# overall mean & std\n",
    "np.vstack((exp_fnl_balance.mean(axis=0),exp_fnl_balance.std(axis=0)))"
   ]
  },
  {
   "cell_type": "markdown",
   "metadata": {},
   "source": [
    "# Propensity Questions"
   ]
  },
  {
   "cell_type": "code",
   "execution_count": 67,
   "metadata": {
    "collapsed": true
   },
   "outputs": [],
   "source": [
    "exp1_prop = exp1_data_T.values[1:n_participant,9:15].astype(int)\n",
    "exp2_prop = exp2_data_T.values[1:n_participant,9:15].astype(int)\n",
    "# exp_demo = np.concatenate((exp1_demo,exp2_demo),axis=0)\n",
    "exp_prop = np.vstack((exp1_prop,np.hstack((exp2_prop[:,4:],exp2_prop[:,:4])))).astype(int)"
   ]
  },
  {
   "cell_type": "code",
   "execution_count": 68,
   "metadata": {},
   "outputs": [
    {
     "data": {
      "image/png": "[encoded data removed]",
      "text/plain": [
       "<matplotlib.figure.Figure at 0x1957a21ceb8>"
      ]
     },
     "metadata": {},
     "output_type": "display_data"
    },
    {
     "data": {
      "text/plain": [
       "array([[ 3.15789474,  2.63157895,  3.94736842,  2.89473684,  3.34210526,\n",
       "         3.26315789],\n",
       "       [ 1.13615964,  0.90090751,  0.6046908 ,  0.96761981,  1.03304139,\n",
       "         1.0433804 ]])"
      ]
     },
     "execution_count": 68,
     "metadata": {},
     "output_type": "execute_result"
    }
   ],
   "source": [
    "# overall mean & std\n",
    "x = np.arange(6)+1\n",
    "y = np.array(exp_prop.mean(axis=0))\n",
    "e = np.array(exp_prop.std(axis=0))\n",
    "\n",
    "plt.errorbar(x, y, e, linestyle='None', marker='^')\n",
    "axes = plt.gca()\n",
    "axes.set_ylim([0,5])\n",
    "\n",
    "for xy in zip(x, y):\n",
    "    axes.annotate('%.4s' % xy[1], xy=xy, textcoords='data')\n",
    "plt.title(\"Propensity Questions: Both Experiments (ABCD) \\n 1: strongly disagree 5 strongly agree\")    \n",
    "plt.show()\n",
    "\n",
    "# overall mean & std\n",
    "np.vstack((exp_prop.mean(axis=0),exp_prop.std(axis=0)))"
   ]
  },
  {
   "cell_type": "markdown",
   "metadata": {},
   "source": [
    "# Post-stage Questions"
   ]
  },
  {
   "cell_type": "code",
   "execution_count": 69,
   "metadata": {
    "collapsed": true
   },
   "outputs": [],
   "source": [
    "# exp1_pstq = np.hstack((exp1_data_T.values[1:n_participant,16:19],exp1_data_T.values[1:n_participant,21:28],\n",
    "#                        exp1_data_T.values[1:n_participant,29:32],exp1_data_T.values[1:n_participant,34:41],\n",
    "#                        exp1_data_T.values[1:n_participant,42:45],exp1_data_T.values[1:n_participant,47:54],\n",
    "#                        exp1_data_T.values[1:n_participant,55:58],exp1_data_T.values[1:n_participant,60:67])).astype(int)\n",
    "# exp2_pstq = np.hstack((exp2_data_T.values[1:n_participant,16:19],exp2_data_T.values[1:n_participant,21:28],\n",
    "#                        exp2_data_T.values[1:n_participant,29:32],exp2_data_T.values[1:n_participant,34:41],\n",
    "#                        exp2_data_T.values[1:n_participant,42:45],exp2_data_T.values[1:n_participant,47:54],\n",
    "#                        exp2_data_T.values[1:n_participant,55:58],exp2_data_T.values[1:n_participant,60:67])).astype(int)\n",
    "\n",
    "exp1_pstq = exp1_data_T.values[1:n_participant, np.r_[16:19,21:28,29:32,34:41,42:45,47:54,55:58,60:67]].astype(int)\n",
    "exp2_pstq = exp2_data_T.values[1:n_participant, np.r_[16:19,21:28,29:32,34:41,42:45,47:54,55:58,60:67]].astype(int)\n",
    "\n",
    "# exp_demo = np.concatenate((exp1_demo,exp2_demo),axis=0)\n",
    "exp_pstq = np.vstack((exp1_pstq,np.hstack((exp2_pstq[:,20:],exp2_pstq[:,:20])))).astype(int)"
   ]
  },
  {
   "cell_type": "code",
   "execution_count": 70,
   "metadata": {},
   "outputs": [
    {
     "data": {
      "text/plain": [
       "(38, 40)"
      ]
     },
     "execution_count": 70,
     "metadata": {},
     "output_type": "execute_result"
    }
   ],
   "source": [
    "exp_pstq.shape"
   ]
  },
  {
   "cell_type": "code",
   "execution_count": 71,
   "metadata": {
    "scrolled": false
   },
   "outputs": [
    {
     "data": {
      "text/plain": [
       "array([[ 4.28947368,  3.15789474,  3.36842105,  3.05263158,  3.57894737,\n",
       "         3.5       ,  3.        ,  2.86842105,  2.68421053,  3.68421053,\n",
       "         4.18421053,  2.86842105,  3.18421053,  3.28947368,  3.63157895,\n",
       "         3.63157895,  3.21052632,  3.13157895,  2.65789474,  3.81578947,\n",
       "         4.26315789,  3.13157895,  2.97368421,  3.68421053,  3.84210526,\n",
       "         3.76315789,  3.42105263,  3.34210526,  2.63157895,  3.78947368,\n",
       "         4.26315789,  3.18421053,  2.73684211,  3.76315789,  3.89473684,\n",
       "         3.94736842,  3.55263158,  3.55263158,  2.5       ,  3.97368421],\n",
       "       [ 0.99757323,  1.15909029,  0.66574267,  0.82549406,  0.8470251 ,\n",
       "         0.7163504 ,  1.02597835,  0.97794233,  0.86161608,  0.65314072,\n",
       "         1.12050889,  1.21765635,  0.72020696,  0.91501782,  0.98464668,\n",
       "         0.84045892,  0.9502879 ,  1.0802303 ,  0.86682469,  0.78991216,\n",
       "         0.96475278,  1.127901  ,  0.66833816,  0.83051231,  0.77887624,\n",
       "         0.87160501,  0.87754379,  1.00724522,  0.87120765,  0.76632736,\n",
       "         1.06830438,  1.14375336,  0.67606487,  0.90129178,  0.75356953,\n",
       "         0.72356458,  0.84906662,  0.93744806,  0.85069631,  0.74292601]])"
      ]
     },
     "execution_count": 71,
     "metadata": {},
     "output_type": "execute_result"
    }
   ],
   "source": [
    "# overall mean & std\n",
    "np.vstack((exp_pstq.mean(axis=0),exp_pstq.std(axis=0)))"
   ]
  },
  {
   "cell_type": "code",
   "execution_count": 72,
   "metadata": {},
   "outputs": [
    {
     "data": {
      "text/plain": [
       "array([[ 4.31578947,  3.        ,  3.31578947,  3.10526316,  3.57894737,\n",
       "         3.63157895,  3.26315789,  2.89473684,  2.57894737,  3.84210526,\n",
       "         4.05263158,  2.73684211,  3.31578947,  3.21052632,  3.63157895,\n",
       "         3.73684211,  3.21052632,  3.10526316,  2.84210526,  3.68421053,\n",
       "         4.05263158,  3.05263158,  2.78947368,  3.84210526,  4.        ,\n",
       "         3.89473684,  3.52631579,  3.57894737,  2.63157895,  4.05263158,\n",
       "         4.15789474,  3.36842105,  2.73684211,  3.84210526,  3.89473684,\n",
       "         3.89473684,  3.57894737,  3.52631579,  2.52631579,  4.        ],\n",
       "       [ 0.79819742,  1.02597835,  0.65314072,  0.78771734,  0.87754379,\n",
       "         0.58133479,  0.96475278,  0.85191653,  0.67401308,  0.58608046,\n",
       "         1.0499967 ,  1.16266958,  0.72928455,  0.89318751,  1.03672187,\n",
       "         0.84865871,  0.89318751,  0.96761981,  0.93263396,  0.97617037,\n",
       "         1.23431994,  1.23431994,  0.69425821,  0.58608046,  0.64888568,\n",
       "         0.71779904,  0.75172931,  0.81536491,  0.74059196,  0.6046908 ,\n",
       "         0.98745595,  1.03672187,  0.63594979,  0.87438146,  0.85191653,\n",
       "         0.78771734,  0.74803528,  0.75172931,  0.9385555 ,  0.79471941]])"
      ]
     },
     "execution_count": 72,
     "metadata": {},
     "output_type": "execute_result"
    }
   ],
   "source": [
    "# exp1 mean & std\n",
    "np.vstack((exp1_pstq.mean(axis=0),exp1_pstq.std(axis=0)))"
   ]
  },
  {
   "cell_type": "code",
   "execution_count": 73,
   "metadata": {
    "scrolled": true
   },
   "outputs": [
    {
     "data": {
      "text/plain": [
       "array([[ 4.47368421,  3.21052632,  3.15789474,  3.52631579,  3.68421053,\n",
       "         3.63157895,  3.31578947,  3.10526316,  2.63157895,  3.52631579,\n",
       "         4.36842105,  3.        ,  2.73684211,  3.68421053,  3.89473684,\n",
       "         4.        ,  3.52631579,  3.57894737,  2.47368421,  3.94736842,\n",
       "         4.26315789,  3.31578947,  3.42105263,  3.        ,  3.57894737,\n",
       "         3.36842105,  2.73684211,  2.84210526,  2.78947368,  3.52631579,\n",
       "         4.31578947,  3.        ,  3.05263158,  3.36842105,  3.63157895,\n",
       "         3.52631579,  3.21052632,  3.15789474,  2.47368421,  3.94736842],\n",
       "       [ 0.499307  ,  1.00414653,  0.58608046,  0.99305065,  0.86161608,\n",
       "         0.98464668,  0.97617037,  1.11896272,  0.98464668,  0.81875522,\n",
       "         1.13371891,  1.21395396,  0.71392947,  0.92067661,  0.64029079,\n",
       "         0.64888568,  0.9385555 ,  1.09139165,  0.75172931,  0.68623183,\n",
       "         1.16266958,  1.25876429,  0.67401308,  0.85839508,  0.81536491,\n",
       "         0.80854166,  1.0178463 ,  1.08885057,  1.00414653,  0.67811046,\n",
       "         1.17216092,  1.25656172,  0.68623183,  0.92965904,  0.92965904,\n",
       "         0.81875522,  1.00414653,  1.18157602,  0.75172931,  0.51028209]])"
      ]
     },
     "execution_count": 73,
     "metadata": {},
     "output_type": "execute_result"
    }
   ],
   "source": [
    "# exp2 mean & std\n",
    "np.vstack((exp2_pstq.mean(axis=0),exp2_pstq.std(axis=0)))"
   ]
  },
  {
   "cell_type": "markdown",
   "metadata": {},
   "source": [
    "## RQ2a Opinion about the system & system performance\n",
    "### Difference between answers to S3, S4, S7, S8, -S9 (inverse) and System Performance (Hi FA vs Low FA ratio) – Wilcoxon signed-ranked test"
   ]
  },
  {
   "cell_type": "code",
   "execution_count": 74,
   "metadata": {
    "collapsed": true
   },
   "outputs": [],
   "source": [
    "Q_id = np.array([3,4,7,8,9])-1"
   ]
  },
  {
   "cell_type": "code",
   "execution_count": 75,
   "metadata": {
    "collapsed": true
   },
   "outputs": [],
   "source": [
    "Qs = [\n",
    "'How often did you attend to the system\\'s alerts?',\n",
    "'How often did you check on the residents?',\n",
    "'How much do you think this monitoring system needs to improve so you won\\'t feel the need to check on residents at all?',\n",
    "'I can rely on this monitoring system to function properly',\n",
    "'I know how to use this monitoring system to perform well (even if I don\\'t know exactly how it works)',\n",
    "'I know how to use this monitoring system to take care of the residents (even if I don\\'t know exactly how it works)', \n",
    "'This monitoring system is dependable',\n",
    "'I would use such a monitoring system for an elderly family member',\n",
    "'This monitoring system\\'s actions will have a harmful outcome',\n",
    "'My decisions were the most appropriate ones']"
   ]
  },
  {
   "cell_type": "code",
   "execution_count": 76,
   "metadata": {},
   "outputs": [
    {
     "name": "stdout",
     "output_type": "stream",
     "text": [
      "3 How much do you think this monitoring system needs to improve so you won't feel the need to check on residents at all?\n",
      "Sections with high FA: Mean: 3.27631578947  Std: 0.699599212529  Median: 3.0\n",
      "Sections with low FA: Mean: 2.85526315789  Std: 0.68256380786  Median: 3.0\n",
      "WilcoxonResult(statistic=115.5, pvalue=3.8420311684505226e-05)\n",
      "\n",
      "\n",
      "4 I can rely on this monitoring system to function properly\n",
      "Sections with high FA: Mean: 3.17105263158  Std: 0.879416042711  Median: 3.0\n",
      "Sections with low FA: Mean: 3.72368421053  Std: 0.867523459572  Median: 4.0\n",
      "WilcoxonResult(statistic=129.5, pvalue=5.7428580014989494e-05)\n",
      "\n",
      "\n",
      "7 This monitoring system is dependable\n",
      "Sections with high FA: Mean: 3.10526315789  Std: 0.994444401457  Median: 3.0\n",
      "Sections with low FA: Mean: 3.48684210526  Std: 0.865925441251  Median: 4.0\n",
      "WilcoxonResult(statistic=170.5, pvalue=0.00075173093315864285)\n",
      "\n",
      "\n",
      "8 I would use such a monitoring system for an elderly family member\n",
      "Sections with high FA: Mean: 3.0  Std: 1.03872391347  Median: 3.0\n",
      "Sections with low FA: Mean: 3.44736842105  Std: 0.978650209568  Median: 4.0\n",
      "WilcoxonResult(statistic=231.5, pvalue=0.00155383000937052)\n",
      "\n",
      "\n",
      "9 This monitoring system's actions will have a harmful outcome\n",
      "Sections with high FA: Mean: 2.67105263158  Std: 0.864324468417  Median: 3.0\n",
      "Sections with low FA: Mean: 2.56578947368  Std: 0.863522868923  Median: 2.0\n",
      "WilcoxonResult(statistic=198.0, pvalue=0.31202687815363928)\n",
      "\n",
      "\n"
     ]
    }
   ],
   "source": [
    "for ids in Q_id: \n",
    "    pstq = exp_pstq[:,np.arange(ids,40,10)]\n",
    "    pstq_set1 = pstq[:, [0,1]].T.ravel()\n",
    "    pstq_set2 = pstq[:, [2,3]].T.ravel()\n",
    "    print(ids+1,Qs[ids])\n",
    "    print('Sections with high FA: Mean:', pstq_set1.mean(),' Std:',pstq_set1.std(),' Median:',np.median(pstq_set1))\n",
    "    print('Sections with low FA: Mean:', pstq_set2.mean(),' Std:',pstq_set2.std(),' Median:',np.median(pstq_set2))\n",
    "    print(sp.wilcoxon(pstq_set1,pstq_set2))\n",
    "    print('\\n')"
   ]
  },
  {
   "cell_type": "markdown",
   "metadata": {},
   "source": [
    "## RQ2a Opinion about the system & system performance\n",
    "### Answers to S3, S4, S7, -S9 (inverse) and System Performance (with/without missed events) – Wilcoxon signed-ranked test"
   ]
  },
  {
   "cell_type": "code",
   "execution_count": 77,
   "metadata": {},
   "outputs": [
    {
     "name": "stdout",
     "output_type": "stream",
     "text": [
      "3 How much do you think this monitoring system needs to improve so you won't feel the need to check on residents at all?\n",
      "Sections with misses: Mean: 3.17105263158  Std: 0.695628415152  Median: 3.0\n",
      "Sections without misses: Mean: 2.96052631579  Std: 0.733427237335  Median: 3.0\n",
      "WilcoxonResult(statistic=308.5, pvalue=0.026898103497630086)\n",
      "\n",
      "\n",
      "4 I can rely on this monitoring system to function properly\n",
      "Sections with misses: Mean: 3.36842105263  Std: 0.886182012657  Median: 4.0\n",
      "Sections without misses: Mean: 3.52631578947  Std: 0.938555500007  Median: 4.0\n",
      "WilcoxonResult(statistic=183.0, pvalue=0.10453602615905543)\n",
      "\n",
      "\n",
      "7 This monitoring system is dependable\n",
      "Sections with misses: Mean: 3.21052631579  Std: 0.977588190579  Median: 3.5\n",
      "Sections without misses: Mean: 3.38157894737  Std: 0.917191153571  Median: 4.0\n",
      "WilcoxonResult(statistic=243.0, pvalue=0.13309472300631731)\n",
      "\n",
      "\n",
      "8 I would use such a monitoring system for an elderly family member\n",
      "Sections with misses: Mean: 3.10526315789  Std: 1.02056418051  Median: 3.0\n",
      "Sections without misses: Mean: 3.34210526316  Std: 1.03304139086  Median: 4.0\n",
      "WilcoxonResult(statistic=145.0, pvalue=0.0093775454807573776)\n",
      "\n",
      "\n",
      "9 This monitoring system's actions will have a harmful outcome\n",
      "Sections with misses: Mean: 2.65789473684  Std: 0.866824689053  Median: 3.0\n",
      "Sections without misses: Mean: 2.57894736842  Std: 0.862419453062  Median: 2.0\n",
      "WilcoxonResult(statistic=231.0, pvalue=0.51182781401107436)\n",
      "\n",
      "\n"
     ]
    }
   ],
   "source": [
    "for ids in Q_id: \n",
    "    pstq = exp_pstq[:,np.arange(ids,40,10)]\n",
    "    pstq_set1 = pstq[:, [0,2]].T.ravel()\n",
    "    pstq_set2 = pstq[:, [1,3]].T.ravel()\n",
    "    print(ids+1,Qs[ids])\n",
    "    print('Sections with misses: Mean:', pstq_set1.mean(),' Std:',pstq_set1.std(),' Median:',np.median(pstq_set1))\n",
    "    print('Sections without misses: Mean:', pstq_set2.mean(),' Std:',pstq_set2.std(),' Median:',np.median(pstq_set2))\n",
    "    print(sp.wilcoxon(pstq_set1,pstq_set2))\n",
    "    print('\\n')"
   ]
  },
  {
   "cell_type": "markdown",
   "metadata": {
    "collapsed": true
   },
   "source": [
    "# Post-game Questions"
   ]
  },
  {
   "cell_type": "code",
   "execution_count": 78,
   "metadata": {},
   "outputs": [
    {
     "data": {
      "text/plain": [
       "(38, 7)"
      ]
     },
     "execution_count": 78,
     "metadata": {},
     "output_type": "execute_result"
    }
   ],
   "source": [
    "exp1_pgq = exp1_data_T.values[1:n_participant,69:76]\n",
    "exp2_pgq = exp2_data_T.values[1:n_participant,69:76]\n",
    "exp_pgq = np.vstack((exp1_pgq,exp2_pgq)).astype(int)\n",
    "exp_pgq.shape"
   ]
  },
  {
   "cell_type": "code",
   "execution_count": 79,
   "metadata": {},
   "outputs": [
    {
     "name": "stdout",
     "output_type": "stream",
     "text": [
      "[2 3 4 5]\n"
     ]
    },
    {
     "data": {
      "image/png": "[encoded data removed]",
      "text/plain": [
       "<matplotlib.figure.Figure at 0x1957b7a0eb8>"
      ]
     },
     "metadata": {},
     "output_type": "display_data"
    },
    {
     "data": {
      "text/plain": [
       "(None, Counter({2: 1, 3: 17, 4: 15, 5: 5}))"
      ]
     },
     "execution_count": 79,
     "metadata": {},
     "output_type": "execute_result"
    }
   ],
   "source": [
    "pg1 = Counter(exp_pgq[:,0])\n",
    "print(np.array(sorted(pg1.items(), key= lambda t: (t[0]), reverse=False))[:,0])\n",
    "\n",
    "x = np.arange(len(pg1.keys()))\n",
    "plt.bar(x, np.array(sorted(pg1.items(), key= lambda t: (t[0]), reverse=False))[:,1])\n",
    "plt.xticks(x, \n",
    "           ('Difficult','Fine','Easy','Very Easy'),\n",
    "           rotation=17)\n",
    "plt.title(\"How difficult was your admin job in the experiment?\")\n",
    "# plt.xlabel(\"Value\")\n",
    "plt.ylabel(\"Count\")\n",
    "\n",
    "plt.show(), Counter(pd.to_numeric(exp_pgq[:,0]))"
   ]
  },
  {
   "cell_type": "code",
   "execution_count": 80,
   "metadata": {},
   "outputs": [
    {
     "name": "stdout",
     "output_type": "stream",
     "text": [
      "[1 2 3 4 5]\n"
     ]
    },
    {
     "data": {
      "image/png": "[encoded data removed]",
      "text/plain": [
       "<matplotlib.figure.Figure at 0x1957beee0f0>"
      ]
     },
     "metadata": {},
     "output_type": "display_data"
    },
    {
     "data": {
      "text/plain": [
       "(None, Counter({1: 4, 2: 13, 3: 1, 4: 13, 5: 7}))"
      ]
     },
     "execution_count": 80,
     "metadata": {},
     "output_type": "execute_result"
    }
   ],
   "source": [
    "pg2 = Counter(exp_pgq[:,1])\n",
    "print(np.array(sorted(pg2.items(), key= lambda t: (t[0]), reverse=False))[:,0])\n",
    "\n",
    "x = np.arange(len(pg2.keys()))\n",
    "plt.bar(x, np.array(sorted(pg2.items(), key= lambda t: (t[0]), reverse=False))[:,1])\n",
    "plt.xticks(x, \n",
    "           ('Quite bored','A little bored','Neutral','A little engaged','Quite engaged'),\n",
    "           rotation=17)\n",
    "plt.title(\"How engaged were you with the experiment?\")\n",
    "# plt.xlabel(\"Value\")\n",
    "plt.ylabel(\"Count\")\n",
    "\n",
    "plt.show(), Counter(pd.to_numeric(exp_pgq[:,1]))"
   ]
  },
  {
   "cell_type": "code",
   "execution_count": 81,
   "metadata": {},
   "outputs": [
    {
     "name": "stdout",
     "output_type": "stream",
     "text": [
      "[1 2 3]\n"
     ]
    }
   ],
   "source": [
    "pg3 = Counter(exp_pgq[:,2])\n",
    "print(np.array(sorted(pg3.items(), key= lambda t: (t[0]), reverse=False))[:,0])"
   ]
  },
  {
   "cell_type": "code",
   "execution_count": 82,
   "metadata": {},
   "outputs": [
    {
     "data": {
      "image/png": "[encoded data removed]",
      "text/plain": [
       "<matplotlib.figure.Figure at 0x1957a22feb8>"
      ]
     },
     "metadata": {},
     "output_type": "display_data"
    },
    {
     "data": {
      "text/plain": [
       "(None, Counter({1: 2, 2: 16, 3: 20}))"
      ]
     },
     "execution_count": 82,
     "metadata": {},
     "output_type": "execute_result"
    }
   ],
   "source": [
    "x = np.arange(len(pg3.keys()))\n",
    "plt.bar(x, np.array(sorted(pg3.items(), key= lambda t: (t[0]), reverse=False))[:,1])\n",
    "plt.xticks(x, \n",
    "           ('Quite Stressful','A little stressful','Not at all'),\n",
    "           rotation=17)\n",
    "plt.title(\"How stressful was the experiment?\")\n",
    "# plt.xlabel(\"Value\")\n",
    "plt.ylabel(\"Count\")\n",
    "\n",
    "plt.show(), Counter(pd.to_numeric(exp_pgq[:,2]))"
   ]
  },
  {
   "cell_type": "code",
   "execution_count": 83,
   "metadata": {},
   "outputs": [
    {
     "name": "stdout",
     "output_type": "stream",
     "text": [
      "[1 2 3 4]\n"
     ]
    }
   ],
   "source": [
    "pg4 = Counter(exp_pgq[:,3])\n",
    "print(np.array(sorted(pg4.items(), key= lambda t: (t[0]), reverse=False))[:,0])"
   ]
  },
  {
   "cell_type": "code",
   "execution_count": 84,
   "metadata": {},
   "outputs": [
    {
     "data": {
      "image/png": "[encoded data removed]",
      "text/plain": [
       "<matplotlib.figure.Figure at 0x1957a6bd940>"
      ]
     },
     "metadata": {},
     "output_type": "display_data"
    },
    {
     "data": {
      "text/plain": [
       "(None, Counter({1: 2, 2: 6, 3: 20, 4: 10}))"
      ]
     },
     "execution_count": 84,
     "metadata": {},
     "output_type": "execute_result"
    }
   ],
   "source": [
    "x = np.arange(len(pg4.keys()))\n",
    "plt.bar(x, np.array(sorted(pg4.items(), key= lambda t: (t[0]), reverse=False))[:,1])\n",
    "plt.xticks(x, \n",
    "           ('Not at all','A little','Moderately','Very'),\n",
    "           rotation=17)\n",
    "plt.title(\"How important to do well in the card game?\")\n",
    "# plt.xlabel(\"Value\")\n",
    "plt.ylabel(\"Count\")\n",
    "\n",
    "plt.show(), Counter(pd.to_numeric(exp_pgq[:,3]))"
   ]
  },
  {
   "cell_type": "code",
   "execution_count": 85,
   "metadata": {},
   "outputs": [
    {
     "name": "stdout",
     "output_type": "stream",
     "text": [
      "[1 2 3 4]\n"
     ]
    }
   ],
   "source": [
    "pg5 = Counter(exp_pgq[:,4])\n",
    "print(np.array(sorted(pg5.items(), key= lambda t: (t[0]), reverse=False))[:,0])"
   ]
  },
  {
   "cell_type": "code",
   "execution_count": 86,
   "metadata": {
    "scrolled": true
   },
   "outputs": [
    {
     "data": {
      "image/png": "[encoded data removed]",
      "text/plain": [
       "<matplotlib.figure.Figure at 0x1957b981128>"
      ]
     },
     "metadata": {},
     "output_type": "display_data"
    },
    {
     "data": {
      "text/plain": [
       "(None, Counter({1: 1, 2: 6, 3: 11, 4: 20}))"
      ]
     },
     "execution_count": 86,
     "metadata": {},
     "output_type": "execute_result"
    }
   ],
   "source": [
    "x = np.arange(len(pg5.keys()))\n",
    "plt.bar(x, np.array(sorted(pg5.items(), key= lambda t: (t[0]), reverse=False))[:,1])\n",
    "plt.xticks(x, \n",
    "           ('Not at all','A little','Moderately','Very'),\n",
    "           rotation=17)\n",
    "plt.title(\"How important was it for you that the elderly residents are ok?\")\n",
    "# plt.xlabel(\"Value\")\n",
    "plt.ylabel(\"Count\")\n",
    "\n",
    "plt.show(), Counter(pd.to_numeric(exp_pgq[:,4]))"
   ]
  },
  {
   "cell_type": "code",
   "execution_count": 87,
   "metadata": {
    "scrolled": true
   },
   "outputs": [
    {
     "name": "stdout",
     "output_type": "stream",
     "text": [
      "[1 2 3]\n"
     ]
    }
   ],
   "source": [
    "pg6 = Counter(exp_pgq[:,5])\n",
    "print(np.array(sorted(pg6.items(), key= lambda t: (t[0]), reverse=False))[:,0])"
   ]
  },
  {
   "cell_type": "code",
   "execution_count": 88,
   "metadata": {},
   "outputs": [
    {
     "data": {
      "image/png": "[encoded data removed]",
      "text/plain": [
       "<matplotlib.figure.Figure at 0x1957bfe5048>"
      ]
     },
     "metadata": {},
     "output_type": "display_data"
    },
    {
     "data": {
      "text/plain": [
       "(None, Counter({1: 12, 2: 6, 3: 20}))"
      ]
     },
     "execution_count": 88,
     "metadata": {},
     "output_type": "execute_result"
    }
   ],
   "source": [
    "x = np.arange(len(pg6.keys()))\n",
    "plt.bar(x, np.array(sorted(pg6.items(), key= lambda t: (t[0]), reverse=False))[:,1])\n",
    "plt.xticks(x, \n",
    "           ('The game experience','Interim report','Both'),\n",
    "           rotation=0)\n",
    "plt.title(\"How did you determine the trust to monitoring system?\")\n",
    "# plt.xlabel(\"Value\")\n",
    "plt.ylabel(\"Count\")\n",
    "\n",
    "plt.show(), Counter(pd.to_numeric(exp_pgq[:,5]))"
   ]
  },
  {
   "cell_type": "code",
   "execution_count": 89,
   "metadata": {},
   "outputs": [
    {
     "name": "stdout",
     "output_type": "stream",
     "text": [
      "[1 2]\n"
     ]
    }
   ],
   "source": [
    "pg7 = Counter(exp_pgq[:,6])\n",
    "print(np.array(sorted(pg7.items(), key= lambda t: (t[0]), reverse=False))[:,0])"
   ]
  },
  {
   "cell_type": "code",
   "execution_count": 90,
   "metadata": {
    "scrolled": true
   },
   "outputs": [
    {
     "data": {
      "image/png": "[encoded data removed]",
      "text/plain": [
       "<matplotlib.figure.Figure at 0x1957bf5ecf8>"
      ]
     },
     "metadata": {},
     "output_type": "display_data"
    },
    {
     "data": {
      "text/plain": [
       "(None, Counter({1: 1, 2: 37}))"
      ]
     },
     "execution_count": 90,
     "metadata": {},
     "output_type": "execute_result"
    }
   ],
   "source": [
    "x = np.arange(len(pg7.keys()))\n",
    "plt.bar(x, np.array(sorted(pg7.items(), key= lambda t: (t[0]), reverse=False))[:,1])\n",
    "plt.xticks(x, \n",
    "           ('No','Yes'))\n",
    "plt.title(\"Was the tutorial video sufficiently helpful?\")\n",
    "# plt.xlabel(\"Value\")\n",
    "plt.ylabel(\"Count\")\n",
    "\n",
    "plt.show(), Counter(pd.to_numeric(exp_pgq[:,6]))"
   ]
  },
  {
   "cell_type": "code",
   "execution_count": null,
   "metadata": {
    "collapsed": true
   },
   "outputs": [],
   "source": []
  }
 ],
 "metadata": {
  "kernelspec": {
   "display_name": "Python 3",
   "language": "python",
   "name": "python3"
  },
  "language_info": {
   "codemirror_mode": {
    "name": "ipython",
    "version": 3
   },
   "file_extension": ".py",
   "mimetype": "text/x-python",
   "name": "python",
   "nbconvert_exporter": "python",
   "pygments_lexer": "ipython3",
   "version": "3.6.1"
  }
 },
 "nbformat": 4,
 "nbformat_minor": 2
}
