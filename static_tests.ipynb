{
 "cells": [
  {
   "cell_type": "code",
   "execution_count": 1,
   "metadata": {
    "collapsed": true
   },
   "outputs": [],
   "source": [
    "import pandas as pd\n",
    "import matplotlib.pyplot as plt\n",
    "import numpy as np\n",
    "import scipy.stats as sp\n",
    "import sklearn.preprocessing as sk\n",
    "from collections import Counter\n",
    "\n",
    "# from matplotlib.ticker import FuncFormatter\n",
    "%matplotlib inline"
   ]
  },
  {
   "cell_type": "code",
   "execution_count": 2,
   "metadata": {
    "collapsed": true
   },
   "outputs": [],
   "source": [
    "exp1_data = pd.read_csv(\"allTogetherSep.csv\")\n",
    "exp2_data = pd.read_csv(\"allTogetherOct.csv\")"
   ]
  },
  {
   "cell_type": "code",
   "execution_count": 3,
   "metadata": {
    "scrolled": true
   },
   "outputs": [
    {
     "data": {
      "text/html": [
       "<div>\n",
       "<style>\n",
       "    .dataframe thead tr:only-child th {\n",
       "        text-align: right;\n",
       "    }\n",
       "\n",
       "    .dataframe thead th {\n",
       "        text-align: left;\n",
       "    }\n",
       "\n",
       "    .dataframe tbody tr th {\n",
       "        vertical-align: top;\n",
       "    }\n",
       "</style>\n",
       "<table border=\"1\" class=\"dataframe\">\n",
       "  <thead>\n",
       "    <tr style=\"text-align: right;\">\n",
       "      <th></th>\n",
       "      <th>index</th>\n",
       "      <th>0</th>\n",
       "      <th>1</th>\n",
       "      <th>2</th>\n",
       "      <th>3</th>\n",
       "      <th>4</th>\n",
       "      <th>5</th>\n",
       "      <th>6</th>\n",
       "      <th>7</th>\n",
       "      <th>8</th>\n",
       "      <th>...</th>\n",
       "      <th>286</th>\n",
       "      <th>287</th>\n",
       "      <th>288</th>\n",
       "      <th>289</th>\n",
       "      <th>290</th>\n",
       "      <th>291</th>\n",
       "      <th>292</th>\n",
       "      <th>293</th>\n",
       "      <th>294</th>\n",
       "      <th>295</th>\n",
       "    </tr>\n",
       "  </thead>\n",
       "  <tbody>\n",
       "    <tr>\n",
       "      <th>0</th>\n",
       "      <td>Basic information</td>\n",
       "      <td>What is your gender?</td>\n",
       "      <td>Please indicate your age</td>\n",
       "      <td>Please indicate your ethnic background (optional)</td>\n",
       "      <td>What is your highest level of education?</td>\n",
       "      <td>How would you rate your technology expertise?</td>\n",
       "      <td>How do you feel about including technology in ...</td>\n",
       "      <td>How would you rate your experience with smart ...</td>\n",
       "      <td>Propensity Questions</td>\n",
       "      <td>I usually trust machines until there is a reas...</td>\n",
       "      <td>...</td>\n",
       "      <td>exp2-st2-sec2</td>\n",
       "      <td>#ignore an alert</td>\n",
       "      <td>exp1-st1-sec1</td>\n",
       "      <td>exp1-st1-sec2</td>\n",
       "      <td>exp1-st2-sec1</td>\n",
       "      <td>exp1-st2-sec2</td>\n",
       "      <td>exp2-st1-sec1</td>\n",
       "      <td>exp2-st1-sec2</td>\n",
       "      <td>exp2-st2-sec1</td>\n",
       "      <td>exp2-st2-sec2</td>\n",
       "    </tr>\n",
       "    <tr>\n",
       "      <th>1</th>\n",
       "      <td>1</td>\n",
       "      <td>2</td>\n",
       "      <td>1</td>\n",
       "      <td>7</td>\n",
       "      <td>4</td>\n",
       "      <td>2</td>\n",
       "      <td>0</td>\n",
       "      <td>3</td>\n",
       "      <td>NaN</td>\n",
       "      <td>3</td>\n",
       "      <td>...</td>\n",
       "      <td>17</td>\n",
       "      <td>NaN</td>\n",
       "      <td>9</td>\n",
       "      <td>11</td>\n",
       "      <td>13</td>\n",
       "      <td>1</td>\n",
       "      <td>0</td>\n",
       "      <td>0</td>\n",
       "      <td>0</td>\n",
       "      <td>0</td>\n",
       "    </tr>\n",
       "    <tr>\n",
       "      <th>2</th>\n",
       "      <td>2</td>\n",
       "      <td>1</td>\n",
       "      <td>1</td>\n",
       "      <td>4</td>\n",
       "      <td>4</td>\n",
       "      <td>2</td>\n",
       "      <td>1</td>\n",
       "      <td>2</td>\n",
       "      <td>NaN</td>\n",
       "      <td>4</td>\n",
       "      <td>...</td>\n",
       "      <td>17</td>\n",
       "      <td>NaN</td>\n",
       "      <td>0</td>\n",
       "      <td>0</td>\n",
       "      <td>1</td>\n",
       "      <td>0</td>\n",
       "      <td>0</td>\n",
       "      <td>0</td>\n",
       "      <td>0</td>\n",
       "      <td>0</td>\n",
       "    </tr>\n",
       "    <tr>\n",
       "      <th>3</th>\n",
       "      <td>3</td>\n",
       "      <td>2</td>\n",
       "      <td>1</td>\n",
       "      <td>7</td>\n",
       "      <td>4</td>\n",
       "      <td>2</td>\n",
       "      <td>1</td>\n",
       "      <td>2</td>\n",
       "      <td>NaN</td>\n",
       "      <td>4</td>\n",
       "      <td>...</td>\n",
       "      <td>16</td>\n",
       "      <td>NaN</td>\n",
       "      <td>0</td>\n",
       "      <td>0</td>\n",
       "      <td>0</td>\n",
       "      <td>0</td>\n",
       "      <td>0</td>\n",
       "      <td>0</td>\n",
       "      <td>0</td>\n",
       "      <td>0</td>\n",
       "    </tr>\n",
       "    <tr>\n",
       "      <th>4</th>\n",
       "      <td>4</td>\n",
       "      <td>2</td>\n",
       "      <td>1</td>\n",
       "      <td>4</td>\n",
       "      <td>4</td>\n",
       "      <td>3</td>\n",
       "      <td>1</td>\n",
       "      <td>2</td>\n",
       "      <td>NaN</td>\n",
       "      <td>4</td>\n",
       "      <td>...</td>\n",
       "      <td>15</td>\n",
       "      <td>NaN</td>\n",
       "      <td>1</td>\n",
       "      <td>0</td>\n",
       "      <td>0</td>\n",
       "      <td>0</td>\n",
       "      <td>0</td>\n",
       "      <td>0</td>\n",
       "      <td>0</td>\n",
       "      <td>1</td>\n",
       "    </tr>\n",
       "    <tr>\n",
       "      <th>5</th>\n",
       "      <td>5</td>\n",
       "      <td>2</td>\n",
       "      <td>1</td>\n",
       "      <td>7</td>\n",
       "      <td>4</td>\n",
       "      <td>2</td>\n",
       "      <td>1</td>\n",
       "      <td>2</td>\n",
       "      <td>NaN</td>\n",
       "      <td>4</td>\n",
       "      <td>...</td>\n",
       "      <td>2</td>\n",
       "      <td>NaN</td>\n",
       "      <td>7</td>\n",
       "      <td>9</td>\n",
       "      <td>8</td>\n",
       "      <td>14</td>\n",
       "      <td>5</td>\n",
       "      <td>10</td>\n",
       "      <td>15</td>\n",
       "      <td>15</td>\n",
       "    </tr>\n",
       "    <tr>\n",
       "      <th>6</th>\n",
       "      <td>6</td>\n",
       "      <td>2</td>\n",
       "      <td>1</td>\n",
       "      <td>7</td>\n",
       "      <td>3</td>\n",
       "      <td>2</td>\n",
       "      <td>0</td>\n",
       "      <td>2</td>\n",
       "      <td>NaN</td>\n",
       "      <td>5</td>\n",
       "      <td>...</td>\n",
       "      <td>5</td>\n",
       "      <td>NaN</td>\n",
       "      <td>0</td>\n",
       "      <td>0</td>\n",
       "      <td>3</td>\n",
       "      <td>9</td>\n",
       "      <td>6</td>\n",
       "      <td>7</td>\n",
       "      <td>7</td>\n",
       "      <td>8</td>\n",
       "    </tr>\n",
       "    <tr>\n",
       "      <th>7</th>\n",
       "      <td>7</td>\n",
       "      <td>1</td>\n",
       "      <td>1</td>\n",
       "      <td>4</td>\n",
       "      <td>4</td>\n",
       "      <td>2</td>\n",
       "      <td>1</td>\n",
       "      <td>1</td>\n",
       "      <td>NaN</td>\n",
       "      <td>4</td>\n",
       "      <td>...</td>\n",
       "      <td>6</td>\n",
       "      <td>NaN</td>\n",
       "      <td>4</td>\n",
       "      <td>2</td>\n",
       "      <td>5</td>\n",
       "      <td>2</td>\n",
       "      <td>0</td>\n",
       "      <td>1</td>\n",
       "      <td>0</td>\n",
       "      <td>9</td>\n",
       "    </tr>\n",
       "    <tr>\n",
       "      <th>8</th>\n",
       "      <td>9</td>\n",
       "      <td>1</td>\n",
       "      <td>1</td>\n",
       "      <td>4</td>\n",
       "      <td>2</td>\n",
       "      <td>2</td>\n",
       "      <td>1</td>\n",
       "      <td>2</td>\n",
       "      <td>NaN</td>\n",
       "      <td>4</td>\n",
       "      <td>...</td>\n",
       "      <td>17</td>\n",
       "      <td>NaN</td>\n",
       "      <td>5</td>\n",
       "      <td>0</td>\n",
       "      <td>4</td>\n",
       "      <td>1</td>\n",
       "      <td>1</td>\n",
       "      <td>0</td>\n",
       "      <td>0</td>\n",
       "      <td>0</td>\n",
       "    </tr>\n",
       "    <tr>\n",
       "      <th>9</th>\n",
       "      <td>10</td>\n",
       "      <td>1</td>\n",
       "      <td>1</td>\n",
       "      <td>1</td>\n",
       "      <td>5</td>\n",
       "      <td>2</td>\n",
       "      <td>0</td>\n",
       "      <td>1</td>\n",
       "      <td>NaN</td>\n",
       "      <td>5</td>\n",
       "      <td>...</td>\n",
       "      <td>9</td>\n",
       "      <td>NaN</td>\n",
       "      <td>8</td>\n",
       "      <td>11</td>\n",
       "      <td>13</td>\n",
       "      <td>16</td>\n",
       "      <td>11</td>\n",
       "      <td>7</td>\n",
       "      <td>9</td>\n",
       "      <td>8</td>\n",
       "    </tr>\n",
       "    <tr>\n",
       "      <th>10</th>\n",
       "      <td>11</td>\n",
       "      <td>2</td>\n",
       "      <td>1</td>\n",
       "      <td>7</td>\n",
       "      <td>3</td>\n",
       "      <td>2</td>\n",
       "      <td>1</td>\n",
       "      <td>2</td>\n",
       "      <td>NaN</td>\n",
       "      <td>4</td>\n",
       "      <td>...</td>\n",
       "      <td>14</td>\n",
       "      <td>NaN</td>\n",
       "      <td>5</td>\n",
       "      <td>0</td>\n",
       "      <td>0</td>\n",
       "      <td>1</td>\n",
       "      <td>0</td>\n",
       "      <td>0</td>\n",
       "      <td>0</td>\n",
       "      <td>0</td>\n",
       "    </tr>\n",
       "    <tr>\n",
       "      <th>11</th>\n",
       "      <td>12</td>\n",
       "      <td>1</td>\n",
       "      <td>1</td>\n",
       "      <td>4</td>\n",
       "      <td>2</td>\n",
       "      <td>3</td>\n",
       "      <td>1</td>\n",
       "      <td>1</td>\n",
       "      <td>NaN</td>\n",
       "      <td>4</td>\n",
       "      <td>...</td>\n",
       "      <td>17</td>\n",
       "      <td>NaN</td>\n",
       "      <td>0</td>\n",
       "      <td>0</td>\n",
       "      <td>0</td>\n",
       "      <td>0</td>\n",
       "      <td>0</td>\n",
       "      <td>0</td>\n",
       "      <td>0</td>\n",
       "      <td>0</td>\n",
       "    </tr>\n",
       "    <tr>\n",
       "      <th>12</th>\n",
       "      <td>13</td>\n",
       "      <td>2</td>\n",
       "      <td>1</td>\n",
       "      <td>3</td>\n",
       "      <td>2</td>\n",
       "      <td>3</td>\n",
       "      <td>1</td>\n",
       "      <td>3</td>\n",
       "      <td>NaN</td>\n",
       "      <td>5</td>\n",
       "      <td>...</td>\n",
       "      <td>16</td>\n",
       "      <td>NaN</td>\n",
       "      <td>4</td>\n",
       "      <td>3</td>\n",
       "      <td>5</td>\n",
       "      <td>11</td>\n",
       "      <td>2</td>\n",
       "      <td>2</td>\n",
       "      <td>1</td>\n",
       "      <td>1</td>\n",
       "    </tr>\n",
       "    <tr>\n",
       "      <th>13</th>\n",
       "      <td>15</td>\n",
       "      <td>1</td>\n",
       "      <td>1</td>\n",
       "      <td>4</td>\n",
       "      <td>2</td>\n",
       "      <td>3</td>\n",
       "      <td>1</td>\n",
       "      <td>2</td>\n",
       "      <td>NaN</td>\n",
       "      <td>4</td>\n",
       "      <td>...</td>\n",
       "      <td>17</td>\n",
       "      <td>NaN</td>\n",
       "      <td>4</td>\n",
       "      <td>4</td>\n",
       "      <td>1</td>\n",
       "      <td>0</td>\n",
       "      <td>1</td>\n",
       "      <td>0</td>\n",
       "      <td>0</td>\n",
       "      <td>0</td>\n",
       "    </tr>\n",
       "    <tr>\n",
       "      <th>14</th>\n",
       "      <td>16</td>\n",
       "      <td>1</td>\n",
       "      <td>1</td>\n",
       "      <td>8</td>\n",
       "      <td>4</td>\n",
       "      <td>2</td>\n",
       "      <td>1</td>\n",
       "      <td>2</td>\n",
       "      <td>NaN</td>\n",
       "      <td>4</td>\n",
       "      <td>...</td>\n",
       "      <td>10</td>\n",
       "      <td>NaN</td>\n",
       "      <td>0</td>\n",
       "      <td>0</td>\n",
       "      <td>0</td>\n",
       "      <td>0</td>\n",
       "      <td>0</td>\n",
       "      <td>0</td>\n",
       "      <td>0</td>\n",
       "      <td>0</td>\n",
       "    </tr>\n",
       "    <tr>\n",
       "      <th>15</th>\n",
       "      <td>18</td>\n",
       "      <td>1</td>\n",
       "      <td>1</td>\n",
       "      <td>8</td>\n",
       "      <td>3</td>\n",
       "      <td>2</td>\n",
       "      <td>1</td>\n",
       "      <td>1</td>\n",
       "      <td>NaN</td>\n",
       "      <td>3</td>\n",
       "      <td>...</td>\n",
       "      <td>16</td>\n",
       "      <td>NaN</td>\n",
       "      <td>4</td>\n",
       "      <td>0</td>\n",
       "      <td>1</td>\n",
       "      <td>0</td>\n",
       "      <td>0</td>\n",
       "      <td>1</td>\n",
       "      <td>0</td>\n",
       "      <td>0</td>\n",
       "    </tr>\n",
       "    <tr>\n",
       "      <th>16</th>\n",
       "      <td>19</td>\n",
       "      <td>2</td>\n",
       "      <td>1</td>\n",
       "      <td>4</td>\n",
       "      <td>4</td>\n",
       "      <td>2</td>\n",
       "      <td>0</td>\n",
       "      <td>2</td>\n",
       "      <td>NaN</td>\n",
       "      <td>4</td>\n",
       "      <td>...</td>\n",
       "      <td>14</td>\n",
       "      <td>NaN</td>\n",
       "      <td>0</td>\n",
       "      <td>1</td>\n",
       "      <td>0</td>\n",
       "      <td>0</td>\n",
       "      <td>0</td>\n",
       "      <td>0</td>\n",
       "      <td>0</td>\n",
       "      <td>0</td>\n",
       "    </tr>\n",
       "    <tr>\n",
       "      <th>17</th>\n",
       "      <td>20</td>\n",
       "      <td>1</td>\n",
       "      <td>1</td>\n",
       "      <td>7</td>\n",
       "      <td>4</td>\n",
       "      <td>3</td>\n",
       "      <td>1</td>\n",
       "      <td>3</td>\n",
       "      <td>NaN</td>\n",
       "      <td>4</td>\n",
       "      <td>...</td>\n",
       "      <td>15</td>\n",
       "      <td>NaN</td>\n",
       "      <td>10</td>\n",
       "      <td>7</td>\n",
       "      <td>9</td>\n",
       "      <td>11</td>\n",
       "      <td>3</td>\n",
       "      <td>3</td>\n",
       "      <td>5</td>\n",
       "      <td>2</td>\n",
       "    </tr>\n",
       "    <tr>\n",
       "      <th>18</th>\n",
       "      <td>21</td>\n",
       "      <td>2</td>\n",
       "      <td>1</td>\n",
       "      <td>7</td>\n",
       "      <td>2</td>\n",
       "      <td>2</td>\n",
       "      <td>1</td>\n",
       "      <td>2</td>\n",
       "      <td>NaN</td>\n",
       "      <td>3</td>\n",
       "      <td>...</td>\n",
       "      <td>17</td>\n",
       "      <td>NaN</td>\n",
       "      <td>0</td>\n",
       "      <td>0</td>\n",
       "      <td>0</td>\n",
       "      <td>0</td>\n",
       "      <td>0</td>\n",
       "      <td>0</td>\n",
       "      <td>0</td>\n",
       "      <td>0</td>\n",
       "    </tr>\n",
       "  </tbody>\n",
       "</table>\n",
       "<p>19 rows × 297 columns</p>\n",
       "</div>"
      ],
      "text/plain": [
       "                index                     0                         1  \\\n",
       "0   Basic information  What is your gender?  Please indicate your age   \n",
       "1                   1                     2                         1   \n",
       "2                   2                     1                         1   \n",
       "3                   3                     2                         1   \n",
       "4                   4                     2                         1   \n",
       "5                   5                     2                         1   \n",
       "6                   6                     2                         1   \n",
       "7                   7                     1                         1   \n",
       "8                   9                     1                         1   \n",
       "9                  10                     1                         1   \n",
       "10                 11                     2                         1   \n",
       "11                 12                     1                         1   \n",
       "12                 13                     2                         1   \n",
       "13                 15                     1                         1   \n",
       "14                 16                     1                         1   \n",
       "15                 18                     1                         1   \n",
       "16                 19                     2                         1   \n",
       "17                 20                     1                         1   \n",
       "18                 21                     2                         1   \n",
       "\n",
       "                                                    2  \\\n",
       "0   Please indicate your ethnic background (optional)   \n",
       "1                                                   7   \n",
       "2                                                   4   \n",
       "3                                                   7   \n",
       "4                                                   4   \n",
       "5                                                   7   \n",
       "6                                                   7   \n",
       "7                                                   4   \n",
       "8                                                   4   \n",
       "9                                                   1   \n",
       "10                                                  7   \n",
       "11                                                  4   \n",
       "12                                                  3   \n",
       "13                                                  4   \n",
       "14                                                  8   \n",
       "15                                                  8   \n",
       "16                                                  4   \n",
       "17                                                  7   \n",
       "18                                                  7   \n",
       "\n",
       "                                           3  \\\n",
       "0   What is your highest level of education?   \n",
       "1                                          4   \n",
       "2                                          4   \n",
       "3                                          4   \n",
       "4                                          4   \n",
       "5                                          4   \n",
       "6                                          3   \n",
       "7                                          4   \n",
       "8                                          2   \n",
       "9                                          5   \n",
       "10                                         3   \n",
       "11                                         2   \n",
       "12                                         2   \n",
       "13                                         2   \n",
       "14                                         4   \n",
       "15                                         3   \n",
       "16                                         4   \n",
       "17                                         4   \n",
       "18                                         2   \n",
       "\n",
       "                                                4  \\\n",
       "0   How would you rate your technology expertise?   \n",
       "1                                               2   \n",
       "2                                               2   \n",
       "3                                               2   \n",
       "4                                               3   \n",
       "5                                               2   \n",
       "6                                               2   \n",
       "7                                               2   \n",
       "8                                               2   \n",
       "9                                               2   \n",
       "10                                              2   \n",
       "11                                              3   \n",
       "12                                              3   \n",
       "13                                              3   \n",
       "14                                              2   \n",
       "15                                              2   \n",
       "16                                              2   \n",
       "17                                              3   \n",
       "18                                              2   \n",
       "\n",
       "                                                    5  \\\n",
       "0   How do you feel about including technology in ...   \n",
       "1                                                   0   \n",
       "2                                                   1   \n",
       "3                                                   1   \n",
       "4                                                   1   \n",
       "5                                                   1   \n",
       "6                                                   0   \n",
       "7                                                   1   \n",
       "8                                                   1   \n",
       "9                                                   0   \n",
       "10                                                  1   \n",
       "11                                                  1   \n",
       "12                                                  1   \n",
       "13                                                  1   \n",
       "14                                                  1   \n",
       "15                                                  1   \n",
       "16                                                  0   \n",
       "17                                                  1   \n",
       "18                                                  1   \n",
       "\n",
       "                                                    6                     7  \\\n",
       "0   How would you rate your experience with smart ...  Propensity Questions   \n",
       "1                                                   3                   NaN   \n",
       "2                                                   2                   NaN   \n",
       "3                                                   2                   NaN   \n",
       "4                                                   2                   NaN   \n",
       "5                                                   2                   NaN   \n",
       "6                                                   2                   NaN   \n",
       "7                                                   1                   NaN   \n",
       "8                                                   2                   NaN   \n",
       "9                                                   1                   NaN   \n",
       "10                                                  2                   NaN   \n",
       "11                                                  1                   NaN   \n",
       "12                                                  3                   NaN   \n",
       "13                                                  2                   NaN   \n",
       "14                                                  2                   NaN   \n",
       "15                                                  1                   NaN   \n",
       "16                                                  2                   NaN   \n",
       "17                                                  3                   NaN   \n",
       "18                                                  2                   NaN   \n",
       "\n",
       "                                                    8      ...        \\\n",
       "0   I usually trust machines until there is a reas...      ...         \n",
       "1                                                   3      ...         \n",
       "2                                                   4      ...         \n",
       "3                                                   4      ...         \n",
       "4                                                   4      ...         \n",
       "5                                                   4      ...         \n",
       "6                                                   5      ...         \n",
       "7                                                   4      ...         \n",
       "8                                                   4      ...         \n",
       "9                                                   5      ...         \n",
       "10                                                  4      ...         \n",
       "11                                                  4      ...         \n",
       "12                                                  5      ...         \n",
       "13                                                  4      ...         \n",
       "14                                                  4      ...         \n",
       "15                                                  3      ...         \n",
       "16                                                  4      ...         \n",
       "17                                                  4      ...         \n",
       "18                                                  3      ...         \n",
       "\n",
       "              286               287            288            289  \\\n",
       "0   exp2-st2-sec2  #ignore an alert  exp1-st1-sec1  exp1-st1-sec2   \n",
       "1              17               NaN              9             11   \n",
       "2              17               NaN              0              0   \n",
       "3              16               NaN              0              0   \n",
       "4              15               NaN              1              0   \n",
       "5               2               NaN              7              9   \n",
       "6               5               NaN              0              0   \n",
       "7               6               NaN              4              2   \n",
       "8              17               NaN              5              0   \n",
       "9               9               NaN              8             11   \n",
       "10             14               NaN              5              0   \n",
       "11             17               NaN              0              0   \n",
       "12             16               NaN              4              3   \n",
       "13             17               NaN              4              4   \n",
       "14             10               NaN              0              0   \n",
       "15             16               NaN              4              0   \n",
       "16             14               NaN              0              1   \n",
       "17             15               NaN             10              7   \n",
       "18             17               NaN              0              0   \n",
       "\n",
       "              290            291            292            293            294  \\\n",
       "0   exp1-st2-sec1  exp1-st2-sec2  exp2-st1-sec1  exp2-st1-sec2  exp2-st2-sec1   \n",
       "1              13              1              0              0              0   \n",
       "2               1              0              0              0              0   \n",
       "3               0              0              0              0              0   \n",
       "4               0              0              0              0              0   \n",
       "5               8             14              5             10             15   \n",
       "6               3              9              6              7              7   \n",
       "7               5              2              0              1              0   \n",
       "8               4              1              1              0              0   \n",
       "9              13             16             11              7              9   \n",
       "10              0              1              0              0              0   \n",
       "11              0              0              0              0              0   \n",
       "12              5             11              2              2              1   \n",
       "13              1              0              1              0              0   \n",
       "14              0              0              0              0              0   \n",
       "15              1              0              0              1              0   \n",
       "16              0              0              0              0              0   \n",
       "17              9             11              3              3              5   \n",
       "18              0              0              0              0              0   \n",
       "\n",
       "              295  \n",
       "0   exp2-st2-sec2  \n",
       "1               0  \n",
       "2               0  \n",
       "3               0  \n",
       "4               1  \n",
       "5              15  \n",
       "6               8  \n",
       "7               9  \n",
       "8               0  \n",
       "9               8  \n",
       "10              0  \n",
       "11              0  \n",
       "12              1  \n",
       "13              0  \n",
       "14              0  \n",
       "15              0  \n",
       "16              0  \n",
       "17              2  \n",
       "18              0  \n",
       "\n",
       "[19 rows x 297 columns]"
      ]
     },
     "execution_count": 3,
     "metadata": {},
     "output_type": "execute_result"
    }
   ],
   "source": [
    "exp1_data_T = pd.DataFrame.transpose(exp1_data).reset_index()\n",
    "exp1_data_T"
   ]
  },
  {
   "cell_type": "code",
   "execution_count": 4,
   "metadata": {
    "collapsed": true,
    "scrolled": false
   },
   "outputs": [],
   "source": [
    "exp2_data_T = pd.DataFrame.transpose(exp2_data).reset_index()\n",
    "#exp2_data_T"
   ]
  },
  {
   "cell_type": "code",
   "execution_count": 5,
   "metadata": {},
   "outputs": [
    {
     "data": {
      "text/plain": [
       "array([[2, 1, 7, 4, 2, 0, 3],\n",
       "       [1, 1, 4, 4, 2, 1, 2],\n",
       "       [2, 1, 7, 4, 2, 1, 2],\n",
       "       [2, 1, 4, 4, 3, 1, 2],\n",
       "       [2, 1, 7, 4, 2, 1, 2],\n",
       "       [2, 1, 7, 3, 2, 0, 2],\n",
       "       [1, 1, 4, 4, 2, 1, 1],\n",
       "       [1, 1, 4, 2, 2, 1, 2],\n",
       "       [1, 1, 1, 5, 2, 0, 1],\n",
       "       [2, 1, 7, 3, 2, 1, 2],\n",
       "       [1, 1, 4, 2, 3, 1, 1],\n",
       "       [2, 1, 3, 2, 3, 1, 3],\n",
       "       [1, 1, 4, 2, 3, 1, 2],\n",
       "       [1, 1, 8, 4, 2, 1, 2],\n",
       "       [1, 1, 8, 3, 2, 1, 1],\n",
       "       [2, 1, 4, 4, 2, 0, 2],\n",
       "       [1, 1, 7, 4, 3, 1, 3],\n",
       "       [2, 1, 7, 2, 2, 1, 2],\n",
       "       [2, 1, 4, 4, 2, 0, 1],\n",
       "       [1, 1, 7, 2, 2, 1, 2],\n",
       "       [2, 1, 7, 4, 2, 1, 1],\n",
       "       [2, 1, 7, 7, 2, 1, 1],\n",
       "       [2, 1, 4, 3, 2, 1, 1],\n",
       "       [1, 2, 6, 4, 3, 1, 1],\n",
       "       [2, 1, 8, 4, 2, 1, 2],\n",
       "       [2, 1, 8, 4, 2, 0, 1],\n",
       "       [2, 1, 8, 7, 2, 1, 2],\n",
       "       [2, 1, 8, 7, 2, 1, 1],\n",
       "       [2, 1, 4, 2, 3, 0, 1],\n",
       "       [2, 1, 7, 4, 2, 1, 1],\n",
       "       [1, 1, 3, 4, 2, 1, 2],\n",
       "       [2, 1, 3, 2, 3, 1, 2],\n",
       "       [2, 1, 7, 4, 2, 1, 2],\n",
       "       [1, 3, 3, 3, 2, 1, 1],\n",
       "       [1, 2, 1, 3, 3, 0, 2],\n",
       "       [2, 1, 7, 2, 3, 1, 3]])"
      ]
     },
     "execution_count": 5,
     "metadata": {},
     "output_type": "execute_result"
    }
   ],
   "source": [
    "exp1_demo = exp1_data_T.values[1:19,1:8]\n",
    "exp2_demo = exp2_data_T.values[1:19,1:8]\n",
    "#exp_demo = np.concatenate((exp1_demo,exp2_demo),axis=0)\n",
    "exp_demo = np.vstack((exp1_demo,exp2_demo)).astype(int)\n",
    "exp_demo"
   ]
  },
  {
   "cell_type": "code",
   "execution_count": 6,
   "metadata": {},
   "outputs": [
    {
     "name": "stdout",
     "output_type": "stream",
     "text": [
      "[1 2]\n"
     ]
    },
    {
     "data": {
      "image/png": "[encoded data removed]",
      "text/plain": [
       "<matplotlib.figure.Figure at 0x29b67737fd0>"
      ]
     },
     "metadata": {},
     "output_type": "display_data"
    },
    {
     "data": {
      "text/plain": [
       "(None, Counter({1: 14, 2: 22}))"
      ]
     },
     "execution_count": 6,
     "metadata": {},
     "output_type": "execute_result"
    }
   ],
   "source": [
    "gender = Counter(exp_demo[:,0])\n",
    "print(np.array(sorted(gender.items(), key= lambda t: (t[0]), reverse=False))[:,0])\n",
    "\n",
    "x = np.arange(len(gender.keys()))\n",
    "plt.bar(x, np.array(sorted(gender.items(), key= lambda t: (t[0]), reverse=False))[:,1])\n",
    "plt.xticks(x, \n",
    "           ('Male','Female'),\n",
    "           rotation=17)\n",
    "plt.title(\"Gender Distribution\")\n",
    "# plt.xlabel(\"Value\")\n",
    "plt.ylabel(\"Count\")\n",
    "\n",
    "plt.show(), Counter(pd.to_numeric(exp_demo[:,0]))"
   ]
  },
  {
   "cell_type": "code",
   "execution_count": 7,
   "metadata": {
    "scrolled": true
   },
   "outputs": [
    {
     "name": "stdout",
     "output_type": "stream",
     "text": [
      "[1 2 3]\n"
     ]
    },
    {
     "data": {
      "image/png": "[encoded data removed]",
      "text/plain": [
       "<matplotlib.figure.Figure at 0x29b67737320>"
      ]
     },
     "metadata": {},
     "output_type": "display_data"
    },
    {
     "data": {
      "text/plain": [
       "(None, Counter({1: 33, 2: 2, 3: 1}))"
      ]
     },
     "execution_count": 7,
     "metadata": {},
     "output_type": "execute_result"
    }
   ],
   "source": [
    "age = Counter(exp_demo[:,1])\n",
    "print(np.array(sorted(age.items(), key= lambda t: (t[0]), reverse=False))[:,0])\n",
    "\n",
    "x = np.arange(len(age.keys()))\n",
    "plt.bar(x, np.array(sorted(age.items(), key= lambda t: (t[0]), reverse=False))[:,1])\n",
    "plt.xticks(x, \n",
    "           ('Under 30','30-40','41-50'),\n",
    "           rotation=17)\n",
    "plt.title(\"Age Distribution\")\n",
    "# plt.xlabel(\"Value\")\n",
    "plt.ylabel(\"Count\")\n",
    "\n",
    "plt.show(), Counter(pd.to_numeric(exp_demo[:,1]))"
   ]
  },
  {
   "cell_type": "code",
   "execution_count": 8,
   "metadata": {},
   "outputs": [
    {
     "name": "stdout",
     "output_type": "stream",
     "text": [
      "[1 3 4 6 7 8]\n"
     ]
    },
    {
     "data": {
      "image/png": "[encoded data removed]",
      "text/plain": [
       "<matplotlib.figure.Figure at 0x29b67ba2630>"
      ]
     },
     "metadata": {},
     "output_type": "display_data"
    },
    {
     "data": {
      "text/plain": [
       "(None, Counter({1: 2, 3: 4, 4: 10, 6: 1, 7: 13, 8: 6}))"
      ]
     },
     "execution_count": 8,
     "metadata": {},
     "output_type": "execute_result"
    }
   ],
   "source": [
    "ethic = Counter(exp_demo[:,2])\n",
    "print(np.array(sorted(ethic.items(), key= lambda t: (t[0]), reverse=False))[:,0])\n",
    "\n",
    "x = np.arange(len(ethic.keys()))\n",
    "plt.bar(x, np.array(sorted(ethic.items(), key= lambda t: (t[0]), reverse=False))[:,1])\n",
    "plt.xticks(x, \n",
    "           ('African','Caucasia','East Asian','Hispanic or Latino','South Asian','Other'),\n",
    "           rotation=17)\n",
    "plt.title(\"Ethic Background\")\n",
    "# plt.xlabel(\"Value\")\n",
    "plt.ylabel(\"Count\")\n",
    "\n",
    "plt.show(), Counter(pd.to_numeric(exp_demo[:,2]))"
   ]
  },
  {
   "cell_type": "code",
   "execution_count": 9,
   "metadata": {
    "scrolled": true
   },
   "outputs": [
    {
     "name": "stdout",
     "output_type": "stream",
     "text": [
      "[2 3 4 5 7]\n"
     ]
    },
    {
     "data": {
      "image/png": "[encoded data removed]",
      "text/plain": [
       "<matplotlib.figure.Figure at 0x29b67b8fa20>"
      ]
     },
     "metadata": {},
     "output_type": "display_data"
    },
    {
     "data": {
      "text/plain": [
       "(None, Counter({2: 9, 3: 6, 4: 17, 5: 1, 7: 3}))"
      ]
     },
     "execution_count": 9,
     "metadata": {},
     "output_type": "execute_result"
    }
   ],
   "source": [
    "edu = Counter(exp_demo[:,3])\n",
    "print(np.array(sorted(edu.items(), key= lambda t: (t[0]), reverse=False))[:,0])\n",
    "\n",
    "x = np.arange(len(edu.keys()))\n",
    "plt.bar(x, np.array(sorted(edu.items(), key= lambda t: (t[0]), reverse=False))[:,1])\n",
    "plt.xticks(x, \n",
    "           ('Secondary','Short-cycle','Bachelor','Master/Honours','Other'),\n",
    "           rotation=17)\n",
    "plt.title(\"Education Background\")\n",
    "# plt.xlabel(\"Value\")\n",
    "plt.ylabel(\"Count\")\n",
    "\n",
    "plt.show(), Counter(pd.to_numeric(exp_demo[:,3]))"
   ]
  },
  {
   "cell_type": "code",
   "execution_count": 10,
   "metadata": {
    "scrolled": true
   },
   "outputs": [
    {
     "name": "stdout",
     "output_type": "stream",
     "text": [
      "[2 3]\n"
     ]
    },
    {
     "data": {
      "image/png": "[encoded data removed]",
      "text/plain": [
       "<matplotlib.figure.Figure at 0x29b68d3f358>"
      ]
     },
     "metadata": {},
     "output_type": "display_data"
    },
    {
     "data": {
      "text/plain": [
       "(None, Counter({2: 26, 3: 10}))"
      ]
     },
     "execution_count": 10,
     "metadata": {},
     "output_type": "execute_result"
    }
   ],
   "source": [
    "# technology expertise\n",
    "te = Counter(exp_demo[:,4])\n",
    "print(np.array(sorted(te.items(), key= lambda t: (t[0]), reverse=False))[:,0])\n",
    "\n",
    "x = np.arange(len(te.keys()))\n",
    "plt.bar(x, np.array(sorted(te.items(), key= lambda t: (t[0]), reverse=False))[:,1])\n",
    "plt.xticks(x, \n",
    "           ('Medium','High'),\n",
    "           rotation=17)\n",
    "plt.title(\"Technology Expertise\")\n",
    "# plt.xlabel(\"Value\")\n",
    "plt.ylabel(\"Count\")\n",
    "\n",
    "plt.show(), Counter(pd.to_numeric(exp_demo[:,4]))"
   ]
  },
  {
   "cell_type": "code",
   "execution_count": 11,
   "metadata": {
    "scrolled": false
   },
   "outputs": [
    {
     "name": "stdout",
     "output_type": "stream",
     "text": [
      "[0 1]\n"
     ]
    },
    {
     "data": {
      "image/png": "[encoded data removed]",
      "text/plain": [
       "<matplotlib.figure.Figure at 0x29b68d6f0b8>"
      ]
     },
     "metadata": {},
     "output_type": "display_data"
    },
    {
     "data": {
      "text/plain": [
       "(None, Counter({0: 8, 1: 28}))"
      ]
     },
     "execution_count": 11,
     "metadata": {},
     "output_type": "execute_result"
    }
   ],
   "source": [
    "# Feel about technology in your life...\n",
    "\n",
    "tl = Counter(exp_demo[:,5])\n",
    "print(np.array(sorted(tl.items(), key= lambda t: (t[0]), reverse=False))[:,0])\n",
    "\n",
    "x = np.arange(len(tl.keys()))\n",
    "plt.bar(x, np.array(sorted(tl.items(), key= lambda t: (t[0]), reverse=False))[:,1])\n",
    "plt.xticks(x, \n",
    "           ('Neutral','Like'),\n",
    "           rotation=17)\n",
    "plt.title(\"Feel about Technology\")\n",
    "plt.ylabel(\"Count\")\n",
    "\n",
    "plt.show(), Counter(pd.to_numeric(exp_demo[:,5]))"
   ]
  },
  {
   "cell_type": "markdown",
   "metadata": {},
   "source": [
    "# Introductions:\n",
    "There are 4 stages in each experiment: A,B,C,D; Each stage has two sections with identical system settings\n",
    "\n",
    "System settings in the experiment one: \n",
    "\n",
    "|Events| A-1 | A-2 | B-1 | B-2 | C-1 | C-2 | D-1 | D-2 |          \n",
    "| :- |-: |-: |-: |-: |-: |-: |-: |-: |\n",
    "|# True Alerts |12|12|14|14|12|12|14|14|\n",
    "|# False Alerts| 5| 5| 6| 6| 2| 2| 3| 3|\n",
    "|# Misses      | 3| 2| 0| 0| 2| 2| 0| 0|\n",
    "\n",
    "The experiment two has the same system settings to experiment 1, but in a different order, swapped AB and CD\n",
    "\n",
    "|Events| C-1 | C-2 | D-1 | D-2 | A-1 | A-2 | B-1 | B-2 |          \n",
    "| :- |-: |-: |-: |-: |-: |-: |-: |-: |\n",
    "|# True Alerts |12|12|14|14|12|12|14|14|\n",
    "|# False Alerts| 2| 2| 3| 3| 5| 5| 6| 6|\n",
    "|# Misses      | 2| 2| 0| 0| 3| 2| 0| 0|\n",
    "\n",
    "Each experiment has 18 validate results"
   ]
  },
  {
   "cell_type": "markdown",
   "metadata": {},
   "source": [
    "# Trust Scores"
   ]
  },
  {
   "cell_type": "code",
   "execution_count": 12,
   "metadata": {},
   "outputs": [
    {
     "data": {
      "text/plain": [
       "(36, 8)"
      ]
     },
     "execution_count": 12,
     "metadata": {},
     "output_type": "execute_result"
    }
   ],
   "source": [
    "exp1_trust = exp1_data_T.values[1:19,79:87].astype(int)\n",
    "exp2_trust = exp2_data_T.values[1:19,79:87].astype(int)\n",
    "#exp_demo = np.concatenate((exp1_demo,exp2_demo),axis=0)\n",
    "exp_trust = np.vstack((exp1_trust,np.hstack((exp2_trust[:,4:],exp2_trust[:,:4])))).astype(int)\n",
    "exp_trust.shape"
   ]
  },
  {
   "cell_type": "code",
   "execution_count": 13,
   "metadata": {},
   "outputs": [
    {
     "data": {
      "image/png": "[encoded data removed]",
      "text/plain": [
       "<matplotlib.figure.Figure at 0x29b67ca6d68>"
      ]
     },
     "metadata": {},
     "output_type": "display_data"
    }
   ],
   "source": [
    "# exp1 mean & std\n",
    "x = np.arange(1,9)\n",
    "y = np.array(exp1_trust.mean(axis=0))\n",
    "e = np.array(exp1_trust.std(axis=0))\n",
    "\n",
    "plt.errorbar(x, y, e, linestyle='None', marker='^')\n",
    "axes = plt.gca()\n",
    "axes.set_ylim([0,5])\n",
    "\n",
    "for xy in zip(x, y):\n",
    "    axes.annotate('%.4s' % xy[1], xy=xy, textcoords='data')\n",
    "\n",
    "plt.title(\"Trust Score: Experiment One\")\n",
    "plt.show()\n",
    "\n",
    "# exp1_trust_ms = np.vstack((exp1_trust.mean(axis=0),exp1_trust.std(axis=0)))"
   ]
  },
  {
   "cell_type": "code",
   "execution_count": 14,
   "metadata": {
    "scrolled": true
   },
   "outputs": [
    {
     "data": {
      "image/png": "[encoded data removed]",
      "text/plain": [
       "<matplotlib.figure.Figure at 0x29b68ee8cf8>"
      ]
     },
     "metadata": {},
     "output_type": "display_data"
    }
   ],
   "source": [
    "# exp2 mean & std\n",
    "x = np.arange(1,9)\n",
    "y = np.array(exp2_trust.mean(axis=0))\n",
    "e = np.array(exp2_trust.std(axis=0))\n",
    "\n",
    "plt.errorbar(x, y, e, linestyle='None', marker='^')\n",
    "axes = plt.gca()\n",
    "axes.set_ylim([0,5])\n",
    "\n",
    "for xy in zip(x, y):\n",
    "    axes.annotate('%.4s' % xy[1], xy=xy, textcoords='data')\n",
    "    \n",
    "plt.title(\"Trust Score: Experiment Two\")\n",
    "plt.show()\n",
    "\n",
    "# exp2_trust_ms = np.vstack((exp2_trust.mean(axis=0),exp2_trust.std(axis=0)))"
   ]
  },
  {
   "cell_type": "code",
   "execution_count": 15,
   "metadata": {},
   "outputs": [
    {
     "data": {
      "image/png": "[encoded data removed]",
      "text/plain": [
       "<matplotlib.figure.Figure at 0x29b68f7f908>"
      ]
     },
     "metadata": {},
     "output_type": "display_data"
    }
   ],
   "source": [
    "# overall mean & std\n",
    "x = np.arange(1,9)\n",
    "y = np.array(exp_trust.mean(axis=0))\n",
    "e = np.array(exp_trust.std(axis=0))\n",
    "\n",
    "plt.errorbar(x, y, e, linestyle='None', marker='^')\n",
    "axes = plt.gca()\n",
    "axes.set_ylim([0,5])\n",
    "\n",
    "for xy in zip(x, y):\n",
    "    axes.annotate('%.4s' % xy[1], xy=xy, textcoords='data')\n",
    "plt.title(\"Trust score: Both Experiments (in order of ABCD)\")\n",
    "plt.show()\n",
    "\n",
    "# np.vstack((exp_trust.mean(axis=0),exp_trust.std(axis=0)))"
   ]
  },
  {
   "cell_type": "markdown",
   "metadata": {},
   "source": [
    "## t-test between trust scores with high/low false alert rate"
   ]
  },
  {
   "cell_type": "code",
   "execution_count": 16,
   "metadata": {},
   "outputs": [
    {
     "name": "stdout",
     "output_type": "stream",
     "text": [
      "2.93055555556 0.822029819831\n",
      "3.43055555556 0.86323662407\n"
     ]
    },
    {
     "data": {
      "text/plain": [
       "Ttest_relResult(statistic=-4.0477914205916523, pvalue=0.00013007222241807212)"
      ]
     },
     "execution_count": 16,
     "metadata": {},
     "output_type": "execute_result"
    }
   ],
   "source": [
    "# within subject exp1: high/low false rate\n",
    "\n",
    "exp1_trust_hifalse = exp1_trust[:, np.r_[0:4]].T.ravel()\n",
    "exp1_trust_lofalse = exp1_trust[:, np.r_[4:8]].T.ravel()\n",
    "\n",
    "print(exp1_trust_hifalse.mean(),exp1_trust_hifalse.std())\n",
    "print(exp1_trust_lofalse.mean(),exp1_trust_lofalse.std())\n",
    "sp.ttest_rel(exp1_trust_hifalse,exp1_trust_lofalse)\n",
    "#sp.ttest_ind"
   ]
  },
  {
   "cell_type": "code",
   "execution_count": 17,
   "metadata": {},
   "outputs": [
    {
     "name": "stdout",
     "output_type": "stream",
     "text": [
      "2.76388888889 0.889648113263\n",
      "3.40277777778 0.907679003194\n"
     ]
    },
    {
     "data": {
      "text/plain": [
       "Ttest_relResult(statistic=-5.1520348307757482, pvalue=2.2173821767802421e-06)"
      ]
     },
     "execution_count": 17,
     "metadata": {},
     "output_type": "execute_result"
    }
   ],
   "source": [
    "# within subject exp2: high/low false rate\n",
    "\n",
    "exp2_trust_hifalse = exp2_trust[:, np.r_[4:8]].T.ravel()\n",
    "exp2_trust_lofalse = exp2_trust[:, np.r_[0:4]].T.ravel()\n",
    "\n",
    "print(exp2_trust_hifalse.mean(),exp2_trust_hifalse.std())\n",
    "print(exp2_trust_lofalse.mean(),exp2_trust_lofalse.std())\n",
    "sp.ttest_rel(exp2_trust_hifalse,exp2_trust_lofalse)\n",
    "#sp.ttest_ind"
   ]
  },
  {
   "cell_type": "code",
   "execution_count": 18,
   "metadata": {},
   "outputs": [
    {
     "name": "stdout",
     "output_type": "stream",
     "text": [
      "2.84722222222 0.860550893037\n",
      "3.41666666667 0.885845484395\n"
     ]
    },
    {
     "data": {
      "text/plain": [
       "Ttest_relResult(statistic=-6.5152126413466824, pvalue=1.1554987218964996e-09)"
      ]
     },
     "execution_count": 18,
     "metadata": {},
     "output_type": "execute_result"
    }
   ],
   "source": [
    "# within subject all exps: high/low false rate\n",
    "\n",
    "exp_trust_hifalse = exp_trust[:, np.r_[0:4]].T.ravel()\n",
    "exp_trust_lofalse = exp_trust[:, np.r_[4:8]].T.ravel()\n",
    "\n",
    "print(exp_trust_hifalse.mean(),exp_trust_hifalse.std())\n",
    "print(exp_trust_lofalse.mean(),exp_trust_lofalse.std())\n",
    "sp.ttest_rel(exp_trust_hifalse,exp_trust_lofalse)"
   ]
  },
  {
   "cell_type": "markdown",
   "metadata": {},
   "source": [
    "## t-test between trust scores with/without event missing rate"
   ]
  },
  {
   "cell_type": "code",
   "execution_count": 19,
   "metadata": {},
   "outputs": [
    {
     "name": "stdout",
     "output_type": "stream",
     "text": [
      "3.09722222222 0.868583172986\n",
      "3.26388888889 0.881807732186\n"
     ]
    },
    {
     "data": {
      "text/plain": [
       "Ttest_indResult(statistic=-1.1346070533226502, pvalue=0.25845164920781805)"
      ]
     },
     "execution_count": 19,
     "metadata": {},
     "output_type": "execute_result"
    }
   ],
   "source": [
    "# within subject exp1: with/without misses \n",
    "\n",
    "exp1_trust_misses = np.hstack((exp1_trust[:,0],exp1_trust[:,1],exp1_trust[:,4],exp1_trust[:,5]))\n",
    "exp1_trust_nomisses = np.hstack((exp1_trust[:,2],exp1_trust[:,3],exp1_trust[:,6],exp1_trust[:,7]))\n",
    "\n",
    "print(exp1_trust_misses.mean(),exp1_trust_misses.std())\n",
    "print(exp1_trust_nomisses.mean(),exp1_trust_nomisses.std())\n",
    "sp.ttest_ind(exp1_trust_misses,exp1_trust_nomisses)\n",
    "#sp.ttest_ind"
   ]
  },
  {
   "cell_type": "code",
   "execution_count": 20,
   "metadata": {},
   "outputs": [
    {
     "name": "stdout",
     "output_type": "stream",
     "text": [
      "2.91666666667 1.03749163317\n",
      "3.25 0.829156197589\n"
     ]
    },
    {
     "data": {
      "text/plain": [
       "Ttest_indResult(statistic=-2.1148146360572349, pvalue=0.036192406822886852)"
      ]
     },
     "execution_count": 20,
     "metadata": {},
     "output_type": "execute_result"
    }
   ],
   "source": [
    "# within subject exp2: with/without misses\n",
    "\n",
    "exp2_trust_misses = np.hstack((exp2_trust[:,0],exp2_trust[:,1],exp2_trust[:,4],exp2_trust[:,5]))\n",
    "exp2_trust_nomisses = np.hstack((exp2_trust[:,2],exp2_trust[:,3],exp2_trust[:,6],exp2_trust[:,7]))\n",
    "\n",
    "print(exp2_trust_misses.mean(),exp2_trust_misses.std())\n",
    "print(exp2_trust_nomisses.mean(),exp2_trust_nomisses.std())\n",
    "sp.ttest_ind(exp2_trust_misses,exp2_trust_nomisses)\n",
    "#sp.ttest_ind"
   ]
  },
  {
   "cell_type": "code",
   "execution_count": 21,
   "metadata": {},
   "outputs": [
    {
     "name": "stdout",
     "output_type": "stream",
     "text": [
      "3.00694444444 0.961021792574\n",
      "3.25694444444 0.855915103021\n"
     ]
    },
    {
     "data": {
      "text/plain": [
       "Ttest_indResult(statistic=-2.3230455611227021, pvalue=0.020878155001446051)"
      ]
     },
     "execution_count": 21,
     "metadata": {},
     "output_type": "execute_result"
    }
   ],
   "source": [
    "# within subject all exps: with/without misses\n",
    "\n",
    "exp_trust_misses = np.hstack((exp_trust[:,0],exp_trust[:,1],exp_trust[:,4],exp_trust[:,5]))\n",
    "exp_trust_nomisses = np.hstack((exp_trust[:,2],exp_trust[:,3],exp_trust[:,6],exp_trust[:,7]))\n",
    "\n",
    "print(exp_trust_misses.mean(),exp_trust_misses.std())\n",
    "print(exp_trust_nomisses.mean(),exp_trust_nomisses.std())\n",
    "sp.ttest_ind(exp_trust_misses,exp_trust_nomisses)\n",
    "#sp.ttest_ind"
   ]
  },
  {
   "cell_type": "markdown",
   "metadata": {},
   "source": [
    "## t-test trust scores between two sections in each stage"
   ]
  },
  {
   "cell_type": "code",
   "execution_count": 22,
   "metadata": {},
   "outputs": [
    {
     "name": "stdout",
     "output_type": "stream",
     "text": [
      "3.11111111111 0.898386757155\n",
      "3.15277777778 0.937782879133\n"
     ]
    },
    {
     "data": {
      "text/plain": [
       "Ttest_relResult(statistic=-0.67809075642939109, pvalue=0.49880991416457665)"
      ]
     },
     "execution_count": 22,
     "metadata": {},
     "output_type": "execute_result"
    }
   ],
   "source": [
    "# check if there is a training period\n",
    "\n",
    "exp_trust_sec1 = exp_trust[:, np.r_[0,2,4,6]].T.ravel()\n",
    "exp_trust_sec2 = exp_trust[:, np.r_[1,3,5,7]].T.ravel()\n",
    "\n",
    "print(exp_trust_sec1.mean(),exp_trust_sec1.std())\n",
    "print(exp_trust_sec2.mean(),exp_trust_sec2.std())\n",
    "sp.ttest_rel(exp_trust_sec1,exp_trust_sec2)"
   ]
  },
  {
   "cell_type": "markdown",
   "metadata": {},
   "source": [
    "# Number of Events Attended"
   ]
  },
  {
   "cell_type": "code",
   "execution_count": 23,
   "metadata": {},
   "outputs": [
    {
     "data": {
      "text/plain": [
       "(36, 8)"
      ]
     },
     "execution_count": 23,
     "metadata": {},
     "output_type": "execute_result"
    }
   ],
   "source": [
    "exp1_attend = exp1_data_T.values[1:19,124:132].astype(int)\n",
    "exp2_attend = exp2_data_T.values[1:19,124:132].astype(int)\n",
    "# exp_demo = np.concatenate((exp1_demo,exp2_demo),axis=0)\n",
    "exp_attend = np.vstack((exp1_attend,np.hstack((exp2_attend[:,4:],exp2_attend[:,:4])))).astype(int)\n",
    "exp_attend.shape"
   ]
  },
  {
   "cell_type": "code",
   "execution_count": 24,
   "metadata": {},
   "outputs": [
    {
     "data": {
      "image/png": "[encoded data removed]",
      "text/plain": [
       "<matplotlib.figure.Figure at 0x29b68fc1550>"
      ]
     },
     "metadata": {},
     "output_type": "display_data"
    },
    {
     "data": {
      "text/plain": [
       "array([[ 11.88888889,  11.88888889,  12.77777778,  11.83333333,\n",
       "         12.05555556,  12.44444444,  12.66666667,  13.16666667],\n",
       "       [  3.60383883,   3.47832796,   2.73973956,   4.04488703,\n",
       "          3.71890399,   2.75322482,   3.82970843,   2.21735578]])"
      ]
     },
     "execution_count": 24,
     "metadata": {},
     "output_type": "execute_result"
    }
   ],
   "source": [
    "# exp1 mean & std\n",
    "x = np.arange(8)\n",
    "y = np.array(exp1_attend.mean(axis=0))\n",
    "e = np.array(exp1_attend.std(axis=0))\n",
    "\n",
    "plt.errorbar(x, y, e, linestyle='None', marker='^')\n",
    "axes = plt.gca()\n",
    "axes.set_ylim([5,20])\n",
    "\n",
    "for xy in zip(x, y):\n",
    "    axes.annotate('%.4s' % xy[1], xy=xy, textcoords='data')\n",
    "plt.title(\"# Event Attended: Experiment One\")\n",
    "plt.show()\n",
    "\n",
    "# exp1 mean & std\n",
    "np.vstack((exp1_attend.mean(axis=0),exp1_attend.std(axis=0)))"
   ]
  },
  {
   "cell_type": "code",
   "execution_count": 25,
   "metadata": {
    "scrolled": true
   },
   "outputs": [
    {
     "data": {
      "image/png": "[encoded data removed]",
      "text/plain": [
       "<matplotlib.figure.Figure at 0x29b68e93588>"
      ]
     },
     "metadata": {},
     "output_type": "display_data"
    },
    {
     "data": {
      "text/plain": [
       "array([[ 13.        ,  13.16666667,  13.44444444,  13.88888889,\n",
       "         13.38888889,  12.72222222,  13.        ,  13.        ],\n",
       "       [  1.05409255,   1.34370962,   1.86256162,   0.31426968,\n",
       "          3.25130553,   3.33009102,   3.2829526 ,   3.21455025]])"
      ]
     },
     "execution_count": 25,
     "metadata": {},
     "output_type": "execute_result"
    }
   ],
   "source": [
    "# exp2 mean & std\n",
    "x = np.arange(8)\n",
    "y = np.array(exp2_attend.mean(axis=0))\n",
    "e = np.array(exp2_attend.std(axis=0))\n",
    "\n",
    "plt.errorbar(x, y, e, linestyle='None', marker='^')\n",
    "axes = plt.gca()\n",
    "axes.set_ylim([5,20])\n",
    "\n",
    "for xy in zip(x, y):\n",
    "    axes.annotate('%.4s' % xy[1], xy=xy, textcoords='data')\n",
    "plt.title(\"# Event Attended: Experiment Two\")   \n",
    "plt.show()\n",
    "\n",
    "# exp2 mean & std\n",
    "np.vstack((exp2_attend.mean(axis=0),exp2_attend.std(axis=0)))"
   ]
  },
  {
   "cell_type": "code",
   "execution_count": 26,
   "metadata": {},
   "outputs": [
    {
     "data": {
      "image/png": "[encoded data removed]",
      "text/plain": [
       "<matplotlib.figure.Figure at 0x29b6773c518>"
      ]
     },
     "metadata": {},
     "output_type": "display_data"
    },
    {
     "data": {
      "text/plain": [
       "array([[ 12.63888889,  12.30555556,  12.88888889,  12.41666667,\n",
       "         12.52777778,  12.80555556,  13.05555556,  13.52777778],\n",
       "       [  3.5130928 ,   3.43041498,   3.02561085,   3.69966215,\n",
       "          2.77374708,   2.19620183,   3.03630298,   1.62422821]])"
      ]
     },
     "execution_count": 26,
     "metadata": {},
     "output_type": "execute_result"
    }
   ],
   "source": [
    "# overall mean & std\n",
    "x = np.arange(8)\n",
    "y = np.array(exp_attend.mean(axis=0))\n",
    "e = np.array(exp_attend.std(axis=0))\n",
    "\n",
    "plt.errorbar(x, y, e, linestyle='None', marker='^')\n",
    "axes = plt.gca()\n",
    "axes.set_ylim([5,20])\n",
    "\n",
    "for xy in zip(x, y):\n",
    "    axes.annotate('%.4s' % xy[1], xy=xy, textcoords='data')\n",
    "plt.title(\"# Event Attended: Both Experiments (in order of ABCD)\")    \n",
    "plt.show()\n",
    "\n",
    "# overall mean & std\n",
    "np.vstack((exp_attend.mean(axis=0),exp_attend.std(axis=0)))"
   ]
  },
  {
   "cell_type": "markdown",
   "metadata": {},
   "source": [
    "## t-test between # attended events with high/low false alert rate"
   ]
  },
  {
   "cell_type": "code",
   "execution_count": 27,
   "metadata": {},
   "outputs": [
    {
     "name": "stdout",
     "output_type": "stream",
     "text": [
      "12.5625 3.43333080502\n",
      "12.9791666667 2.4957429032\n"
     ]
    },
    {
     "data": {
      "text/plain": [
       "Ttest_relResult(statistic=-1.5300953824851222, pvalue=0.12820226292161435)"
      ]
     },
     "execution_count": 27,
     "metadata": {},
     "output_type": "execute_result"
    }
   ],
   "source": [
    "# within population: high/low false rate\n",
    "\n",
    "exp_attend_hifalse = exp_attend[:, np.r_[0:4]].T.ravel()\n",
    "exp_attend_lofalse = exp_attend[:, np.r_[4:8]].T.ravel()\n",
    "\n",
    "print(exp_attend_hifalse.mean(),exp_attend_hifalse.std())\n",
    "print(exp_attend_lofalse.mean(),exp_attend_lofalse.std())\n",
    "sp.ttest_rel(exp_attend_hifalse,exp_attend_lofalse)\n",
    "#sp.ttest_ind"
   ]
  },
  {
   "cell_type": "markdown",
   "metadata": {},
   "source": [
    "## t-test between # attended events with/without missing rate"
   ]
  },
  {
   "cell_type": "code",
   "execution_count": 28,
   "metadata": {},
   "outputs": [
    {
     "name": "stdout",
     "output_type": "stream",
     "text": [
      "12.5694444444 3.031438918\n",
      "12.9722222222 2.97196260548\n"
     ]
    },
    {
     "data": {
      "text/plain": [
       "Ttest_relResult(statistic=-2.5831669485758395, pvalue=0.010793090004706992)"
      ]
     },
     "execution_count": 28,
     "metadata": {},
     "output_type": "execute_result"
    }
   ],
   "source": [
    "# within population with/without misses\n",
    "\n",
    "exp_attend_misses = np.hstack((exp_attend[:,0],exp_attend[:,1],exp_attend[:,4],exp_attend[:,5]))\n",
    "exp_attend_nomisses = np.hstack((exp_attend[:,2],exp_attend[:,3],exp_attend[:,6],exp_attend[:,7]))\n",
    "\n",
    "print(exp_attend_misses.mean(),exp_attend_misses.std())\n",
    "print(exp_attend_nomisses.mean(),exp_attend_nomisses.std())\n",
    "sp.ttest_rel(exp_attend_misses,exp_attend_nomisses)\n",
    "#sp.ttest_ind"
   ]
  },
  {
   "cell_type": "markdown",
   "metadata": {},
   "source": [
    "## t-test: # attended events between two sections in each stage"
   ]
  },
  {
   "cell_type": "code",
   "execution_count": 29,
   "metadata": {},
   "outputs": [
    {
     "name": "stdout",
     "output_type": "stream",
     "text": [
      "12.7777777778 3.10564996875\n",
      "12.7638888889 2.90828823057\n"
     ]
    },
    {
     "data": {
      "text/plain": [
       "Ttest_relResult(statistic=0.071919061663337627, pvalue=0.94276680988805794)"
      ]
     },
     "execution_count": 29,
     "metadata": {},
     "output_type": "execute_result"
    }
   ],
   "source": [
    "# check if there is a training period\n",
    "\n",
    "exp_attend_sec1 = exp_attend[:, np.r_[0,2,4,6]].T.ravel()\n",
    "exp_attend_sec2 = exp_attend[:, np.r_[1,3,5,7]].T.ravel()\n",
    "\n",
    "print(exp_attend_sec1.mean(),exp_attend_sec1.std())\n",
    "print(exp_attend_sec2.mean(),exp_attend_sec2.std())\n",
    "sp.ttest_rel(exp_attend_sec1,exp_attend_sec2)"
   ]
  },
  {
   "cell_type": "markdown",
   "metadata": {},
   "source": [
    "## Correlation between # Attended Events vs Trust Scores"
   ]
  },
  {
   "cell_type": "code",
   "execution_count": 30,
   "metadata": {},
   "outputs": [
    {
     "data": {
      "text/plain": [
       "(0.053661374778265387, 0.36421793055144225)"
      ]
     },
     "execution_count": 30,
     "metadata": {},
     "output_type": "execute_result"
    }
   ],
   "source": [
    "# pearson correlation\n",
    "sp.pearsonr(exp_trust.T.ravel(), exp_attend.T.ravel())"
   ]
  },
  {
   "cell_type": "code",
   "execution_count": 31,
   "metadata": {},
   "outputs": [
    {
     "data": {
      "text/plain": [
       "SpearmanrResult(correlation=0.052956208006881361, pvalue=0.37056437273454901)"
      ]
     },
     "execution_count": 31,
     "metadata": {},
     "output_type": "execute_result"
    }
   ],
   "source": [
    "# spearman correlation\n",
    "sp.spearmanr(exp_trust.T.ravel(), exp_attend.T.ravel())"
   ]
  },
  {
   "cell_type": "markdown",
   "metadata": {},
   "source": [
    "## Correlation between # Attended False Alerts vs Trust Scores"
   ]
  },
  {
   "cell_type": "code",
   "execution_count": 32,
   "metadata": {},
   "outputs": [
    {
     "data": {
      "text/plain": [
       "(-0.22259635213489382, 0.00013949885037661824)"
      ]
     },
     "execution_count": 32,
     "metadata": {},
     "output_type": "execute_result"
    }
   ],
   "source": [
    "exp1_attendf = exp1_data_T.values[1:19,214:222].astype(int)\n",
    "exp2_attendf = exp2_data_T.values[1:19,214:222].astype(int)\n",
    "# exp_demo = np.concatenate((exp1_demo,exp2_demo),axis=0)\n",
    "exp_attendf = np.vstack((exp1_attendf,np.hstack((exp2_attendf[:,4:],exp2_attendf[:,:4])))).astype(int)\n",
    "\n",
    "sp.pearsonr(exp_trust.T.ravel(), exp_attendf.T.ravel())"
   ]
  },
  {
   "cell_type": "code",
   "execution_count": 33,
   "metadata": {},
   "outputs": [
    {
     "data": {
      "text/plain": [
       "SpearmanrResult(correlation=-0.22350430328920187, pvalue=0.00013077412033926137)"
      ]
     },
     "execution_count": 33,
     "metadata": {},
     "output_type": "execute_result"
    }
   ],
   "source": [
    "exp1_attendf = exp1_data_T.values[1:19,214:222].astype(int)\n",
    "exp2_attendf = exp2_data_T.values[1:19,214:222].astype(int)\n",
    "# exp_demo = np.concatenate((exp1_demo,exp2_demo),axis=0)\n",
    "exp_attendf = np.vstack((exp1_attendf,np.hstack((exp2_attendf[:,4:],exp2_attendf[:,:4])))).astype(int)\n",
    "\n",
    "sp.spearmanr(exp_trust.T.ravel(), exp_attendf.T.ravel())"
   ]
  },
  {
   "cell_type": "markdown",
   "metadata": {},
   "source": [
    "# Number of Alerts Attended"
   ]
  },
  {
   "cell_type": "code",
   "execution_count": 34,
   "metadata": {
    "scrolled": true
   },
   "outputs": [
    {
     "data": {
      "text/plain": [
       "(36, 8)"
      ]
     },
     "execution_count": 34,
     "metadata": {},
     "output_type": "execute_result"
    }
   ],
   "source": [
    "exp1_attend_alert = exp1_data_T.values[1:19,280:288].astype(int)\n",
    "exp2_attend_alert = exp2_data_T.values[1:19,280:288].astype(int)\n",
    "# exp_demo = np.concatenate((exp1_demo,exp2_demo),axis=0)\n",
    "exp_attend_alert = np.vstack((exp1_attend_alert,np.hstack((exp2_attend_alert[:,4:],exp2_attend_alert[:,:4])))).astype(int)\n",
    "exp_attend_alert.shape"
   ]
  },
  {
   "cell_type": "code",
   "execution_count": 35,
   "metadata": {
    "scrolled": true
   },
   "outputs": [
    {
     "data": {
      "image/png": "[encoded data removed]",
      "text/plain": [
       "<matplotlib.figure.Figure at 0x29b67c11400>"
      ]
     },
     "metadata": {},
     "output_type": "display_data"
    },
    {
     "data": {
      "text/plain": [
       "array([[ 12.72222222,  13.22222222,  14.33333333,  12.05555556,\n",
       "         10.5       ,  10.27777778,  13.16666667,  13.33333333],\n",
       "       [  3.8987969 ,   4.21051007,   4.8189441 ,   6.4676307 ,\n",
       "          3.81881308,   4.13394559,   5.38774329,   4.65474668]])"
      ]
     },
     "execution_count": 35,
     "metadata": {},
     "output_type": "execute_result"
    }
   ],
   "source": [
    "# exp1 mean & std\n",
    "x = np.arange(8)\n",
    "y = np.array(exp1_attend_alert.mean(axis=0))\n",
    "e = np.array(exp1_attend_alert.std(axis=0))\n",
    "\n",
    "plt.errorbar(x, y, e, linestyle='None', marker='^')\n",
    "axes = plt.gca()\n",
    "axes.set_ylim([5,20])\n",
    "\n",
    "for xy in zip(x, y):\n",
    "    axes.annotate('%.4s' % xy[1], xy=xy, textcoords='data')\n",
    "plt.title(\"# Event Attended: Experiment One\")\n",
    "plt.show()\n",
    "\n",
    "# exp1 mean & std\n",
    "np.vstack((exp1_attend_alert.mean(axis=0),exp1_attend_alert.std(axis=0)))"
   ]
  },
  {
   "cell_type": "code",
   "execution_count": 36,
   "metadata": {
    "scrolled": true
   },
   "outputs": [
    {
     "data": {
      "image/png": "[encoded data removed]",
      "text/plain": [
       "<matplotlib.figure.Figure at 0x29b68f94e80>"
      ]
     },
     "metadata": {},
     "output_type": "display_data"
    },
    {
     "data": {
      "text/plain": [
       "array([[ 12.55555556,  12.77777778,  15.22222222,  15.5       ,\n",
       "         14.38888889,  14.11111111,  16.77777778,  16.66666667],\n",
       "       [  1.70692128,   2.32272722,   3.85220796,   2.38630351,\n",
       "          4.66831981,   4.3319086 ,   5.71115434,   6.164414  ]])"
      ]
     },
     "execution_count": 36,
     "metadata": {},
     "output_type": "execute_result"
    }
   ],
   "source": [
    "# exp2 mean & std\n",
    "x = np.arange(8)\n",
    "y = np.array(exp2_attend_alert.mean(axis=0))\n",
    "e = np.array(exp2_attend_alert.std(axis=0))\n",
    "\n",
    "plt.errorbar(x, y, e, linestyle='None', marker='^')\n",
    "axes = plt.gca()\n",
    "# axes.set_ylim([5,20])\n",
    "\n",
    "for xy in zip(x, y):\n",
    "    axes.annotate('%.4s' % xy[1], xy=xy, textcoords='data')\n",
    "plt.title(\"# Event Attended: Experiment Two\")   \n",
    "plt.show()\n",
    "\n",
    "# exp2 mean & std\n",
    "np.vstack((exp2_attend_alert.mean(axis=0),exp2_attend_alert.std(axis=0)))"
   ]
  },
  {
   "cell_type": "code",
   "execution_count": 37,
   "metadata": {},
   "outputs": [
    {
     "data": {
      "image/png": "[encoded data removed]",
      "text/plain": [
       "<matplotlib.figure.Figure at 0x29b68ea2080>"
      ]
     },
     "metadata": {},
     "output_type": "display_data"
    },
    {
     "data": {
      "text/plain": [
       "array([[ 13.55555556,  13.66666667,  15.55555556,  14.36111111,\n",
       "         11.52777778,  11.52777778,  14.19444444,  14.41666667],\n",
       "       [  4.38079422,   4.29469958,   5.42342883,   6.72537805,\n",
       "          3.13125916,   3.57837728,   4.79478562,   3.85411036]])"
      ]
     },
     "execution_count": 37,
     "metadata": {},
     "output_type": "execute_result"
    }
   ],
   "source": [
    "# overall mean & std\n",
    "x = np.arange(8)\n",
    "y = np.array(exp_attend_alert.mean(axis=0))\n",
    "e = np.array(exp_attend_alert.std(axis=0))\n",
    "\n",
    "plt.errorbar(x, y, e, linestyle='None', marker='^')\n",
    "axes = plt.gca()\n",
    "# axes.set_ylim([5,20])\n",
    "\n",
    "for xy in zip(x, y):\n",
    "    axes.annotate('%.4s' % xy[1], xy=xy, textcoords='data')\n",
    "plt.title(\"# Event Attended: Both Experiments (in order of ABCD)\")    \n",
    "plt.show()\n",
    "\n",
    "# overall mean & std\n",
    "np.vstack((exp_attend_alert.mean(axis=0),exp_attend_alert.std(axis=0)))"
   ]
  },
  {
   "cell_type": "markdown",
   "metadata": {},
   "source": [
    "## t-test: # attended alerts between two sections in each stage"
   ]
  },
  {
   "cell_type": "code",
   "execution_count": 38,
   "metadata": {},
   "outputs": [
    {
     "name": "stdout",
     "output_type": "stream",
     "text": [
      "13.7083333333 4.7388392273\n",
      "13.4930555556 4.92019157229\n"
     ]
    },
    {
     "data": {
      "text/plain": [
       "Ttest_relResult(statistic=0.72525504391471718, pvalue=0.46948073696119552)"
      ]
     },
     "execution_count": 38,
     "metadata": {},
     "output_type": "execute_result"
    }
   ],
   "source": [
    "# check if there is a training period\n",
    "\n",
    "exp_attend_alert_sec1 = exp_attend_alert[:, np.r_[0,2,4,6]].T.ravel()\n",
    "exp_attend_alert_sec2 = exp_attend_alert[:, np.r_[1,3,5,7]].T.ravel()\n",
    "\n",
    "print(exp_attend_alert_sec1.mean(),exp_attend_alert_sec1.std())\n",
    "print(exp_attend_alert_sec2.mean(),exp_attend_alert_sec2.std())\n",
    "sp.ttest_rel(exp_attend_alert_sec1,exp_attend_alert_sec2)"
   ]
  },
  {
   "cell_type": "markdown",
   "metadata": {},
   "source": [
    "## Correlation between # Attended Alerts(proportion) vs Trust Scores"
   ]
  },
  {
   "cell_type": "code",
   "execution_count": 39,
   "metadata": {},
   "outputs": [
    {
     "data": {
      "text/plain": [
       "(0.070672757619135856, 0.23183861436697326)"
      ]
     },
     "execution_count": 39,
     "metadata": {},
     "output_type": "execute_result"
    }
   ],
   "source": [
    "# pearson correlation\n",
    "sp.pearsonr(exp_trust.T.ravel(), (exp_attend_alert/np.array([17,17,20,20,14,14,17,17])).T.ravel())"
   ]
  },
  {
   "cell_type": "code",
   "execution_count": 40,
   "metadata": {},
   "outputs": [
    {
     "data": {
      "text/plain": [
       "SpearmanrResult(correlation=0.096989902058661231, pvalue=0.10044710543102857)"
      ]
     },
     "execution_count": 40,
     "metadata": {},
     "output_type": "execute_result"
    }
   ],
   "source": [
    "# spearman correlation\n",
    "sp.spearmanr(exp_trust.T.ravel(), (exp_attend_alert/np.array([17,17,20,20,14,14,17,17])).T.ravel())"
   ]
  },
  {
   "cell_type": "markdown",
   "metadata": {},
   "source": [
    "# Number of Checks Clicked"
   ]
  },
  {
   "cell_type": "code",
   "execution_count": 41,
   "metadata": {
    "scrolled": true
   },
   "outputs": [
    {
     "data": {
      "text/plain": [
       "array([[ 0,  1,  3,  1,  7,  7,  5,  3],\n",
       "       [ 1, 10,  7,  3,  6,  6,  3,  3],\n",
       "       [10, 11,  9,  7,  8,  7,  8,  5],\n",
       "       [ 1,  4,  5,  6,  6,  5,  4,  4],\n",
       "       [14, 14,  9, 14, 10, 15, 16, 17],\n",
       "       [ 0,  5,  4,  6,  5,  5,  5,  5],\n",
       "       [ 0,  0,  0,  0,  0,  0,  0,  0],\n",
       "       [ 0,  6,  6,  2,  5,  1,  4,  3],\n",
       "       [ 8,  2,  2,  2,  3,  1,  0,  0],\n",
       "       [ 2,  1,  1,  1,  3,  2,  0,  3],\n",
       "       [ 5,  8,  5,  1,  5,  6,  4,  4],\n",
       "       [ 3,  0,  3,  1,  0,  0,  2,  1],\n",
       "       [10,  3,  6,  7,  6,  3,  5,  2],\n",
       "       [ 9, 13, 16,  7,  8,  9,  5,  6],\n",
       "       [ 0,  0,  8,  5,  1,  2,  0,  0],\n",
       "       [ 2,  4,  6, 13,  6, 16,  8,  5],\n",
       "       [ 0,  2,  0,  0,  4,  9,  2,  8],\n",
       "       [ 0,  2,  2,  2,  1,  2,  3,  2],\n",
       "       [ 4,  7,  2,  3,  6,  5,  7,  5],\n",
       "       [ 1,  0,  0,  2,  0,  0,  2,  1],\n",
       "       [ 0,  0,  0,  0,  1,  0,  0,  0],\n",
       "       [ 2,  4,  5,  4,  1,  2,  2,  2],\n",
       "       [ 5,  6,  3,  4,  4,  5,  6,  4],\n",
       "       [ 0,  2,  2,  2,  1,  0,  1,  1],\n",
       "       [ 1, 10,  4,  4,  1,  1,  1,  1],\n",
       "       [16, 11, 16, 19, 10, 14, 18, 12],\n",
       "       [ 7,  5,  7, 12,  2,  9,  3,  3],\n",
       "       [ 6,  7, 10, 11, 12, 10,  7,  5],\n",
       "       [ 0,  8,  3,  2, 11,  8,  5,  3],\n",
       "       [ 0,  0,  0,  0,  4,  0,  0,  0],\n",
       "       [ 7,  6,  3,  1,  8,  6,  5,  2],\n",
       "       [ 2,  3,  4,  3,  2,  2,  3,  3],\n",
       "       [ 5,  5,  3,  4, 12,  9,  8,  5],\n",
       "       [ 8,  8,  4,  5,  0,  8, 11, 10],\n",
       "       [ 5,  5,  9,  4,  6,  7,  5,  5],\n",
       "       [ 0,  0,  0,  0, 13,  2,  0,  0]])"
      ]
     },
     "execution_count": 41,
     "metadata": {},
     "output_type": "execute_result"
    }
   ],
   "source": [
    "exp1_check = exp1_data_T.values[1:19,253:261].astype(int)\n",
    "exp2_check = exp2_data_T.values[1:19,253:261].astype(int)\n",
    "# exp_demo = np.concatenate((exp1_demo,exp2_demo),axis=0)\n",
    "exp_check = np.vstack((exp1_check,np.hstack((exp2_check[:,4:],exp2_check[:,:4])))).astype(int)\n",
    "exp_check.shape"
   ]
  },
  {
   "cell_type": "code",
   "execution_count": 42,
   "metadata": {
    "scrolled": true
   },
   "outputs": [
    {
     "data": {
      "image/png": "[encoded data removed]",
      "text/plain": [
       "<matplotlib.figure.Figure at 0x29b69074e10>"
      ]
     },
     "metadata": {},
     "output_type": "display_data"
    },
    {
     "data": {
      "text/plain": [
       "array([[ 3.61111111,  4.77777778,  5.11111111,  4.33333333,  4.66666667,\n",
       "         5.33333333,  4.11111111,  3.94444444],\n",
       "       [ 4.41133501,  4.4416658 ,  3.81355607,  4.05517502,  2.78886676,\n",
       "         4.55826478,  3.75483228,  3.80748126]])"
      ]
     },
     "execution_count": 42,
     "metadata": {},
     "output_type": "execute_result"
    }
   ],
   "source": [
    "# exp1 mean & std\n",
    "x = np.arange(8)\n",
    "y = np.array(exp1_check.mean(axis=0))\n",
    "e = np.array(exp1_check.std(axis=0))\n",
    "\n",
    "plt.errorbar(x, y, e, linestyle='None', marker='^')\n",
    "axes = plt.gca()\n",
    "axes.set_ylim([5,20])\n",
    "\n",
    "for xy in zip(x, y):\n",
    "    axes.annotate('%.4s' % xy[1], xy=xy, textcoords='data')\n",
    "plt.title(\"# Event Attended: Experiment One\")\n",
    "plt.show()\n",
    "\n",
    "# exp1 mean & std\n",
    "np.vstack((exp1_check.mean(axis=0),exp1_check.std(axis=0)))"
   ]
  },
  {
   "cell_type": "code",
   "execution_count": 43,
   "metadata": {
    "scrolled": true
   },
   "outputs": [
    {
     "data": {
      "image/png": "[encoded data removed]",
      "text/plain": [
       "<matplotlib.figure.Figure at 0x29b67b7e320>"
      ]
     },
     "metadata": {},
     "output_type": "display_data"
    },
    {
     "data": {
      "text/plain": [
       "array([[ 5.22222222,  4.88888889,  4.66666667,  3.44444444,  3.83333333,\n",
       "         4.83333333,  4.16666667,  4.44444444],\n",
       "       [ 4.51608921,  4.10810701,  4.43471157,  3.20108006,  4.0173236 ,\n",
       "         3.35410197,  4.0173236 ,  4.75186773]])"
      ]
     },
     "execution_count": 43,
     "metadata": {},
     "output_type": "execute_result"
    }
   ],
   "source": [
    "# exp2 mean & std\n",
    "x = np.arange(8)\n",
    "y = np.array(exp2_check.mean(axis=0))\n",
    "e = np.array(exp2_check.std(axis=0))\n",
    "\n",
    "plt.errorbar(x, y, e, linestyle='None', marker='^')\n",
    "axes = plt.gca()\n",
    "# axes.set_ylim([5,20])\n",
    "\n",
    "for xy in zip(x, y):\n",
    "    axes.annotate('%.4s' % xy[1], xy=xy, textcoords='data')\n",
    "plt.title(\"# Event Attended: Experiment Two\")   \n",
    "plt.show()\n",
    "\n",
    "# exp2 mean & std\n",
    "np.vstack((exp2_check.mean(axis=0),exp2_check.std(axis=0)))"
   ]
  },
  {
   "cell_type": "code",
   "execution_count": 44,
   "metadata": {},
   "outputs": [
    {
     "data": {
      "image/png": "[encoded data removed]",
      "text/plain": [
       "<matplotlib.figure.Figure at 0x29b678accf8>"
      ]
     },
     "metadata": {},
     "output_type": "display_data"
    },
    {
     "data": {
      "text/plain": [
       "array([[ 3.72222222,  4.80555556,  4.63888889,  4.38888889,  4.94444444,\n",
       "         5.11111111,  4.38888889,  3.69444444],\n",
       "       [ 4.22039434,  3.93572981,  3.94512905,  4.41762743,  3.76345323,\n",
       "         4.3447144 ,  4.11823707,  3.52624639]])"
      ]
     },
     "execution_count": 44,
     "metadata": {},
     "output_type": "execute_result"
    }
   ],
   "source": [
    "# overall mean & std\n",
    "x = np.arange(8)\n",
    "y = np.array(exp_check.mean(axis=0))\n",
    "e = np.array(exp_check.std(axis=0))\n",
    "\n",
    "plt.errorbar(x, y, e, linestyle='None', marker='^')\n",
    "axes = plt.gca()\n",
    "# axes.set_ylim([5,20])\n",
    "\n",
    "for xy in zip(x, y):\n",
    "    axes.annotate('%.4s' % xy[1], xy=xy, textcoords='data')\n",
    "plt.title(\"# Event Attended: Both Experiments (in order of ABCD)\")    \n",
    "plt.show()\n",
    "\n",
    "# overall mean & std\n",
    "np.vstack((exp_check.mean(axis=0),exp_check.std(axis=0)))"
   ]
  },
  {
   "cell_type": "markdown",
   "metadata": {},
   "source": [
    "## t-test: # checks between two sections in each stage"
   ]
  },
  {
   "cell_type": "code",
   "execution_count": 45,
   "metadata": {},
   "outputs": [
    {
     "name": "stdout",
     "output_type": "stream",
     "text": [
      "4.42361111111 4.04072989335\n",
      "4.5 4.10622833158\n"
     ]
    },
    {
     "data": {
      "text/plain": [
       "Ttest_relResult(statistic=-0.29067338658995778, pvalue=0.77172226129647015)"
      ]
     },
     "execution_count": 45,
     "metadata": {},
     "output_type": "execute_result"
    }
   ],
   "source": [
    "# check if there is a training period\n",
    "\n",
    "exp_check_sec1 = exp_check[:, np.r_[0,2,4,6]].T.ravel()\n",
    "exp_check_sec2 = exp_check[:, np.r_[1,3,5,7]].T.ravel()\n",
    "\n",
    "print(exp_check_sec1.mean(),exp_check_sec1.std())\n",
    "print(exp_check_sec2.mean(),exp_check_sec2.std())\n",
    "sp.ttest_rel(exp_check_sec1,exp_check_sec2)"
   ]
  },
  {
   "cell_type": "markdown",
   "metadata": {},
   "source": [
    "## Correlation between # Checks vs Trust Scores"
   ]
  },
  {
   "cell_type": "code",
   "execution_count": 46,
   "metadata": {},
   "outputs": [
    {
     "data": {
      "text/plain": [
       "(0.087644115407229037, 0.1378731229827595)"
      ]
     },
     "execution_count": 46,
     "metadata": {},
     "output_type": "execute_result"
    }
   ],
   "source": [
    "# pearson correlation\n",
    "sp.pearsonr(exp_trust.T.ravel(), exp_check.T.ravel())"
   ]
  },
  {
   "cell_type": "code",
   "execution_count": 47,
   "metadata": {},
   "outputs": [
    {
     "data": {
      "text/plain": [
       "SpearmanrResult(correlation=0.10466733629981488, pvalue=0.07616033749645669)"
      ]
     },
     "execution_count": 47,
     "metadata": {},
     "output_type": "execute_result"
    }
   ],
   "source": [
    "# spearman correlation\n",
    "sp.spearmanr(exp_trust.T.ravel(), exp_check.T.ravel())"
   ]
  },
  {
   "cell_type": "markdown",
   "metadata": {},
   "source": [
    "# Num of Admin Tasks"
   ]
  },
  {
   "cell_type": "code",
   "execution_count": 48,
   "metadata": {},
   "outputs": [
    {
     "data": {
      "text/plain": [
       "array([[54, 57, 53, 46, 51, 51, 49, 49],\n",
       "       [52, 51, 48, 48, 50, 53, 49, 50],\n",
       "       [46, 48, 46, 46, 51, 52, 48, 52],\n",
       "       [49, 48, 49, 51, 54, 51, 49, 52],\n",
       "       [49, 52, 49, 51, 51, 51, 47, 51],\n",
       "       [50, 48, 47, 52, 54, 55, 52, 52],\n",
       "       [53, 52, 52, 57, 57, 58, 59, 56],\n",
       "       [46, 43, 42, 40, 51, 46, 51, 50],\n",
       "       [22, 43, 44, 25, 33, 37, 24, 33],\n",
       "       [47, 50, 42, 46, 52, 52, 48, 47],\n",
       "       [51, 50, 47, 48, 50, 49, 49, 48],\n",
       "       [49, 50, 50, 52, 54, 54, 49, 52],\n",
       "       [47, 51, 47, 47, 51, 49, 49, 51],\n",
       "       [46, 50, 49, 49, 51, 51, 51, 51],\n",
       "       [53, 52, 48, 53, 52, 53, 48, 52],\n",
       "       [51, 49, 47, 49, 51, 51, 49, 50],\n",
       "       [51, 53, 51, 55, 53, 48, 52, 52],\n",
       "       [47, 49, 46, 48, 56, 52, 48, 49],\n",
       "       [50, 52, 46, 50, 51, 50, 48, 51],\n",
       "       [45, 48, 47, 50, 46, 52, 49, 49],\n",
       "       [51, 49, 46, 49, 55, 53, 52, 50],\n",
       "       [52, 51, 49, 49, 55, 48, 47, 51],\n",
       "       [49, 51, 47, 50, 52, 51, 48, 49],\n",
       "       [52, 51, 46, 48, 54, 52, 52, 52],\n",
       "       [52, 47, 47, 47, 54, 50, 47, 51],\n",
       "       [54, 52, 51, 51, 48, 48, 49, 50],\n",
       "       [48, 49, 47, 48, 52, 50, 46, 51],\n",
       "       [54, 54, 52, 53, 48, 47, 48, 51],\n",
       "       [53, 49, 48, 45, 50, 47, 49, 51],\n",
       "       [52, 51, 50, 50, 52, 53, 51, 51],\n",
       "       [52, 49, 46, 48, 52, 50, 50, 51],\n",
       "       [50, 49, 45, 49, 51, 48, 46, 48],\n",
       "       [51, 52, 47, 52, 49, 50, 48, 51],\n",
       "       [48, 46, 46, 48, 53, 50, 50, 49],\n",
       "       [48, 49, 45, 46, 50, 52, 50, 50],\n",
       "       [56, 57, 57,  3, 51, 56, 55, 51]])"
      ]
     },
     "execution_count": 48,
     "metadata": {},
     "output_type": "execute_result"
    }
   ],
   "source": [
    "exp1_admin = exp1_data_T.values[1:19,94:102].astype(int)\n",
    "exp2_admin = exp2_data_T.values[1:19,94:102].astype(int)\n",
    "# exp_demo = np.concatenate((exp1_demo,exp2_demo),axis=0)\n",
    "exp_admin = np.vstack((exp1_admin,np.hstack((exp2_admin[:,4:],exp2_admin[:,:4])))).astype(int)\n",
    "exp_admin"
   ]
  },
  {
   "cell_type": "code",
   "execution_count": 49,
   "metadata": {},
   "outputs": [
    {
     "data": {
      "image/png": "[encoded data removed]",
      "text/plain": [
       "<matplotlib.figure.Figure at 0x29b68f4f390>"
      ]
     },
     "metadata": {},
     "output_type": "display_data"
    },
    {
     "data": {
      "text/plain": [
       "array([[ 49.44444444,  50.05555556,  47.75      ,  47.19444444,\n",
       "         51.25      ,  50.55555556,  48.77777778,  50.11111111],\n",
       "       [  5.34604965,   2.88621671,   2.92854723,   8.97162021,\n",
       "          3.81790373,   3.40297618,   4.85404248,   3.28107179]])"
      ]
     },
     "execution_count": 49,
     "metadata": {},
     "output_type": "execute_result"
    }
   ],
   "source": [
    "# overall mean & std\n",
    "x = np.arange(8)\n",
    "y = np.array(exp_admin.mean(axis=0))\n",
    "e = np.array(exp_admin.std(axis=0))\n",
    "\n",
    "plt.errorbar(x, y, e, linestyle='None', marker='^')\n",
    "axes = plt.gca()\n",
    "axes.set_ylim([30,60])\n",
    "\n",
    "for xy in zip(x, y):\n",
    "    axes.annotate('%.4s' % xy[1], xy=xy, textcoords='data')\n",
    "    \n",
    "plt.show()\n",
    "\n",
    "# overall mean & std\n",
    "np.vstack((exp_admin.mean(axis=0),exp_admin.std(axis=0)))"
   ]
  },
  {
   "cell_type": "code",
   "execution_count": 50,
   "metadata": {},
   "outputs": [
    {
     "data": {
      "image/png": "[encoded data removed]",
      "text/plain": [
       "<matplotlib.figure.Figure at 0x29b68cccc50>"
      ]
     },
     "metadata": {},
     "output_type": "display_data"
    },
    {
     "data": {
      "text/plain": [
       "array([[ 47.94444444,  49.77777778,  47.61111111,  47.94444444,\n",
       "         51.22222222,  50.72222222,  48.38888889,  49.83333333],\n",
       "       [  6.77800546,   3.18948891,   2.92762492,   6.72038542,\n",
       "          4.82534461,   4.22697101,   6.46476681,   4.51232879]])"
      ]
     },
     "execution_count": 50,
     "metadata": {},
     "output_type": "execute_result"
    }
   ],
   "source": [
    "# exp1 mean & std\n",
    "x = np.arange(8)\n",
    "y = np.array(exp1_admin.mean(axis=0))\n",
    "e = np.array(exp1_admin.std(axis=0))\n",
    "\n",
    "plt.errorbar(x, y, e, linestyle='None', marker='^')\n",
    "axes = plt.gca()\n",
    "axes.set_ylim([30,60])\n",
    "\n",
    "for xy in zip(x, y):\n",
    "    axes.annotate('%.4s' % xy[1], xy=xy, textcoords='data')\n",
    "    \n",
    "plt.show()\n",
    "\n",
    "# exp1 mean & std\n",
    "np.vstack((exp1_admin.mean(axis=0),exp1_admin.std(axis=0)))"
   ]
  },
  {
   "cell_type": "code",
   "execution_count": 51,
   "metadata": {
    "scrolled": true
   },
   "outputs": [
    {
     "data": {
      "image/png": "[encoded data removed]",
      "text/plain": [
       "<matplotlib.figure.Figure at 0x29b68dbd668>"
      ]
     },
     "metadata": {},
     "output_type": "display_data"
    },
    {
     "data": {
      "text/plain": [
       "array([[ 51.27777778,  50.38888889,  49.16666667,  50.38888889,\n",
       "         50.94444444,  50.33333333,  47.88888889,  46.44444444],\n",
       "       [  2.42224771,   2.28859221,   2.24227067,   1.00768651,\n",
       "          2.59212959,   2.51661148,   2.92287699,  10.70940512]])"
      ]
     },
     "execution_count": 51,
     "metadata": {},
     "output_type": "execute_result"
    }
   ],
   "source": [
    "# exp2 mean & std\n",
    "x = np.arange(8)\n",
    "y = np.array(exp2_admin.mean(axis=0))\n",
    "e = np.array(exp2_admin.std(axis=0))\n",
    "\n",
    "plt.errorbar(x, y, e, linestyle='None', marker='^')\n",
    "axes = plt.gca()\n",
    "axes.set_ylim([30,60])\n",
    "\n",
    "for xy in zip(x, y):\n",
    "    axes.annotate('%.4s' % xy[1], xy=xy, textcoords='data')\n",
    "    \n",
    "plt.show()\n",
    "\n",
    "# exp2 mean & std\n",
    "np.vstack((exp2_admin.mean(axis=0),exp2_admin.std(axis=0)))"
   ]
  },
  {
   "cell_type": "markdown",
   "metadata": {},
   "source": [
    "## Correlation between # Attended Admins vs # Attended Events"
   ]
  },
  {
   "cell_type": "code",
   "execution_count": 52,
   "metadata": {},
   "outputs": [
    {
     "data": {
      "text/plain": [
       "(0.052973688618553651, 0.37040622772042464)"
      ]
     },
     "execution_count": 52,
     "metadata": {},
     "output_type": "execute_result"
    }
   ],
   "source": [
    "# pearson correlation\n",
    "sp.pearsonr(exp_trust.T.ravel(), exp_admin.T.ravel())"
   ]
  },
  {
   "cell_type": "code",
   "execution_count": 53,
   "metadata": {},
   "outputs": [
    {
     "data": {
      "text/plain": [
       "SpearmanrResult(correlation=0.043333282724592158, pvalue=0.4638413721121607)"
      ]
     },
     "execution_count": 53,
     "metadata": {},
     "output_type": "execute_result"
    }
   ],
   "source": [
    "# spearman correlation\n",
    "sp.spearmanr(exp_trust.T.ravel(), exp_admin.T.ravel())"
   ]
  },
  {
   "cell_type": "markdown",
   "metadata": {},
   "source": [
    "# Earnings & Losses"
   ]
  },
  {
   "cell_type": "code",
   "execution_count": 54,
   "metadata": {
    "collapsed": true
   },
   "outputs": [],
   "source": [
    "exp1_admin_w = exp1_data_T.values[1:19,114:122].astype(int)\n",
    "exp2_admin_w = exp2_data_T.values[1:19,114:122].astype(int)\n",
    "exp_admin_w = np.vstack((exp1_admin_w,np.hstack((exp2_admin_w[:,4:],exp2_admin_w[:,:4])))).astype(int)\n",
    "\n",
    "# correct cards:$4 \n",
    "# wrong cards: $4\n",
    "# use (total admin - 2x wrong admin)x$4 to get net profit\n",
    "Earnings_admin = 4*(exp_admin - 2*exp_admin_w)"
   ]
  },
  {
   "cell_type": "code",
   "execution_count": 55,
   "metadata": {},
   "outputs": [
    {
     "data": {
      "text/plain": [
       "array([[-800, -732, -623, -136, -206, -110, -106,  -94],\n",
       "       [-306, -196, -175, -151, -188, -113,  -86,  -95],\n",
       "       [-220, -206, -210, -191, -121, -203, -136, -114],\n",
       "       [-668, -183, -146, -267, -100, -118,  -80,  -80],\n",
       "       [-250, -231, -302, -259, -186, -163, -180, -194],\n",
       "       [-296, -244, -154, -198, -231, -277, -150, -235],\n",
       "       [-423, -384, -490, -668, -785, -634, -907, -562],\n",
       "       [-443, -175, -287, -151, -195, -159,  -97,  -95],\n",
       "       [-680, -799, -677, -853, -951, -487, -639, -465],\n",
       "       [-664, -235, -132, -114, -104, -119,  -57,  -57],\n",
       "       [-272, -228, -176, -130, -119, -124,  -96, -104],\n",
       "       [-242, -184, -204, -604, -251, -280,  -60,  -85],\n",
       "       [-218, -216, -186, -190, -110, -170, -106,  -84],\n",
       "       [-278, -178, -193, -150,  -97, -107,  -67,  -77],\n",
       "       [-390, -225, -186, -240, -194,  -84,  -56, -112],\n",
       "       [-282, -256, -180, -203, -153, -160, -136, -114],\n",
       "       [-781, -429, -476, -584, -347, -307, -303, -267],\n",
       "       [-298, -246, -140, -140, -194, -192,  -86,  -85],\n",
       "       [-279, -186, -140, -246, -129, -141, -126, -124],\n",
       "       [-308, -243, -120, -140, -189, -186,  -78,  -74],\n",
       "       [-296, -240, -120, -120, -192, -184,  -56,  -64],\n",
       "       [-310, -198, -181, -169, -226, -125,  -76,  -84],\n",
       "       [-238, -161, -150, -182, -160, -159, -116, -104],\n",
       "       [-296, -166, -140, -140, -167, -252, -141, -299],\n",
       "       [-306, -228, -160, -160, -137, -162,  -68,  -74],\n",
       "       [-172, -153, -200, -206, -141, -164, -181, -145],\n",
       "       [-206, -238, -190, -240, -166, -130,  -87,  -94],\n",
       "       [-168, -205, -140, -134, -162, -141, -127, -114],\n",
       "       [-362, -197, -134, -222, -176, -120,  -90,  -94],\n",
       "       [-414, -412, -332, -264, -287, -160, -158, -122],\n",
       "       [-249, -172, -150, -130, -260,  -84,  -90,  -68],\n",
       "       [-282, -167, -160, -150, -277, -181,  -87,  -96],\n",
       "       [-219, -318, -150, -140, -160, -143, -137, -135],\n",
       "       [-211, -179, -160, -171, -280, -134, -166, -164],\n",
       "       [-275, -197, -210, -161, -134, -171, -106, -114],\n",
       "       [-873, -877, -906, -982, -408, -505, -464, -112]])"
      ]
     },
     "execution_count": 55,
     "metadata": {},
     "output_type": "execute_result"
    }
   ],
   "source": [
    "# final balance\n",
    "exp1_fnl_balance = exp1_data_T.values[1:19,244:252].astype(int)\n",
    "exp2_fnl_balance = exp2_data_T.values[1:19,244:252].astype(int)\n",
    "# exp_demo = np.concatenate((exp1_demo,exp2_demo),axis=0)\n",
    "exp_fnl_balance = np.vstack((exp1_fnl_balance,np.hstack((exp2_fnl_balance[:,4:],exp2_fnl_balance[:,:4])))).astype(int)\n",
    "\n",
    "# reverse engineering to find total losses from monitoring system\n",
    "Total_loss = exp_fnl_balance - Earnings_admin - 150\n",
    "Total_loss"
   ]
  },
  {
   "cell_type": "code",
   "execution_count": 56,
   "metadata": {},
   "outputs": [
    {
     "data": {
      "image/png": "[encoded data removed]",
      "text/plain": [
       "<matplotlib.figure.Figure at 0x29b68f24588>"
      ]
     },
     "metadata": {},
     "output_type": "display_data"
    },
    {
     "data": {
      "text/plain": [
       "array([[ -46.19444444,   39.22222222,   64.55555556,   50.05555556,\n",
       "          87.02777778,  128.75      ,  157.16666667,  181.77777778],\n",
       "       [ 204.09445246,  185.37006697,  189.50658805,  232.07648936,\n",
       "         186.60884314,  125.85626171,  174.24655265,  118.03038947]])"
      ]
     },
     "execution_count": 56,
     "metadata": {},
     "output_type": "execute_result"
    }
   ],
   "source": [
    "# overall mean & std\n",
    "x = np.arange(8)\n",
    "y = np.array(exp_fnl_balance.mean(axis=0))\n",
    "e = np.array(exp_fnl_balance.std(axis=0))\n",
    "\n",
    "plt.errorbar(x, y, e, linestyle='None', marker='^')\n",
    "axes = plt.gca()\n",
    "# axes.set_ylim([30,60])\n",
    "\n",
    "for xy in zip(x, y):\n",
    "    axes.annotate('%.4s' % xy[1], xy=xy, textcoords='data')\n",
    "    \n",
    "plt.show()\n",
    "\n",
    "# overall mean & std\n",
    "np.vstack((exp_fnl_balance.mean(axis=0),exp_fnl_balance.std(axis=0)))"
   ]
  },
  {
   "cell_type": "markdown",
   "metadata": {},
   "source": [
    "# Propensity Questions"
   ]
  },
  {
   "cell_type": "code",
   "execution_count": 57,
   "metadata": {
    "collapsed": true
   },
   "outputs": [],
   "source": [
    "exp1_prop = exp1_data_T.values[1:19,9:15].astype(int)\n",
    "exp2_prop = exp2_data_T.values[1:19,9:15].astype(int)\n",
    "# exp_demo = np.concatenate((exp1_demo,exp2_demo),axis=0)\n",
    "exp_prop = np.vstack((exp1_prop,np.hstack((exp2_prop[:,4:],exp2_prop[:,:4])))).astype(int)"
   ]
  },
  {
   "cell_type": "code",
   "execution_count": 58,
   "metadata": {},
   "outputs": [
    {
     "data": {
      "image/png": "[encoded data removed]",
      "text/plain": [
       "<matplotlib.figure.Figure at 0x29b67c6f240>"
      ]
     },
     "metadata": {},
     "output_type": "display_data"
    },
    {
     "data": {
      "text/plain": [
       "array([[ 3.11111111,  2.61111111,  3.94444444,  2.86111111,  3.27777778,\n",
       "         3.30555556],\n",
       "       [ 1.12491426,  0.89062331,  0.62112999,  0.97618241,  1.01683362,\n",
       "         0.99497193]])"
      ]
     },
     "execution_count": 58,
     "metadata": {},
     "output_type": "execute_result"
    }
   ],
   "source": [
    "# overall mean & std\n",
    "x = np.arange(6)\n",
    "y = np.array(exp_prop.mean(axis=0))\n",
    "e = np.array(exp_prop.std(axis=0))\n",
    "\n",
    "plt.errorbar(x, y, e, linestyle='None', marker='^')\n",
    "axes = plt.gca()\n",
    "axes.set_ylim([0,5])\n",
    "\n",
    "for xy in zip(x, y):\n",
    "    axes.annotate('%.4s' % xy[1], xy=xy, textcoords='data')\n",
    "    \n",
    "plt.show()\n",
    "\n",
    "# overall mean & std\n",
    "np.vstack((exp_prop.mean(axis=0),exp_prop.std(axis=0)))"
   ]
  },
  {
   "cell_type": "code",
   "execution_count": null,
   "metadata": {
    "collapsed": true
   },
   "outputs": [],
   "source": []
  },
  {
   "cell_type": "code",
   "execution_count": null,
   "metadata": {
    "collapsed": true
   },
   "outputs": [],
   "source": []
  },
  {
   "cell_type": "markdown",
   "metadata": {},
   "source": [
    "# Post-stage Questions"
   ]
  },
  {
   "cell_type": "code",
   "execution_count": 59,
   "metadata": {
    "collapsed": true
   },
   "outputs": [],
   "source": [
    "# exp1_pstq = np.hstack((exp1_data_T.values[1:19,16:19],exp1_data_T.values[1:19,21:28],\n",
    "#                        exp1_data_T.values[1:19,29:32],exp1_data_T.values[1:19,34:41],\n",
    "#                        exp1_data_T.values[1:19,42:45],exp1_data_T.values[1:19,47:54],\n",
    "#                        exp1_data_T.values[1:19,55:58],exp1_data_T.values[1:19,60:67])).astype(int)\n",
    "# exp2_pstq = np.hstack((exp2_data_T.values[1:19,16:19],exp2_data_T.values[1:19,21:28],\n",
    "#                        exp2_data_T.values[1:19,29:32],exp2_data_T.values[1:19,34:41],\n",
    "#                        exp2_data_T.values[1:19,42:45],exp2_data_T.values[1:19,47:54],\n",
    "#                        exp2_data_T.values[1:19,55:58],exp2_data_T.values[1:19,60:67])).astype(int)\n",
    "\n",
    "exp1_pstq = exp1_data_T.values[1:19, np.r_[16:19,21:28,29:32,34:41,42:45,47:54,55:58,60:67]].astype(int)\n",
    "exp2_pstq = exp2_data_T.values[1:19, np.r_[16:19,21:28,29:32,34:41,42:45,47:54,55:58,60:67]].astype(int)\n",
    "\n",
    "# exp_demo = np.concatenate((exp1_demo,exp2_demo),axis=0)\n",
    "exp_pstq = np.vstack((exp1_pstq,np.hstack((exp2_pstq[:,20:],exp2_pstq[:,:20])))).astype(int)"
   ]
  },
  {
   "cell_type": "code",
   "execution_count": 60,
   "metadata": {
    "scrolled": false
   },
   "outputs": [
    {
     "data": {
      "text/plain": [
       "array([[ 4.36111111,  3.19444444,  3.36111111,  3.08333333,  3.55555556,\n",
       "         3.52777778,  2.97222222,  2.86111111,  2.63888889,  3.66666667,\n",
       "         4.25      ,  2.94444444,  3.16666667,  3.30555556,  3.58333333,\n",
       "         3.63888889,  3.27777778,  3.22222222,  2.58333333,  3.80555556,\n",
       "         4.25      ,  3.13888889,  2.97222222,  3.69444444,  3.86111111,\n",
       "         3.80555556,  3.44444444,  3.38888889,  2.58333333,  3.77777778,\n",
       "         4.33333333,  3.19444444,  2.75      ,  3.75      ,  3.86111111,\n",
       "         3.91666667,  3.58333333,  3.61111111,  2.47222222,  3.97222222],\n",
       "       [ 0.8548157 ,  1.12594268,  0.6730023 ,  0.8291562 ,  0.86424162,\n",
       "         0.68662262,  0.98562194,  0.97618241,  0.8548157 ,  0.62360956,\n",
       "         1.01036297,  1.20056571,  0.72648316,  0.93747428,  0.98248551,\n",
       "         0.8548157 ,  0.93128081,  1.03040206,  0.8291562 ,  0.77529365,\n",
       "         0.98248551,  1.13413643,  0.68662262,  0.84391431,  0.78714596,\n",
       "         0.84391431,  0.86424162,  0.95095793,  0.8620067 ,  0.74948542,\n",
       "         0.94280904,  1.07547004,  0.68211273,  0.89365044,  0.7510281 ,\n",
       "         0.72168784,  0.8291562 ,  0.85886805,  0.83287024,  0.72595191]])"
      ]
     },
     "execution_count": 60,
     "metadata": {},
     "output_type": "execute_result"
    }
   ],
   "source": [
    "# overall mean & std\n",
    "np.vstack((exp_pstq.mean(axis=0),exp_pstq.std(axis=0)))"
   ]
  },
  {
   "cell_type": "code",
   "execution_count": 61,
   "metadata": {},
   "outputs": [
    {
     "data": {
      "text/plain": [
       "array([[ 4.27777778,  2.94444444,  3.27777778,  3.16666667,  3.55555556,\n",
       "         3.61111111,  3.16666667,  2.94444444,  2.55555556,  3.77777778,\n",
       "         4.        ,  2.77777778,  3.27777778,  3.22222222,  3.55555556,\n",
       "         3.72222222,  3.27777778,  3.16666667,  2.77777778,  3.61111111,\n",
       "         4.        ,  3.11111111,  2.77777778,  3.83333333,  4.        ,\n",
       "         4.        ,  3.5       ,  3.55555556,  2.61111111,  4.        ,\n",
       "         4.11111111,  3.27777778,  2.77777778,  3.77777778,  3.83333333,\n",
       "         3.83333333,  3.55555556,  3.5       ,  2.55555556,  3.94444444],\n",
       "       [ 0.80315735,  1.02589918,  0.65026111,  0.76376262,  0.89580642,\n",
       "         0.59056366,  0.89752747,  0.84801875,  0.68493489,  0.53287017,\n",
       "         1.05409255,  1.18112731,  0.73071925,  0.91624569,  1.0122704 ,\n",
       "         0.86958199,  0.86958199,  0.95742711,  0.91624569,  0.95095793,\n",
       "         1.24721913,  1.24225999,  0.71145825,  0.60092521,  0.66666667,\n",
       "         0.57735027,  0.76376262,  0.83147942,  0.75563725,  0.57735027,\n",
       "         0.99380799,  0.98913855,  0.62853936,  0.85346064,  0.83333333,\n",
       "         0.76376262,  0.7617394 ,  0.76376262,  0.95581392,  0.77975938]])"
      ]
     },
     "execution_count": 61,
     "metadata": {},
     "output_type": "execute_result"
    }
   ],
   "source": [
    "# exp1 mean & std\n",
    "np.vstack((exp1_pstq.mean(axis=0),exp1_pstq.std(axis=0)))"
   ]
  },
  {
   "cell_type": "code",
   "execution_count": 62,
   "metadata": {
    "scrolled": true
   },
   "outputs": [
    {
     "data": {
      "text/plain": [
       "array([[ 4.5       ,  3.16666667,  3.16666667,  3.55555556,  3.72222222,\n",
       "         3.61111111,  3.38888889,  3.22222222,  2.55555556,  3.55555556,\n",
       "         4.55555556,  3.11111111,  2.72222222,  3.72222222,  3.88888889,\n",
       "         4.        ,  3.61111111,  3.72222222,  2.38888889,  4.        ,\n",
       "         4.44444444,  3.44444444,  3.44444444,  3.        ,  3.55555556,\n",
       "         3.44444444,  2.77777778,  2.77777778,  2.72222222,  3.55555556,\n",
       "         4.5       ,  3.11111111,  3.05555556,  3.38888889,  3.61111111,\n",
       "         3.55555556,  3.27777778,  3.27777778,  2.38888889,  4.        ],\n",
       "       [ 0.5       ,  1.01379376,  0.60092521,  1.0122704 ,  0.86958199,\n",
       "         1.00768651,  0.95095793,  1.03040206,  0.95581392,  0.83147942,\n",
       "         0.83147942,  1.14934227,  0.73071925,  0.93128081,  0.6573422 ,\n",
       "         0.66666667,  0.89062331,  0.93128081,  0.67814198,  0.66666667,\n",
       "         0.89580642,  1.16534316,  0.68493489,  0.8819171 ,  0.83147942,\n",
       "         0.7617394 ,  1.03040206,  1.08297715,  0.98913855,  0.68493489,\n",
       "         0.89752747,  1.19670329,  0.70492097,  0.95095793,  0.95095793,\n",
       "         0.83147942,  0.98913855,  1.09572683,  0.67814198,  0.47140452]])"
      ]
     },
     "execution_count": 62,
     "metadata": {},
     "output_type": "execute_result"
    }
   ],
   "source": [
    "# exp2 mean & std\n",
    "np.vstack((exp2_pstq.mean(axis=0),exp2_pstq.std(axis=0)))"
   ]
  },
  {
   "cell_type": "markdown",
   "metadata": {
    "collapsed": true
   },
   "source": [
    "# Post-game Questions"
   ]
  },
  {
   "cell_type": "code",
   "execution_count": 63,
   "metadata": {},
   "outputs": [
    {
     "data": {
      "text/plain": [
       "array([[4, 4, 1, 4, 2, 2, 2],\n",
       "       [3, 2, 3, 2, 2, 3, 2],\n",
       "       [4, 2, 2, 4, 4, 3, 2],\n",
       "       [4, 4, 3, 3, 3, 3, 2],\n",
       "       [5, 4, 3, 3, 4, 3, 2],\n",
       "       [3, 5, 3, 4, 4, 1, 2],\n",
       "       [3, 2, 3, 3, 3, 1, 2],\n",
       "       [5, 1, 3, 3, 4, 2, 2],\n",
       "       [3, 1, 3, 3, 4, 2, 2],\n",
       "       [4, 5, 3, 3, 4, 3, 2],\n",
       "       [3, 2, 2, 3, 4, 3, 2],\n",
       "       [3, 4, 2, 4, 3, 3, 2],\n",
       "       [4, 4, 3, 4, 3, 3, 2],\n",
       "       [3, 1, 3, 2, 4, 3, 2],\n",
       "       [5, 4, 3, 2, 3, 1, 2],\n",
       "       [3, 2, 2, 3, 3, 3, 2],\n",
       "       [4, 2, 3, 4, 4, 2, 2],\n",
       "       [3, 4, 3, 2, 4, 3, 2],\n",
       "       [4, 2, 3, 3, 4, 3, 2],\n",
       "       [4, 2, 2, 3, 2, 3, 2],\n",
       "       [3, 3, 2, 3, 4, 3, 2],\n",
       "       [3, 4, 2, 4, 3, 1, 2],\n",
       "       [4, 4, 3, 1, 4, 2, 2],\n",
       "       [4, 5, 3, 3, 2, 1, 2],\n",
       "       [4, 5, 3, 2, 4, 1, 2],\n",
       "       [3, 4, 2, 3, 3, 3, 2],\n",
       "       [3, 2, 2, 3, 4, 3, 2],\n",
       "       [4, 5, 3, 3, 4, 1, 2],\n",
       "       [3, 4, 2, 3, 4, 3, 2],\n",
       "       [5, 5, 2, 4, 3, 1, 2],\n",
       "       [3, 2, 2, 3, 3, 1, 2],\n",
       "       [4, 4, 2, 4, 3, 3, 2],\n",
       "       [3, 4, 2, 3, 4, 3, 2],\n",
       "       [4, 5, 3, 2, 4, 1, 2],\n",
       "       [2, 2, 2, 3, 4, 1, 2],\n",
       "       [5, 1, 1, 1, 1, 3, 1]])"
      ]
     },
     "execution_count": 63,
     "metadata": {},
     "output_type": "execute_result"
    }
   ],
   "source": [
    "exp1_pgq = exp1_data_T.values[1:19,69:76]\n",
    "exp2_pgq = exp2_data_T.values[1:19,69:76]\n",
    "exp_pgq = np.vstack((exp1_pgq,exp2_pgq)).astype(int)\n",
    "exp_pgq"
   ]
  },
  {
   "cell_type": "code",
   "execution_count": 64,
   "metadata": {},
   "outputs": [
    {
     "name": "stdout",
     "output_type": "stream",
     "text": [
      "[2 3 4 5]\n"
     ]
    },
    {
     "data": {
      "image/png": "[encoded data removed]",
      "text/plain": [
       "<matplotlib.figure.Figure at 0x29b67bf0f28>"
      ]
     },
     "metadata": {},
     "output_type": "display_data"
    },
    {
     "data": {
      "text/plain": [
       "(None, Counter({2: 1, 3: 16, 4: 14, 5: 5}))"
      ]
     },
     "execution_count": 64,
     "metadata": {},
     "output_type": "execute_result"
    }
   ],
   "source": [
    "pg1 = Counter(exp_pgq[:,0])\n",
    "print(np.array(sorted(pg1.items(), key= lambda t: (t[0]), reverse=False))[:,0])\n",
    "\n",
    "x = np.arange(len(pg1.keys()))\n",
    "plt.bar(x, np.array(sorted(pg1.items(), key= lambda t: (t[0]), reverse=False))[:,1])\n",
    "plt.xticks(x, \n",
    "           ('Difficult','Fine','Easy','Very Easy'),\n",
    "           rotation=17)\n",
    "plt.title(\"How difficult was your admin job in the experiment?\")\n",
    "# plt.xlabel(\"Value\")\n",
    "plt.ylabel(\"Count\")\n",
    "\n",
    "plt.show(), Counter(pd.to_numeric(exp_pgq[:,0]))"
   ]
  },
  {
   "cell_type": "code",
   "execution_count": 65,
   "metadata": {},
   "outputs": [
    {
     "name": "stdout",
     "output_type": "stream",
     "text": [
      "[1 2 3 4 5]\n"
     ]
    },
    {
     "data": {
      "image/png": "[encoded data removed]",
      "text/plain": [
       "<matplotlib.figure.Figure at 0x29b694e86a0>"
      ]
     },
     "metadata": {},
     "output_type": "display_data"
    },
    {
     "data": {
      "text/plain": [
       "(None, Counter({1: 4, 2: 11, 3: 1, 4: 13, 5: 7}))"
      ]
     },
     "execution_count": 65,
     "metadata": {},
     "output_type": "execute_result"
    }
   ],
   "source": [
    "pg2 = Counter(exp_pgq[:,1])\n",
    "print(np.array(sorted(pg2.items(), key= lambda t: (t[0]), reverse=False))[:,0])\n",
    "\n",
    "x = np.arange(len(pg2.keys()))\n",
    "plt.bar(x, np.array(sorted(pg2.items(), key= lambda t: (t[0]), reverse=False))[:,1])\n",
    "plt.xticks(x, \n",
    "           ('Quite bored','A little bored','Neutral','A little engaged','Quite engaged'),\n",
    "           rotation=17)\n",
    "plt.title(\"How engaged were you with the experiment?\")\n",
    "# plt.xlabel(\"Value\")\n",
    "plt.ylabel(\"Count\")\n",
    "\n",
    "plt.show(), Counter(pd.to_numeric(exp_pgq[:,1]))"
   ]
  },
  {
   "cell_type": "code",
   "execution_count": 66,
   "metadata": {},
   "outputs": [
    {
     "name": "stdout",
     "output_type": "stream",
     "text": [
      "[1 2 3]\n"
     ]
    }
   ],
   "source": [
    "pg3 = Counter(exp_pgq[:,2])\n",
    "print(np.array(sorted(pg3.items(), key= lambda t: (t[0]), reverse=False))[:,0])"
   ]
  },
  {
   "cell_type": "code",
   "execution_count": 67,
   "metadata": {},
   "outputs": [
    {
     "data": {
      "image/png": "[encoded data removed]",
      "text/plain": [
       "<matplotlib.figure.Figure at 0x29b69554eb8>"
      ]
     },
     "metadata": {},
     "output_type": "display_data"
    },
    {
     "data": {
      "text/plain": [
       "(None, Counter({1: 2, 2: 15, 3: 19}))"
      ]
     },
     "execution_count": 67,
     "metadata": {},
     "output_type": "execute_result"
    }
   ],
   "source": [
    "x = np.arange(len(pg3.keys()))\n",
    "plt.bar(x, np.array(sorted(pg3.items(), key= lambda t: (t[0]), reverse=False))[:,1])\n",
    "plt.xticks(x, \n",
    "           ('Quite Stressful','A little stressful','Not at all'),\n",
    "           rotation=17)\n",
    "plt.title(\"How stressful was the experiment?\")\n",
    "# plt.xlabel(\"Value\")\n",
    "plt.ylabel(\"Count\")\n",
    "\n",
    "plt.show(), Counter(pd.to_numeric(exp_pgq[:,2]))"
   ]
  },
  {
   "cell_type": "code",
   "execution_count": 68,
   "metadata": {},
   "outputs": [
    {
     "name": "stdout",
     "output_type": "stream",
     "text": [
      "[1 2 3 4]\n"
     ]
    }
   ],
   "source": [
    "pg4 = Counter(exp_pgq[:,3])\n",
    "print(np.array(sorted(pg4.items(), key= lambda t: (t[0]), reverse=False))[:,0])"
   ]
  },
  {
   "cell_type": "code",
   "execution_count": 69,
   "metadata": {},
   "outputs": [
    {
     "data": {
      "image/png": "[encoded data removed]",
      "text/plain": [
       "<matplotlib.figure.Figure at 0x29b69688ba8>"
      ]
     },
     "metadata": {},
     "output_type": "display_data"
    },
    {
     "data": {
      "text/plain": [
       "(None, Counter({1: 2, 2: 6, 3: 19, 4: 9}))"
      ]
     },
     "execution_count": 69,
     "metadata": {},
     "output_type": "execute_result"
    }
   ],
   "source": [
    "x = np.arange(len(pg4.keys()))\n",
    "plt.bar(x, np.array(sorted(pg4.items(), key= lambda t: (t[0]), reverse=False))[:,1])\n",
    "plt.xticks(x, \n",
    "           ('Not at all','A little','Moderately','Very'),\n",
    "           rotation=17)\n",
    "plt.title(\"How important was it for you to do well in the administration task (card game)?\")\n",
    "# plt.xlabel(\"Value\")\n",
    "plt.ylabel(\"Count\")\n",
    "\n",
    "plt.show(), Counter(pd.to_numeric(exp_pgq[:,3]))"
   ]
  },
  {
   "cell_type": "code",
   "execution_count": 70,
   "metadata": {},
   "outputs": [
    {
     "name": "stdout",
     "output_type": "stream",
     "text": [
      "[1 2 3 4]\n"
     ]
    }
   ],
   "source": [
    "pg5 = Counter(exp_pgq[:,4])\n",
    "print(np.array(sorted(pg5.items(), key= lambda t: (t[0]), reverse=False))[:,0])"
   ]
  },
  {
   "cell_type": "code",
   "execution_count": 71,
   "metadata": {},
   "outputs": [
    {
     "data": {
      "image/png": "[encoded data removed]",
      "text/plain": [
       "<matplotlib.figure.Figure at 0x29b6964d4e0>"
      ]
     },
     "metadata": {},
     "output_type": "display_data"
    },
    {
     "data": {
      "text/plain": [
       "(None, Counter({1: 1, 2: 4, 3: 11, 4: 20}))"
      ]
     },
     "execution_count": 71,
     "metadata": {},
     "output_type": "execute_result"
    }
   ],
   "source": [
    "x = np.arange(len(pg5.keys()))\n",
    "plt.bar(x, np.array(sorted(pg5.items(), key= lambda t: (t[0]), reverse=False))[:,1])\n",
    "plt.xticks(x, \n",
    "           ('Not at all','A little','Moderately','Very'),\n",
    "           rotation=17)\n",
    "plt.title(\"How important was it for you that the elderly residents are ok?\")\n",
    "# plt.xlabel(\"Value\")\n",
    "plt.ylabel(\"Count\")\n",
    "\n",
    "plt.show(), Counter(pd.to_numeric(exp_pgq[:,4]))"
   ]
  },
  {
   "cell_type": "code",
   "execution_count": 72,
   "metadata": {},
   "outputs": [
    {
     "name": "stdout",
     "output_type": "stream",
     "text": [
      "[1 2 3]\n"
     ]
    }
   ],
   "source": [
    "pg6 = Counter(exp_pgq[:,5])\n",
    "print(np.array(sorted(pg6.items(), key= lambda t: (t[0]), reverse=False))[:,0])"
   ]
  },
  {
   "cell_type": "code",
   "execution_count": 73,
   "metadata": {},
   "outputs": [
    {
     "data": {
      "image/png": "[encoded data removed]",
      "text/plain": [
       "<matplotlib.figure.Figure at 0x29b68efeda0>"
      ]
     },
     "metadata": {},
     "output_type": "display_data"
    },
    {
     "data": {
      "text/plain": [
       "(None, Counter({1: 11, 2: 5, 3: 20}))"
      ]
     },
     "execution_count": 73,
     "metadata": {},
     "output_type": "execute_result"
    }
   ],
   "source": [
    "x = np.arange(len(pg6.keys()))\n",
    "plt.bar(x, np.array(sorted(pg6.items(), key= lambda t: (t[0]), reverse=False))[:,1])\n",
    "plt.xticks(x, \n",
    "           ('The game experience','Interim report','Both'),\n",
    "           rotation=0)\n",
    "plt.title(\"How did you determine how much you trust the monitoring system?\")\n",
    "# plt.xlabel(\"Value\")\n",
    "plt.ylabel(\"Count\")\n",
    "\n",
    "plt.show(), Counter(pd.to_numeric(exp_pgq[:,5]))"
   ]
  },
  {
   "cell_type": "code",
   "execution_count": 74,
   "metadata": {},
   "outputs": [
    {
     "name": "stdout",
     "output_type": "stream",
     "text": [
      "[1 2]\n"
     ]
    }
   ],
   "source": [
    "pg7 = Counter(exp_pgq[:,6])\n",
    "print(np.array(sorted(pg7.items(), key= lambda t: (t[0]), reverse=False))[:,0])"
   ]
  },
  {
   "cell_type": "code",
   "execution_count": 75,
   "metadata": {
    "scrolled": true
   },
   "outputs": [
    {
     "data": {
      "image/png": "[encoded data removed]",
      "text/plain": [
       "<matplotlib.figure.Figure at 0x29b68faa518>"
      ]
     },
     "metadata": {},
     "output_type": "display_data"
    },
    {
     "data": {
      "text/plain": [
       "(None, Counter({1: 1, 2: 35}))"
      ]
     },
     "execution_count": 75,
     "metadata": {},
     "output_type": "execute_result"
    }
   ],
   "source": [
    "x = np.arange(len(pg7.keys()))\n",
    "plt.bar(x, np.array(sorted(pg7.items(), key= lambda t: (t[0]), reverse=False))[:,1])\n",
    "plt.xticks(x, \n",
    "           ('No','Yes'))\n",
    "plt.title(\"Was the tutorial video sufficiently helpful for understanding what you need to do?\")\n",
    "# plt.xlabel(\"Value\")\n",
    "plt.ylabel(\"Count\")\n",
    "\n",
    "plt.show(), Counter(pd.to_numeric(exp_pgq[:,6]))"
   ]
  },
  {
   "cell_type": "code",
   "execution_count": null,
   "metadata": {
    "collapsed": true
   },
   "outputs": [],
   "source": []
  }
 ],
 "metadata": {
  "kernelspec": {
   "display_name": "Python 3",
   "language": "python",
   "name": "python3"
  },
  "language_info": {
   "codemirror_mode": {
    "name": "ipython",
    "version": 3
   },
   "file_extension": ".py",
   "mimetype": "text/x-python",
   "name": "python",
   "nbconvert_exporter": "python",
   "pygments_lexer": "ipython3",
   "version": "3.6.1"
  }
 },
 "nbformat": 4,
 "nbformat_minor": 2
}
