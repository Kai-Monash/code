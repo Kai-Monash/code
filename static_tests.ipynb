{
 "cells": [
  {
   "cell_type": "code",
   "execution_count": 80,
   "metadata": {
    "collapsed": true
   },
   "outputs": [],
   "source": [
    "import pandas as pd\n",
    "import matplotlib.pyplot as plt\n",
    "import numpy as np\n",
    "import scipy.stats as sp\n",
    "# import sklearn.preprocessing as sk\n",
    "from collections import Counter\n",
    "\n",
    "# from matplotlib.ticker import FuncFormatter\n",
    "%matplotlib inline"
   ]
  },
  {
   "cell_type": "code",
   "execution_count": 81,
   "metadata": {
    "collapsed": true
   },
   "outputs": [],
   "source": [
    "exp1_data = pd.read_csv(\"allTogetherSep.csv\")\n",
    "exp2_data = pd.read_csv(\"allTogetherOct.csv\")"
   ]
  },
  {
   "cell_type": "code",
   "execution_count": 82,
   "metadata": {
    "scrolled": true
   },
   "outputs": [
    {
     "data": {
      "text/html": [
       "<div>\n",
       "<style>\n",
       "    .dataframe thead tr:only-child th {\n",
       "        text-align: right;\n",
       "    }\n",
       "\n",
       "    .dataframe thead th {\n",
       "        text-align: left;\n",
       "    }\n",
       "\n",
       "    .dataframe tbody tr th {\n",
       "        vertical-align: top;\n",
       "    }\n",
       "</style>\n",
       "<table border=\"1\" class=\"dataframe\">\n",
       "  <thead>\n",
       "    <tr style=\"text-align: right;\">\n",
       "      <th></th>\n",
       "      <th>index</th>\n",
       "      <th>0</th>\n",
       "      <th>1</th>\n",
       "      <th>2</th>\n",
       "      <th>3</th>\n",
       "      <th>4</th>\n",
       "      <th>5</th>\n",
       "      <th>6</th>\n",
       "      <th>7</th>\n",
       "      <th>8</th>\n",
       "      <th>...</th>\n",
       "      <th>286</th>\n",
       "      <th>287</th>\n",
       "      <th>288</th>\n",
       "      <th>289</th>\n",
       "      <th>290</th>\n",
       "      <th>291</th>\n",
       "      <th>292</th>\n",
       "      <th>293</th>\n",
       "      <th>294</th>\n",
       "      <th>295</th>\n",
       "    </tr>\n",
       "  </thead>\n",
       "  <tbody>\n",
       "    <tr>\n",
       "      <th>0</th>\n",
       "      <td>Basic information</td>\n",
       "      <td>What is your gender?</td>\n",
       "      <td>Please indicate your age</td>\n",
       "      <td>Please indicate your ethnic background (optional)</td>\n",
       "      <td>What is your highest level of education?</td>\n",
       "      <td>How would you rate your technology expertise?</td>\n",
       "      <td>How do you feel about including technology in ...</td>\n",
       "      <td>How would you rate your experience with smart ...</td>\n",
       "      <td>Propensity Questions</td>\n",
       "      <td>I usually trust machines until there is a reas...</td>\n",
       "      <td>...</td>\n",
       "      <td>exp2-st2-sec2</td>\n",
       "      <td>#ignore an alert</td>\n",
       "      <td>exp1-st1-sec1</td>\n",
       "      <td>exp1-st1-sec2</td>\n",
       "      <td>exp1-st2-sec1</td>\n",
       "      <td>exp1-st2-sec2</td>\n",
       "      <td>exp2-st1-sec1</td>\n",
       "      <td>exp2-st1-sec2</td>\n",
       "      <td>exp2-st2-sec1</td>\n",
       "      <td>exp2-st2-sec2</td>\n",
       "    </tr>\n",
       "    <tr>\n",
       "      <th>1</th>\n",
       "      <td>1</td>\n",
       "      <td>2</td>\n",
       "      <td>1</td>\n",
       "      <td>7</td>\n",
       "      <td>4</td>\n",
       "      <td>2</td>\n",
       "      <td>0</td>\n",
       "      <td>3</td>\n",
       "      <td>NaN</td>\n",
       "      <td>3</td>\n",
       "      <td>...</td>\n",
       "      <td>17</td>\n",
       "      <td>NaN</td>\n",
       "      <td>9</td>\n",
       "      <td>11</td>\n",
       "      <td>13</td>\n",
       "      <td>1</td>\n",
       "      <td>0</td>\n",
       "      <td>0</td>\n",
       "      <td>0</td>\n",
       "      <td>0</td>\n",
       "    </tr>\n",
       "    <tr>\n",
       "      <th>2</th>\n",
       "      <td>2</td>\n",
       "      <td>1</td>\n",
       "      <td>1</td>\n",
       "      <td>4</td>\n",
       "      <td>4</td>\n",
       "      <td>2</td>\n",
       "      <td>1</td>\n",
       "      <td>2</td>\n",
       "      <td>NaN</td>\n",
       "      <td>4</td>\n",
       "      <td>...</td>\n",
       "      <td>17</td>\n",
       "      <td>NaN</td>\n",
       "      <td>0</td>\n",
       "      <td>0</td>\n",
       "      <td>1</td>\n",
       "      <td>0</td>\n",
       "      <td>0</td>\n",
       "      <td>0</td>\n",
       "      <td>0</td>\n",
       "      <td>0</td>\n",
       "    </tr>\n",
       "    <tr>\n",
       "      <th>3</th>\n",
       "      <td>3</td>\n",
       "      <td>2</td>\n",
       "      <td>1</td>\n",
       "      <td>7</td>\n",
       "      <td>4</td>\n",
       "      <td>2</td>\n",
       "      <td>1</td>\n",
       "      <td>2</td>\n",
       "      <td>NaN</td>\n",
       "      <td>4</td>\n",
       "      <td>...</td>\n",
       "      <td>16</td>\n",
       "      <td>NaN</td>\n",
       "      <td>0</td>\n",
       "      <td>0</td>\n",
       "      <td>0</td>\n",
       "      <td>0</td>\n",
       "      <td>0</td>\n",
       "      <td>0</td>\n",
       "      <td>0</td>\n",
       "      <td>0</td>\n",
       "    </tr>\n",
       "    <tr>\n",
       "      <th>4</th>\n",
       "      <td>4</td>\n",
       "      <td>2</td>\n",
       "      <td>1</td>\n",
       "      <td>4</td>\n",
       "      <td>4</td>\n",
       "      <td>3</td>\n",
       "      <td>1</td>\n",
       "      <td>2</td>\n",
       "      <td>NaN</td>\n",
       "      <td>4</td>\n",
       "      <td>...</td>\n",
       "      <td>15</td>\n",
       "      <td>NaN</td>\n",
       "      <td>1</td>\n",
       "      <td>0</td>\n",
       "      <td>0</td>\n",
       "      <td>0</td>\n",
       "      <td>0</td>\n",
       "      <td>0</td>\n",
       "      <td>0</td>\n",
       "      <td>1</td>\n",
       "    </tr>\n",
       "    <tr>\n",
       "      <th>5</th>\n",
       "      <td>5</td>\n",
       "      <td>2</td>\n",
       "      <td>1</td>\n",
       "      <td>7</td>\n",
       "      <td>4</td>\n",
       "      <td>2</td>\n",
       "      <td>1</td>\n",
       "      <td>2</td>\n",
       "      <td>NaN</td>\n",
       "      <td>4</td>\n",
       "      <td>...</td>\n",
       "      <td>2</td>\n",
       "      <td>NaN</td>\n",
       "      <td>7</td>\n",
       "      <td>9</td>\n",
       "      <td>8</td>\n",
       "      <td>14</td>\n",
       "      <td>5</td>\n",
       "      <td>10</td>\n",
       "      <td>15</td>\n",
       "      <td>15</td>\n",
       "    </tr>\n",
       "    <tr>\n",
       "      <th>6</th>\n",
       "      <td>6</td>\n",
       "      <td>2</td>\n",
       "      <td>1</td>\n",
       "      <td>7</td>\n",
       "      <td>3</td>\n",
       "      <td>2</td>\n",
       "      <td>0</td>\n",
       "      <td>2</td>\n",
       "      <td>NaN</td>\n",
       "      <td>5</td>\n",
       "      <td>...</td>\n",
       "      <td>5</td>\n",
       "      <td>NaN</td>\n",
       "      <td>0</td>\n",
       "      <td>0</td>\n",
       "      <td>3</td>\n",
       "      <td>9</td>\n",
       "      <td>6</td>\n",
       "      <td>7</td>\n",
       "      <td>7</td>\n",
       "      <td>8</td>\n",
       "    </tr>\n",
       "    <tr>\n",
       "      <th>7</th>\n",
       "      <td>7</td>\n",
       "      <td>1</td>\n",
       "      <td>1</td>\n",
       "      <td>4</td>\n",
       "      <td>4</td>\n",
       "      <td>2</td>\n",
       "      <td>1</td>\n",
       "      <td>1</td>\n",
       "      <td>NaN</td>\n",
       "      <td>4</td>\n",
       "      <td>...</td>\n",
       "      <td>6</td>\n",
       "      <td>NaN</td>\n",
       "      <td>4</td>\n",
       "      <td>2</td>\n",
       "      <td>5</td>\n",
       "      <td>2</td>\n",
       "      <td>0</td>\n",
       "      <td>1</td>\n",
       "      <td>0</td>\n",
       "      <td>9</td>\n",
       "    </tr>\n",
       "    <tr>\n",
       "      <th>8</th>\n",
       "      <td>9</td>\n",
       "      <td>1</td>\n",
       "      <td>1</td>\n",
       "      <td>4</td>\n",
       "      <td>2</td>\n",
       "      <td>2</td>\n",
       "      <td>1</td>\n",
       "      <td>2</td>\n",
       "      <td>NaN</td>\n",
       "      <td>4</td>\n",
       "      <td>...</td>\n",
       "      <td>17</td>\n",
       "      <td>NaN</td>\n",
       "      <td>5</td>\n",
       "      <td>0</td>\n",
       "      <td>4</td>\n",
       "      <td>1</td>\n",
       "      <td>1</td>\n",
       "      <td>0</td>\n",
       "      <td>0</td>\n",
       "      <td>0</td>\n",
       "    </tr>\n",
       "    <tr>\n",
       "      <th>9</th>\n",
       "      <td>10</td>\n",
       "      <td>1</td>\n",
       "      <td>1</td>\n",
       "      <td>1</td>\n",
       "      <td>5</td>\n",
       "      <td>2</td>\n",
       "      <td>0</td>\n",
       "      <td>1</td>\n",
       "      <td>NaN</td>\n",
       "      <td>5</td>\n",
       "      <td>...</td>\n",
       "      <td>9</td>\n",
       "      <td>NaN</td>\n",
       "      <td>8</td>\n",
       "      <td>11</td>\n",
       "      <td>13</td>\n",
       "      <td>16</td>\n",
       "      <td>11</td>\n",
       "      <td>7</td>\n",
       "      <td>9</td>\n",
       "      <td>8</td>\n",
       "    </tr>\n",
       "    <tr>\n",
       "      <th>10</th>\n",
       "      <td>11</td>\n",
       "      <td>2</td>\n",
       "      <td>1</td>\n",
       "      <td>7</td>\n",
       "      <td>3</td>\n",
       "      <td>2</td>\n",
       "      <td>1</td>\n",
       "      <td>2</td>\n",
       "      <td>NaN</td>\n",
       "      <td>4</td>\n",
       "      <td>...</td>\n",
       "      <td>14</td>\n",
       "      <td>NaN</td>\n",
       "      <td>5</td>\n",
       "      <td>0</td>\n",
       "      <td>0</td>\n",
       "      <td>1</td>\n",
       "      <td>0</td>\n",
       "      <td>0</td>\n",
       "      <td>0</td>\n",
       "      <td>0</td>\n",
       "    </tr>\n",
       "    <tr>\n",
       "      <th>11</th>\n",
       "      <td>12</td>\n",
       "      <td>1</td>\n",
       "      <td>1</td>\n",
       "      <td>4</td>\n",
       "      <td>2</td>\n",
       "      <td>3</td>\n",
       "      <td>1</td>\n",
       "      <td>1</td>\n",
       "      <td>NaN</td>\n",
       "      <td>4</td>\n",
       "      <td>...</td>\n",
       "      <td>17</td>\n",
       "      <td>NaN</td>\n",
       "      <td>0</td>\n",
       "      <td>0</td>\n",
       "      <td>0</td>\n",
       "      <td>0</td>\n",
       "      <td>0</td>\n",
       "      <td>0</td>\n",
       "      <td>0</td>\n",
       "      <td>0</td>\n",
       "    </tr>\n",
       "    <tr>\n",
       "      <th>12</th>\n",
       "      <td>13</td>\n",
       "      <td>2</td>\n",
       "      <td>1</td>\n",
       "      <td>3</td>\n",
       "      <td>2</td>\n",
       "      <td>3</td>\n",
       "      <td>1</td>\n",
       "      <td>3</td>\n",
       "      <td>NaN</td>\n",
       "      <td>5</td>\n",
       "      <td>...</td>\n",
       "      <td>16</td>\n",
       "      <td>NaN</td>\n",
       "      <td>4</td>\n",
       "      <td>3</td>\n",
       "      <td>5</td>\n",
       "      <td>11</td>\n",
       "      <td>2</td>\n",
       "      <td>2</td>\n",
       "      <td>1</td>\n",
       "      <td>1</td>\n",
       "    </tr>\n",
       "    <tr>\n",
       "      <th>13</th>\n",
       "      <td>15</td>\n",
       "      <td>1</td>\n",
       "      <td>1</td>\n",
       "      <td>4</td>\n",
       "      <td>2</td>\n",
       "      <td>3</td>\n",
       "      <td>1</td>\n",
       "      <td>2</td>\n",
       "      <td>NaN</td>\n",
       "      <td>4</td>\n",
       "      <td>...</td>\n",
       "      <td>17</td>\n",
       "      <td>NaN</td>\n",
       "      <td>4</td>\n",
       "      <td>4</td>\n",
       "      <td>1</td>\n",
       "      <td>0</td>\n",
       "      <td>1</td>\n",
       "      <td>0</td>\n",
       "      <td>0</td>\n",
       "      <td>0</td>\n",
       "    </tr>\n",
       "    <tr>\n",
       "      <th>14</th>\n",
       "      <td>16</td>\n",
       "      <td>1</td>\n",
       "      <td>1</td>\n",
       "      <td>8</td>\n",
       "      <td>4</td>\n",
       "      <td>2</td>\n",
       "      <td>1</td>\n",
       "      <td>2</td>\n",
       "      <td>NaN</td>\n",
       "      <td>4</td>\n",
       "      <td>...</td>\n",
       "      <td>10</td>\n",
       "      <td>NaN</td>\n",
       "      <td>0</td>\n",
       "      <td>0</td>\n",
       "      <td>0</td>\n",
       "      <td>0</td>\n",
       "      <td>0</td>\n",
       "      <td>0</td>\n",
       "      <td>0</td>\n",
       "      <td>0</td>\n",
       "    </tr>\n",
       "    <tr>\n",
       "      <th>15</th>\n",
       "      <td>18</td>\n",
       "      <td>1</td>\n",
       "      <td>1</td>\n",
       "      <td>8</td>\n",
       "      <td>3</td>\n",
       "      <td>2</td>\n",
       "      <td>1</td>\n",
       "      <td>1</td>\n",
       "      <td>NaN</td>\n",
       "      <td>3</td>\n",
       "      <td>...</td>\n",
       "      <td>16</td>\n",
       "      <td>NaN</td>\n",
       "      <td>4</td>\n",
       "      <td>0</td>\n",
       "      <td>1</td>\n",
       "      <td>0</td>\n",
       "      <td>0</td>\n",
       "      <td>1</td>\n",
       "      <td>0</td>\n",
       "      <td>0</td>\n",
       "    </tr>\n",
       "    <tr>\n",
       "      <th>16</th>\n",
       "      <td>19</td>\n",
       "      <td>2</td>\n",
       "      <td>1</td>\n",
       "      <td>4</td>\n",
       "      <td>4</td>\n",
       "      <td>2</td>\n",
       "      <td>0</td>\n",
       "      <td>2</td>\n",
       "      <td>NaN</td>\n",
       "      <td>4</td>\n",
       "      <td>...</td>\n",
       "      <td>14</td>\n",
       "      <td>NaN</td>\n",
       "      <td>0</td>\n",
       "      <td>1</td>\n",
       "      <td>0</td>\n",
       "      <td>0</td>\n",
       "      <td>0</td>\n",
       "      <td>0</td>\n",
       "      <td>0</td>\n",
       "      <td>0</td>\n",
       "    </tr>\n",
       "    <tr>\n",
       "      <th>17</th>\n",
       "      <td>20</td>\n",
       "      <td>1</td>\n",
       "      <td>1</td>\n",
       "      <td>7</td>\n",
       "      <td>4</td>\n",
       "      <td>3</td>\n",
       "      <td>1</td>\n",
       "      <td>3</td>\n",
       "      <td>NaN</td>\n",
       "      <td>4</td>\n",
       "      <td>...</td>\n",
       "      <td>15</td>\n",
       "      <td>NaN</td>\n",
       "      <td>10</td>\n",
       "      <td>7</td>\n",
       "      <td>9</td>\n",
       "      <td>11</td>\n",
       "      <td>3</td>\n",
       "      <td>3</td>\n",
       "      <td>5</td>\n",
       "      <td>2</td>\n",
       "    </tr>\n",
       "    <tr>\n",
       "      <th>18</th>\n",
       "      <td>21</td>\n",
       "      <td>2</td>\n",
       "      <td>1</td>\n",
       "      <td>7</td>\n",
       "      <td>2</td>\n",
       "      <td>2</td>\n",
       "      <td>1</td>\n",
       "      <td>2</td>\n",
       "      <td>NaN</td>\n",
       "      <td>3</td>\n",
       "      <td>...</td>\n",
       "      <td>17</td>\n",
       "      <td>NaN</td>\n",
       "      <td>0</td>\n",
       "      <td>0</td>\n",
       "      <td>0</td>\n",
       "      <td>0</td>\n",
       "      <td>0</td>\n",
       "      <td>0</td>\n",
       "      <td>0</td>\n",
       "      <td>0</td>\n",
       "    </tr>\n",
       "  </tbody>\n",
       "</table>\n",
       "<p>19 rows × 297 columns</p>\n",
       "</div>"
      ],
      "text/plain": [
       "                index                     0                         1  \\\n",
       "0   Basic information  What is your gender?  Please indicate your age   \n",
       "1                   1                     2                         1   \n",
       "2                   2                     1                         1   \n",
       "3                   3                     2                         1   \n",
       "4                   4                     2                         1   \n",
       "5                   5                     2                         1   \n",
       "6                   6                     2                         1   \n",
       "7                   7                     1                         1   \n",
       "8                   9                     1                         1   \n",
       "9                  10                     1                         1   \n",
       "10                 11                     2                         1   \n",
       "11                 12                     1                         1   \n",
       "12                 13                     2                         1   \n",
       "13                 15                     1                         1   \n",
       "14                 16                     1                         1   \n",
       "15                 18                     1                         1   \n",
       "16                 19                     2                         1   \n",
       "17                 20                     1                         1   \n",
       "18                 21                     2                         1   \n",
       "\n",
       "                                                    2  \\\n",
       "0   Please indicate your ethnic background (optional)   \n",
       "1                                                   7   \n",
       "2                                                   4   \n",
       "3                                                   7   \n",
       "4                                                   4   \n",
       "5                                                   7   \n",
       "6                                                   7   \n",
       "7                                                   4   \n",
       "8                                                   4   \n",
       "9                                                   1   \n",
       "10                                                  7   \n",
       "11                                                  4   \n",
       "12                                                  3   \n",
       "13                                                  4   \n",
       "14                                                  8   \n",
       "15                                                  8   \n",
       "16                                                  4   \n",
       "17                                                  7   \n",
       "18                                                  7   \n",
       "\n",
       "                                           3  \\\n",
       "0   What is your highest level of education?   \n",
       "1                                          4   \n",
       "2                                          4   \n",
       "3                                          4   \n",
       "4                                          4   \n",
       "5                                          4   \n",
       "6                                          3   \n",
       "7                                          4   \n",
       "8                                          2   \n",
       "9                                          5   \n",
       "10                                         3   \n",
       "11                                         2   \n",
       "12                                         2   \n",
       "13                                         2   \n",
       "14                                         4   \n",
       "15                                         3   \n",
       "16                                         4   \n",
       "17                                         4   \n",
       "18                                         2   \n",
       "\n",
       "                                                4  \\\n",
       "0   How would you rate your technology expertise?   \n",
       "1                                               2   \n",
       "2                                               2   \n",
       "3                                               2   \n",
       "4                                               3   \n",
       "5                                               2   \n",
       "6                                               2   \n",
       "7                                               2   \n",
       "8                                               2   \n",
       "9                                               2   \n",
       "10                                              2   \n",
       "11                                              3   \n",
       "12                                              3   \n",
       "13                                              3   \n",
       "14                                              2   \n",
       "15                                              2   \n",
       "16                                              2   \n",
       "17                                              3   \n",
       "18                                              2   \n",
       "\n",
       "                                                    5  \\\n",
       "0   How do you feel about including technology in ...   \n",
       "1                                                   0   \n",
       "2                                                   1   \n",
       "3                                                   1   \n",
       "4                                                   1   \n",
       "5                                                   1   \n",
       "6                                                   0   \n",
       "7                                                   1   \n",
       "8                                                   1   \n",
       "9                                                   0   \n",
       "10                                                  1   \n",
       "11                                                  1   \n",
       "12                                                  1   \n",
       "13                                                  1   \n",
       "14                                                  1   \n",
       "15                                                  1   \n",
       "16                                                  0   \n",
       "17                                                  1   \n",
       "18                                                  1   \n",
       "\n",
       "                                                    6                     7  \\\n",
       "0   How would you rate your experience with smart ...  Propensity Questions   \n",
       "1                                                   3                   NaN   \n",
       "2                                                   2                   NaN   \n",
       "3                                                   2                   NaN   \n",
       "4                                                   2                   NaN   \n",
       "5                                                   2                   NaN   \n",
       "6                                                   2                   NaN   \n",
       "7                                                   1                   NaN   \n",
       "8                                                   2                   NaN   \n",
       "9                                                   1                   NaN   \n",
       "10                                                  2                   NaN   \n",
       "11                                                  1                   NaN   \n",
       "12                                                  3                   NaN   \n",
       "13                                                  2                   NaN   \n",
       "14                                                  2                   NaN   \n",
       "15                                                  1                   NaN   \n",
       "16                                                  2                   NaN   \n",
       "17                                                  3                   NaN   \n",
       "18                                                  2                   NaN   \n",
       "\n",
       "                                                    8      ...        \\\n",
       "0   I usually trust machines until there is a reas...      ...         \n",
       "1                                                   3      ...         \n",
       "2                                                   4      ...         \n",
       "3                                                   4      ...         \n",
       "4                                                   4      ...         \n",
       "5                                                   4      ...         \n",
       "6                                                   5      ...         \n",
       "7                                                   4      ...         \n",
       "8                                                   4      ...         \n",
       "9                                                   5      ...         \n",
       "10                                                  4      ...         \n",
       "11                                                  4      ...         \n",
       "12                                                  5      ...         \n",
       "13                                                  4      ...         \n",
       "14                                                  4      ...         \n",
       "15                                                  3      ...         \n",
       "16                                                  4      ...         \n",
       "17                                                  4      ...         \n",
       "18                                                  3      ...         \n",
       "\n",
       "              286               287            288            289  \\\n",
       "0   exp2-st2-sec2  #ignore an alert  exp1-st1-sec1  exp1-st1-sec2   \n",
       "1              17               NaN              9             11   \n",
       "2              17               NaN              0              0   \n",
       "3              16               NaN              0              0   \n",
       "4              15               NaN              1              0   \n",
       "5               2               NaN              7              9   \n",
       "6               5               NaN              0              0   \n",
       "7               6               NaN              4              2   \n",
       "8              17               NaN              5              0   \n",
       "9               9               NaN              8             11   \n",
       "10             14               NaN              5              0   \n",
       "11             17               NaN              0              0   \n",
       "12             16               NaN              4              3   \n",
       "13             17               NaN              4              4   \n",
       "14             10               NaN              0              0   \n",
       "15             16               NaN              4              0   \n",
       "16             14               NaN              0              1   \n",
       "17             15               NaN             10              7   \n",
       "18             17               NaN              0              0   \n",
       "\n",
       "              290            291            292            293            294  \\\n",
       "0   exp1-st2-sec1  exp1-st2-sec2  exp2-st1-sec1  exp2-st1-sec2  exp2-st2-sec1   \n",
       "1              13              1              0              0              0   \n",
       "2               1              0              0              0              0   \n",
       "3               0              0              0              0              0   \n",
       "4               0              0              0              0              0   \n",
       "5               8             14              5             10             15   \n",
       "6               3              9              6              7              7   \n",
       "7               5              2              0              1              0   \n",
       "8               4              1              1              0              0   \n",
       "9              13             16             11              7              9   \n",
       "10              0              1              0              0              0   \n",
       "11              0              0              0              0              0   \n",
       "12              5             11              2              2              1   \n",
       "13              1              0              1              0              0   \n",
       "14              0              0              0              0              0   \n",
       "15              1              0              0              1              0   \n",
       "16              0              0              0              0              0   \n",
       "17              9             11              3              3              5   \n",
       "18              0              0              0              0              0   \n",
       "\n",
       "              295  \n",
       "0   exp2-st2-sec2  \n",
       "1               0  \n",
       "2               0  \n",
       "3               0  \n",
       "4               1  \n",
       "5              15  \n",
       "6               8  \n",
       "7               9  \n",
       "8               0  \n",
       "9               8  \n",
       "10              0  \n",
       "11              0  \n",
       "12              1  \n",
       "13              0  \n",
       "14              0  \n",
       "15              0  \n",
       "16              0  \n",
       "17              2  \n",
       "18              0  \n",
       "\n",
       "[19 rows x 297 columns]"
      ]
     },
     "execution_count": 82,
     "metadata": {},
     "output_type": "execute_result"
    }
   ],
   "source": [
    "exp1_data_T = pd.DataFrame.transpose(exp1_data).reset_index()\n",
    "exp1_data_T"
   ]
  },
  {
   "cell_type": "code",
   "execution_count": 83,
   "metadata": {
    "collapsed": true,
    "scrolled": false
   },
   "outputs": [],
   "source": [
    "exp2_data_T = pd.DataFrame.transpose(exp2_data).reset_index()\n",
    "#exp2_data_T"
   ]
  },
  {
   "cell_type": "code",
   "execution_count": 84,
   "metadata": {},
   "outputs": [
    {
     "data": {
      "text/plain": [
       "array([[2, 1, 7, 4, 2, 0, 3],\n",
       "       [1, 1, 4, 4, 2, 1, 2],\n",
       "       [2, 1, 7, 4, 2, 1, 2],\n",
       "       [2, 1, 4, 4, 3, 1, 2],\n",
       "       [2, 1, 7, 4, 2, 1, 2],\n",
       "       [2, 1, 7, 3, 2, 0, 2],\n",
       "       [1, 1, 4, 4, 2, 1, 1],\n",
       "       [1, 1, 4, 2, 2, 1, 2],\n",
       "       [1, 1, 1, 5, 2, 0, 1],\n",
       "       [2, 1, 7, 3, 2, 1, 2],\n",
       "       [1, 1, 4, 2, 3, 1, 1],\n",
       "       [2, 1, 3, 2, 3, 1, 3],\n",
       "       [1, 1, 4, 2, 3, 1, 2],\n",
       "       [1, 1, 8, 4, 2, 1, 2],\n",
       "       [1, 1, 8, 3, 2, 1, 1],\n",
       "       [2, 1, 4, 4, 2, 0, 2],\n",
       "       [1, 1, 7, 4, 3, 1, 3],\n",
       "       [2, 1, 7, 2, 2, 1, 2],\n",
       "       [2, 1, 4, 4, 2, 0, 1],\n",
       "       [1, 1, 7, 2, 2, 1, 2],\n",
       "       [2, 1, 7, 4, 2, 1, 1],\n",
       "       [2, 1, 7, 7, 2, 1, 1],\n",
       "       [2, 1, 4, 3, 2, 1, 1],\n",
       "       [1, 2, 6, 4, 3, 1, 1],\n",
       "       [2, 1, 8, 4, 2, 1, 2],\n",
       "       [2, 1, 8, 4, 2, 0, 1],\n",
       "       [2, 1, 8, 7, 2, 1, 2],\n",
       "       [2, 1, 8, 7, 2, 1, 1],\n",
       "       [2, 1, 4, 2, 3, 0, 1],\n",
       "       [2, 1, 7, 4, 2, 1, 1],\n",
       "       [1, 1, 3, 4, 2, 1, 2],\n",
       "       [2, 1, 3, 2, 3, 1, 2],\n",
       "       [2, 1, 7, 4, 2, 1, 2],\n",
       "       [1, 3, 3, 3, 2, 1, 1],\n",
       "       [1, 2, 1, 3, 3, 0, 2],\n",
       "       [2, 1, 7, 2, 3, 1, 3]])"
      ]
     },
     "execution_count": 84,
     "metadata": {},
     "output_type": "execute_result"
    }
   ],
   "source": [
    "exp1_demo = exp1_data_T.values[1:19,1:8]\n",
    "exp2_demo = exp2_data_T.values[1:19,1:8]\n",
    "#exp_demo = np.concatenate((exp1_demo,exp2_demo),axis=0)\n",
    "exp_demo = np.vstack((exp1_demo,exp2_demo)).astype(int)\n",
    "exp_demo"
   ]
  },
  {
   "cell_type": "code",
   "execution_count": 85,
   "metadata": {
    "scrolled": true
   },
   "outputs": [
    {
     "name": "stdout",
     "output_type": "stream",
     "text": [
      "[1 2]\n"
     ]
    },
    {
     "data": {
      "image/png": "[encoded data removed]",
      "text/plain": [
       "<matplotlib.figure.Figure at 0x1e7d2b4e3c8>"
      ]
     },
     "metadata": {},
     "output_type": "display_data"
    },
    {
     "data": {
      "text/plain": [
       "(None, Counter({1: 14, 2: 22}))"
      ]
     },
     "execution_count": 85,
     "metadata": {},
     "output_type": "execute_result"
    }
   ],
   "source": [
    "gender = Counter(exp_demo[:,0])\n",
    "print(np.array(sorted(gender.items(), key= lambda t: (t[0]), reverse=False))[:,0])\n",
    "\n",
    "x = np.arange(len(gender.keys()))\n",
    "plt.bar(x, np.array(sorted(gender.items(), key= lambda t: (t[0]), reverse=False))[:,1])\n",
    "plt.xticks(x, \n",
    "           ('Male','Female'),\n",
    "           rotation=17)\n",
    "plt.title(\"Gender Distribution\")\n",
    "# plt.xlabel(\"Value\")\n",
    "plt.ylabel(\"Count\")\n",
    "\n",
    "plt.show(), Counter(pd.to_numeric(exp_demo[:,0]))"
   ]
  },
  {
   "cell_type": "code",
   "execution_count": null,
   "metadata": {
    "scrolled": true
   },
   "outputs": [
    {
     "name": "stdout",
     "output_type": "stream",
     "text": [
      "[1 2 3]\n"
     ]
    },
    {
     "data": {
      "image/png": "[encoded data removed]",
      "text/plain": [
       "<matplotlib.figure.Figure at 0x1e7d2b10438>"
      ]
     },
     "metadata": {},
     "output_type": "display_data"
    },
    {
     "data": {
      "text/plain": [
       "(None, Counter({1: 33, 2: 2, 3: 1}))"
      ]
     },
     "execution_count": 86,
     "metadata": {},
     "output_type": "execute_result"
    }
   ],
   "source": [
    "age = Counter(exp_demo[:,1])\n",
    "print(np.array(sorted(age.items(), key= lambda t: (t[0]), reverse=False))[:,0])\n",
    "\n",
    "x = np.arange(len(age.keys()))\n",
    "plt.bar(x, np.array(sorted(age.items(), key= lambda t: (t[0]), reverse=False))[:,1])\n",
    "plt.xticks(x, \n",
    "           ('Under 30','30-40','41-50'),\n",
    "           rotation=17)\n",
    "plt.title(\"Age Distribution\")\n",
    "# plt.xlabel(\"Value\")\n",
    "plt.ylabel(\"Count\")\n",
    "\n",
    "plt.show(), Counter(pd.to_numeric(exp_demo[:,1]))"
   ]
  },
  {
   "cell_type": "code",
   "execution_count": null,
   "metadata": {},
   "outputs": [],
   "source": [
    "ethic = Counter(exp_demo[:,2])\n",
    "print(np.array(sorted(ethic.items(), key= lambda t: (t[0]), reverse=False))[:,0])\n",
    "\n",
    "x = np.arange(len(ethic.keys()))\n",
    "plt.bar(x, np.array(sorted(ethic.items(), key= lambda t: (t[0]), reverse=False))[:,1])\n",
    "plt.xticks(x, \n",
    "           ('African','Caucasia','East Asian','Hispanic or Latino','South Asian','Other'),\n",
    "           rotation=17)\n",
    "plt.title(\"Ethic Background\")\n",
    "# plt.xlabel(\"Value\")\n",
    "plt.ylabel(\"Count\")\n",
    "\n",
    "plt.show(), Counter(pd.to_numeric(exp_demo[:,2]))"
   ]
  },
  {
   "cell_type": "code",
   "execution_count": null,
   "metadata": {
    "scrolled": true
   },
   "outputs": [],
   "source": [
    "edu = Counter(exp_demo[:,3])\n",
    "print(np.array(sorted(edu.items(), key= lambda t: (t[0]), reverse=False))[:,0])\n",
    "\n",
    "x = np.arange(len(edu.keys()))\n",
    "plt.bar(x, np.array(sorted(edu.items(), key= lambda t: (t[0]), reverse=False))[:,1])\n",
    "plt.xticks(x, \n",
    "           ('Secondary','Short-cycle','Bachelor','Master/Honours','Other'),\n",
    "           rotation=17)\n",
    "plt.title(\"Education Background\")\n",
    "# plt.xlabel(\"Value\")\n",
    "plt.ylabel(\"Count\")\n",
    "\n",
    "plt.show(), Counter(pd.to_numeric(exp_demo[:,3]))"
   ]
  },
  {
   "cell_type": "code",
   "execution_count": null,
   "metadata": {
    "scrolled": true
   },
   "outputs": [],
   "source": [
    "# technology expertise\n",
    "te = Counter(exp_demo[:,4])\n",
    "print(np.array(sorted(te.items(), key= lambda t: (t[0]), reverse=False))[:,0])\n",
    "\n",
    "x = np.arange(len(te.keys()))\n",
    "plt.bar(x, np.array(sorted(te.items(), key= lambda t: (t[0]), reverse=False))[:,1])\n",
    "plt.xticks(x, \n",
    "           ('Medium','High'),\n",
    "           rotation=17)\n",
    "plt.title(\"Technology Expertise\")\n",
    "# plt.xlabel(\"Value\")\n",
    "plt.ylabel(\"Count\")\n",
    "\n",
    "plt.show(), Counter(pd.to_numeric(exp_demo[:,4]))"
   ]
  },
  {
   "cell_type": "code",
   "execution_count": null,
   "metadata": {
    "scrolled": false
   },
   "outputs": [],
   "source": [
    "# Feel about technology in your life...\n",
    "\n",
    "tl = Counter(exp_demo[:,5])\n",
    "print(np.array(sorted(tl.items(), key= lambda t: (t[0]), reverse=False))[:,0])\n",
    "\n",
    "x = np.arange(len(tl.keys()))\n",
    "plt.bar(x, np.array(sorted(tl.items(), key= lambda t: (t[0]), reverse=False))[:,1])\n",
    "plt.xticks(x, \n",
    "           ('Neutral','Like'),\n",
    "           rotation=17)\n",
    "plt.title(\"Feel about Technology\")\n",
    "plt.ylabel(\"Count\")\n",
    "\n",
    "plt.show(), Counter(pd.to_numeric(exp_demo[:,5]))"
   ]
  },
  {
   "cell_type": "markdown",
   "metadata": {},
   "source": [
    "# Introductions:\n",
    "There are 4 stages in each experiment: A,B,C,D; Each stage has two sections with identical system settings\n",
    "\n",
    "System settings in the experiment one: \n",
    "\n",
    "|Events| A-1 | A-2 | B-1 | B-2 | C-1 | C-2 | D-1 | D-2 |          \n",
    "| :- |-: |-: |-: |-: |-: |-: |-: |-: |\n",
    "|# True Alerts |12|12|14|14|12|12|14|14|\n",
    "|# False Alerts| 5| 5| 6| 6| 2| 2| 3| 3|\n",
    "|# Misses      | 3| 2| 0| 0| 2| 2| 0| 0|\n",
    "\n",
    "The experiment two has the same system settings to experiment 1, but in a different order, swapped AB and CD\n",
    "\n",
    "|Events| C-1 | C-2 | D-1 | D-2 | A-1 | A-2 | B-1 | B-2 |          \n",
    "| :- |-: |-: |-: |-: |-: |-: |-: |-: |\n",
    "|# True Alerts |12|12|14|14|12|12|14|14|\n",
    "|# False Alerts| 2| 2| 3| 3| 5| 5| 6| 6|\n",
    "|# Misses      | 2| 2| 0| 0| 3| 2| 0| 0|\n",
    "\n",
    "Each experiment has 18 validate results"
   ]
  },
  {
   "cell_type": "markdown",
   "metadata": {},
   "source": [
    "# Trust Scores"
   ]
  },
  {
   "cell_type": "code",
   "execution_count": null,
   "metadata": {},
   "outputs": [],
   "source": [
    "exp1_trust = exp1_data_T.values[1:19,79:87].astype(int)\n",
    "exp2_trust = exp2_data_T.values[1:19,79:87].astype(int)\n",
    "#exp_demo = np.concatenate((exp1_demo,exp2_demo),axis=0)\n",
    "exp_trust = np.vstack((exp1_trust,np.hstack((exp2_trust[:,4:],exp2_trust[:,:4])))).astype(int)\n",
    "exp_trust.shape"
   ]
  },
  {
   "cell_type": "code",
   "execution_count": null,
   "metadata": {},
   "outputs": [],
   "source": [
    "# exp1 mean & std\n",
    "x = np.arange(1,9)\n",
    "y = np.array(exp1_trust.mean(axis=0))\n",
    "e = np.array(exp1_trust.std(axis=0))\n",
    "\n",
    "plt.errorbar(x, y, e, linestyle='None', marker='^')\n",
    "axes = plt.gca()\n",
    "axes.set_ylim([0,5])\n",
    "\n",
    "for xy in zip(x, y):\n",
    "    axes.annotate('%.4s' % xy[1], xy=xy, textcoords='data')\n",
    "\n",
    "plt.title(\"Trust Score: Experiment One\")\n",
    "plt.show()\n",
    "\n",
    "# exp1_trust_ms = np.vstack((exp1_trust.mean(axis=0),exp1_trust.std(axis=0)))"
   ]
  },
  {
   "cell_type": "code",
   "execution_count": null,
   "metadata": {
    "scrolled": true
   },
   "outputs": [],
   "source": [
    "# exp2 mean & std\n",
    "x = np.arange(1,9)\n",
    "y = np.array(exp2_trust.mean(axis=0))\n",
    "e = np.array(exp2_trust.std(axis=0))\n",
    "\n",
    "plt.errorbar(x, y, e, linestyle='None', marker='^')\n",
    "axes = plt.gca()\n",
    "axes.set_ylim([0,5])\n",
    "\n",
    "for xy in zip(x, y):\n",
    "    axes.annotate('%.4s' % xy[1], xy=xy, textcoords='data')\n",
    "    \n",
    "plt.title(\"Trust Score: Experiment Two\")\n",
    "plt.show()\n",
    "\n",
    "# exp2_trust_ms = np.vstack((exp2_trust.mean(axis=0),exp2_trust.std(axis=0)))"
   ]
  },
  {
   "cell_type": "code",
   "execution_count": null,
   "metadata": {},
   "outputs": [],
   "source": [
    "# overall mean & std\n",
    "x = np.arange(1,9)\n",
    "y = np.array(exp_trust.mean(axis=0))\n",
    "e = np.array(exp_trust.std(axis=0))\n",
    "\n",
    "plt.errorbar(x, y, e, linestyle='None', marker='^')\n",
    "axes = plt.gca()\n",
    "axes.set_ylim([0,5])\n",
    "\n",
    "for xy in zip(x, y):\n",
    "    axes.annotate('%.4s' % xy[1], xy=xy, textcoords='data')\n",
    "plt.title(\"Trust score: Both Experiments (in order of ABCD)\")\n",
    "plt.show()\n",
    "\n",
    "# np.vstack((exp_trust.mean(axis=0),exp_trust.std(axis=0)))"
   ]
  },
  {
   "cell_type": "markdown",
   "metadata": {},
   "source": [
    "## t-test between trust scores with high/low false alert rate"
   ]
  },
  {
   "cell_type": "code",
   "execution_count": null,
   "metadata": {},
   "outputs": [],
   "source": [
    "# within subject exp1: high/low false rate\n",
    "\n",
    "exp1_trust_hifalse = exp1_trust[:, np.r_[0:4]].T.ravel()\n",
    "exp1_trust_lofalse = exp1_trust[:, np.r_[4:8]].T.ravel()\n",
    "\n",
    "print(exp1_trust_hifalse.mean(),exp1_trust_hifalse.std())\n",
    "print(exp1_trust_lofalse.mean(),exp1_trust_lofalse.std())\n",
    "sp.ttest_rel(exp1_trust_hifalse,exp1_trust_lofalse)\n",
    "#sp.ttest_ind"
   ]
  },
  {
   "cell_type": "code",
   "execution_count": null,
   "metadata": {},
   "outputs": [],
   "source": [
    "# within subject exp2: high/low false rate\n",
    "\n",
    "exp2_trust_hifalse = exp2_trust[:, np.r_[4:8]].T.ravel()\n",
    "exp2_trust_lofalse = exp2_trust[:, np.r_[0:4]].T.ravel()\n",
    "\n",
    "print(exp2_trust_hifalse.mean(),exp2_trust_hifalse.std())\n",
    "print(exp2_trust_lofalse.mean(),exp2_trust_lofalse.std())\n",
    "sp.ttest_rel(exp2_trust_hifalse,exp2_trust_lofalse)\n",
    "#sp.ttest_ind"
   ]
  },
  {
   "cell_type": "code",
   "execution_count": null,
   "metadata": {},
   "outputs": [],
   "source": [
    "# within subject all exps: high/low false rate\n",
    "\n",
    "exp_trust_hifalse = exp_trust[:, np.r_[0:4]].T.ravel()\n",
    "exp_trust_lofalse = exp_trust[:, np.r_[4:8]].T.ravel()\n",
    "\n",
    "print(exp_trust_hifalse.mean(),exp_trust_hifalse.std())\n",
    "print(exp_trust_lofalse.mean(),exp_trust_lofalse.std())\n",
    "sp.ttest_rel(exp_trust_hifalse,exp_trust_lofalse)"
   ]
  },
  {
   "cell_type": "markdown",
   "metadata": {},
   "source": [
    "## t-test between trust scores with/without event missing rate"
   ]
  },
  {
   "cell_type": "code",
   "execution_count": null,
   "metadata": {},
   "outputs": [],
   "source": [
    "# within subject exp1: with/without misses \n",
    "\n",
    "exp1_trust_misses = np.hstack((exp1_trust[:,0],exp1_trust[:,1],exp1_trust[:,4],exp1_trust[:,5]))\n",
    "exp1_trust_nomisses = np.hstack((exp1_trust[:,2],exp1_trust[:,3],exp1_trust[:,6],exp1_trust[:,7]))\n",
    "\n",
    "print(exp1_trust_misses.mean(),exp1_trust_misses.std())\n",
    "print(exp1_trust_nomisses.mean(),exp1_trust_nomisses.std())\n",
    "sp.ttest_ind(exp1_trust_misses,exp1_trust_nomisses)\n",
    "#sp.ttest_ind"
   ]
  },
  {
   "cell_type": "code",
   "execution_count": null,
   "metadata": {},
   "outputs": [],
   "source": [
    "# within subject exp2: with/without misses\n",
    "\n",
    "exp2_trust_misses = np.hstack((exp2_trust[:,0],exp2_trust[:,1],exp2_trust[:,4],exp2_trust[:,5]))\n",
    "exp2_trust_nomisses = np.hstack((exp2_trust[:,2],exp2_trust[:,3],exp2_trust[:,6],exp2_trust[:,7]))\n",
    "\n",
    "print(exp2_trust_misses.mean(),exp2_trust_misses.std())\n",
    "print(exp2_trust_nomisses.mean(),exp2_trust_nomisses.std())\n",
    "sp.ttest_ind(exp2_trust_misses,exp2_trust_nomisses)\n",
    "#sp.ttest_ind"
   ]
  },
  {
   "cell_type": "code",
   "execution_count": null,
   "metadata": {},
   "outputs": [],
   "source": [
    "# within subject all exps: with/without misses\n",
    "\n",
    "exp_trust_misses = np.hstack((exp_trust[:,0],exp_trust[:,1],exp_trust[:,4],exp_trust[:,5]))\n",
    "exp_trust_nomisses = np.hstack((exp_trust[:,2],exp_trust[:,3],exp_trust[:,6],exp_trust[:,7]))\n",
    "\n",
    "print(exp_trust_misses.mean(),exp_trust_misses.std())\n",
    "print(exp_trust_nomisses.mean(),exp_trust_nomisses.std())\n",
    "sp.ttest_ind(exp_trust_misses,exp_trust_nomisses)\n",
    "#sp.ttest_ind"
   ]
  },
  {
   "cell_type": "markdown",
   "metadata": {},
   "source": [
    "## t-test trust scores between two sections in each stage"
   ]
  },
  {
   "cell_type": "code",
   "execution_count": null,
   "metadata": {},
   "outputs": [],
   "source": [
    "# check if there is a training period\n",
    "\n",
    "exp_trust_sec1 = exp_trust[:, np.r_[0,2,4,6]].T.ravel()\n",
    "exp_trust_sec2 = exp_trust[:, np.r_[1,3,5,7]].T.ravel()\n",
    "\n",
    "print(exp_trust_sec1.mean(),exp_trust_sec1.std())\n",
    "print(exp_trust_sec2.mean(),exp_trust_sec2.std())\n",
    "sp.ttest_rel(exp_trust_sec1,exp_trust_sec2)"
   ]
  },
  {
   "cell_type": "markdown",
   "metadata": {},
   "source": [
    "# Number of Events Attended"
   ]
  },
  {
   "cell_type": "code",
   "execution_count": null,
   "metadata": {},
   "outputs": [],
   "source": [
    "exp1_attend = exp1_data_T.values[1:19,124:132].astype(int)\n",
    "exp2_attend = exp2_data_T.values[1:19,124:132].astype(int)\n",
    "# exp_demo = np.concatenate((exp1_demo,exp2_demo),axis=0)\n",
    "exp_attend = np.vstack((exp1_attend,np.hstack((exp2_attend[:,4:],exp2_attend[:,:4])))).astype(int)\n",
    "exp_attend.shape"
   ]
  },
  {
   "cell_type": "code",
   "execution_count": null,
   "metadata": {},
   "outputs": [],
   "source": [
    "# exp1 mean & std\n",
    "x = np.arange(8)\n",
    "y = np.array(exp1_attend.mean(axis=0))\n",
    "e = np.array(exp1_attend.std(axis=0))\n",
    "\n",
    "plt.errorbar(x, y, e, linestyle='None', marker='^')\n",
    "axes = plt.gca()\n",
    "axes.set_ylim([5,20])\n",
    "\n",
    "for xy in zip(x, y):\n",
    "    axes.annotate('%.4s' % xy[1], xy=xy, textcoords='data')\n",
    "plt.title(\"# Event Attended: Experiment One\")\n",
    "plt.show()\n",
    "\n",
    "# exp1 mean & std\n",
    "np.vstack((exp1_attend.mean(axis=0),exp1_attend.std(axis=0)))"
   ]
  },
  {
   "cell_type": "code",
   "execution_count": null,
   "metadata": {
    "scrolled": true
   },
   "outputs": [],
   "source": [
    "# exp2 mean & std\n",
    "x = np.arange(8)\n",
    "y = np.array(exp2_attend.mean(axis=0))\n",
    "e = np.array(exp2_attend.std(axis=0))\n",
    "\n",
    "plt.errorbar(x, y, e, linestyle='None', marker='^')\n",
    "axes = plt.gca()\n",
    "axes.set_ylim([5,20])\n",
    "\n",
    "for xy in zip(x, y):\n",
    "    axes.annotate('%.4s' % xy[1], xy=xy, textcoords='data')\n",
    "plt.title(\"# Event Attended: Experiment Two\")   \n",
    "plt.show()\n",
    "\n",
    "# exp2 mean & std\n",
    "np.vstack((exp2_attend.mean(axis=0),exp2_attend.std(axis=0)))"
   ]
  },
  {
   "cell_type": "code",
   "execution_count": null,
   "metadata": {},
   "outputs": [],
   "source": [
    "# overall mean & std\n",
    "x = np.arange(8)\n",
    "y = np.array(exp_attend.mean(axis=0))\n",
    "e = np.array(exp_attend.std(axis=0))\n",
    "\n",
    "plt.errorbar(x, y, e, linestyle='None', marker='^')\n",
    "axes = plt.gca()\n",
    "axes.set_ylim([5,20])\n",
    "\n",
    "for xy in zip(x, y):\n",
    "    axes.annotate('%.4s' % xy[1], xy=xy, textcoords='data')\n",
    "plt.title(\"# Event Attended: Both Experiments (in order of ABCD)\")    \n",
    "plt.show()\n",
    "\n",
    "# overall mean & std\n",
    "np.vstack((exp_attend.mean(axis=0),exp_attend.std(axis=0)))"
   ]
  },
  {
   "cell_type": "markdown",
   "metadata": {},
   "source": [
    "## t-test between # attended events with high/low false alert rate"
   ]
  },
  {
   "cell_type": "code",
   "execution_count": null,
   "metadata": {},
   "outputs": [],
   "source": [
    "# within population: high/low false rate\n",
    "\n",
    "exp_attend_hifalse = exp_attend[:, np.r_[0:4]].T.ravel()\n",
    "exp_attend_lofalse = exp_attend[:, np.r_[4:8]].T.ravel()\n",
    "\n",
    "print(exp_attend_hifalse.mean(),exp_attend_hifalse.std())\n",
    "print(exp_attend_lofalse.mean(),exp_attend_lofalse.std())\n",
    "sp.ttest_rel(exp_attend_hifalse,exp_attend_lofalse)\n",
    "#sp.ttest_ind"
   ]
  },
  {
   "cell_type": "markdown",
   "metadata": {},
   "source": [
    "## t-test between # attended events with/without missing rate"
   ]
  },
  {
   "cell_type": "code",
   "execution_count": null,
   "metadata": {},
   "outputs": [],
   "source": [
    "# within population with/without misses\n",
    "\n",
    "exp_attend_misses = np.hstack((exp_attend[:,0],exp_attend[:,1],exp_attend[:,4],exp_attend[:,5]))\n",
    "exp_attend_nomisses = np.hstack((exp_attend[:,2],exp_attend[:,3],exp_attend[:,6],exp_attend[:,7]))\n",
    "\n",
    "print(exp_attend_misses.mean(),exp_attend_misses.std())\n",
    "print(exp_attend_nomisses.mean(),exp_attend_nomisses.std())\n",
    "sp.ttest_rel(exp_attend_misses,exp_attend_nomisses)\n",
    "#sp.ttest_ind"
   ]
  },
  {
   "cell_type": "markdown",
   "metadata": {},
   "source": [
    "## t-test: # attended events between two sections in each stage"
   ]
  },
  {
   "cell_type": "code",
   "execution_count": null,
   "metadata": {},
   "outputs": [],
   "source": [
    "# check if there is a training period\n",
    "\n",
    "exp_attend_sec1 = exp_attend[:, np.r_[0,2,4,6]].T.ravel()\n",
    "exp_attend_sec2 = exp_attend[:, np.r_[1,3,5,7]].T.ravel()\n",
    "\n",
    "print(exp_attend_sec1.mean(),exp_attend_sec1.std())\n",
    "print(exp_attend_sec2.mean(),exp_attend_sec2.std())\n",
    "sp.ttest_rel(exp_attend_sec1,exp_attend_sec2)"
   ]
  },
  {
   "cell_type": "markdown",
   "metadata": {},
   "source": [
    "## Correlation between # Attended Events vs Trust Scores"
   ]
  },
  {
   "cell_type": "code",
   "execution_count": null,
   "metadata": {},
   "outputs": [],
   "source": [
    "# pearson correlation\n",
    "sp.pearsonr(exp_trust.T.ravel(), exp_attend.T.ravel())"
   ]
  },
  {
   "cell_type": "code",
   "execution_count": null,
   "metadata": {},
   "outputs": [],
   "source": [
    "# spearman correlation\n",
    "sp.spearmanr(exp_trust.T.ravel(), exp_attend.T.ravel())"
   ]
  },
  {
   "cell_type": "markdown",
   "metadata": {},
   "source": [
    "# Number of Alerts Attended"
   ]
  },
  {
   "cell_type": "code",
   "execution_count": null,
   "metadata": {
    "scrolled": true
   },
   "outputs": [],
   "source": [
    "exp1_attend_alert = exp1_data_T.values[1:19,280:288].astype(int)\n",
    "exp2_attend_alert = exp2_data_T.values[1:19,280:288].astype(int)\n",
    "# exp_demo = np.concatenate((exp1_demo,exp2_demo),axis=0)\n",
    "exp_attend_alert = np.vstack((exp1_attend_alert,np.hstack((exp2_attend_alert[:,4:],exp2_attend_alert[:,:4])))).astype(int)\n",
    "exp_attend_alert.shape"
   ]
  },
  {
   "cell_type": "code",
   "execution_count": null,
   "metadata": {
    "scrolled": true
   },
   "outputs": [],
   "source": [
    "# exp1 mean & std\n",
    "x = np.arange(8)\n",
    "y = np.array(exp1_attend_alert.mean(axis=0))\n",
    "e = np.array(exp1_attend_alert.std(axis=0))\n",
    "\n",
    "plt.errorbar(x, y, e, linestyle='None', marker='^')\n",
    "axes = plt.gca()\n",
    "axes.set_ylim([5,20])\n",
    "\n",
    "for xy in zip(x, y):\n",
    "    axes.annotate('%.4s' % xy[1], xy=xy, textcoords='data')\n",
    "plt.title(\"# Alerts Attended: Experiment One\")\n",
    "plt.show()\n",
    "\n",
    "# exp1 mean & std\n",
    "np.vstack((exp1_attend_alert.mean(axis=0),exp1_attend_alert.std(axis=0)))"
   ]
  },
  {
   "cell_type": "code",
   "execution_count": null,
   "metadata": {
    "scrolled": true
   },
   "outputs": [],
   "source": [
    "# exp2 mean & std\n",
    "x = np.arange(8)\n",
    "y = np.array(exp2_attend_alert.mean(axis=0))\n",
    "e = np.array(exp2_attend_alert.std(axis=0))\n",
    "\n",
    "plt.errorbar(x, y, e, linestyle='None', marker='^')\n",
    "axes = plt.gca()\n",
    "# axes.set_ylim([5,20])\n",
    "\n",
    "for xy in zip(x, y):\n",
    "    axes.annotate('%.4s' % xy[1], xy=xy, textcoords='data')\n",
    "plt.title(\"# Alerts Attended: Experiment Two\")   \n",
    "plt.show()\n",
    "\n",
    "# exp2 mean & std\n",
    "np.vstack((exp2_attend_alert.mean(axis=0),exp2_attend_alert.std(axis=0)))"
   ]
  },
  {
   "cell_type": "code",
   "execution_count": null,
   "metadata": {},
   "outputs": [],
   "source": [
    "# overall mean & std\n",
    "x = np.arange(8)\n",
    "y = np.array(exp_attend_alert.mean(axis=0))\n",
    "e = np.array(exp_attend_alert.std(axis=0))\n",
    "\n",
    "plt.errorbar(x, y, e, linestyle='None', marker='^')\n",
    "axes = plt.gca()\n",
    "# axes.set_ylim([5,20])\n",
    "\n",
    "for xy in zip(x, y):\n",
    "    axes.annotate('%.4s' % xy[1], xy=xy, textcoords='data')\n",
    "plt.title(\"# Alerts Attended: Both Experiments (in order of ABCD)\")    \n",
    "plt.show()\n",
    "\n",
    "# overall mean & std\n",
    "np.vstack((exp_attend_alert.mean(axis=0),exp_attend_alert.std(axis=0)))"
   ]
  },
  {
   "cell_type": "markdown",
   "metadata": {},
   "source": [
    "## t-test: # attended alerts between two sections in each stage"
   ]
  },
  {
   "cell_type": "code",
   "execution_count": null,
   "metadata": {},
   "outputs": [],
   "source": [
    "# check if there is a training period\n",
    "\n",
    "exp_attend_alert_sec1 = exp_attend_alert[:, np.r_[0,2,4,6]].T.ravel()\n",
    "exp_attend_alert_sec2 = exp_attend_alert[:, np.r_[1,3,5,7]].T.ravel()\n",
    "\n",
    "print(exp_attend_alert_sec1.mean(),exp_attend_alert_sec1.std())\n",
    "print(exp_attend_alert_sec2.mean(),exp_attend_alert_sec2.std())\n",
    "sp.ttest_rel(exp_attend_alert_sec1,exp_attend_alert_sec2)"
   ]
  },
  {
   "cell_type": "markdown",
   "metadata": {},
   "source": [
    "## Correlation between # Attended Alerts(proportion) vs Trust Scores"
   ]
  },
  {
   "cell_type": "code",
   "execution_count": null,
   "metadata": {},
   "outputs": [],
   "source": [
    "# pearson correlation\n",
    "sp.pearsonr(exp_trust.T.ravel(), (exp_attend_alert/np.array([17,17,20,20,14,14,17,17])).T.ravel())"
   ]
  },
  {
   "cell_type": "code",
   "execution_count": null,
   "metadata": {},
   "outputs": [],
   "source": [
    "# spearman correlation\n",
    "sp.spearmanr(exp_trust.T.ravel(), (exp_attend_alert/np.array([17,17,20,20,14,14,17,17])).T.ravel())"
   ]
  },
  {
   "cell_type": "markdown",
   "metadata": {},
   "source": [
    "## Correlation between # Attended False Alerts vs Trust Scores"
   ]
  },
  {
   "cell_type": "code",
   "execution_count": null,
   "metadata": {},
   "outputs": [],
   "source": [
    "exp1_attendf = exp1_data_T.values[1:19,214:222].astype(int)\n",
    "exp2_attendf = exp2_data_T.values[1:19,214:222].astype(int)\n",
    "# exp_demo = np.concatenate((exp1_demo,exp2_demo),axis=0)\n",
    "exp_attendf = np.vstack((exp1_attendf,np.hstack((exp2_attendf[:,4:],exp2_attendf[:,:4])))).astype(int)\n",
    "\n",
    "sp.pearsonr(exp_trust.T.ravel(), (exp_attendf/np.array([17,17,20,20,14,14,17,17])).T.ravel())"
   ]
  },
  {
   "cell_type": "code",
   "execution_count": null,
   "metadata": {},
   "outputs": [],
   "source": [
    "exp1_attendf = exp1_data_T.values[1:19,214:222].astype(int)\n",
    "exp2_attendf = exp2_data_T.values[1:19,214:222].astype(int)\n",
    "# exp_demo = np.concatenate((exp1_demo,exp2_demo),axis=0)\n",
    "exp_attendf = np.vstack((exp1_attendf,np.hstack((exp2_attendf[:,4:],exp2_attendf[:,:4])))).astype(int)\n",
    "\n",
    "sp.spearmanr(exp_trust.T.ravel(), (exp_attendf/np.array([17,17,20,20,14,14,17,17])).T.ravel())"
   ]
  },
  {
   "cell_type": "markdown",
   "metadata": {},
   "source": [
    "# Number of Checks Clicked"
   ]
  },
  {
   "cell_type": "code",
   "execution_count": null,
   "metadata": {
    "scrolled": true
   },
   "outputs": [],
   "source": [
    "exp1_check = exp1_data_T.values[1:19,253:261].astype(int)\n",
    "exp2_check = exp2_data_T.values[1:19,253:261].astype(int)\n",
    "# exp_demo = np.concatenate((exp1_demo,exp2_demo),axis=0)\n",
    "exp_check = np.vstack((exp1_check,np.hstack((exp2_check[:,4:],exp2_check[:,:4])))).astype(int)\n",
    "exp_check.shape"
   ]
  },
  {
   "cell_type": "code",
   "execution_count": null,
   "metadata": {
    "scrolled": true
   },
   "outputs": [],
   "source": [
    "# exp1 mean & std\n",
    "x = np.arange(8)\n",
    "y = np.array(exp1_check.mean(axis=0))\n",
    "e = np.array(exp1_check.std(axis=0))\n",
    "\n",
    "plt.errorbar(x, y, e, linestyle='None', marker='^')\n",
    "axes = plt.gca()\n",
    "axes.set_ylim([0,10])\n",
    "\n",
    "for xy in zip(x, y):\n",
    "    axes.annotate('%.4s' % xy[1], xy=xy, textcoords='data')\n",
    "plt.title(\"# Checks: Experiment One\")\n",
    "plt.show()\n",
    "\n",
    "# exp1 mean & std\n",
    "np.vstack((exp1_check.mean(axis=0),exp1_check.std(axis=0)))"
   ]
  },
  {
   "cell_type": "code",
   "execution_count": null,
   "metadata": {
    "scrolled": true
   },
   "outputs": [],
   "source": [
    "# exp2 mean & std\n",
    "x = np.arange(8)\n",
    "y = np.array(exp2_check.mean(axis=0))\n",
    "e = np.array(exp2_check.std(axis=0))\n",
    "\n",
    "plt.errorbar(x, y, e, linestyle='None', marker='^')\n",
    "axes = plt.gca()\n",
    "axes.set_ylim([0,10])\n",
    "\n",
    "for xy in zip(x, y):\n",
    "    axes.annotate('%.4s' % xy[1], xy=xy, textcoords='data')\n",
    "plt.title(\"# Checks: Experiment Two\")   \n",
    "plt.show()\n",
    "\n",
    "# exp2 mean & std\n",
    "np.vstack((exp2_check.mean(axis=0),exp2_check.std(axis=0)))"
   ]
  },
  {
   "cell_type": "code",
   "execution_count": null,
   "metadata": {},
   "outputs": [],
   "source": [
    "# overall mean & std\n",
    "x = np.arange(8)\n",
    "y = np.array(exp_check.mean(axis=0))\n",
    "e = np.array(exp_check.std(axis=0))\n",
    "\n",
    "plt.errorbar(x, y, e, linestyle='None', marker='^')\n",
    "axes = plt.gca()\n",
    "axes.set_ylim([0,10])\n",
    "\n",
    "for xy in zip(x, y):\n",
    "    axes.annotate('%.4s' % xy[1], xy=xy, textcoords='data')\n",
    "plt.title(\"# Checks: Both Experiments (in order of ABCD)\")    \n",
    "plt.show()\n",
    "\n",
    "# overall mean & std\n",
    "np.vstack((exp_check.mean(axis=0),exp_check.std(axis=0)))"
   ]
  },
  {
   "cell_type": "markdown",
   "metadata": {},
   "source": [
    "## t-test: # checks between two sections in each stage"
   ]
  },
  {
   "cell_type": "code",
   "execution_count": null,
   "metadata": {},
   "outputs": [],
   "source": [
    "# check if there is a training period\n",
    "\n",
    "exp_check_sec1 = exp_check[:, np.r_[0,2,4,6]].T.ravel()\n",
    "exp_check_sec2 = exp_check[:, np.r_[1,3,5,7]].T.ravel()\n",
    "\n",
    "print(exp_check_sec1.mean(),exp_check_sec1.std())\n",
    "print(exp_check_sec2.mean(),exp_check_sec2.std())\n",
    "sp.ttest_rel(exp_check_sec1,exp_check_sec2)"
   ]
  },
  {
   "cell_type": "markdown",
   "metadata": {},
   "source": [
    "## t-test: # checks with high/low false alert rate"
   ]
  },
  {
   "cell_type": "code",
   "execution_count": null,
   "metadata": {},
   "outputs": [],
   "source": [
    "# within population: high/low false rate\n",
    "\n",
    "exp_check_hifalse = exp_check[:, np.r_[0:4]].T.ravel()\n",
    "exp_check_lofalse = exp_check[:, np.r_[4:8]].T.ravel()\n",
    "\n",
    "print(exp_check_hifalse.mean(),exp_check_hifalse.std())\n",
    "print(exp_check_lofalse.mean(),exp_check_lofalse.std())\n",
    "sp.ttest_rel(exp_check_hifalse,exp_check_lofalse)\n",
    "#sp.ttest_ind"
   ]
  },
  {
   "cell_type": "markdown",
   "metadata": {},
   "source": [
    "## t-test: # checks with/without missing events"
   ]
  },
  {
   "cell_type": "code",
   "execution_count": null,
   "metadata": {},
   "outputs": [],
   "source": [
    "# within population with/without misses\n",
    "\n",
    "exp_check_misses = np.hstack((exp_check[:,0],exp_check[:,1],exp_check[:,4],exp_check[:,5]))\n",
    "exp_check_nomisses = np.hstack((exp_check[:,2],exp_check[:,3],exp_check[:,6],exp_check[:,7]))\n",
    "\n",
    "print(exp_check_misses.mean(),exp_check_misses.std())\n",
    "print(exp_check_nomisses.mean(),exp_check_nomisses.std())\n",
    "sp.ttest_rel(exp_check_misses,exp_check_nomisses)\n",
    "#sp.ttest_ind"
   ]
  },
  {
   "cell_type": "markdown",
   "metadata": {},
   "source": [
    "## Correlation between # Checks vs Trust Scores"
   ]
  },
  {
   "cell_type": "code",
   "execution_count": null,
   "metadata": {},
   "outputs": [],
   "source": [
    "# pearson correlation\n",
    "sp.pearsonr(exp_trust.T.ravel(), exp_check.T.ravel())"
   ]
  },
  {
   "cell_type": "code",
   "execution_count": null,
   "metadata": {},
   "outputs": [],
   "source": [
    "# spearman correlation\n",
    "sp.spearmanr(exp_trust.T.ravel(), exp_check.T.ravel())"
   ]
  },
  {
   "cell_type": "markdown",
   "metadata": {},
   "source": [
    "# Num of Admin Tasks"
   ]
  },
  {
   "cell_type": "code",
   "execution_count": null,
   "metadata": {},
   "outputs": [],
   "source": [
    "exp1_admin = exp1_data_T.values[1:19,94:102].astype(int)\n",
    "exp2_admin = exp2_data_T.values[1:19,94:102].astype(int)\n",
    "# exp_demo = np.concatenate((exp1_demo,exp2_demo),axis=0)\n",
    "exp_admin = np.vstack((exp1_admin,np.hstack((exp2_admin[:,4:],exp2_admin[:,:4])))).astype(int)\n",
    "exp_admin.shape"
   ]
  },
  {
   "cell_type": "code",
   "execution_count": null,
   "metadata": {},
   "outputs": [],
   "source": [
    "# exp1 mean & std\n",
    "x = np.arange(8)\n",
    "y = np.array(exp1_admin.mean(axis=0))\n",
    "e = np.array(exp1_admin.std(axis=0))\n",
    "\n",
    "plt.errorbar(x, y, e, linestyle='None', marker='^')\n",
    "axes = plt.gca()\n",
    "axes.set_ylim([30,60])\n",
    "\n",
    "for xy in zip(x, y):\n",
    "    axes.annotate('%.4s' % xy[1], xy=xy, textcoords='data')\n",
    "    \n",
    "plt.title(\"# Admin Tasks: Experiment 1 (ABCD)\")    \n",
    "plt.show()\n",
    "\n",
    "# exp1 mean & std\n",
    "np.vstack((exp1_admin.mean(axis=0),exp1_admin.std(axis=0)))"
   ]
  },
  {
   "cell_type": "code",
   "execution_count": null,
   "metadata": {
    "scrolled": true
   },
   "outputs": [],
   "source": [
    "# exp2 mean & std\n",
    "x = np.arange(8)\n",
    "y = np.array(exp2_admin.mean(axis=0))\n",
    "e = np.array(exp2_admin.std(axis=0))\n",
    "\n",
    "plt.errorbar(x, y, e, linestyle='None', marker='^')\n",
    "axes = plt.gca()\n",
    "axes.set_ylim([30,60])\n",
    "\n",
    "for xy in zip(x, y):\n",
    "    axes.annotate('%.4s' % xy[1], xy=xy, textcoords='data')\n",
    "\n",
    "plt.title(\"# Admin Tasks: Experiment 2 (CDAB)\")    \n",
    "plt.show()\n",
    "\n",
    "# exp2 mean & std\n",
    "np.vstack((exp2_admin.mean(axis=0),exp2_admin.std(axis=0)))"
   ]
  },
  {
   "cell_type": "code",
   "execution_count": null,
   "metadata": {},
   "outputs": [],
   "source": [
    "# overall mean & std\n",
    "x = np.arange(8)\n",
    "y = np.array(exp_admin.mean(axis=0))\n",
    "e = np.array(exp_admin.std(axis=0))\n",
    "\n",
    "plt.errorbar(x, y, e, linestyle='None', marker='^')\n",
    "axes = plt.gca()\n",
    "axes.set_ylim([30,60])\n",
    "\n",
    "for xy in zip(x, y):\n",
    "    axes.annotate('%.4s' % xy[1], xy=xy, textcoords='data')\n",
    "plt.title(\"# Admin tasks: Both Experiments (in order of ABCD)\")    \n",
    "plt.show()\n",
    "\n",
    "# overall mean & std\n",
    "np.vstack((exp_admin.mean(axis=0),exp_admin.std(axis=0)))"
   ]
  },
  {
   "cell_type": "markdown",
   "metadata": {},
   "source": [
    "## Correlation between # Attended Admins vs # Attended Alerts"
   ]
  },
  {
   "cell_type": "code",
   "execution_count": null,
   "metadata": {},
   "outputs": [],
   "source": [
    "# pearson correlation\n",
    "sp.pearsonr(exp_admin.T.ravel(), exp_attend_alert.ravel())"
   ]
  },
  {
   "cell_type": "code",
   "execution_count": null,
   "metadata": {},
   "outputs": [],
   "source": [
    "# spearman correlation\n",
    "sp.spearmanr(exp_admin.T.ravel(), exp_attend_alert.ravel())"
   ]
  },
  {
   "cell_type": "markdown",
   "metadata": {},
   "source": [
    "# Earnings & Losses"
   ]
  },
  {
   "cell_type": "code",
   "execution_count": null,
   "metadata": {
    "collapsed": true
   },
   "outputs": [],
   "source": [
    "exp1_admin_w = exp1_data_T.values[1:19,114:122].astype(int)\n",
    "exp2_admin_w = exp2_data_T.values[1:19,114:122].astype(int)\n",
    "exp_admin_w = np.vstack((exp1_admin_w,np.hstack((exp2_admin_w[:,4:],exp2_admin_w[:,:4])))).astype(int)\n",
    "\n",
    "# correct cards:$4 \n",
    "# wrong cards: $4\n",
    "# use (total admin - 2x wrong admin)x$4 to get net profit\n",
    "Earnings_admin = 4*(exp_admin - 2*exp_admin_w)"
   ]
  },
  {
   "cell_type": "code",
   "execution_count": null,
   "metadata": {},
   "outputs": [],
   "source": [
    "# overall mean & std\n",
    "x = np.arange(8)\n",
    "y = np.array(Earnings_admin.mean(axis=0))\n",
    "e = np.array(Earnings_admin.std(axis=0))\n",
    "\n",
    "plt.errorbar(x, y, e, linestyle='None', marker='^')\n",
    "axes = plt.gca()\n",
    "# axes.set_ylim([30,60])\n",
    "\n",
    "for xy in zip(x, y):\n",
    "    axes.annotate('%.5s' % xy[1], xy=xy, textcoords='data')\n",
    "plt.title(\"Admin earnings: Both Experiments (in order of ABCD)\")    \n",
    "plt.show()\n",
    "\n",
    "# overall mean & std\n",
    "np.vstack((Earnings_admin.mean(axis=0),Earnings_admin.std(axis=0)))"
   ]
  },
  {
   "cell_type": "code",
   "execution_count": null,
   "metadata": {
    "collapsed": true
   },
   "outputs": [],
   "source": [
    "# final balance\n",
    "exp1_fnl_balance = exp1_data_T.values[1:19,244:252].astype(int)\n",
    "exp2_fnl_balance = exp2_data_T.values[1:19,244:252].astype(int)\n",
    "# exp_demo = np.concatenate((exp1_demo,exp2_demo),axis=0)\n",
    "exp_fnl_balance = np.vstack((exp1_fnl_balance,np.hstack((exp2_fnl_balance[:,4:],exp2_fnl_balance[:,:4])))).astype(int)\n",
    "\n",
    "# reverse engineering to find total losses from monitoring system\n",
    "Total_loss = exp_fnl_balance - Earnings_admin - 150"
   ]
  },
  {
   "cell_type": "code",
   "execution_count": null,
   "metadata": {},
   "outputs": [],
   "source": [
    "# overall mean & std\n",
    "x = np.arange(8)\n",
    "y = np.array(Total_loss.mean(axis=0))\n",
    "e = np.array(Total_loss.std(axis=0))\n",
    "\n",
    "plt.errorbar(x, y, e, linestyle='None', marker='^')\n",
    "axes = plt.gca()\n",
    "# axes.set_ylim([30,60])\n",
    "\n",
    "for xy in zip(x, y):\n",
    "    axes.annotate('%.5s' % xy[1], xy=xy, textcoords='data')\n",
    "plt.title(\"Total losses: Both Experiments (in order of ABCD)\")    \n",
    "plt.show()\n",
    "\n",
    "# overall mean & std\n",
    "np.vstack((Total_loss.mean(axis=0),Total_loss.std(axis=0)))"
   ]
  },
  {
   "cell_type": "code",
   "execution_count": null,
   "metadata": {},
   "outputs": [],
   "source": [
    "# overall mean & std\n",
    "x = np.arange(8)\n",
    "y = np.array(exp_fnl_balance.mean(axis=0))\n",
    "e = np.array(exp_fnl_balance.std(axis=0))\n",
    "\n",
    "plt.errorbar(x, y, e, linestyle='None', marker='^')\n",
    "axes = plt.gca()\n",
    "# axes.set_ylim([30,60])\n",
    "\n",
    "for xy in zip(x, y):\n",
    "    axes.annotate('%.5s' % xy[1], xy=xy, textcoords='data')\n",
    "plt.title(\"Final balance: Both Experiments (in order of ABCD)\")    \n",
    "plt.show()\n",
    "\n",
    "# overall mean & std\n",
    "np.vstack((exp_fnl_balance.mean(axis=0),exp_fnl_balance.std(axis=0)))"
   ]
  },
  {
   "cell_type": "markdown",
   "metadata": {},
   "source": [
    "# Propensity Questions"
   ]
  },
  {
   "cell_type": "code",
   "execution_count": null,
   "metadata": {
    "collapsed": true
   },
   "outputs": [],
   "source": [
    "exp1_prop = exp1_data_T.values[1:19,9:15].astype(int)\n",
    "exp2_prop = exp2_data_T.values[1:19,9:15].astype(int)\n",
    "# exp_demo = np.concatenate((exp1_demo,exp2_demo),axis=0)\n",
    "exp_prop = np.vstack((exp1_prop,np.hstack((exp2_prop[:,4:],exp2_prop[:,:4])))).astype(int)"
   ]
  },
  {
   "cell_type": "code",
   "execution_count": null,
   "metadata": {},
   "outputs": [],
   "source": [
    "# overall mean & std\n",
    "x = np.arange(6)+1\n",
    "y = np.array(exp_prop.mean(axis=0))\n",
    "e = np.array(exp_prop.std(axis=0))\n",
    "\n",
    "plt.errorbar(x, y, e, linestyle='None', marker='^')\n",
    "axes = plt.gca()\n",
    "axes.set_ylim([0,5])\n",
    "\n",
    "for xy in zip(x, y):\n",
    "    axes.annotate('%.4s' % xy[1], xy=xy, textcoords='data')\n",
    "plt.title(\"Propensity Questions: Both Experiments (ABCD) \\n 1: strongly disagree 5 strongly agree\")    \n",
    "plt.show()\n",
    "\n",
    "# overall mean & std\n",
    "np.vstack((exp_prop.mean(axis=0),exp_prop.std(axis=0)))"
   ]
  },
  {
   "cell_type": "markdown",
   "metadata": {},
   "source": [
    "# Post-stage Questions"
   ]
  },
  {
   "cell_type": "code",
   "execution_count": null,
   "metadata": {
    "collapsed": true
   },
   "outputs": [],
   "source": [
    "# exp1_pstq = np.hstack((exp1_data_T.values[1:19,16:19],exp1_data_T.values[1:19,21:28],\n",
    "#                        exp1_data_T.values[1:19,29:32],exp1_data_T.values[1:19,34:41],\n",
    "#                        exp1_data_T.values[1:19,42:45],exp1_data_T.values[1:19,47:54],\n",
    "#                        exp1_data_T.values[1:19,55:58],exp1_data_T.values[1:19,60:67])).astype(int)\n",
    "# exp2_pstq = np.hstack((exp2_data_T.values[1:19,16:19],exp2_data_T.values[1:19,21:28],\n",
    "#                        exp2_data_T.values[1:19,29:32],exp2_data_T.values[1:19,34:41],\n",
    "#                        exp2_data_T.values[1:19,42:45],exp2_data_T.values[1:19,47:54],\n",
    "#                        exp2_data_T.values[1:19,55:58],exp2_data_T.values[1:19,60:67])).astype(int)\n",
    "\n",
    "exp1_pstq = exp1_data_T.values[1:19, np.r_[16:19,21:28,29:32,34:41,42:45,47:54,55:58,60:67]].astype(int)\n",
    "exp2_pstq = exp2_data_T.values[1:19, np.r_[16:19,21:28,29:32,34:41,42:45,47:54,55:58,60:67]].astype(int)\n",
    "\n",
    "# exp_demo = np.concatenate((exp1_demo,exp2_demo),axis=0)\n",
    "exp_pstq = np.vstack((exp1_pstq,np.hstack((exp2_pstq[:,20:],exp2_pstq[:,:20])))).astype(int)"
   ]
  },
  {
   "cell_type": "code",
   "execution_count": null,
   "metadata": {
    "scrolled": false
   },
   "outputs": [],
   "source": [
    "# overall mean & std\n",
    "np.vstack((exp_pstq.mean(axis=0),exp_pstq.std(axis=0)))"
   ]
  },
  {
   "cell_type": "code",
   "execution_count": null,
   "metadata": {},
   "outputs": [],
   "source": [
    "# exp1 mean & std\n",
    "np.vstack((exp1_pstq.mean(axis=0),exp1_pstq.std(axis=0)))"
   ]
  },
  {
   "cell_type": "code",
   "execution_count": null,
   "metadata": {
    "scrolled": true
   },
   "outputs": [],
   "source": [
    "# exp2 mean & std\n",
    "np.vstack((exp2_pstq.mean(axis=0),exp2_pstq.std(axis=0)))"
   ]
  },
  {
   "cell_type": "markdown",
   "metadata": {
    "collapsed": true
   },
   "source": [
    "# Post-game Questions"
   ]
  },
  {
   "cell_type": "code",
   "execution_count": null,
   "metadata": {},
   "outputs": [],
   "source": [
    "exp1_pgq = exp1_data_T.values[1:19,69:76]\n",
    "exp2_pgq = exp2_data_T.values[1:19,69:76]\n",
    "exp_pgq = np.vstack((exp1_pgq,exp2_pgq)).astype(int)\n",
    "exp_pgq"
   ]
  },
  {
   "cell_type": "code",
   "execution_count": null,
   "metadata": {},
   "outputs": [],
   "source": [
    "pg1 = Counter(exp_pgq[:,0])\n",
    "print(np.array(sorted(pg1.items(), key= lambda t: (t[0]), reverse=False))[:,0])\n",
    "\n",
    "x = np.arange(len(pg1.keys()))\n",
    "plt.bar(x, np.array(sorted(pg1.items(), key= lambda t: (t[0]), reverse=False))[:,1])\n",
    "plt.xticks(x, \n",
    "           ('Difficult','Fine','Easy','Very Easy'),\n",
    "           rotation=17)\n",
    "plt.title(\"How difficult was your admin job in the experiment?\")\n",
    "# plt.xlabel(\"Value\")\n",
    "plt.ylabel(\"Count\")\n",
    "\n",
    "plt.show(), Counter(pd.to_numeric(exp_pgq[:,0]))"
   ]
  },
  {
   "cell_type": "code",
   "execution_count": null,
   "metadata": {},
   "outputs": [],
   "source": [
    "pg2 = Counter(exp_pgq[:,1])\n",
    "print(np.array(sorted(pg2.items(), key= lambda t: (t[0]), reverse=False))[:,0])\n",
    "\n",
    "x = np.arange(len(pg2.keys()))\n",
    "plt.bar(x, np.array(sorted(pg2.items(), key= lambda t: (t[0]), reverse=False))[:,1])\n",
    "plt.xticks(x, \n",
    "           ('Quite bored','A little bored','Neutral','A little engaged','Quite engaged'),\n",
    "           rotation=17)\n",
    "plt.title(\"How engaged were you with the experiment?\")\n",
    "# plt.xlabel(\"Value\")\n",
    "plt.ylabel(\"Count\")\n",
    "\n",
    "plt.show(), Counter(pd.to_numeric(exp_pgq[:,1]))"
   ]
  },
  {
   "cell_type": "code",
   "execution_count": null,
   "metadata": {},
   "outputs": [],
   "source": [
    "pg3 = Counter(exp_pgq[:,2])\n",
    "print(np.array(sorted(pg3.items(), key= lambda t: (t[0]), reverse=False))[:,0])"
   ]
  },
  {
   "cell_type": "code",
   "execution_count": null,
   "metadata": {},
   "outputs": [],
   "source": [
    "x = np.arange(len(pg3.keys()))\n",
    "plt.bar(x, np.array(sorted(pg3.items(), key= lambda t: (t[0]), reverse=False))[:,1])\n",
    "plt.xticks(x, \n",
    "           ('Quite Stressful','A little stressful','Not at all'),\n",
    "           rotation=17)\n",
    "plt.title(\"How stressful was the experiment?\")\n",
    "# plt.xlabel(\"Value\")\n",
    "plt.ylabel(\"Count\")\n",
    "\n",
    "plt.show(), Counter(pd.to_numeric(exp_pgq[:,2]))"
   ]
  },
  {
   "cell_type": "code",
   "execution_count": null,
   "metadata": {},
   "outputs": [],
   "source": [
    "pg4 = Counter(exp_pgq[:,3])\n",
    "print(np.array(sorted(pg4.items(), key= lambda t: (t[0]), reverse=False))[:,0])"
   ]
  },
  {
   "cell_type": "code",
   "execution_count": null,
   "metadata": {},
   "outputs": [],
   "source": [
    "x = np.arange(len(pg4.keys()))\n",
    "plt.bar(x, np.array(sorted(pg4.items(), key= lambda t: (t[0]), reverse=False))[:,1])\n",
    "plt.xticks(x, \n",
    "           ('Not at all','A little','Moderately','Very'),\n",
    "           rotation=17)\n",
    "plt.title(\"How important to do well in the card game?\")\n",
    "# plt.xlabel(\"Value\")\n",
    "plt.ylabel(\"Count\")\n",
    "\n",
    "plt.show(), Counter(pd.to_numeric(exp_pgq[:,3]))"
   ]
  },
  {
   "cell_type": "code",
   "execution_count": null,
   "metadata": {},
   "outputs": [],
   "source": [
    "pg5 = Counter(exp_pgq[:,4])\n",
    "print(np.array(sorted(pg5.items(), key= lambda t: (t[0]), reverse=False))[:,0])"
   ]
  },
  {
   "cell_type": "code",
   "execution_count": null,
   "metadata": {},
   "outputs": [],
   "source": [
    "x = np.arange(len(pg5.keys()))\n",
    "plt.bar(x, np.array(sorted(pg5.items(), key= lambda t: (t[0]), reverse=False))[:,1])\n",
    "plt.xticks(x, \n",
    "           ('Not at all','A little','Moderately','Very'),\n",
    "           rotation=17)\n",
    "plt.title(\"How important was it for you that the elderly residents are ok?\")\n",
    "# plt.xlabel(\"Value\")\n",
    "plt.ylabel(\"Count\")\n",
    "\n",
    "plt.show(), Counter(pd.to_numeric(exp_pgq[:,4]))"
   ]
  },
  {
   "cell_type": "code",
   "execution_count": null,
   "metadata": {},
   "outputs": [],
   "source": [
    "pg6 = Counter(exp_pgq[:,5])\n",
    "print(np.array(sorted(pg6.items(), key= lambda t: (t[0]), reverse=False))[:,0])"
   ]
  },
  {
   "cell_type": "code",
   "execution_count": null,
   "metadata": {},
   "outputs": [],
   "source": [
    "x = np.arange(len(pg6.keys()))\n",
    "plt.bar(x, np.array(sorted(pg6.items(), key= lambda t: (t[0]), reverse=False))[:,1])\n",
    "plt.xticks(x, \n",
    "           ('The game experience','Interim report','Both'),\n",
    "           rotation=0)\n",
    "plt.title(\"How did you determine the trust to monitoring system?\")\n",
    "# plt.xlabel(\"Value\")\n",
    "plt.ylabel(\"Count\")\n",
    "\n",
    "plt.show(), Counter(pd.to_numeric(exp_pgq[:,5]))"
   ]
  },
  {
   "cell_type": "code",
   "execution_count": null,
   "metadata": {},
   "outputs": [],
   "source": [
    "pg7 = Counter(exp_pgq[:,6])\n",
    "print(np.array(sorted(pg7.items(), key= lambda t: (t[0]), reverse=False))[:,0])"
   ]
  },
  {
   "cell_type": "code",
   "execution_count": null,
   "metadata": {
    "scrolled": true
   },
   "outputs": [],
   "source": [
    "x = np.arange(len(pg7.keys()))\n",
    "plt.bar(x, np.array(sorted(pg7.items(), key= lambda t: (t[0]), reverse=False))[:,1])\n",
    "plt.xticks(x, \n",
    "           ('No','Yes'))\n",
    "plt.title(\"Was the tutorial video sufficiently helpful?\")\n",
    "# plt.xlabel(\"Value\")\n",
    "plt.ylabel(\"Count\")\n",
    "\n",
    "plt.show(), Counter(pd.to_numeric(exp_pgq[:,6]))"
   ]
  },
  {
   "cell_type": "code",
   "execution_count": null,
   "metadata": {
    "collapsed": true
   },
   "outputs": [],
   "source": []
  }
 ],
 "metadata": {
  "kernelspec": {
   "display_name": "Python 3",
   "language": "python",
   "name": "python3"
  },
  "language_info": {
   "codemirror_mode": {
    "name": "ipython",
    "version": 3
   },
   "file_extension": ".py",
   "mimetype": "text/x-python",
   "name": "python",
   "nbconvert_exporter": "python",
   "pygments_lexer": "ipython3",
   "version": "3.6.1"
  }
 },
 "nbformat": 4,
 "nbformat_minor": 2
}
