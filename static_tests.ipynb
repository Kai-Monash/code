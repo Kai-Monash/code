{
 "cells": [
  {
   "cell_type": "code",
   "execution_count": 1,
   "metadata": {
    "collapsed": true
   },
   "outputs": [],
   "source": [
    "import pandas as pd\n",
    "import matplotlib.pyplot as plt\n",
    "import numpy as np\n",
    "import scipy.stats as sp\n",
    "import sklearn.preprocessing as sk\n",
    "from collections import Counter\n",
    "\n",
    "# from matplotlib.ticker import FuncFormatter\n",
    "%matplotlib inline"
   ]
  },
  {
   "cell_type": "code",
   "execution_count": 2,
   "metadata": {},
   "outputs": [],
   "source": [
    "exp1_data = pd.read_csv(\"allTogetherSep.csv\")\n",
    "exp2_data = pd.read_csv(\"allTogetherOct.csv\")"
   ]
  },
  {
   "cell_type": "code",
   "execution_count": 3,
   "metadata": {
    "scrolled": true
   },
   "outputs": [
    {
     "data": {
      "text/html": [
       "<div>\n",
       "<style>\n",
       "    .dataframe thead tr:only-child th {\n",
       "        text-align: right;\n",
       "    }\n",
       "\n",
       "    .dataframe thead th {\n",
       "        text-align: left;\n",
       "    }\n",
       "\n",
       "    .dataframe tbody tr th {\n",
       "        vertical-align: top;\n",
       "    }\n",
       "</style>\n",
       "<table border=\"1\" class=\"dataframe\">\n",
       "  <thead>\n",
       "    <tr style=\"text-align: right;\">\n",
       "      <th></th>\n",
       "      <th>index</th>\n",
       "      <th>0</th>\n",
       "      <th>1</th>\n",
       "      <th>2</th>\n",
       "      <th>3</th>\n",
       "      <th>4</th>\n",
       "      <th>5</th>\n",
       "      <th>6</th>\n",
       "      <th>7</th>\n",
       "      <th>8</th>\n",
       "      <th>...</th>\n",
       "      <th>241</th>\n",
       "      <th>242</th>\n",
       "      <th>243</th>\n",
       "      <th>244</th>\n",
       "      <th>245</th>\n",
       "      <th>246</th>\n",
       "      <th>247</th>\n",
       "      <th>248</th>\n",
       "      <th>249</th>\n",
       "      <th>250</th>\n",
       "    </tr>\n",
       "  </thead>\n",
       "  <tbody>\n",
       "    <tr>\n",
       "      <th>0</th>\n",
       "      <td>Basic information</td>\n",
       "      <td>What is your gender?</td>\n",
       "      <td>Please indicate your age</td>\n",
       "      <td>Please indicate your ethnic background (optional)</td>\n",
       "      <td>What is your highest level of education?</td>\n",
       "      <td>How would you rate your technology expertise?</td>\n",
       "      <td>How do you feel about including technology in ...</td>\n",
       "      <td>How would you rate your experience with smart ...</td>\n",
       "      <td>Propensity Questions</td>\n",
       "      <td>I usually trust machines until there is a reas...</td>\n",
       "      <td>...</td>\n",
       "      <td>Earnings</td>\n",
       "      <td>trial</td>\n",
       "      <td>exp1-st1-sec1</td>\n",
       "      <td>exp1-st1-sec2</td>\n",
       "      <td>exp1-st2-sec1</td>\n",
       "      <td>exp1-st2-sec2</td>\n",
       "      <td>exp2-st1-sec1</td>\n",
       "      <td>exp2-st1-sec2</td>\n",
       "      <td>exp2-st2-sec1</td>\n",
       "      <td>exp2-st2-sec2</td>\n",
       "    </tr>\n",
       "    <tr>\n",
       "      <th>1</th>\n",
       "      <td>1</td>\n",
       "      <td>2</td>\n",
       "      <td>1</td>\n",
       "      <td>7</td>\n",
       "      <td>4</td>\n",
       "      <td>2</td>\n",
       "      <td>0</td>\n",
       "      <td>3</td>\n",
       "      <td>NaN</td>\n",
       "      <td>3</td>\n",
       "      <td>...</td>\n",
       "      <td>NaN</td>\n",
       "      <td>38</td>\n",
       "      <td>-450</td>\n",
       "      <td>-370</td>\n",
       "      <td>-293</td>\n",
       "      <td>174</td>\n",
       "      <td>116</td>\n",
       "      <td>220</td>\n",
       "      <td>192</td>\n",
       "      <td>228</td>\n",
       "    </tr>\n",
       "    <tr>\n",
       "      <th>2</th>\n",
       "      <td>2</td>\n",
       "      <td>1</td>\n",
       "      <td>1</td>\n",
       "      <td>4</td>\n",
       "      <td>4</td>\n",
       "      <td>2</td>\n",
       "      <td>1</td>\n",
       "      <td>2</td>\n",
       "      <td>NaN</td>\n",
       "      <td>4</td>\n",
       "      <td>...</td>\n",
       "      <td>NaN</td>\n",
       "      <td>58</td>\n",
       "      <td>4</td>\n",
       "      <td>118</td>\n",
       "      <td>79</td>\n",
       "      <td>119</td>\n",
       "      <td>90</td>\n",
       "      <td>249</td>\n",
       "      <td>180</td>\n",
       "      <td>231</td>\n",
       "    </tr>\n",
       "    <tr>\n",
       "      <th>3</th>\n",
       "      <td>3</td>\n",
       "      <td>2</td>\n",
       "      <td>1</td>\n",
       "      <td>7</td>\n",
       "      <td>4</td>\n",
       "      <td>2</td>\n",
       "      <td>1</td>\n",
       "      <td>2</td>\n",
       "      <td>NaN</td>\n",
       "      <td>4</td>\n",
       "      <td>...</td>\n",
       "      <td>NaN</td>\n",
       "      <td>39</td>\n",
       "      <td>114</td>\n",
       "      <td>120</td>\n",
       "      <td>116</td>\n",
       "      <td>135</td>\n",
       "      <td>225</td>\n",
       "      <td>155</td>\n",
       "      <td>206</td>\n",
       "      <td>228</td>\n",
       "    </tr>\n",
       "    <tr>\n",
       "      <th>4</th>\n",
       "      <td>4</td>\n",
       "      <td>2</td>\n",
       "      <td>1</td>\n",
       "      <td>4</td>\n",
       "      <td>4</td>\n",
       "      <td>3</td>\n",
       "      <td>1</td>\n",
       "      <td>2</td>\n",
       "      <td>NaN</td>\n",
       "      <td>4</td>\n",
       "      <td>...</td>\n",
       "      <td>NaN</td>\n",
       "      <td>NaN</td>\n",
       "      <td>-386</td>\n",
       "      <td>103</td>\n",
       "      <td>176</td>\n",
       "      <td>31</td>\n",
       "      <td>226</td>\n",
       "      <td>180</td>\n",
       "      <td>218</td>\n",
       "      <td>238</td>\n",
       "    </tr>\n",
       "    <tr>\n",
       "      <th>5</th>\n",
       "      <td>5</td>\n",
       "      <td>2</td>\n",
       "      <td>1</td>\n",
       "      <td>7</td>\n",
       "      <td>4</td>\n",
       "      <td>2</td>\n",
       "      <td>1</td>\n",
       "      <td>2</td>\n",
       "      <td>NaN</td>\n",
       "      <td>4</td>\n",
       "      <td>...</td>\n",
       "      <td>NaN</td>\n",
       "      <td>91</td>\n",
       "      <td>64</td>\n",
       "      <td>119</td>\n",
       "      <td>36</td>\n",
       "      <td>95</td>\n",
       "      <td>160</td>\n",
       "      <td>183</td>\n",
       "      <td>150</td>\n",
       "      <td>160</td>\n",
       "    </tr>\n",
       "    <tr>\n",
       "      <th>6</th>\n",
       "      <td>6</td>\n",
       "      <td>2</td>\n",
       "      <td>1</td>\n",
       "      <td>7</td>\n",
       "      <td>3</td>\n",
       "      <td>2</td>\n",
       "      <td>0</td>\n",
       "      <td>2</td>\n",
       "      <td>NaN</td>\n",
       "      <td>5</td>\n",
       "      <td>...</td>\n",
       "      <td>NaN</td>\n",
       "      <td>-96</td>\n",
       "      <td>38</td>\n",
       "      <td>90</td>\n",
       "      <td>184</td>\n",
       "      <td>136</td>\n",
       "      <td>127</td>\n",
       "      <td>69</td>\n",
       "      <td>192</td>\n",
       "      <td>123</td>\n",
       "    </tr>\n",
       "    <tr>\n",
       "      <th>7</th>\n",
       "      <td>7</td>\n",
       "      <td>1</td>\n",
       "      <td>1</td>\n",
       "      <td>4</td>\n",
       "      <td>4</td>\n",
       "      <td>2</td>\n",
       "      <td>1</td>\n",
       "      <td>1</td>\n",
       "      <td>NaN</td>\n",
       "      <td>4</td>\n",
       "      <td>...</td>\n",
       "      <td>NaN</td>\n",
       "      <td>NaN</td>\n",
       "      <td>-77</td>\n",
       "      <td>-42</td>\n",
       "      <td>-156</td>\n",
       "      <td>-330</td>\n",
       "      <td>-431</td>\n",
       "      <td>-300</td>\n",
       "      <td>-553</td>\n",
       "      <td>-204</td>\n",
       "    </tr>\n",
       "    <tr>\n",
       "      <th>8</th>\n",
       "      <td>9</td>\n",
       "      <td>1</td>\n",
       "      <td>1</td>\n",
       "      <td>4</td>\n",
       "      <td>2</td>\n",
       "      <td>2</td>\n",
       "      <td>1</td>\n",
       "      <td>2</td>\n",
       "      <td>NaN</td>\n",
       "      <td>4</td>\n",
       "      <td>...</td>\n",
       "      <td>NaN</td>\n",
       "      <td>NaN</td>\n",
       "      <td>-133</td>\n",
       "      <td>139</td>\n",
       "      <td>23</td>\n",
       "      <td>159</td>\n",
       "      <td>159</td>\n",
       "      <td>151</td>\n",
       "      <td>233</td>\n",
       "      <td>231</td>\n",
       "    </tr>\n",
       "    <tr>\n",
       "      <th>9</th>\n",
       "      <td>10</td>\n",
       "      <td>1</td>\n",
       "      <td>1</td>\n",
       "      <td>1</td>\n",
       "      <td>5</td>\n",
       "      <td>2</td>\n",
       "      <td>0</td>\n",
       "      <td>1</td>\n",
       "      <td>NaN</td>\n",
       "      <td>5</td>\n",
       "      <td>...</td>\n",
       "      <td>NaN</td>\n",
       "      <td>33</td>\n",
       "      <td>-458</td>\n",
       "      <td>-541</td>\n",
       "      <td>-471</td>\n",
       "      <td>-675</td>\n",
       "      <td>-749</td>\n",
       "      <td>-229</td>\n",
       "      <td>-449</td>\n",
       "      <td>-279</td>\n",
       "    </tr>\n",
       "    <tr>\n",
       "      <th>10</th>\n",
       "      <td>11</td>\n",
       "      <td>2</td>\n",
       "      <td>1</td>\n",
       "      <td>7</td>\n",
       "      <td>3</td>\n",
       "      <td>2</td>\n",
       "      <td>1</td>\n",
       "      <td>2</td>\n",
       "      <td>NaN</td>\n",
       "      <td>4</td>\n",
       "      <td>...</td>\n",
       "      <td>NaN</td>\n",
       "      <td>NaN</td>\n",
       "      <td>-358</td>\n",
       "      <td>59</td>\n",
       "      <td>178</td>\n",
       "      <td>196</td>\n",
       "      <td>230</td>\n",
       "      <td>199</td>\n",
       "      <td>245</td>\n",
       "      <td>265</td>\n",
       "    </tr>\n",
       "    <tr>\n",
       "      <th>11</th>\n",
       "      <td>12</td>\n",
       "      <td>1</td>\n",
       "      <td>1</td>\n",
       "      <td>4</td>\n",
       "      <td>2</td>\n",
       "      <td>3</td>\n",
       "      <td>1</td>\n",
       "      <td>1</td>\n",
       "      <td>NaN</td>\n",
       "      <td>4</td>\n",
       "      <td>...</td>\n",
       "      <td>NaN</td>\n",
       "      <td>NaN</td>\n",
       "      <td>34</td>\n",
       "      <td>90</td>\n",
       "      <td>114</td>\n",
       "      <td>140</td>\n",
       "      <td>159</td>\n",
       "      <td>174</td>\n",
       "      <td>202</td>\n",
       "      <td>206</td>\n",
       "    </tr>\n",
       "    <tr>\n",
       "      <th>12</th>\n",
       "      <td>13</td>\n",
       "      <td>2</td>\n",
       "      <td>1</td>\n",
       "      <td>3</td>\n",
       "      <td>2</td>\n",
       "      <td>3</td>\n",
       "      <td>1</td>\n",
       "      <td>3</td>\n",
       "      <td>NaN</td>\n",
       "      <td>5</td>\n",
       "      <td>...</td>\n",
       "      <td>NaN</td>\n",
       "      <td>NaN</td>\n",
       "      <td>80</td>\n",
       "      <td>142</td>\n",
       "      <td>122</td>\n",
       "      <td>-270</td>\n",
       "      <td>75</td>\n",
       "      <td>78</td>\n",
       "      <td>262</td>\n",
       "      <td>257</td>\n",
       "    </tr>\n",
       "    <tr>\n",
       "      <th>13</th>\n",
       "      <td>15</td>\n",
       "      <td>1</td>\n",
       "      <td>1</td>\n",
       "      <td>4</td>\n",
       "      <td>2</td>\n",
       "      <td>3</td>\n",
       "      <td>1</td>\n",
       "      <td>2</td>\n",
       "      <td>NaN</td>\n",
       "      <td>4</td>\n",
       "      <td>...</td>\n",
       "      <td>NaN</td>\n",
       "      <td>130</td>\n",
       "      <td>104</td>\n",
       "      <td>114</td>\n",
       "      <td>136</td>\n",
       "      <td>124</td>\n",
       "      <td>236</td>\n",
       "      <td>176</td>\n",
       "      <td>240</td>\n",
       "      <td>262</td>\n",
       "    </tr>\n",
       "    <tr>\n",
       "      <th>14</th>\n",
       "      <td>16</td>\n",
       "      <td>1</td>\n",
       "      <td>1</td>\n",
       "      <td>8</td>\n",
       "      <td>4</td>\n",
       "      <td>2</td>\n",
       "      <td>1</td>\n",
       "      <td>2</td>\n",
       "      <td>NaN</td>\n",
       "      <td>4</td>\n",
       "      <td>...</td>\n",
       "      <td>NaN</td>\n",
       "      <td>NaN</td>\n",
       "      <td>16</td>\n",
       "      <td>100</td>\n",
       "      <td>129</td>\n",
       "      <td>132</td>\n",
       "      <td>201</td>\n",
       "      <td>215</td>\n",
       "      <td>231</td>\n",
       "      <td>221</td>\n",
       "    </tr>\n",
       "    <tr>\n",
       "      <th>15</th>\n",
       "      <td>18</td>\n",
       "      <td>1</td>\n",
       "      <td>1</td>\n",
       "      <td>8</td>\n",
       "      <td>3</td>\n",
       "      <td>2</td>\n",
       "      <td>1</td>\n",
       "      <td>1</td>\n",
       "      <td>NaN</td>\n",
       "      <td>3</td>\n",
       "      <td>...</td>\n",
       "      <td>NaN</td>\n",
       "      <td>35</td>\n",
       "      <td>-68</td>\n",
       "      <td>117</td>\n",
       "      <td>124</td>\n",
       "      <td>74</td>\n",
       "      <td>140</td>\n",
       "      <td>230</td>\n",
       "      <td>214</td>\n",
       "      <td>150</td>\n",
       "    </tr>\n",
       "    <tr>\n",
       "      <th>16</th>\n",
       "      <td>19</td>\n",
       "      <td>2</td>\n",
       "      <td>1</td>\n",
       "      <td>4</td>\n",
       "      <td>4</td>\n",
       "      <td>2</td>\n",
       "      <td>0</td>\n",
       "      <td>2</td>\n",
       "      <td>NaN</td>\n",
       "      <td>4</td>\n",
       "      <td>...</td>\n",
       "      <td>NaN</td>\n",
       "      <td>128</td>\n",
       "      <td>8</td>\n",
       "      <td>82</td>\n",
       "      <td>118</td>\n",
       "      <td>95</td>\n",
       "      <td>177</td>\n",
       "      <td>186</td>\n",
       "      <td>202</td>\n",
       "      <td>212</td>\n",
       "    </tr>\n",
       "    <tr>\n",
       "      <th>17</th>\n",
       "      <td>20</td>\n",
       "      <td>1</td>\n",
       "      <td>1</td>\n",
       "      <td>7</td>\n",
       "      <td>4</td>\n",
       "      <td>3</td>\n",
       "      <td>1</td>\n",
       "      <td>3</td>\n",
       "      <td>NaN</td>\n",
       "      <td>4</td>\n",
       "      <td>...</td>\n",
       "      <td>NaN</td>\n",
       "      <td>-77</td>\n",
       "      <td>-523</td>\n",
       "      <td>-123</td>\n",
       "      <td>-194</td>\n",
       "      <td>-302</td>\n",
       "      <td>-89</td>\n",
       "      <td>-101</td>\n",
       "      <td>31</td>\n",
       "      <td>3</td>\n",
       "    </tr>\n",
       "    <tr>\n",
       "      <th>18</th>\n",
       "      <td>21</td>\n",
       "      <td>2</td>\n",
       "      <td>1</td>\n",
       "      <td>7</td>\n",
       "      <td>2</td>\n",
       "      <td>2</td>\n",
       "      <td>1</td>\n",
       "      <td>2</td>\n",
       "      <td>NaN</td>\n",
       "      <td>3</td>\n",
       "      <td>...</td>\n",
       "      <td>NaN</td>\n",
       "      <td>106</td>\n",
       "      <td>8</td>\n",
       "      <td>4</td>\n",
       "      <td>146</td>\n",
       "      <td>178</td>\n",
       "      <td>100</td>\n",
       "      <td>142</td>\n",
       "      <td>240</td>\n",
       "      <td>221</td>\n",
       "    </tr>\n",
       "    <tr>\n",
       "      <th>19</th>\n",
       "      <td>Mean</td>\n",
       "      <td>NaN</td>\n",
       "      <td>NaN</td>\n",
       "      <td>NaN</td>\n",
       "      <td>NaN</td>\n",
       "      <td>2.277777778</td>\n",
       "      <td>0.777777778</td>\n",
       "      <td>1.944444444</td>\n",
       "      <td>NaN</td>\n",
       "      <td>4</td>\n",
       "      <td>...</td>\n",
       "      <td>NaN</td>\n",
       "      <td>44.09090909</td>\n",
       "      <td>-110.1666667</td>\n",
       "      <td>17.83333333</td>\n",
       "      <td>31.5</td>\n",
       "      <td>11.72222222</td>\n",
       "      <td>64</td>\n",
       "      <td>109.8333333</td>\n",
       "      <td>124.2222222</td>\n",
       "      <td>152.9444444</td>\n",
       "    </tr>\n",
       "    <tr>\n",
       "      <th>20</th>\n",
       "      <td>SD</td>\n",
       "      <td>NaN</td>\n",
       "      <td>NaN</td>\n",
       "      <td>NaN</td>\n",
       "      <td>NaN</td>\n",
       "      <td>0.447903208</td>\n",
       "      <td>0.41573971</td>\n",
       "      <td>0.621129994</td>\n",
       "      <td>NaN</td>\n",
       "      <td>0.577350269</td>\n",
       "      <td>...</td>\n",
       "      <td>NaN</td>\n",
       "      <td>70.84227621</td>\n",
       "      <td>212.1375995</td>\n",
       "      <td>182.030904</td>\n",
       "      <td>180.0420476</td>\n",
       "      <td>233.2835198</td>\n",
       "      <td>248.5573933</td>\n",
       "      <td>153.5144763</td>\n",
       "      <td>227.0733008</td>\n",
       "      <td>152.5619991</td>\n",
       "    </tr>\n",
       "  </tbody>\n",
       "</table>\n",
       "<p>21 rows × 252 columns</p>\n",
       "</div>"
      ],
      "text/plain": [
       "                index                     0                         1  \\\n",
       "0   Basic information  What is your gender?  Please indicate your age   \n",
       "1                   1                     2                         1   \n",
       "2                   2                     1                         1   \n",
       "3                   3                     2                         1   \n",
       "4                   4                     2                         1   \n",
       "5                   5                     2                         1   \n",
       "6                   6                     2                         1   \n",
       "7                   7                     1                         1   \n",
       "8                   9                     1                         1   \n",
       "9                  10                     1                         1   \n",
       "10                 11                     2                         1   \n",
       "11                 12                     1                         1   \n",
       "12                 13                     2                         1   \n",
       "13                 15                     1                         1   \n",
       "14                 16                     1                         1   \n",
       "15                 18                     1                         1   \n",
       "16                 19                     2                         1   \n",
       "17                 20                     1                         1   \n",
       "18                 21                     2                         1   \n",
       "19               Mean                   NaN                       NaN   \n",
       "20                 SD                   NaN                       NaN   \n",
       "\n",
       "                                                    2  \\\n",
       "0   Please indicate your ethnic background (optional)   \n",
       "1                                                   7   \n",
       "2                                                   4   \n",
       "3                                                   7   \n",
       "4                                                   4   \n",
       "5                                                   7   \n",
       "6                                                   7   \n",
       "7                                                   4   \n",
       "8                                                   4   \n",
       "9                                                   1   \n",
       "10                                                  7   \n",
       "11                                                  4   \n",
       "12                                                  3   \n",
       "13                                                  4   \n",
       "14                                                  8   \n",
       "15                                                  8   \n",
       "16                                                  4   \n",
       "17                                                  7   \n",
       "18                                                  7   \n",
       "19                                                NaN   \n",
       "20                                                NaN   \n",
       "\n",
       "                                           3  \\\n",
       "0   What is your highest level of education?   \n",
       "1                                          4   \n",
       "2                                          4   \n",
       "3                                          4   \n",
       "4                                          4   \n",
       "5                                          4   \n",
       "6                                          3   \n",
       "7                                          4   \n",
       "8                                          2   \n",
       "9                                          5   \n",
       "10                                         3   \n",
       "11                                         2   \n",
       "12                                         2   \n",
       "13                                         2   \n",
       "14                                         4   \n",
       "15                                         3   \n",
       "16                                         4   \n",
       "17                                         4   \n",
       "18                                         2   \n",
       "19                                       NaN   \n",
       "20                                       NaN   \n",
       "\n",
       "                                                4  \\\n",
       "0   How would you rate your technology expertise?   \n",
       "1                                               2   \n",
       "2                                               2   \n",
       "3                                               2   \n",
       "4                                               3   \n",
       "5                                               2   \n",
       "6                                               2   \n",
       "7                                               2   \n",
       "8                                               2   \n",
       "9                                               2   \n",
       "10                                              2   \n",
       "11                                              3   \n",
       "12                                              3   \n",
       "13                                              3   \n",
       "14                                              2   \n",
       "15                                              2   \n",
       "16                                              2   \n",
       "17                                              3   \n",
       "18                                              2   \n",
       "19                                    2.277777778   \n",
       "20                                    0.447903208   \n",
       "\n",
       "                                                    5  \\\n",
       "0   How do you feel about including technology in ...   \n",
       "1                                                   0   \n",
       "2                                                   1   \n",
       "3                                                   1   \n",
       "4                                                   1   \n",
       "5                                                   1   \n",
       "6                                                   0   \n",
       "7                                                   1   \n",
       "8                                                   1   \n",
       "9                                                   0   \n",
       "10                                                  1   \n",
       "11                                                  1   \n",
       "12                                                  1   \n",
       "13                                                  1   \n",
       "14                                                  1   \n",
       "15                                                  1   \n",
       "16                                                  0   \n",
       "17                                                  1   \n",
       "18                                                  1   \n",
       "19                                        0.777777778   \n",
       "20                                         0.41573971   \n",
       "\n",
       "                                                    6                     7  \\\n",
       "0   How would you rate your experience with smart ...  Propensity Questions   \n",
       "1                                                   3                   NaN   \n",
       "2                                                   2                   NaN   \n",
       "3                                                   2                   NaN   \n",
       "4                                                   2                   NaN   \n",
       "5                                                   2                   NaN   \n",
       "6                                                   2                   NaN   \n",
       "7                                                   1                   NaN   \n",
       "8                                                   2                   NaN   \n",
       "9                                                   1                   NaN   \n",
       "10                                                  2                   NaN   \n",
       "11                                                  1                   NaN   \n",
       "12                                                  3                   NaN   \n",
       "13                                                  2                   NaN   \n",
       "14                                                  2                   NaN   \n",
       "15                                                  1                   NaN   \n",
       "16                                                  2                   NaN   \n",
       "17                                                  3                   NaN   \n",
       "18                                                  2                   NaN   \n",
       "19                                        1.944444444                   NaN   \n",
       "20                                        0.621129994                   NaN   \n",
       "\n",
       "                                                    8      ...        \\\n",
       "0   I usually trust machines until there is a reas...      ...         \n",
       "1                                                   3      ...         \n",
       "2                                                   4      ...         \n",
       "3                                                   4      ...         \n",
       "4                                                   4      ...         \n",
       "5                                                   4      ...         \n",
       "6                                                   5      ...         \n",
       "7                                                   4      ...         \n",
       "8                                                   4      ...         \n",
       "9                                                   5      ...         \n",
       "10                                                  4      ...         \n",
       "11                                                  4      ...         \n",
       "12                                                  5      ...         \n",
       "13                                                  4      ...         \n",
       "14                                                  4      ...         \n",
       "15                                                  3      ...         \n",
       "16                                                  4      ...         \n",
       "17                                                  4      ...         \n",
       "18                                                  3      ...         \n",
       "19                                                  4      ...         \n",
       "20                                        0.577350269      ...         \n",
       "\n",
       "         241          242            243            244            245  \\\n",
       "0   Earnings        trial  exp1-st1-sec1  exp1-st1-sec2  exp1-st2-sec1   \n",
       "1        NaN           38           -450           -370           -293   \n",
       "2        NaN           58              4            118             79   \n",
       "3        NaN           39            114            120            116   \n",
       "4        NaN          NaN           -386            103            176   \n",
       "5        NaN           91             64            119             36   \n",
       "6        NaN          -96             38             90            184   \n",
       "7        NaN          NaN            -77            -42           -156   \n",
       "8        NaN          NaN           -133            139             23   \n",
       "9        NaN           33           -458           -541           -471   \n",
       "10       NaN          NaN           -358             59            178   \n",
       "11       NaN          NaN             34             90            114   \n",
       "12       NaN          NaN             80            142            122   \n",
       "13       NaN          130            104            114            136   \n",
       "14       NaN          NaN             16            100            129   \n",
       "15       NaN           35            -68            117            124   \n",
       "16       NaN          128              8             82            118   \n",
       "17       NaN          -77           -523           -123           -194   \n",
       "18       NaN          106              8              4            146   \n",
       "19       NaN  44.09090909   -110.1666667    17.83333333           31.5   \n",
       "20       NaN  70.84227621    212.1375995     182.030904    180.0420476   \n",
       "\n",
       "              246            247            248            249            250  \n",
       "0   exp1-st2-sec2  exp2-st1-sec1  exp2-st1-sec2  exp2-st2-sec1  exp2-st2-sec2  \n",
       "1             174            116            220            192            228  \n",
       "2             119             90            249            180            231  \n",
       "3             135            225            155            206            228  \n",
       "4              31            226            180            218            238  \n",
       "5              95            160            183            150            160  \n",
       "6             136            127             69            192            123  \n",
       "7            -330           -431           -300           -553           -204  \n",
       "8             159            159            151            233            231  \n",
       "9            -675           -749           -229           -449           -279  \n",
       "10            196            230            199            245            265  \n",
       "11            140            159            174            202            206  \n",
       "12           -270             75             78            262            257  \n",
       "13            124            236            176            240            262  \n",
       "14            132            201            215            231            221  \n",
       "15             74            140            230            214            150  \n",
       "16             95            177            186            202            212  \n",
       "17           -302            -89           -101             31              3  \n",
       "18            178            100            142            240            221  \n",
       "19    11.72222222             64    109.8333333    124.2222222    152.9444444  \n",
       "20    233.2835198    248.5573933    153.5144763    227.0733008    152.5619991  \n",
       "\n",
       "[21 rows x 252 columns]"
      ]
     },
     "execution_count": 3,
     "metadata": {},
     "output_type": "execute_result"
    }
   ],
   "source": [
    "exp1_data_T = pd.DataFrame.transpose(exp1_data).reset_index()\n",
    "exp1_data_T"
   ]
  },
  {
   "cell_type": "code",
   "execution_count": 4,
   "metadata": {
    "collapsed": true,
    "scrolled": false
   },
   "outputs": [],
   "source": [
    "exp2_data_T = pd.DataFrame.transpose(exp2_data).reset_index()\n",
    "#exp2_data_T"
   ]
  },
  {
   "cell_type": "code",
   "execution_count": 5,
   "metadata": {},
   "outputs": [
    {
     "data": {
      "text/plain": [
       "array([[2, 1, 7, 4, 2, 0, 3],\n",
       "       [1, 1, 4, 4, 2, 1, 2],\n",
       "       [2, 1, 7, 4, 2, 1, 2],\n",
       "       [2, 1, 4, 4, 3, 1, 2],\n",
       "       [2, 1, 7, 4, 2, 1, 2],\n",
       "       [2, 1, 7, 3, 2, 0, 2],\n",
       "       [1, 1, 4, 4, 2, 1, 1],\n",
       "       [1, 1, 4, 2, 2, 1, 2],\n",
       "       [1, 1, 1, 5, 2, 0, 1],\n",
       "       [2, 1, 7, 3, 2, 1, 2],\n",
       "       [1, 1, 4, 2, 3, 1, 1],\n",
       "       [2, 1, 3, 2, 3, 1, 3],\n",
       "       [1, 1, 4, 2, 3, 1, 2],\n",
       "       [1, 1, 8, 4, 2, 1, 2],\n",
       "       [1, 1, 8, 3, 2, 1, 1],\n",
       "       [2, 1, 4, 4, 2, 0, 2],\n",
       "       [1, 1, 7, 4, 3, 1, 3],\n",
       "       [2, 1, 7, 2, 2, 1, 2],\n",
       "       [2, 1, 4, 4, 2, 0, 1],\n",
       "       [1, 1, 7, 2, 2, 1, 2],\n",
       "       [2, 1, 7, 4, 2, 1, 1],\n",
       "       [2, 1, 7, 7, 2, 1, 1],\n",
       "       [2, 1, 4, 3, 2, 1, 1],\n",
       "       [1, 2, 6, 4, 3, 1, 1],\n",
       "       [2, 1, 8, 4, 2, 1, 2],\n",
       "       [2, 1, 8, 4, 2, 0, 1],\n",
       "       [2, 1, 8, 7, 2, 1, 2],\n",
       "       [2, 1, 8, 7, 2, 1, 1],\n",
       "       [2, 1, 4, 2, 3, 0, 1],\n",
       "       [2, 1, 7, 4, 2, 1, 1],\n",
       "       [1, 1, 3, 4, 2, 1, 2],\n",
       "       [2, 1, 3, 2, 3, 1, 2],\n",
       "       [2, 1, 7, 4, 2, 1, 2],\n",
       "       [1, 3, 3, 3, 2, 1, 1],\n",
       "       [1, 2, 1, 3, 3, 0, 2],\n",
       "       [2, 1, 7, 2, 3, 1, 3]])"
      ]
     },
     "execution_count": 5,
     "metadata": {},
     "output_type": "execute_result"
    }
   ],
   "source": [
    "exp1_demo = exp1_data_T.values[1:19,1:8]\n",
    "exp2_demo = exp2_data_T.values[1:19,1:8]\n",
    "#exp_demo = np.concatenate((exp1_demo,exp2_demo),axis=0)\n",
    "exp_demo = np.vstack((exp1_demo,exp2_demo)).astype(int)\n",
    "exp_demo"
   ]
  },
  {
   "cell_type": "code",
   "execution_count": 6,
   "metadata": {},
   "outputs": [
    {
     "name": "stdout",
     "output_type": "stream",
     "text": [
      "[1 2]\n"
     ]
    },
    {
     "data": {
      "image/png": "[encoded data removed]",
      "text/plain": [
       "<matplotlib.figure.Figure at 0x13bf726e438>"
      ]
     },
     "metadata": {},
     "output_type": "display_data"
    },
    {
     "data": {
      "text/plain": [
       "(None, Counter({1: 14, 2: 22}))"
      ]
     },
     "execution_count": 6,
     "metadata": {},
     "output_type": "execute_result"
    }
   ],
   "source": [
    "gender = Counter(exp_demo[:,0])\n",
    "print(np.array(sorted(gender.items(), key= lambda t: (t[0]), reverse=False))[:,0])\n",
    "\n",
    "x = np.arange(len(gender.keys()))\n",
    "plt.bar(x, np.array(sorted(gender.items(), key= lambda t: (t[0]), reverse=False))[:,1])\n",
    "plt.xticks(x, \n",
    "           ('Male','Female'),\n",
    "           rotation=17)\n",
    "plt.title(\"Gender Distribution\")\n",
    "# plt.xlabel(\"Value\")\n",
    "plt.ylabel(\"Count\")\n",
    "\n",
    "plt.show(), Counter(pd.to_numeric(exp_demo[:,0]))"
   ]
  },
  {
   "cell_type": "code",
   "execution_count": 7,
   "metadata": {
    "scrolled": true
   },
   "outputs": [
    {
     "name": "stdout",
     "output_type": "stream",
     "text": [
      "[1 2 3]\n"
     ]
    },
    {
     "data": {
      "image/png": "[encoded data removed]",
      "text/plain": [
       "<matplotlib.figure.Figure at 0x13bf7266048>"
      ]
     },
     "metadata": {},
     "output_type": "display_data"
    },
    {
     "data": {
      "text/plain": [
       "(None, Counter({1: 33, 2: 2, 3: 1}))"
      ]
     },
     "execution_count": 7,
     "metadata": {},
     "output_type": "execute_result"
    }
   ],
   "source": [
    "age = Counter(exp_demo[:,1])\n",
    "print(np.array(sorted(age.items(), key= lambda t: (t[0]), reverse=False))[:,0])\n",
    "\n",
    "x = np.arange(len(age.keys()))\n",
    "plt.bar(x, np.array(sorted(age.items(), key= lambda t: (t[0]), reverse=False))[:,1])\n",
    "plt.xticks(x, \n",
    "           ('Under 30','30-40','41-50'),\n",
    "           rotation=17)\n",
    "plt.title(\"Age Distribution\")\n",
    "# plt.xlabel(\"Value\")\n",
    "plt.ylabel(\"Count\")\n",
    "\n",
    "plt.show(), Counter(pd.to_numeric(exp_demo[:,1]))"
   ]
  },
  {
   "cell_type": "code",
   "execution_count": 8,
   "metadata": {},
   "outputs": [
    {
     "name": "stdout",
     "output_type": "stream",
     "text": [
      "[1 3 4 6 7 8]\n"
     ]
    },
    {
     "data": {
      "image/png": "[encoded data removed]",
      "text/plain": [
       "<matplotlib.figure.Figure at 0x13bf76da630>"
      ]
     },
     "metadata": {},
     "output_type": "display_data"
    },
    {
     "data": {
      "text/plain": [
       "(None, Counter({1: 2, 3: 4, 4: 10, 6: 1, 7: 13, 8: 6}))"
      ]
     },
     "execution_count": 8,
     "metadata": {},
     "output_type": "execute_result"
    }
   ],
   "source": [
    "ethic = Counter(exp_demo[:,2])\n",
    "print(np.array(sorted(ethic.items(), key= lambda t: (t[0]), reverse=False))[:,0])\n",
    "\n",
    "x = np.arange(len(ethic.keys()))\n",
    "plt.bar(x, np.array(sorted(ethic.items(), key= lambda t: (t[0]), reverse=False))[:,1])\n",
    "plt.xticks(x, \n",
    "           ('African','Caucasia','East Asian','Hispanic or Latino','South Asian','Other'),\n",
    "           rotation=17)\n",
    "plt.title(\"Ethic Background\")\n",
    "# plt.xlabel(\"Value\")\n",
    "plt.ylabel(\"Count\")\n",
    "\n",
    "plt.show(), Counter(pd.to_numeric(exp_demo[:,2]))"
   ]
  },
  {
   "cell_type": "code",
   "execution_count": 9,
   "metadata": {
    "scrolled": true
   },
   "outputs": [
    {
     "name": "stdout",
     "output_type": "stream",
     "text": [
      "[2 3 4 5 7]\n"
     ]
    },
    {
     "data": {
      "image/png": "[encoded data removed]",
      "text/plain": [
       "<matplotlib.figure.Figure at 0x13bf8750898>"
      ]
     },
     "metadata": {},
     "output_type": "display_data"
    },
    {
     "data": {
      "text/plain": [
       "(None, Counter({2: 9, 3: 6, 4: 17, 5: 1, 7: 3}))"
      ]
     },
     "execution_count": 9,
     "metadata": {},
     "output_type": "execute_result"
    }
   ],
   "source": [
    "edu = Counter(exp_demo[:,3])\n",
    "print(np.array(sorted(edu.items(), key= lambda t: (t[0]), reverse=False))[:,0])\n",
    "\n",
    "x = np.arange(len(edu.keys()))\n",
    "plt.bar(x, np.array(sorted(edu.items(), key= lambda t: (t[0]), reverse=False))[:,1])\n",
    "plt.xticks(x, \n",
    "           ('Secondary','Short-cycle','Bachelor','Master/Honours','Other'),\n",
    "           rotation=17)\n",
    "plt.title(\"Education Background\")\n",
    "# plt.xlabel(\"Value\")\n",
    "plt.ylabel(\"Count\")\n",
    "\n",
    "plt.show(), Counter(pd.to_numeric(exp_demo[:,3]))"
   ]
  },
  {
   "cell_type": "code",
   "execution_count": 10,
   "metadata": {},
   "outputs": [
    {
     "name": "stdout",
     "output_type": "stream",
     "text": [
      "[2 3]\n"
     ]
    },
    {
     "data": {
      "image/png": "[encoded data removed]",
      "text/plain": [
       "<matplotlib.figure.Figure at 0x13bf886d8d0>"
      ]
     },
     "metadata": {},
     "output_type": "display_data"
    },
    {
     "data": {
      "text/plain": [
       "(None, Counter({2: 26, 3: 10}))"
      ]
     },
     "execution_count": 10,
     "metadata": {},
     "output_type": "execute_result"
    }
   ],
   "source": [
    "# technology expertise\n",
    "te = Counter(exp_demo[:,4])\n",
    "print(np.array(sorted(te.items(), key= lambda t: (t[0]), reverse=False))[:,0])\n",
    "\n",
    "x = np.arange(len(te.keys()))\n",
    "plt.bar(x, np.array(sorted(te.items(), key= lambda t: (t[0]), reverse=False))[:,1])\n",
    "plt.xticks(x, \n",
    "           ('Medium','High'),\n",
    "           rotation=17)\n",
    "plt.title(\"Technology Expertise\")\n",
    "# plt.xlabel(\"Value\")\n",
    "plt.ylabel(\"Count\")\n",
    "\n",
    "plt.show(), Counter(pd.to_numeric(exp_demo[:,4]))"
   ]
  },
  {
   "cell_type": "code",
   "execution_count": 11,
   "metadata": {
    "scrolled": false
   },
   "outputs": [
    {
     "name": "stdout",
     "output_type": "stream",
     "text": [
      "[0 1]\n"
     ]
    },
    {
     "data": {
      "image/png": "[encoded data removed]",
      "text/plain": [
       "<matplotlib.figure.Figure at 0x13bf8874ba8>"
      ]
     },
     "metadata": {},
     "output_type": "display_data"
    },
    {
     "data": {
      "text/plain": [
       "(None, Counter({0: 8, 1: 28}))"
      ]
     },
     "execution_count": 11,
     "metadata": {},
     "output_type": "execute_result"
    }
   ],
   "source": [
    "# Feel about technology in your life...\n",
    "\n",
    "tl = Counter(exp_demo[:,5])\n",
    "print(np.array(sorted(tl.items(), key= lambda t: (t[0]), reverse=False))[:,0])\n",
    "\n",
    "x = np.arange(len(tl.keys()))\n",
    "plt.bar(x, np.array(sorted(tl.items(), key= lambda t: (t[0]), reverse=False))[:,1])\n",
    "plt.xticks(x, \n",
    "           ('Neutral','Like'),\n",
    "           rotation=17)\n",
    "plt.title(\"Feel about Technology\")\n",
    "plt.ylabel(\"Count\")\n",
    "\n",
    "plt.show(), Counter(pd.to_numeric(exp_demo[:,5]))"
   ]
  },
  {
   "cell_type": "markdown",
   "metadata": {},
   "source": [
    "# Trust Scores"
   ]
  },
  {
   "cell_type": "code",
   "execution_count": 12,
   "metadata": {},
   "outputs": [
    {
     "data": {
      "text/plain": [
       "array([[3, 4, 5, 4, 4, 4, 4, 5],\n",
       "       [4, 4, 4, 5, 3, 5, 3, 3],\n",
       "       [4, 4, 4, 4, 4, 4, 5, 5],\n",
       "       [2, 3, 4, 2, 4, 3, 3, 4],\n",
       "       [3, 3, 2, 2, 3, 3, 3, 3],\n",
       "       [2, 3, 3, 3, 3, 3, 3, 4],\n",
       "       [3, 2, 2, 2, 2, 2, 4, 4],\n",
       "       [4, 3, 3, 3, 4, 4, 4, 4],\n",
       "       [3, 3, 2, 3, 1, 2, 2, 2],\n",
       "       [3, 3, 2, 3, 3, 3, 3, 4],\n",
       "       [2, 2, 3, 3, 4, 4, 4, 4],\n",
       "       [4, 2, 2, 2, 4, 4, 3, 4],\n",
       "       [3, 2, 2, 3, 4, 3, 3, 2],\n",
       "       [3, 3, 3, 3, 3, 4, 4, 4],\n",
       "       [3, 2, 2, 2, 4, 4, 4, 4],\n",
       "       [4, 3, 4, 4, 4, 4, 4, 4],\n",
       "       [3, 3, 3, 3, 1, 2, 3, 4],\n",
       "       [2, 1, 3, 2, 2, 3, 3, 3],\n",
       "       [1, 2, 2, 2, 4, 2, 3, 3],\n",
       "       [3, 2, 3, 3, 3, 4, 3, 3],\n",
       "       [3, 3, 3, 3, 3, 4, 4, 4],\n",
       "       [1, 1, 2, 2, 3, 4, 3, 2],\n",
       "       [2, 2, 3, 2, 4, 3, 4, 4],\n",
       "       [2, 2, 3, 2, 2, 4, 2, 2],\n",
       "       [2, 2, 3, 3, 4, 4, 4, 4],\n",
       "       [3, 3, 3, 3, 4, 4, 4, 4],\n",
       "       [4, 3, 3, 3, 4, 4, 4, 4],\n",
       "       [4, 3, 3, 3, 3, 3, 3, 4],\n",
       "       [2, 2, 3, 4, 4, 4, 4, 4],\n",
       "       [2, 2, 2, 3, 3, 4, 3, 4],\n",
       "       [4, 4, 4, 5, 4, 5, 5, 5],\n",
       "       [3, 3, 3, 4, 4, 3, 4, 4],\n",
       "       [3, 3, 4, 4, 4, 4, 4, 4],\n",
       "       [1, 2, 2, 2, 2, 3, 3, 2],\n",
       "       [1, 2, 4, 3, 1, 1, 2, 2],\n",
       "       [4, 4, 4, 4, 3, 1, 4, 3]])"
      ]
     },
     "execution_count": 12,
     "metadata": {},
     "output_type": "execute_result"
    }
   ],
   "source": [
    "exp1_trust = exp1_data_T.values[1:19,79:87].astype(int)\n",
    "exp2_trust = exp2_data_T.values[1:19,79:87].astype(int)\n",
    "#exp_demo = np.concatenate((exp1_demo,exp2_demo),axis=0)\n",
    "exp_trust = np.vstack((exp1_trust,np.hstack((exp2_trust[:,4:],exp2_trust[:,:4])))).astype(int)\n",
    "exp_trust"
   ]
  },
  {
   "cell_type": "code",
   "execution_count": 13,
   "metadata": {},
   "outputs": [
    {
     "data": {
      "image/png": "[encoded data removed]",
      "text/plain": [
       "<matplotlib.figure.Figure at 0x13bf88f1e48>"
      ]
     },
     "metadata": {},
     "output_type": "display_data"
    },
    {
     "data": {
      "text/plain": [
       "array([[ 2.77777778,  2.63888889,  2.97222222,  3.        ,  3.22222222,\n",
       "         3.38888889,  3.47222222,  3.58333333],\n",
       "       [ 0.94607702,  0.78714596,  0.79882244,  0.84983659,  0.94607702,\n",
       "         0.95095793,  0.72595191,  0.8620067 ]])"
      ]
     },
     "execution_count": 13,
     "metadata": {},
     "output_type": "execute_result"
    }
   ],
   "source": [
    "# overall mean & std\n",
    "x = np.arange(8)\n",
    "y = np.array(exp_trust.mean(axis=0))\n",
    "e = np.array(exp_trust.std(axis=0))\n",
    "\n",
    "plt.errorbar(x, y, e, linestyle='None', marker='^')\n",
    "axes = plt.gca()\n",
    "axes.set_ylim([0,5])\n",
    "\n",
    "for xy in zip(x, y):\n",
    "    axes.annotate('%.4s' % xy[1], xy=xy, textcoords='data')\n",
    "    \n",
    "plt.show()\n",
    "\n",
    "# overall mean & std\n",
    "np.vstack((exp_trust.mean(axis=0),exp_trust.std(axis=0)))"
   ]
  },
  {
   "cell_type": "code",
   "execution_count": 14,
   "metadata": {},
   "outputs": [
    {
     "data": {
      "image/png": "[encoded data removed]",
      "text/plain": [
       "<matplotlib.figure.Figure at 0x13bf8a0f390>"
      ]
     },
     "metadata": {},
     "output_type": "display_data"
    }
   ],
   "source": [
    "# exp1 mean & std\n",
    "x = np.arange(8)\n",
    "y = np.array(exp1_trust.mean(axis=0))\n",
    "e = np.array(exp1_trust.std(axis=0))\n",
    "\n",
    "plt.errorbar(x, y, e, linestyle='None', marker='^')\n",
    "axes = plt.gca()\n",
    "axes.set_ylim([0,5])\n",
    "\n",
    "for xy in zip(x, y):\n",
    "    axes.annotate('%.4s' % xy[1], xy=xy, textcoords='data')\n",
    "    \n",
    "plt.show()\n",
    "\n",
    "# exp1 mean & std\n",
    "exp1_trust_ms = np.vstack((exp1_trust.mean(axis=0),exp1_trust.std(axis=0)))"
   ]
  },
  {
   "cell_type": "code",
   "execution_count": 15,
   "metadata": {
    "scrolled": true
   },
   "outputs": [
    {
     "data": {
      "image/png": "[encoded data removed]",
      "text/plain": [
       "<matplotlib.figure.Figure at 0x13bf8ac4630>"
      ]
     },
     "metadata": {},
     "output_type": "display_data"
    }
   ],
   "source": [
    "# exp2 mean & std\n",
    "x = np.arange(8)\n",
    "y = np.array(exp2_trust.mean(axis=0))\n",
    "e = np.array(exp2_trust.std(axis=0))\n",
    "\n",
    "plt.errorbar(x, y, e, linestyle='None', marker='^')\n",
    "axes = plt.gca()\n",
    "axes.set_ylim([0,5])\n",
    "\n",
    "for xy in zip(x, y):\n",
    "    axes.annotate('%.4s' % xy[1], xy=xy, textcoords='data')\n",
    "    \n",
    "plt.show()\n",
    "\n",
    "# exp2 mean & std\n",
    "exp2_trust_ms = np.vstack((exp2_trust.mean(axis=0),exp2_trust.std(axis=0)))"
   ]
  },
  {
   "cell_type": "code",
   "execution_count": 16,
   "metadata": {},
   "outputs": [
    {
     "data": {
      "text/plain": [
       "array([[ 3.27777778,  3.38888889,  3.5       ,  3.44444444,  2.5       ,\n",
       "         2.5       ,  3.        ,  3.05555556],\n",
       "       [ 0.86958199,  1.0613874 ,  0.76376262,  0.89580642,  1.06718737,\n",
       "         0.76376262,  0.66666667,  0.84801875]])"
      ]
     },
     "execution_count": 16,
     "metadata": {},
     "output_type": "execute_result"
    }
   ],
   "source": [
    "np.vstack((exp2_trust.mean(axis=0),exp2_trust.std(axis=0)))"
   ]
  },
  {
   "cell_type": "code",
   "execution_count": 17,
   "metadata": {},
   "outputs": [
    {
     "name": "stdout",
     "output_type": "stream",
     "text": [
      "2.84722222222 0.860550893037\n",
      "3.41666666667 0.885845484395\n"
     ]
    },
    {
     "data": {
      "text/plain": [
       "Ttest_indResult(statistic=-5.5137364822963626, pvalue=7.8548354045534079e-08)"
      ]
     },
     "execution_count": 17,
     "metadata": {},
     "output_type": "execute_result"
    }
   ],
   "source": [
    "# within subject: high/low false rate\n",
    "\n",
    "exp_trust_hifalse = exp_trust[:, np.r_[0:4]].T.ravel()\n",
    "exp_trust_lofalse = exp_trust[:, np.r_[4:8]].T.ravel()\n",
    "\n",
    "print(exp_trust_hifalse.mean(),exp_trust_hifalse.std())\n",
    "print(exp_trust_lofalse.mean(),exp_trust_lofalse.std())\n",
    "sp.ttest_ind(exp_trust_hifalse,exp_trust_lofalse)\n",
    "#sp.ttest_ind"
   ]
  },
  {
   "cell_type": "code",
   "execution_count": 18,
   "metadata": {},
   "outputs": [
    {
     "name": "stdout",
     "output_type": "stream",
     "text": [
      "2.93055555556 0.822029819831\n",
      "3.43055555556 0.86323662407\n"
     ]
    },
    {
     "data": {
      "text/plain": [
       "Ttest_indResult(statistic=-3.5344009712198412, pvalue=0.00055208405158460561)"
      ]
     },
     "execution_count": 18,
     "metadata": {},
     "output_type": "execute_result"
    }
   ],
   "source": [
    "# within subject exp1: high/low false rate\n",
    "\n",
    "exp1_trust_hifalse = exp1_trust[:, np.r_[0:4]].T.ravel()\n",
    "exp1_trust_lofalse = exp1_trust[:, np.r_[4:8]].T.ravel()\n",
    "\n",
    "print(exp1_trust_hifalse.mean(),exp1_trust_hifalse.std())\n",
    "print(exp1_trust_lofalse.mean(),exp1_trust_lofalse.std())\n",
    "sp.ttest_ind(exp1_trust_hifalse,exp1_trust_lofalse)\n",
    "#sp.ttest_ind"
   ]
  },
  {
   "cell_type": "code",
   "execution_count": 19,
   "metadata": {},
   "outputs": [
    {
     "name": "stdout",
     "output_type": "stream",
     "text": [
      "3.40277777778 0.907679003194\n",
      "2.76388888889 0.889648113263\n"
     ]
    },
    {
     "data": {
      "text/plain": [
       "Ttest_indResult(statistic=4.2356545004344248, pvalue=4.0755659152132817e-05)"
      ]
     },
     "execution_count": 19,
     "metadata": {},
     "output_type": "execute_result"
    }
   ],
   "source": [
    "# within subject exp2: high/low false rate\n",
    "\n",
    "exp2_trust_hifalse = exp2_trust[:, np.r_[0:4]].T.ravel()\n",
    "exp2_trust_lofalse = exp2_trust[:, np.r_[4:8]].T.ravel()\n",
    "\n",
    "print(exp2_trust_hifalse.mean(),exp2_trust_hifalse.std())\n",
    "print(exp2_trust_lofalse.mean(),exp2_trust_lofalse.std())\n",
    "sp.ttest_ind(exp2_trust_hifalse,exp2_trust_lofalse)\n",
    "#sp.ttest_ind"
   ]
  },
  {
   "cell_type": "code",
   "execution_count": 20,
   "metadata": {},
   "outputs": [
    {
     "name": "stdout",
     "output_type": "stream",
     "text": [
      "3.00694444444 0.961021792574\n",
      "3.25694444444 0.855915103021\n"
     ]
    },
    {
     "data": {
      "text/plain": [
       "Ttest_indResult(statistic=-2.3230455611227021, pvalue=0.020878155001446051)"
      ]
     },
     "execution_count": 20,
     "metadata": {},
     "output_type": "execute_result"
    }
   ],
   "source": [
    "# within subject with/without misses\n",
    "\n",
    "exp_trust_misses = np.hstack((exp_trust[:,0],exp_trust[:,1],exp_trust[:,4],exp_trust[:,5]))\n",
    "exp_trust_nomisses = np.hstack((exp_trust[:,2],exp_trust[:,3],exp_trust[:,6],exp_trust[:,7]))\n",
    "\n",
    "print(exp_trust_misses.mean(),exp_trust_misses.std())\n",
    "print(exp_trust_nomisses.mean(),exp_trust_nomisses.std())\n",
    "sp.ttest_ind(exp_trust_misses,exp_trust_nomisses)\n",
    "#sp.ttest_ind"
   ]
  },
  {
   "cell_type": "code",
   "execution_count": 21,
   "metadata": {},
   "outputs": [
    {
     "name": "stdout",
     "output_type": "stream",
     "text": [
      "3.09722222222 0.868583172986\n",
      "3.26388888889 0.881807732186\n"
     ]
    },
    {
     "data": {
      "text/plain": [
       "Ttest_indResult(statistic=-1.1346070533226502, pvalue=0.25845164920781805)"
      ]
     },
     "execution_count": 21,
     "metadata": {},
     "output_type": "execute_result"
    }
   ],
   "source": [
    "# within subject with/without misses exp1\n",
    "\n",
    "exp1_trust_misses = np.hstack((exp1_trust[:,0],exp1_trust[:,1],exp1_trust[:,4],exp1_trust[:,5]))\n",
    "exp1_trust_nomisses = np.hstack((exp1_trust[:,2],exp1_trust[:,3],exp1_trust[:,6],exp1_trust[:,7]))\n",
    "\n",
    "print(exp1_trust_misses.mean(),exp1_trust_misses.std())\n",
    "print(exp1_trust_nomisses.mean(),exp1_trust_nomisses.std())\n",
    "sp.ttest_ind(exp1_trust_misses,exp1_trust_nomisses)\n",
    "#sp.ttest_ind"
   ]
  },
  {
   "cell_type": "code",
   "execution_count": 22,
   "metadata": {},
   "outputs": [
    {
     "name": "stdout",
     "output_type": "stream",
     "text": [
      "2.91666666667 1.03749163317\n",
      "3.25 0.829156197589\n"
     ]
    },
    {
     "data": {
      "text/plain": [
       "Ttest_indResult(statistic=-2.1148146360572349, pvalue=0.036192406822886852)"
      ]
     },
     "execution_count": 22,
     "metadata": {},
     "output_type": "execute_result"
    }
   ],
   "source": [
    "# within subject with/without misses exp2\n",
    "\n",
    "exp2_trust_misses = np.hstack((exp2_trust[:,0],exp2_trust[:,1],exp2_trust[:,4],exp2_trust[:,5]))\n",
    "exp2_trust_nomisses = np.hstack((exp2_trust[:,2],exp2_trust[:,3],exp2_trust[:,6],exp2_trust[:,7]))\n",
    "\n",
    "print(exp2_trust_misses.mean(),exp2_trust_misses.std())\n",
    "print(exp2_trust_nomisses.mean(),exp2_trust_nomisses.std())\n",
    "sp.ttest_ind(exp2_trust_misses,exp2_trust_nomisses)\n",
    "#sp.ttest_ind"
   ]
  },
  {
   "cell_type": "markdown",
   "metadata": {},
   "source": [
    "# Num of Events Attended"
   ]
  },
  {
   "cell_type": "code",
   "execution_count": 23,
   "metadata": {},
   "outputs": [
    {
     "data": {
      "text/plain": [
       "array([[ 6,  4,  6, 14, 14, 14, 14, 14],\n",
       "       [15, 14, 14, 14, 14, 14, 14, 14],\n",
       "       [15, 14, 14, 14, 14, 14, 14, 14],\n",
       "       [ 8, 14, 14, 14, 14, 14, 14, 14],\n",
       "       [15, 14, 14, 14, 14, 14, 14, 14],\n",
       "       [12, 14, 14, 14, 14, 14, 14, 14],\n",
       "       [ 8, 10,  7,  3,  2,  4,  0,  6],\n",
       "       [ 8, 14, 14, 14, 12, 12, 14, 14],\n",
       "       [15,  3, 14,  2,  2,  7,  4,  8],\n",
       "       [15, 12, 14, 14, 13, 13, 14, 14],\n",
       "       [15, 14, 14, 14, 14, 14, 14, 14],\n",
       "       [13, 12, 14,  7, 10, 10, 14, 14],\n",
       "       [14, 14, 14, 14, 14, 14, 14, 14],\n",
       "       [15, 14, 14, 14, 14, 14, 14, 14],\n",
       "       [ 9, 12, 14, 13, 12, 13, 14, 13],\n",
       "       [15, 14, 14, 14, 14, 14, 14, 14],\n",
       "       [ 4,  7,  7,  6, 14, 11, 14, 14],\n",
       "       [12, 14, 14, 14, 12, 14, 14, 14],\n",
       "       [15, 14, 14, 14, 14, 14, 14, 14],\n",
       "       [15, 12, 14, 14, 12, 12, 14, 14],\n",
       "       [12, 12, 14, 14, 13, 12, 14, 14],\n",
       "       [15, 14, 14, 14, 12, 14, 14, 14],\n",
       "       [15, 14, 14, 14, 14, 14, 14, 14],\n",
       "       [12, 14, 14, 14, 13, 10, 14, 14],\n",
       "       [15, 14, 14, 14, 13, 14, 14, 14],\n",
       "       [15, 14, 14, 14, 14, 14, 14, 14],\n",
       "       [15, 14, 14, 14, 14, 14, 14, 14],\n",
       "       [15, 14, 14, 14, 14, 14, 14, 14],\n",
       "       [10, 14, 14, 12, 14, 14, 14, 14],\n",
       "       [10,  9, 10, 12, 12, 12, 12, 13],\n",
       "       [15, 14, 14, 14, 13, 14, 14, 14],\n",
       "       [15, 14, 14, 14, 12, 13, 14, 14],\n",
       "       [15, 14, 14, 14, 14, 14, 14, 14],\n",
       "       [15, 14, 14, 14, 11, 14, 14, 14],\n",
       "       [15, 14, 14, 14, 14, 14, 14, 14],\n",
       "       [ 2,  0,  0,  0, 11, 10,  6, 13]])"
      ]
     },
     "execution_count": 23,
     "metadata": {},
     "output_type": "execute_result"
    }
   ],
   "source": [
    "exp1_attend = exp1_data_T.values[1:19,124:132].astype(int)\n",
    "exp2_attend = exp2_data_T.values[1:19,124:132].astype(int)\n",
    "# exp_demo = np.concatenate((exp1_demo,exp2_demo),axis=0)\n",
    "exp_attend = np.vstack((exp1_attend,np.hstack((exp2_attend[:,4:],exp2_attend[:,:4])))).astype(int)\n",
    "exp_attend"
   ]
  },
  {
   "cell_type": "code",
   "execution_count": 24,
   "metadata": {},
   "outputs": [
    {
     "data": {
      "image/png": "[encoded data removed]",
      "text/plain": [
       "<matplotlib.figure.Figure at 0x13bf8b48ef0>"
      ]
     },
     "metadata": {},
     "output_type": "display_data"
    },
    {
     "data": {
      "text/plain": [
       "array([[ 12.63888889,  12.30555556,  12.88888889,  12.41666667,\n",
       "         12.52777778,  12.80555556,  13.05555556,  13.52777778],\n",
       "       [  3.5130928 ,   3.43041498,   3.02561085,   3.69966215,\n",
       "          2.77374708,   2.19620183,   3.03630298,   1.62422821]])"
      ]
     },
     "execution_count": 24,
     "metadata": {},
     "output_type": "execute_result"
    }
   ],
   "source": [
    "# overall mean & std\n",
    "x = np.arange(8)\n",
    "y = np.array(exp_attend.mean(axis=0))\n",
    "e = np.array(exp_attend.std(axis=0))\n",
    "\n",
    "plt.errorbar(x, y, e, linestyle='None', marker='^')\n",
    "axes = plt.gca()\n",
    "axes.set_ylim([5,20])\n",
    "\n",
    "for xy in zip(x, y):\n",
    "    axes.annotate('%.4s' % xy[1], xy=xy, textcoords='data')\n",
    "    \n",
    "plt.show()\n",
    "\n",
    "# overall mean & std\n",
    "np.vstack((exp_attend.mean(axis=0),exp_attend.std(axis=0)))"
   ]
  },
  {
   "cell_type": "code",
   "execution_count": 25,
   "metadata": {},
   "outputs": [
    {
     "data": {
      "image/png": "[encoded data removed]",
      "text/plain": [
       "<matplotlib.figure.Figure at 0x13bf8a5abe0>"
      ]
     },
     "metadata": {},
     "output_type": "display_data"
    },
    {
     "data": {
      "text/plain": [
       "array([[ 11.88888889,  11.88888889,  12.77777778,  11.83333333,\n",
       "         12.05555556,  12.44444444,  12.66666667,  13.16666667],\n",
       "       [  3.60383883,   3.47832796,   2.73973956,   4.04488703,\n",
       "          3.71890399,   2.75322482,   3.82970843,   2.21735578]])"
      ]
     },
     "execution_count": 25,
     "metadata": {},
     "output_type": "execute_result"
    }
   ],
   "source": [
    "# exp1 mean & std\n",
    "x = np.arange(8)\n",
    "y = np.array(exp1_attend.mean(axis=0))\n",
    "e = np.array(exp1_attend.std(axis=0))\n",
    "\n",
    "plt.errorbar(x, y, e, linestyle='None', marker='^')\n",
    "axes = plt.gca()\n",
    "axes.set_ylim([5,20])\n",
    "\n",
    "for xy in zip(x, y):\n",
    "    axes.annotate('%.4s' % xy[1], xy=xy, textcoords='data')\n",
    "    \n",
    "plt.show()\n",
    "\n",
    "# exp1 mean & std\n",
    "np.vstack((exp1_attend.mean(axis=0),exp1_attend.std(axis=0)))"
   ]
  },
  {
   "cell_type": "code",
   "execution_count": 26,
   "metadata": {
    "scrolled": true
   },
   "outputs": [
    {
     "data": {
      "image/png": "[encoded data removed]",
      "text/plain": [
       "<matplotlib.figure.Figure at 0x13bf8a30be0>"
      ]
     },
     "metadata": {},
     "output_type": "display_data"
    },
    {
     "data": {
      "text/plain": [
       "array([[ 13.        ,  13.16666667,  13.44444444,  13.88888889,\n",
       "         13.38888889,  12.72222222,  13.        ,  13.        ],\n",
       "       [  1.05409255,   1.34370962,   1.86256162,   0.31426968,\n",
       "          3.25130553,   3.33009102,   3.2829526 ,   3.21455025]])"
      ]
     },
     "execution_count": 26,
     "metadata": {},
     "output_type": "execute_result"
    }
   ],
   "source": [
    "# exp2 mean & std\n",
    "x = np.arange(8)\n",
    "y = np.array(exp2_attend.mean(axis=0))\n",
    "e = np.array(exp2_attend.std(axis=0))\n",
    "\n",
    "plt.errorbar(x, y, e, linestyle='None', marker='^')\n",
    "axes = plt.gca()\n",
    "axes.set_ylim([5,20])\n",
    "\n",
    "for xy in zip(x, y):\n",
    "    axes.annotate('%.4s' % xy[1], xy=xy, textcoords='data')\n",
    "    \n",
    "plt.show()\n",
    "\n",
    "# exp2 mean & std\n",
    "np.vstack((exp2_attend.mean(axis=0),exp2_attend.std(axis=0)))"
   ]
  },
  {
   "cell_type": "markdown",
   "metadata": {},
   "source": [
    "## t-test between high/low false alert rate"
   ]
  },
  {
   "cell_type": "code",
   "execution_count": 27,
   "metadata": {},
   "outputs": [
    {
     "name": "stdout",
     "output_type": "stream",
     "text": [
      "12.5625 3.43333080502\n",
      "12.9791666667 2.4957429032\n"
     ]
    },
    {
     "data": {
      "text/plain": [
       "Ttest_indResult(statistic=-1.1738744436042305, pvalue=0.24142190748307171)"
      ]
     },
     "execution_count": 27,
     "metadata": {},
     "output_type": "execute_result"
    }
   ],
   "source": [
    "# within population: high/low false rate\n",
    "\n",
    "exp_attend_hifalse = exp_attend[:, np.r_[0:4]].T.ravel()\n",
    "exp_attend_lofalse = exp_attend[:, np.r_[4:8]].T.ravel()\n",
    "\n",
    "print(exp_attend_hifalse.mean(),exp_attend_hifalse.std())\n",
    "print(exp_attend_lofalse.mean(),exp_attend_lofalse.std())\n",
    "sp.ttest_ind(exp_attend_hifalse,exp_attend_lofalse)\n",
    "#sp.ttest_ind"
   ]
  },
  {
   "cell_type": "markdown",
   "metadata": {},
   "source": [
    "## t-test between with/without missing rate"
   ]
  },
  {
   "cell_type": "code",
   "execution_count": 28,
   "metadata": {},
   "outputs": [
    {
     "name": "stdout",
     "output_type": "stream",
     "text": [
      "12.5694444444 3.031438918\n",
      "12.9722222222 2.97196260548\n"
     ]
    },
    {
     "data": {
      "text/plain": [
       "Ttest_indResult(statistic=-1.1345661308469714, pvalue=0.25750716423194153)"
      ]
     },
     "execution_count": 28,
     "metadata": {},
     "output_type": "execute_result"
    }
   ],
   "source": [
    "# within population with/without misses\n",
    "\n",
    "exp_attend_misses = np.hstack((exp_attend[:,0],exp_attend[:,1],exp_attend[:,4],exp_attend[:,5]))\n",
    "exp_attend_nomisses = np.hstack((exp_attend[:,2],exp_attend[:,3],exp_attend[:,6],exp_attend[:,7]))\n",
    "\n",
    "print(exp_attend_misses.mean(),exp_attend_misses.std())\n",
    "print(exp_attend_nomisses.mean(),exp_attend_nomisses.std())\n",
    "sp.ttest_ind(exp_attend_misses,exp_attend_nomisses)\n",
    "#sp.ttest_ind"
   ]
  },
  {
   "cell_type": "markdown",
   "metadata": {},
   "source": [
    "## Correlation between # Attended Events vs Trust Scores"
   ]
  },
  {
   "cell_type": "code",
   "execution_count": 29,
   "metadata": {},
   "outputs": [
    {
     "data": {
      "text/plain": [
       "(0.053661374778265387, 0.36421793055144225)"
      ]
     },
     "execution_count": 29,
     "metadata": {},
     "output_type": "execute_result"
    }
   ],
   "source": [
    "# pearson correlation\n",
    "sp.pearsonr(exp_trust.T.ravel(), exp_attend.T.ravel())"
   ]
  },
  {
   "cell_type": "code",
   "execution_count": 30,
   "metadata": {},
   "outputs": [
    {
     "data": {
      "text/plain": [
       "SpearmanrResult(correlation=0.052956208006881361, pvalue=0.37056437273454901)"
      ]
     },
     "execution_count": 30,
     "metadata": {},
     "output_type": "execute_result"
    }
   ],
   "source": [
    "# spearman correlation\n",
    "sp.spearmanr(exp_trust.T.ravel(), exp_attend.T.ravel())"
   ]
  },
  {
   "cell_type": "markdown",
   "metadata": {},
   "source": [
    "## Correlation between # Attended False Alerts vs Trust Scores"
   ]
  },
  {
   "cell_type": "code",
   "execution_count": 31,
   "metadata": {},
   "outputs": [
    {
     "data": {
      "text/plain": [
       "(-0.22259635213489382, 0.00013949885037661824)"
      ]
     },
     "execution_count": 31,
     "metadata": {},
     "output_type": "execute_result"
    }
   ],
   "source": [
    "exp1_attendf = exp1_data_T.values[1:19,214:222].astype(int)\n",
    "exp2_attendf = exp2_data_T.values[1:19,214:222].astype(int)\n",
    "# exp_demo = np.concatenate((exp1_demo,exp2_demo),axis=0)\n",
    "exp_attendf = np.vstack((exp1_attendf,np.hstack((exp2_attendf[:,4:],exp2_attendf[:,:4])))).astype(int)\n",
    "\n",
    "sp.pearsonr(exp_trust.T.ravel(), exp_attendf.T.ravel())"
   ]
  },
  {
   "cell_type": "code",
   "execution_count": 32,
   "metadata": {},
   "outputs": [
    {
     "data": {
      "text/plain": [
       "SpearmanrResult(correlation=-0.22350430328920187, pvalue=0.00013077412033926137)"
      ]
     },
     "execution_count": 32,
     "metadata": {},
     "output_type": "execute_result"
    }
   ],
   "source": [
    "exp1_attendf = exp1_data_T.values[1:19,214:222].astype(int)\n",
    "exp2_attendf = exp2_data_T.values[1:19,214:222].astype(int)\n",
    "# exp_demo = np.concatenate((exp1_demo,exp2_demo),axis=0)\n",
    "exp_attendf = np.vstack((exp1_attendf,np.hstack((exp2_attendf[:,4:],exp2_attendf[:,:4])))).astype(int)\n",
    "\n",
    "sp.spearmanr(exp_trust.T.ravel(), exp_attendf.T.ravel())"
   ]
  },
  {
   "cell_type": "markdown",
   "metadata": {},
   "source": [
    "# Num of Admin Tasks"
   ]
  },
  {
   "cell_type": "code",
   "execution_count": 33,
   "metadata": {},
   "outputs": [
    {
     "data": {
      "text/plain": [
       "array([[54, 57, 53, 46, 51, 51, 49, 49],\n",
       "       [52, 51, 48, 48, 50, 53, 49, 50],\n",
       "       [46, 48, 46, 46, 51, 52, 48, 52],\n",
       "       [49, 48, 49, 51, 54, 51, 49, 52],\n",
       "       [49, 52, 49, 51, 51, 51, 47, 51],\n",
       "       [50, 48, 47, 52, 54, 55, 52, 52],\n",
       "       [53, 52, 52, 57, 57, 58, 59, 56],\n",
       "       [46, 43, 42, 40, 51, 46, 51, 50],\n",
       "       [22, 43, 44, 25, 33, 37, 24, 33],\n",
       "       [47, 50, 42, 46, 52, 52, 48, 47],\n",
       "       [51, 50, 47, 48, 50, 49, 49, 48],\n",
       "       [49, 50, 50, 52, 54, 54, 49, 52],\n",
       "       [47, 51, 47, 47, 51, 49, 49, 51],\n",
       "       [46, 50, 49, 49, 51, 51, 51, 51],\n",
       "       [53, 52, 48, 53, 52, 53, 48, 52],\n",
       "       [51, 49, 47, 49, 51, 51, 49, 50],\n",
       "       [51, 53, 51, 55, 53, 48, 52, 52],\n",
       "       [47, 49, 46, 48, 56, 52, 48, 49],\n",
       "       [50, 52, 46, 50, 51, 50, 48, 51],\n",
       "       [45, 48, 47, 50, 46, 52, 49, 49],\n",
       "       [51, 49, 46, 49, 55, 53, 52, 50],\n",
       "       [52, 51, 49, 49, 55, 48, 47, 51],\n",
       "       [49, 51, 47, 50, 52, 51, 48, 49],\n",
       "       [52, 51, 46, 48, 54, 52, 52, 52],\n",
       "       [52, 47, 47, 47, 54, 50, 47, 51],\n",
       "       [54, 52, 51, 51, 48, 48, 49, 50],\n",
       "       [48, 49, 47, 48, 52, 50, 46, 51],\n",
       "       [54, 54, 52, 53, 48, 47, 48, 51],\n",
       "       [53, 49, 48, 45, 50, 47, 49, 51],\n",
       "       [52, 51, 50, 50, 52, 53, 51, 51],\n",
       "       [52, 49, 46, 48, 52, 50, 50, 51],\n",
       "       [50, 49, 45, 49, 51, 48, 46, 48],\n",
       "       [51, 52, 47, 52, 49, 50, 48, 51],\n",
       "       [48, 46, 46, 48, 53, 50, 50, 49],\n",
       "       [48, 49, 45, 46, 50, 52, 50, 50],\n",
       "       [56, 57, 57,  3, 51, 56, 55, 51]])"
      ]
     },
     "execution_count": 33,
     "metadata": {},
     "output_type": "execute_result"
    }
   ],
   "source": [
    "exp1_admin = exp1_data_T.values[1:19,94:102].astype(int)\n",
    "exp2_admin = exp2_data_T.values[1:19,94:102].astype(int)\n",
    "# exp_demo = np.concatenate((exp1_demo,exp2_demo),axis=0)\n",
    "exp_admin = np.vstack((exp1_admin,np.hstack((exp2_admin[:,4:],exp2_admin[:,:4])))).astype(int)\n",
    "exp_admin"
   ]
  },
  {
   "cell_type": "code",
   "execution_count": 34,
   "metadata": {},
   "outputs": [
    {
     "data": {
      "image/png": "[encoded data removed]",
      "text/plain": [
       "<matplotlib.figure.Figure at 0x13bf8854710>"
      ]
     },
     "metadata": {},
     "output_type": "display_data"
    },
    {
     "data": {
      "text/plain": [
       "array([[ 49.44444444,  50.05555556,  47.75      ,  47.19444444,\n",
       "         51.25      ,  50.55555556,  48.77777778,  50.11111111],\n",
       "       [  5.34604965,   2.88621671,   2.92854723,   8.97162021,\n",
       "          3.81790373,   3.40297618,   4.85404248,   3.28107179]])"
      ]
     },
     "execution_count": 34,
     "metadata": {},
     "output_type": "execute_result"
    }
   ],
   "source": [
    "# overall mean & std\n",
    "x = np.arange(8)\n",
    "y = np.array(exp_admin.mean(axis=0))\n",
    "e = np.array(exp_admin.std(axis=0))\n",
    "\n",
    "plt.errorbar(x, y, e, linestyle='None', marker='^')\n",
    "axes = plt.gca()\n",
    "axes.set_ylim([30,60])\n",
    "\n",
    "for xy in zip(x, y):\n",
    "    axes.annotate('%.4s' % xy[1], xy=xy, textcoords='data')\n",
    "    \n",
    "plt.show()\n",
    "\n",
    "# overall mean & std\n",
    "np.vstack((exp_admin.mean(axis=0),exp_admin.std(axis=0)))"
   ]
  },
  {
   "cell_type": "code",
   "execution_count": 35,
   "metadata": {},
   "outputs": [
    {
     "data": {
      "image/png": "[encoded data removed]",
      "text/plain": [
       "<matplotlib.figure.Figure at 0x13bf8ac8748>"
      ]
     },
     "metadata": {},
     "output_type": "display_data"
    },
    {
     "data": {
      "text/plain": [
       "array([[ 47.94444444,  49.77777778,  47.61111111,  47.94444444,\n",
       "         51.22222222,  50.72222222,  48.38888889,  49.83333333],\n",
       "       [  6.77800546,   3.18948891,   2.92762492,   6.72038542,\n",
       "          4.82534461,   4.22697101,   6.46476681,   4.51232879]])"
      ]
     },
     "execution_count": 35,
     "metadata": {},
     "output_type": "execute_result"
    }
   ],
   "source": [
    "# exp1 mean & std\n",
    "x = np.arange(8)\n",
    "y = np.array(exp1_admin.mean(axis=0))\n",
    "e = np.array(exp1_admin.std(axis=0))\n",
    "\n",
    "plt.errorbar(x, y, e, linestyle='None', marker='^')\n",
    "axes = plt.gca()\n",
    "axes.set_ylim([30,60])\n",
    "\n",
    "for xy in zip(x, y):\n",
    "    axes.annotate('%.4s' % xy[1], xy=xy, textcoords='data')\n",
    "    \n",
    "plt.show()\n",
    "\n",
    "# exp1 mean & std\n",
    "np.vstack((exp1_admin.mean(axis=0),exp1_admin.std(axis=0)))"
   ]
  },
  {
   "cell_type": "code",
   "execution_count": 36,
   "metadata": {
    "scrolled": true
   },
   "outputs": [
    {
     "data": {
      "image/png": "[encoded data removed]",
      "text/plain": [
       "<matplotlib.figure.Figure at 0x13bf87be898>"
      ]
     },
     "metadata": {},
     "output_type": "display_data"
    },
    {
     "data": {
      "text/plain": [
       "array([[ 51.27777778,  50.38888889,  49.16666667,  50.38888889,\n",
       "         50.94444444,  50.33333333,  47.88888889,  46.44444444],\n",
       "       [  2.42224771,   2.28859221,   2.24227067,   1.00768651,\n",
       "          2.59212959,   2.51661148,   2.92287699,  10.70940512]])"
      ]
     },
     "execution_count": 36,
     "metadata": {},
     "output_type": "execute_result"
    }
   ],
   "source": [
    "# exp2 mean & std\n",
    "x = np.arange(8)\n",
    "y = np.array(exp2_admin.mean(axis=0))\n",
    "e = np.array(exp2_admin.std(axis=0))\n",
    "\n",
    "plt.errorbar(x, y, e, linestyle='None', marker='^')\n",
    "axes = plt.gca()\n",
    "axes.set_ylim([30,60])\n",
    "\n",
    "for xy in zip(x, y):\n",
    "    axes.annotate('%.4s' % xy[1], xy=xy, textcoords='data')\n",
    "    \n",
    "plt.show()\n",
    "\n",
    "# exp2 mean & std\n",
    "np.vstack((exp2_admin.mean(axis=0),exp2_admin.std(axis=0)))"
   ]
  },
  {
   "cell_type": "markdown",
   "metadata": {},
   "source": [
    "## Correlation between # Attended Admins vs # Attended Events"
   ]
  },
  {
   "cell_type": "code",
   "execution_count": 37,
   "metadata": {},
   "outputs": [
    {
     "data": {
      "text/plain": [
       "(0.052973688618553651, 0.37040622772042464)"
      ]
     },
     "execution_count": 37,
     "metadata": {},
     "output_type": "execute_result"
    }
   ],
   "source": [
    "# pearson correlation\n",
    "sp.pearsonr(exp_trust.T.ravel(), exp_admin.T.ravel())"
   ]
  },
  {
   "cell_type": "code",
   "execution_count": 38,
   "metadata": {},
   "outputs": [
    {
     "data": {
      "text/plain": [
       "SpearmanrResult(correlation=0.043333282724592158, pvalue=0.4638413721121607)"
      ]
     },
     "execution_count": 38,
     "metadata": {},
     "output_type": "execute_result"
    }
   ],
   "source": [
    "# spearman correlation\n",
    "sp.spearmanr(exp_trust.T.ravel(), exp_admin.T.ravel())"
   ]
  },
  {
   "cell_type": "markdown",
   "metadata": {},
   "source": [
    "# Earnings & Losses"
   ]
  },
  {
   "cell_type": "code",
   "execution_count": 39,
   "metadata": {
    "collapsed": true
   },
   "outputs": [],
   "source": [
    "exp1_admin_w = exp1_data_T.values[1:19,114:122].astype(int)\n",
    "exp2_admin_w = exp2_data_T.values[1:19,114:122].astype(int)\n",
    "# exp_demo = np.concatenate((exp1_demo,exp2_demo),axis=0)\n",
    "exp_admin_w = np.vstack((exp1_admin_w,np.hstack((exp2_admin_w[:,4:],exp2_admin_w[:,:4])))).astype(int)\n",
    "\n",
    "# correct cards:$4 \n",
    "# wrong cards: $4\n",
    "# use (total admin - 2x wrong admin)x$4 to get net profit\n",
    "Earnings_admin = 4*(exp_admin - 2*exp_admin_w)"
   ]
  },
  {
   "cell_type": "code",
   "execution_count": 40,
   "metadata": {},
   "outputs": [
    {
     "data": {
      "text/plain": [
       "array([[-800, -732, -623, -136, -206, -110, -106,  -94],\n",
       "       [-306, -196, -175, -151, -188, -113,  -86,  -95],\n",
       "       [-220, -206, -210, -191, -121, -203, -136, -114],\n",
       "       [-668, -183, -146, -267, -100, -118,  -80,  -80],\n",
       "       [-250, -231, -302, -259, -186, -163, -180, -194],\n",
       "       [-296, -244, -154, -198, -231, -277, -150, -235],\n",
       "       [-423, -384, -490, -668, -785, -634, -907, -562],\n",
       "       [-443, -175, -287, -151, -195, -159,  -97,  -95],\n",
       "       [-680, -799, -677, -853, -951, -487, -639, -465],\n",
       "       [-664, -235, -132, -114, -104, -119,  -57,  -57],\n",
       "       [-272, -228, -176, -130, -119, -124,  -96, -104],\n",
       "       [-242, -184, -204, -604, -251, -280,  -60,  -85],\n",
       "       [-218, -216, -186, -190, -110, -170, -106,  -84],\n",
       "       [-278, -178, -193, -150,  -97, -107,  -67,  -77],\n",
       "       [-390, -225, -186, -240, -194,  -84,  -56, -112],\n",
       "       [-282, -256, -180, -203, -153, -160, -136, -114],\n",
       "       [-781, -429, -476, -584, -347, -307, -303, -267],\n",
       "       [-298, -246, -140, -140, -194, -192,  -86,  -85],\n",
       "       [-279, -186, -140, -246, -129, -141, -126, -124],\n",
       "       [-308, -243, -120, -140, -189, -186,  -78,  -74],\n",
       "       [-296, -240, -120, -120, -192, -184,  -56,  -64],\n",
       "       [-310, -198, -181, -169, -226, -125,  -76,  -84],\n",
       "       [-238, -161, -150, -182, -160, -159, -116, -104],\n",
       "       [-296, -166, -140, -140, -167, -252, -141, -299],\n",
       "       [-306, -228, -160, -160, -137, -162,  -68,  -74],\n",
       "       [-172, -153, -200, -206, -141, -164, -181, -145],\n",
       "       [-206, -238, -190, -240, -166, -130,  -87,  -94],\n",
       "       [-168, -205, -140, -134, -162, -141, -127, -114],\n",
       "       [-362, -197, -134, -222, -176, -120,  -90,  -94],\n",
       "       [-414, -412, -332, -264, -287, -160, -158, -122],\n",
       "       [-249, -172, -150, -130, -260,  -84,  -90,  -68],\n",
       "       [-282, -167, -160, -150, -277, -181,  -87,  -96],\n",
       "       [-219, -318, -150, -140, -160, -143, -137, -135],\n",
       "       [-211, -179, -160, -171, -280, -134, -166, -164],\n",
       "       [-275, -197, -210, -161, -134, -171, -106, -114],\n",
       "       [-873, -877, -906, -982, -408, -505, -464, -112]])"
      ]
     },
     "execution_count": 40,
     "metadata": {},
     "output_type": "execute_result"
    }
   ],
   "source": [
    "# final balance\n",
    "exp1_fnl_balance = exp1_data_T.values[1:19,244:].astype(int)\n",
    "exp2_fnl_balance = exp2_data_T.values[1:19,244:].astype(int)\n",
    "# exp_demo = np.concatenate((exp1_demo,exp2_demo),axis=0)\n",
    "exp_fnl_balance = np.vstack((exp1_fnl_balance,np.hstack((exp2_fnl_balance[:,4:],exp2_fnl_balance[:,:4])))).astype(int)\n",
    "\n",
    "# reverse engineering to find total losses from monitoring system\n",
    "Total_loss = exp_fnl_balance - Earnings_admin - 150\n",
    "Total_loss"
   ]
  },
  {
   "cell_type": "markdown",
   "metadata": {},
   "source": [
    "# Propensity Questions"
   ]
  },
  {
   "cell_type": "code",
   "execution_count": 41,
   "metadata": {
    "collapsed": true
   },
   "outputs": [],
   "source": [
    "exp1_prop = exp1_data_T.values[1:19,9:15].astype(int)\n",
    "exp2_prop = exp2_data_T.values[1:19,9:15].astype(int)\n",
    "# exp_demo = np.concatenate((exp1_demo,exp2_demo),axis=0)\n",
    "exp_prop = np.vstack((exp1_prop,np.hstack((exp2_prop[:,4:],exp2_prop[:,:4])))).astype(int)"
   ]
  },
  {
   "cell_type": "code",
   "execution_count": 42,
   "metadata": {},
   "outputs": [
    {
     "data": {
      "image/png": "[encoded data removed]",
      "text/plain": [
       "<matplotlib.figure.Figure at 0x13bf89c3240>"
      ]
     },
     "metadata": {},
     "output_type": "display_data"
    },
    {
     "data": {
      "text/plain": [
       "array([[ 3.11111111,  2.61111111,  3.94444444,  2.86111111,  3.27777778,\n",
       "         3.30555556],\n",
       "       [ 1.12491426,  0.89062331,  0.62112999,  0.97618241,  1.01683362,\n",
       "         0.99497193]])"
      ]
     },
     "execution_count": 42,
     "metadata": {},
     "output_type": "execute_result"
    }
   ],
   "source": [
    "# overall mean & std\n",
    "x = np.arange(6)\n",
    "y = np.array(exp_prop.mean(axis=0))\n",
    "e = np.array(exp_prop.std(axis=0))\n",
    "\n",
    "plt.errorbar(x, y, e, linestyle='None', marker='^')\n",
    "axes = plt.gca()\n",
    "axes.set_ylim([0,5])\n",
    "\n",
    "for xy in zip(x, y):\n",
    "    axes.annotate('%.4s' % xy[1], xy=xy, textcoords='data')\n",
    "    \n",
    "plt.show()\n",
    "\n",
    "# overall mean & std\n",
    "np.vstack((exp_prop.mean(axis=0),exp_prop.std(axis=0)))"
   ]
  },
  {
   "cell_type": "code",
   "execution_count": null,
   "metadata": {
    "collapsed": true
   },
   "outputs": [],
   "source": []
  },
  {
   "cell_type": "code",
   "execution_count": null,
   "metadata": {
    "collapsed": true
   },
   "outputs": [],
   "source": []
  },
  {
   "cell_type": "markdown",
   "metadata": {},
   "source": [
    "# Post-stage Questions"
   ]
  },
  {
   "cell_type": "code",
   "execution_count": 43,
   "metadata": {
    "collapsed": true
   },
   "outputs": [],
   "source": [
    "# exp1_pstq = np.hstack((exp1_data_T.values[1:19,16:19],exp1_data_T.values[1:19,21:28],\n",
    "#                        exp1_data_T.values[1:19,29:32],exp1_data_T.values[1:19,34:41],\n",
    "#                        exp1_data_T.values[1:19,42:45],exp1_data_T.values[1:19,47:54],\n",
    "#                        exp1_data_T.values[1:19,55:58],exp1_data_T.values[1:19,60:67])).astype(int)\n",
    "# exp2_pstq = np.hstack((exp2_data_T.values[1:19,16:19],exp2_data_T.values[1:19,21:28],\n",
    "#                        exp2_data_T.values[1:19,29:32],exp2_data_T.values[1:19,34:41],\n",
    "#                        exp2_data_T.values[1:19,42:45],exp2_data_T.values[1:19,47:54],\n",
    "#                        exp2_data_T.values[1:19,55:58],exp2_data_T.values[1:19,60:67])).astype(int)\n",
    "\n",
    "exp1_pstq = exp1_data_T.values[1:19, np.r_[16:19,21:28,29:32,34:41,42:45,47:54,55:58,60:67]].astype(int)\n",
    "exp2_pstq = exp2_data_T.values[1:19, np.r_[16:19,21:28,29:32,34:41,42:45,47:54,55:58,60:67]].astype(int)\n",
    "\n",
    "# exp_demo = np.concatenate((exp1_demo,exp2_demo),axis=0)\n",
    "exp_pstq = np.vstack((exp1_pstq,np.hstack((exp2_pstq[:,20:],exp2_pstq[:,:20])))).astype(int)"
   ]
  },
  {
   "cell_type": "code",
   "execution_count": 44,
   "metadata": {
    "scrolled": true
   },
   "outputs": [
    {
     "data": {
      "text/plain": [
       "array([[ 4.36111111,  3.19444444,  3.36111111,  3.08333333,  3.55555556,\n",
       "         3.52777778,  2.97222222,  2.86111111,  2.63888889,  3.66666667,\n",
       "         4.25      ,  2.94444444,  3.16666667,  3.30555556,  3.58333333,\n",
       "         3.63888889,  3.27777778,  3.22222222,  2.58333333,  3.80555556,\n",
       "         4.25      ,  3.13888889,  2.97222222,  3.69444444,  3.86111111,\n",
       "         3.80555556,  3.44444444,  3.38888889,  2.58333333,  3.77777778,\n",
       "         4.33333333,  3.19444444,  2.75      ,  3.75      ,  3.86111111,\n",
       "         3.91666667,  3.58333333,  3.61111111,  2.47222222,  3.97222222],\n",
       "       [ 0.8548157 ,  1.12594268,  0.6730023 ,  0.8291562 ,  0.86424162,\n",
       "         0.68662262,  0.98562194,  0.97618241,  0.8548157 ,  0.62360956,\n",
       "         1.01036297,  1.20056571,  0.72648316,  0.93747428,  0.98248551,\n",
       "         0.8548157 ,  0.93128081,  1.03040206,  0.8291562 ,  0.77529365,\n",
       "         0.98248551,  1.13413643,  0.68662262,  0.84391431,  0.78714596,\n",
       "         0.84391431,  0.86424162,  0.95095793,  0.8620067 ,  0.74948542,\n",
       "         0.94280904,  1.07547004,  0.68211273,  0.89365044,  0.7510281 ,\n",
       "         0.72168784,  0.8291562 ,  0.85886805,  0.83287024,  0.72595191]])"
      ]
     },
     "execution_count": 44,
     "metadata": {},
     "output_type": "execute_result"
    }
   ],
   "source": [
    "# overall mean & std\n",
    "np.vstack((exp_pstq.mean(axis=0),exp_pstq.std(axis=0)))"
   ]
  },
  {
   "cell_type": "code",
   "execution_count": 45,
   "metadata": {},
   "outputs": [
    {
     "data": {
      "text/plain": [
       "array([[ 4.27777778,  2.94444444,  3.27777778,  3.16666667,  3.55555556,\n",
       "         3.61111111,  3.16666667,  2.94444444,  2.55555556,  3.77777778,\n",
       "         4.        ,  2.77777778,  3.27777778,  3.22222222,  3.55555556,\n",
       "         3.72222222,  3.27777778,  3.16666667,  2.77777778,  3.61111111,\n",
       "         4.        ,  3.11111111,  2.77777778,  3.83333333,  4.        ,\n",
       "         4.        ,  3.5       ,  3.55555556,  2.61111111,  4.        ,\n",
       "         4.11111111,  3.27777778,  2.77777778,  3.77777778,  3.83333333,\n",
       "         3.83333333,  3.55555556,  3.5       ,  2.55555556,  3.94444444],\n",
       "       [ 0.80315735,  1.02589918,  0.65026111,  0.76376262,  0.89580642,\n",
       "         0.59056366,  0.89752747,  0.84801875,  0.68493489,  0.53287017,\n",
       "         1.05409255,  1.18112731,  0.73071925,  0.91624569,  1.0122704 ,\n",
       "         0.86958199,  0.86958199,  0.95742711,  0.91624569,  0.95095793,\n",
       "         1.24721913,  1.24225999,  0.71145825,  0.60092521,  0.66666667,\n",
       "         0.57735027,  0.76376262,  0.83147942,  0.75563725,  0.57735027,\n",
       "         0.99380799,  0.98913855,  0.62853936,  0.85346064,  0.83333333,\n",
       "         0.76376262,  0.7617394 ,  0.76376262,  0.95581392,  0.77975938]])"
      ]
     },
     "execution_count": 45,
     "metadata": {},
     "output_type": "execute_result"
    }
   ],
   "source": [
    "# exp1 mean & std\n",
    "np.vstack((exp1_pstq.mean(axis=0),exp1_pstq.std(axis=0)))"
   ]
  },
  {
   "cell_type": "code",
   "execution_count": 46,
   "metadata": {
    "scrolled": true
   },
   "outputs": [
    {
     "data": {
      "text/plain": [
       "array([[ 4.5       ,  3.16666667,  3.16666667,  3.55555556,  3.72222222,\n",
       "         3.61111111,  3.38888889,  3.22222222,  2.55555556,  3.55555556,\n",
       "         4.55555556,  3.11111111,  2.72222222,  3.72222222,  3.88888889,\n",
       "         4.        ,  3.61111111,  3.72222222,  2.38888889,  4.        ,\n",
       "         4.44444444,  3.44444444,  3.44444444,  3.        ,  3.55555556,\n",
       "         3.44444444,  2.77777778,  2.77777778,  2.72222222,  3.55555556,\n",
       "         4.5       ,  3.11111111,  3.05555556,  3.38888889,  3.61111111,\n",
       "         3.55555556,  3.27777778,  3.27777778,  2.38888889,  4.        ],\n",
       "       [ 0.5       ,  1.01379376,  0.60092521,  1.0122704 ,  0.86958199,\n",
       "         1.00768651,  0.95095793,  1.03040206,  0.95581392,  0.83147942,\n",
       "         0.83147942,  1.14934227,  0.73071925,  0.93128081,  0.6573422 ,\n",
       "         0.66666667,  0.89062331,  0.93128081,  0.67814198,  0.66666667,\n",
       "         0.89580642,  1.16534316,  0.68493489,  0.8819171 ,  0.83147942,\n",
       "         0.7617394 ,  1.03040206,  1.08297715,  0.98913855,  0.68493489,\n",
       "         0.89752747,  1.19670329,  0.70492097,  0.95095793,  0.95095793,\n",
       "         0.83147942,  0.98913855,  1.09572683,  0.67814198,  0.47140452]])"
      ]
     },
     "execution_count": 46,
     "metadata": {},
     "output_type": "execute_result"
    }
   ],
   "source": [
    "# exp2 mean & std\n",
    "np.vstack((exp2_pstq.mean(axis=0),exp2_pstq.std(axis=0)))"
   ]
  },
  {
   "cell_type": "markdown",
   "metadata": {
    "collapsed": true
   },
   "source": [
    "# Post-game Questions"
   ]
  },
  {
   "cell_type": "code",
   "execution_count": 47,
   "metadata": {},
   "outputs": [
    {
     "data": {
      "text/plain": [
       "array([[4, 4, 1, 4, 2, 2, 2],\n",
       "       [3, 2, 3, 2, 2, 3, 2],\n",
       "       [4, 2, 2, 4, 4, 3, 2],\n",
       "       [4, 4, 3, 3, 3, 3, 2],\n",
       "       [5, 4, 3, 3, 4, 3, 2],\n",
       "       [3, 5, 3, 4, 4, 1, 2],\n",
       "       [3, 2, 3, 3, 3, 1, 2],\n",
       "       [5, 1, 3, 3, 4, 2, 2],\n",
       "       [3, 1, 3, 3, 4, 2, 2],\n",
       "       [4, 5, 3, 3, 4, 3, 2],\n",
       "       [3, 2, 2, 3, 4, 3, 2],\n",
       "       [3, 4, 2, 4, 3, 3, 2],\n",
       "       [4, 4, 3, 4, 3, 3, 2],\n",
       "       [3, 1, 3, 2, 4, 3, 2],\n",
       "       [5, 4, 3, 2, 3, 1, 2],\n",
       "       [3, 2, 2, 3, 3, 3, 2],\n",
       "       [4, 2, 3, 4, 4, 2, 2],\n",
       "       [3, 4, 3, 2, 4, 3, 2],\n",
       "       [4, 2, 3, 3, 4, 3, 2],\n",
       "       [4, 2, 2, 3, 2, 3, 2],\n",
       "       [3, 3, 2, 3, 4, 3, 2],\n",
       "       [3, 4, 2, 4, 3, 1, 2],\n",
       "       [4, 4, 3, 1, 4, 2, 2],\n",
       "       [4, 5, 3, 3, 2, 1, 2],\n",
       "       [4, 5, 3, 2, 4, 1, 2],\n",
       "       [3, 4, 2, 3, 3, 3, 2],\n",
       "       [3, 2, 2, 3, 4, 3, 2],\n",
       "       [4, 5, 3, 3, 4, 1, 2],\n",
       "       [3, 4, 2, 3, 4, 3, 2],\n",
       "       [5, 5, 2, 4, 3, 1, 2],\n",
       "       [3, 2, 2, 3, 3, 1, 2],\n",
       "       [4, 4, 2, 4, 3, 3, 2],\n",
       "       [3, 4, 2, 3, 4, 3, 2],\n",
       "       [4, 5, 3, 2, 4, 1, 2],\n",
       "       [2, 2, 2, 3, 4, 1, 2],\n",
       "       [5, 1, 1, 1, 1, 3, 1]])"
      ]
     },
     "execution_count": 47,
     "metadata": {},
     "output_type": "execute_result"
    }
   ],
   "source": [
    "exp1_pgq = exp1_data_T.values[1:19,69:76]\n",
    "exp2_pgq = exp2_data_T.values[1:19,69:76]\n",
    "exp_pgq = np.vstack((exp1_pgq,exp2_pgq)).astype(int)\n",
    "exp_pgq"
   ]
  },
  {
   "cell_type": "code",
   "execution_count": 48,
   "metadata": {},
   "outputs": [
    {
     "name": "stdout",
     "output_type": "stream",
     "text": [
      "[2 3 4 5]\n"
     ]
    },
    {
     "data": {
      "image/png": "[encoded data removed]",
      "text/plain": [
       "<matplotlib.figure.Figure at 0x13bf8751550>"
      ]
     },
     "metadata": {},
     "output_type": "display_data"
    },
    {
     "data": {
      "text/plain": [
       "(None, Counter({2: 1, 3: 16, 4: 14, 5: 5}))"
      ]
     },
     "execution_count": 48,
     "metadata": {},
     "output_type": "execute_result"
    }
   ],
   "source": [
    "pg1 = Counter(exp_pgq[:,0])\n",
    "print(np.array(sorted(pg1.items(), key= lambda t: (t[0]), reverse=False))[:,0])\n",
    "\n",
    "x = np.arange(len(pg1.keys()))\n",
    "plt.bar(x, np.array(sorted(pg1.items(), key= lambda t: (t[0]), reverse=False))[:,1])\n",
    "plt.xticks(x, \n",
    "           ('Difficult','Fine','Easy','Very Easy'),\n",
    "           rotation=17)\n",
    "plt.title(\"How difficult was your admin job in the experiment?\")\n",
    "# plt.xlabel(\"Value\")\n",
    "plt.ylabel(\"Count\")\n",
    "\n",
    "plt.show(), Counter(pd.to_numeric(exp_pgq[:,0]))"
   ]
  },
  {
   "cell_type": "code",
   "execution_count": 49,
   "metadata": {},
   "outputs": [
    {
     "name": "stdout",
     "output_type": "stream",
     "text": [
      "[1 2 3 4 5]\n"
     ]
    },
    {
     "data": {
      "image/png": "[encoded data removed]",
      "text/plain": [
       "<matplotlib.figure.Figure at 0x13bf8ff5da0>"
      ]
     },
     "metadata": {},
     "output_type": "display_data"
    },
    {
     "data": {
      "text/plain": [
       "(None, Counter({1: 4, 2: 11, 3: 1, 4: 13, 5: 7}))"
      ]
     },
     "execution_count": 49,
     "metadata": {},
     "output_type": "execute_result"
    }
   ],
   "source": [
    "pg2 = Counter(exp_pgq[:,1])\n",
    "print(np.array(sorted(pg2.items(), key= lambda t: (t[0]), reverse=False))[:,0])\n",
    "\n",
    "x = np.arange(len(pg2.keys()))\n",
    "plt.bar(x, np.array(sorted(pg2.items(), key= lambda t: (t[0]), reverse=False))[:,1])\n",
    "plt.xticks(x, \n",
    "           ('Quite bored','A little bored','Neutral','A little engaged','Quite engaged'),\n",
    "           rotation=17)\n",
    "plt.title(\"How engaged were you with the experiment?\")\n",
    "# plt.xlabel(\"Value\")\n",
    "plt.ylabel(\"Count\")\n",
    "\n",
    "plt.show(), Counter(pd.to_numeric(exp_pgq[:,1]))"
   ]
  },
  {
   "cell_type": "code",
   "execution_count": 50,
   "metadata": {},
   "outputs": [
    {
     "name": "stdout",
     "output_type": "stream",
     "text": [
      "[1 2 3]\n"
     ]
    }
   ],
   "source": [
    "pg3 = Counter(exp_pgq[:,2])\n",
    "print(np.array(sorted(pg3.items(), key= lambda t: (t[0]), reverse=False))[:,0])"
   ]
  },
  {
   "cell_type": "code",
   "execution_count": 51,
   "metadata": {},
   "outputs": [
    {
     "data": {
      "image/png": "[encoded data removed]",
      "text/plain": [
       "<matplotlib.figure.Figure at 0x13bf876b160>"
      ]
     },
     "metadata": {},
     "output_type": "display_data"
    },
    {
     "data": {
      "text/plain": [
       "(None, Counter({1: 2, 2: 15, 3: 19}))"
      ]
     },
     "execution_count": 51,
     "metadata": {},
     "output_type": "execute_result"
    }
   ],
   "source": [
    "x = np.arange(len(pg3.keys()))\n",
    "plt.bar(x, np.array(sorted(pg3.items(), key= lambda t: (t[0]), reverse=False))[:,1])\n",
    "plt.xticks(x, \n",
    "           ('Quite Stressful','A little stressful','Not at all'),\n",
    "           rotation=17)\n",
    "plt.title(\"How stressful was the experiment?\")\n",
    "# plt.xlabel(\"Value\")\n",
    "plt.ylabel(\"Count\")\n",
    "\n",
    "plt.show(), Counter(pd.to_numeric(exp_pgq[:,2]))"
   ]
  },
  {
   "cell_type": "code",
   "execution_count": 52,
   "metadata": {},
   "outputs": [
    {
     "name": "stdout",
     "output_type": "stream",
     "text": [
      "[1 2 3 4]\n"
     ]
    }
   ],
   "source": [
    "pg4 = Counter(exp_pgq[:,3])\n",
    "print(np.array(sorted(pg4.items(), key= lambda t: (t[0]), reverse=False))[:,0])"
   ]
  },
  {
   "cell_type": "code",
   "execution_count": 53,
   "metadata": {},
   "outputs": [
    {
     "data": {
      "image/png": "[encoded data removed]",
      "text/plain": [
       "<matplotlib.figure.Figure at 0x13bf88031d0>"
      ]
     },
     "metadata": {},
     "output_type": "display_data"
    },
    {
     "data": {
      "text/plain": [
       "(None, Counter({1: 2, 2: 6, 3: 19, 4: 9}))"
      ]
     },
     "execution_count": 53,
     "metadata": {},
     "output_type": "execute_result"
    }
   ],
   "source": [
    "x = np.arange(len(pg4.keys()))\n",
    "plt.bar(x, np.array(sorted(pg4.items(), key= lambda t: (t[0]), reverse=False))[:,1])\n",
    "plt.xticks(x, \n",
    "           ('Not at all','A little','Moderately','Very'),\n",
    "           rotation=17)\n",
    "plt.title(\"How important was it for you to do well in the administration task (card game)?\")\n",
    "# plt.xlabel(\"Value\")\n",
    "plt.ylabel(\"Count\")\n",
    "\n",
    "plt.show(), Counter(pd.to_numeric(exp_pgq[:,3]))"
   ]
  },
  {
   "cell_type": "code",
   "execution_count": 54,
   "metadata": {},
   "outputs": [
    {
     "name": "stdout",
     "output_type": "stream",
     "text": [
      "[1 2 3 4]\n"
     ]
    }
   ],
   "source": [
    "pg5 = Counter(exp_pgq[:,4])\n",
    "print(np.array(sorted(pg5.items(), key= lambda t: (t[0]), reverse=False))[:,0])"
   ]
  },
  {
   "cell_type": "code",
   "execution_count": 55,
   "metadata": {},
   "outputs": [
    {
     "data": {
      "image/png": "[encoded data removed]",
      "text/plain": [
       "<matplotlib.figure.Figure at 0x13bf7729860>"
      ]
     },
     "metadata": {},
     "output_type": "display_data"
    },
    {
     "data": {
      "text/plain": [
       "(None, Counter({1: 1, 2: 4, 3: 11, 4: 20}))"
      ]
     },
     "execution_count": 55,
     "metadata": {},
     "output_type": "execute_result"
    }
   ],
   "source": [
    "x = np.arange(len(pg5.keys()))\n",
    "plt.bar(x, np.array(sorted(pg5.items(), key= lambda t: (t[0]), reverse=False))[:,1])\n",
    "plt.xticks(x, \n",
    "           ('Not at all','A little','Moderately','Very'),\n",
    "           rotation=17)\n",
    "plt.title(\"How important was it for you that the elderly residents are ok?\")\n",
    "# plt.xlabel(\"Value\")\n",
    "plt.ylabel(\"Count\")\n",
    "\n",
    "plt.show(), Counter(pd.to_numeric(exp_pgq[:,4]))"
   ]
  },
  {
   "cell_type": "code",
   "execution_count": 56,
   "metadata": {},
   "outputs": [
    {
     "name": "stdout",
     "output_type": "stream",
     "text": [
      "[1 2 3]\n"
     ]
    }
   ],
   "source": [
    "pg6 = Counter(exp_pgq[:,5])\n",
    "print(np.array(sorted(pg6.items(), key= lambda t: (t[0]), reverse=False))[:,0])"
   ]
  },
  {
   "cell_type": "code",
   "execution_count": 57,
   "metadata": {},
   "outputs": [
    {
     "data": {
      "image/png": "[encoded data removed]",
      "text/plain": [
       "<matplotlib.figure.Figure at 0x13bf888f9e8>"
      ]
     },
     "metadata": {},
     "output_type": "display_data"
    },
    {
     "data": {
      "text/plain": [
       "(None, Counter({1: 11, 2: 5, 3: 20}))"
      ]
     },
     "execution_count": 57,
     "metadata": {},
     "output_type": "execute_result"
    }
   ],
   "source": [
    "x = np.arange(len(pg6.keys()))\n",
    "plt.bar(x, np.array(sorted(pg6.items(), key= lambda t: (t[0]), reverse=False))[:,1])\n",
    "plt.xticks(x, \n",
    "           ('The game experience','Interim report','Both'),\n",
    "           rotation=17)\n",
    "plt.title(\"How did you determine how much you trust the monitoring system?\")\n",
    "# plt.xlabel(\"Value\")\n",
    "plt.ylabel(\"Count\")\n",
    "\n",
    "plt.show(), Counter(pd.to_numeric(exp_pgq[:,5]))"
   ]
  },
  {
   "cell_type": "code",
   "execution_count": 58,
   "metadata": {},
   "outputs": [
    {
     "name": "stdout",
     "output_type": "stream",
     "text": [
      "[1 2]\n"
     ]
    }
   ],
   "source": [
    "pg7 = Counter(exp_pgq[:,6])\n",
    "print(np.array(sorted(pg7.items(), key= lambda t: (t[0]), reverse=False))[:,0])"
   ]
  },
  {
   "cell_type": "code",
   "execution_count": 59,
   "metadata": {},
   "outputs": [
    {
     "data": {
      "image/png": "[encoded data removed]",
      "text/plain": [
       "<matplotlib.figure.Figure at 0x13bf886d9e8>"
      ]
     },
     "metadata": {},
     "output_type": "display_data"
    },
    {
     "data": {
      "text/plain": [
       "(None, Counter({1: 1, 2: 35}))"
      ]
     },
     "execution_count": 59,
     "metadata": {},
     "output_type": "execute_result"
    }
   ],
   "source": [
    "x = np.arange(len(pg7.keys()))\n",
    "plt.bar(x, np.array(sorted(pg7.items(), key= lambda t: (t[0]), reverse=False))[:,1])\n",
    "plt.xticks(x, \n",
    "           ('No','Yes'))\n",
    "plt.title(\"Was the tutorial video sufficiently helpful for understanding what you need to do?\")\n",
    "# plt.xlabel(\"Value\")\n",
    "plt.ylabel(\"Count\")\n",
    "\n",
    "plt.show(), Counter(pd.to_numeric(exp_pgq[:,6]))"
   ]
  }
 ],
 "metadata": {
  "kernelspec": {
   "display_name": "Python 3",
   "language": "python",
   "name": "python3"
  },
  "language_info": {
   "codemirror_mode": {
    "name": "ipython",
    "version": 3
   },
   "file_extension": ".py",
   "mimetype": "text/x-python",
   "name": "python",
   "nbconvert_exporter": "python",
   "pygments_lexer": "ipython3",
   "version": "3.6.1"
  }
 },
 "nbformat": 4,
 "nbformat_minor": 2
}
