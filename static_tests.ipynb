{
 "cells": [
  {
   "cell_type": "code",
   "execution_count": 1,
   "metadata": {
    "collapsed": true
   },
   "outputs": [],
   "source": [
    "import pandas as pd\n",
    "import matplotlib.pyplot as plt\n",
    "import numpy as np\n",
    "import scipy.stats as sp\n",
    "# import sklearn.preprocessing as sk\n",
    "from collections import Counter\n",
    "\n",
    "# from matplotlib.ticker import FuncFormatter\n",
    "%matplotlib inline"
   ]
  },
  {
   "cell_type": "code",
   "execution_count": 2,
   "metadata": {
    "collapsed": true
   },
   "outputs": [],
   "source": [
    "exp1_data = pd.read_csv(\"allTogetherSep.csv\")\n",
    "exp2_data = pd.read_csv(\"allTogetherOct.csv\")"
   ]
  },
  {
   "cell_type": "code",
   "execution_count": 3,
   "metadata": {
    "scrolled": true
   },
   "outputs": [
    {
     "data": {
      "text/html": [
       "<div>\n",
       "<style>\n",
       "    .dataframe thead tr:only-child th {\n",
       "        text-align: right;\n",
       "    }\n",
       "\n",
       "    .dataframe thead th {\n",
       "        text-align: left;\n",
       "    }\n",
       "\n",
       "    .dataframe tbody tr th {\n",
       "        vertical-align: top;\n",
       "    }\n",
       "</style>\n",
       "<table border=\"1\" class=\"dataframe\">\n",
       "  <thead>\n",
       "    <tr style=\"text-align: right;\">\n",
       "      <th></th>\n",
       "      <th>index</th>\n",
       "      <th>0</th>\n",
       "      <th>1</th>\n",
       "      <th>2</th>\n",
       "      <th>3</th>\n",
       "      <th>4</th>\n",
       "      <th>5</th>\n",
       "      <th>6</th>\n",
       "      <th>7</th>\n",
       "      <th>8</th>\n",
       "      <th>...</th>\n",
       "      <th>286</th>\n",
       "      <th>287</th>\n",
       "      <th>288</th>\n",
       "      <th>289</th>\n",
       "      <th>290</th>\n",
       "      <th>291</th>\n",
       "      <th>292</th>\n",
       "      <th>293</th>\n",
       "      <th>294</th>\n",
       "      <th>295</th>\n",
       "    </tr>\n",
       "  </thead>\n",
       "  <tbody>\n",
       "    <tr>\n",
       "      <th>0</th>\n",
       "      <td>Basic information</td>\n",
       "      <td>What is your gender?</td>\n",
       "      <td>Please indicate your age</td>\n",
       "      <td>Please indicate your ethnic background (optional)</td>\n",
       "      <td>What is your highest level of education?</td>\n",
       "      <td>How would you rate your technology expertise?</td>\n",
       "      <td>How do you feel about including technology in ...</td>\n",
       "      <td>How would you rate your experience with smart ...</td>\n",
       "      <td>Propensity Questions</td>\n",
       "      <td>I usually trust machines until there is a reas...</td>\n",
       "      <td>...</td>\n",
       "      <td>exp2-st2-sec2</td>\n",
       "      <td>#ignore an alert</td>\n",
       "      <td>exp1-st1-sec1</td>\n",
       "      <td>exp1-st1-sec2</td>\n",
       "      <td>exp1-st2-sec1</td>\n",
       "      <td>exp1-st2-sec2</td>\n",
       "      <td>exp2-st1-sec1</td>\n",
       "      <td>exp2-st1-sec2</td>\n",
       "      <td>exp2-st2-sec1</td>\n",
       "      <td>exp2-st2-sec2</td>\n",
       "    </tr>\n",
       "    <tr>\n",
       "      <th>1</th>\n",
       "      <td>1</td>\n",
       "      <td>2</td>\n",
       "      <td>1</td>\n",
       "      <td>7</td>\n",
       "      <td>4</td>\n",
       "      <td>2</td>\n",
       "      <td>0</td>\n",
       "      <td>3</td>\n",
       "      <td>NaN</td>\n",
       "      <td>3</td>\n",
       "      <td>...</td>\n",
       "      <td>17</td>\n",
       "      <td>NaN</td>\n",
       "      <td>9</td>\n",
       "      <td>11</td>\n",
       "      <td>13</td>\n",
       "      <td>1</td>\n",
       "      <td>0</td>\n",
       "      <td>0</td>\n",
       "      <td>0</td>\n",
       "      <td>0</td>\n",
       "    </tr>\n",
       "    <tr>\n",
       "      <th>2</th>\n",
       "      <td>2</td>\n",
       "      <td>1</td>\n",
       "      <td>1</td>\n",
       "      <td>4</td>\n",
       "      <td>4</td>\n",
       "      <td>2</td>\n",
       "      <td>1</td>\n",
       "      <td>2</td>\n",
       "      <td>NaN</td>\n",
       "      <td>4</td>\n",
       "      <td>...</td>\n",
       "      <td>17</td>\n",
       "      <td>NaN</td>\n",
       "      <td>0</td>\n",
       "      <td>0</td>\n",
       "      <td>1</td>\n",
       "      <td>0</td>\n",
       "      <td>0</td>\n",
       "      <td>0</td>\n",
       "      <td>0</td>\n",
       "      <td>0</td>\n",
       "    </tr>\n",
       "    <tr>\n",
       "      <th>3</th>\n",
       "      <td>3</td>\n",
       "      <td>2</td>\n",
       "      <td>1</td>\n",
       "      <td>7</td>\n",
       "      <td>4</td>\n",
       "      <td>2</td>\n",
       "      <td>1</td>\n",
       "      <td>2</td>\n",
       "      <td>NaN</td>\n",
       "      <td>4</td>\n",
       "      <td>...</td>\n",
       "      <td>16</td>\n",
       "      <td>NaN</td>\n",
       "      <td>0</td>\n",
       "      <td>0</td>\n",
       "      <td>0</td>\n",
       "      <td>0</td>\n",
       "      <td>0</td>\n",
       "      <td>0</td>\n",
       "      <td>0</td>\n",
       "      <td>0</td>\n",
       "    </tr>\n",
       "    <tr>\n",
       "      <th>4</th>\n",
       "      <td>4</td>\n",
       "      <td>2</td>\n",
       "      <td>1</td>\n",
       "      <td>4</td>\n",
       "      <td>4</td>\n",
       "      <td>3</td>\n",
       "      <td>1</td>\n",
       "      <td>2</td>\n",
       "      <td>NaN</td>\n",
       "      <td>4</td>\n",
       "      <td>...</td>\n",
       "      <td>15</td>\n",
       "      <td>NaN</td>\n",
       "      <td>1</td>\n",
       "      <td>0</td>\n",
       "      <td>0</td>\n",
       "      <td>0</td>\n",
       "      <td>0</td>\n",
       "      <td>0</td>\n",
       "      <td>0</td>\n",
       "      <td>1</td>\n",
       "    </tr>\n",
       "    <tr>\n",
       "      <th>5</th>\n",
       "      <td>5</td>\n",
       "      <td>2</td>\n",
       "      <td>1</td>\n",
       "      <td>7</td>\n",
       "      <td>4</td>\n",
       "      <td>2</td>\n",
       "      <td>1</td>\n",
       "      <td>2</td>\n",
       "      <td>NaN</td>\n",
       "      <td>4</td>\n",
       "      <td>...</td>\n",
       "      <td>2</td>\n",
       "      <td>NaN</td>\n",
       "      <td>7</td>\n",
       "      <td>9</td>\n",
       "      <td>8</td>\n",
       "      <td>14</td>\n",
       "      <td>5</td>\n",
       "      <td>10</td>\n",
       "      <td>15</td>\n",
       "      <td>15</td>\n",
       "    </tr>\n",
       "    <tr>\n",
       "      <th>6</th>\n",
       "      <td>6</td>\n",
       "      <td>2</td>\n",
       "      <td>1</td>\n",
       "      <td>7</td>\n",
       "      <td>3</td>\n",
       "      <td>2</td>\n",
       "      <td>0</td>\n",
       "      <td>2</td>\n",
       "      <td>NaN</td>\n",
       "      <td>5</td>\n",
       "      <td>...</td>\n",
       "      <td>5</td>\n",
       "      <td>NaN</td>\n",
       "      <td>0</td>\n",
       "      <td>0</td>\n",
       "      <td>3</td>\n",
       "      <td>9</td>\n",
       "      <td>6</td>\n",
       "      <td>7</td>\n",
       "      <td>7</td>\n",
       "      <td>8</td>\n",
       "    </tr>\n",
       "    <tr>\n",
       "      <th>7</th>\n",
       "      <td>7</td>\n",
       "      <td>1</td>\n",
       "      <td>1</td>\n",
       "      <td>4</td>\n",
       "      <td>4</td>\n",
       "      <td>2</td>\n",
       "      <td>1</td>\n",
       "      <td>1</td>\n",
       "      <td>NaN</td>\n",
       "      <td>4</td>\n",
       "      <td>...</td>\n",
       "      <td>6</td>\n",
       "      <td>NaN</td>\n",
       "      <td>4</td>\n",
       "      <td>2</td>\n",
       "      <td>5</td>\n",
       "      <td>2</td>\n",
       "      <td>0</td>\n",
       "      <td>1</td>\n",
       "      <td>0</td>\n",
       "      <td>9</td>\n",
       "    </tr>\n",
       "    <tr>\n",
       "      <th>8</th>\n",
       "      <td>9</td>\n",
       "      <td>1</td>\n",
       "      <td>1</td>\n",
       "      <td>4</td>\n",
       "      <td>2</td>\n",
       "      <td>2</td>\n",
       "      <td>1</td>\n",
       "      <td>2</td>\n",
       "      <td>NaN</td>\n",
       "      <td>4</td>\n",
       "      <td>...</td>\n",
       "      <td>17</td>\n",
       "      <td>NaN</td>\n",
       "      <td>5</td>\n",
       "      <td>0</td>\n",
       "      <td>4</td>\n",
       "      <td>1</td>\n",
       "      <td>1</td>\n",
       "      <td>0</td>\n",
       "      <td>0</td>\n",
       "      <td>0</td>\n",
       "    </tr>\n",
       "    <tr>\n",
       "      <th>9</th>\n",
       "      <td>10</td>\n",
       "      <td>1</td>\n",
       "      <td>1</td>\n",
       "      <td>1</td>\n",
       "      <td>5</td>\n",
       "      <td>2</td>\n",
       "      <td>0</td>\n",
       "      <td>1</td>\n",
       "      <td>NaN</td>\n",
       "      <td>5</td>\n",
       "      <td>...</td>\n",
       "      <td>9</td>\n",
       "      <td>NaN</td>\n",
       "      <td>8</td>\n",
       "      <td>11</td>\n",
       "      <td>13</td>\n",
       "      <td>16</td>\n",
       "      <td>11</td>\n",
       "      <td>7</td>\n",
       "      <td>9</td>\n",
       "      <td>8</td>\n",
       "    </tr>\n",
       "    <tr>\n",
       "      <th>10</th>\n",
       "      <td>11</td>\n",
       "      <td>2</td>\n",
       "      <td>1</td>\n",
       "      <td>7</td>\n",
       "      <td>3</td>\n",
       "      <td>2</td>\n",
       "      <td>1</td>\n",
       "      <td>2</td>\n",
       "      <td>NaN</td>\n",
       "      <td>4</td>\n",
       "      <td>...</td>\n",
       "      <td>14</td>\n",
       "      <td>NaN</td>\n",
       "      <td>5</td>\n",
       "      <td>0</td>\n",
       "      <td>0</td>\n",
       "      <td>1</td>\n",
       "      <td>0</td>\n",
       "      <td>0</td>\n",
       "      <td>0</td>\n",
       "      <td>0</td>\n",
       "    </tr>\n",
       "    <tr>\n",
       "      <th>11</th>\n",
       "      <td>12</td>\n",
       "      <td>1</td>\n",
       "      <td>1</td>\n",
       "      <td>4</td>\n",
       "      <td>2</td>\n",
       "      <td>3</td>\n",
       "      <td>1</td>\n",
       "      <td>1</td>\n",
       "      <td>NaN</td>\n",
       "      <td>4</td>\n",
       "      <td>...</td>\n",
       "      <td>17</td>\n",
       "      <td>NaN</td>\n",
       "      <td>0</td>\n",
       "      <td>0</td>\n",
       "      <td>0</td>\n",
       "      <td>0</td>\n",
       "      <td>0</td>\n",
       "      <td>0</td>\n",
       "      <td>0</td>\n",
       "      <td>0</td>\n",
       "    </tr>\n",
       "    <tr>\n",
       "      <th>12</th>\n",
       "      <td>13</td>\n",
       "      <td>2</td>\n",
       "      <td>1</td>\n",
       "      <td>3</td>\n",
       "      <td>2</td>\n",
       "      <td>3</td>\n",
       "      <td>1</td>\n",
       "      <td>3</td>\n",
       "      <td>NaN</td>\n",
       "      <td>5</td>\n",
       "      <td>...</td>\n",
       "      <td>16</td>\n",
       "      <td>NaN</td>\n",
       "      <td>4</td>\n",
       "      <td>3</td>\n",
       "      <td>5</td>\n",
       "      <td>11</td>\n",
       "      <td>2</td>\n",
       "      <td>2</td>\n",
       "      <td>1</td>\n",
       "      <td>1</td>\n",
       "    </tr>\n",
       "    <tr>\n",
       "      <th>13</th>\n",
       "      <td>15</td>\n",
       "      <td>1</td>\n",
       "      <td>1</td>\n",
       "      <td>4</td>\n",
       "      <td>2</td>\n",
       "      <td>3</td>\n",
       "      <td>1</td>\n",
       "      <td>2</td>\n",
       "      <td>NaN</td>\n",
       "      <td>4</td>\n",
       "      <td>...</td>\n",
       "      <td>17</td>\n",
       "      <td>NaN</td>\n",
       "      <td>4</td>\n",
       "      <td>4</td>\n",
       "      <td>1</td>\n",
       "      <td>0</td>\n",
       "      <td>1</td>\n",
       "      <td>0</td>\n",
       "      <td>0</td>\n",
       "      <td>0</td>\n",
       "    </tr>\n",
       "    <tr>\n",
       "      <th>14</th>\n",
       "      <td>16</td>\n",
       "      <td>1</td>\n",
       "      <td>1</td>\n",
       "      <td>8</td>\n",
       "      <td>4</td>\n",
       "      <td>2</td>\n",
       "      <td>1</td>\n",
       "      <td>2</td>\n",
       "      <td>NaN</td>\n",
       "      <td>4</td>\n",
       "      <td>...</td>\n",
       "      <td>10</td>\n",
       "      <td>NaN</td>\n",
       "      <td>0</td>\n",
       "      <td>0</td>\n",
       "      <td>0</td>\n",
       "      <td>0</td>\n",
       "      <td>0</td>\n",
       "      <td>0</td>\n",
       "      <td>0</td>\n",
       "      <td>0</td>\n",
       "    </tr>\n",
       "    <tr>\n",
       "      <th>15</th>\n",
       "      <td>18</td>\n",
       "      <td>1</td>\n",
       "      <td>1</td>\n",
       "      <td>8</td>\n",
       "      <td>3</td>\n",
       "      <td>2</td>\n",
       "      <td>1</td>\n",
       "      <td>1</td>\n",
       "      <td>NaN</td>\n",
       "      <td>3</td>\n",
       "      <td>...</td>\n",
       "      <td>16</td>\n",
       "      <td>NaN</td>\n",
       "      <td>4</td>\n",
       "      <td>0</td>\n",
       "      <td>1</td>\n",
       "      <td>0</td>\n",
       "      <td>0</td>\n",
       "      <td>1</td>\n",
       "      <td>0</td>\n",
       "      <td>0</td>\n",
       "    </tr>\n",
       "    <tr>\n",
       "      <th>16</th>\n",
       "      <td>19</td>\n",
       "      <td>2</td>\n",
       "      <td>1</td>\n",
       "      <td>4</td>\n",
       "      <td>4</td>\n",
       "      <td>2</td>\n",
       "      <td>0</td>\n",
       "      <td>2</td>\n",
       "      <td>NaN</td>\n",
       "      <td>4</td>\n",
       "      <td>...</td>\n",
       "      <td>14</td>\n",
       "      <td>NaN</td>\n",
       "      <td>0</td>\n",
       "      <td>1</td>\n",
       "      <td>0</td>\n",
       "      <td>0</td>\n",
       "      <td>0</td>\n",
       "      <td>0</td>\n",
       "      <td>0</td>\n",
       "      <td>0</td>\n",
       "    </tr>\n",
       "    <tr>\n",
       "      <th>17</th>\n",
       "      <td>20</td>\n",
       "      <td>1</td>\n",
       "      <td>1</td>\n",
       "      <td>7</td>\n",
       "      <td>4</td>\n",
       "      <td>3</td>\n",
       "      <td>1</td>\n",
       "      <td>3</td>\n",
       "      <td>NaN</td>\n",
       "      <td>4</td>\n",
       "      <td>...</td>\n",
       "      <td>15</td>\n",
       "      <td>NaN</td>\n",
       "      <td>10</td>\n",
       "      <td>7</td>\n",
       "      <td>9</td>\n",
       "      <td>11</td>\n",
       "      <td>3</td>\n",
       "      <td>3</td>\n",
       "      <td>5</td>\n",
       "      <td>2</td>\n",
       "    </tr>\n",
       "    <tr>\n",
       "      <th>18</th>\n",
       "      <td>21</td>\n",
       "      <td>2</td>\n",
       "      <td>1</td>\n",
       "      <td>7</td>\n",
       "      <td>2</td>\n",
       "      <td>2</td>\n",
       "      <td>1</td>\n",
       "      <td>2</td>\n",
       "      <td>NaN</td>\n",
       "      <td>3</td>\n",
       "      <td>...</td>\n",
       "      <td>17</td>\n",
       "      <td>NaN</td>\n",
       "      <td>0</td>\n",
       "      <td>0</td>\n",
       "      <td>0</td>\n",
       "      <td>0</td>\n",
       "      <td>0</td>\n",
       "      <td>0</td>\n",
       "      <td>0</td>\n",
       "      <td>0</td>\n",
       "    </tr>\n",
       "  </tbody>\n",
       "</table>\n",
       "<p>19 rows × 297 columns</p>\n",
       "</div>"
      ],
      "text/plain": [
       "                index                     0                         1  \\\n",
       "0   Basic information  What is your gender?  Please indicate your age   \n",
       "1                   1                     2                         1   \n",
       "2                   2                     1                         1   \n",
       "3                   3                     2                         1   \n",
       "4                   4                     2                         1   \n",
       "5                   5                     2                         1   \n",
       "6                   6                     2                         1   \n",
       "7                   7                     1                         1   \n",
       "8                   9                     1                         1   \n",
       "9                  10                     1                         1   \n",
       "10                 11                     2                         1   \n",
       "11                 12                     1                         1   \n",
       "12                 13                     2                         1   \n",
       "13                 15                     1                         1   \n",
       "14                 16                     1                         1   \n",
       "15                 18                     1                         1   \n",
       "16                 19                     2                         1   \n",
       "17                 20                     1                         1   \n",
       "18                 21                     2                         1   \n",
       "\n",
       "                                                    2  \\\n",
       "0   Please indicate your ethnic background (optional)   \n",
       "1                                                   7   \n",
       "2                                                   4   \n",
       "3                                                   7   \n",
       "4                                                   4   \n",
       "5                                                   7   \n",
       "6                                                   7   \n",
       "7                                                   4   \n",
       "8                                                   4   \n",
       "9                                                   1   \n",
       "10                                                  7   \n",
       "11                                                  4   \n",
       "12                                                  3   \n",
       "13                                                  4   \n",
       "14                                                  8   \n",
       "15                                                  8   \n",
       "16                                                  4   \n",
       "17                                                  7   \n",
       "18                                                  7   \n",
       "\n",
       "                                           3  \\\n",
       "0   What is your highest level of education?   \n",
       "1                                          4   \n",
       "2                                          4   \n",
       "3                                          4   \n",
       "4                                          4   \n",
       "5                                          4   \n",
       "6                                          3   \n",
       "7                                          4   \n",
       "8                                          2   \n",
       "9                                          5   \n",
       "10                                         3   \n",
       "11                                         2   \n",
       "12                                         2   \n",
       "13                                         2   \n",
       "14                                         4   \n",
       "15                                         3   \n",
       "16                                         4   \n",
       "17                                         4   \n",
       "18                                         2   \n",
       "\n",
       "                                                4  \\\n",
       "0   How would you rate your technology expertise?   \n",
       "1                                               2   \n",
       "2                                               2   \n",
       "3                                               2   \n",
       "4                                               3   \n",
       "5                                               2   \n",
       "6                                               2   \n",
       "7                                               2   \n",
       "8                                               2   \n",
       "9                                               2   \n",
       "10                                              2   \n",
       "11                                              3   \n",
       "12                                              3   \n",
       "13                                              3   \n",
       "14                                              2   \n",
       "15                                              2   \n",
       "16                                              2   \n",
       "17                                              3   \n",
       "18                                              2   \n",
       "\n",
       "                                                    5  \\\n",
       "0   How do you feel about including technology in ...   \n",
       "1                                                   0   \n",
       "2                                                   1   \n",
       "3                                                   1   \n",
       "4                                                   1   \n",
       "5                                                   1   \n",
       "6                                                   0   \n",
       "7                                                   1   \n",
       "8                                                   1   \n",
       "9                                                   0   \n",
       "10                                                  1   \n",
       "11                                                  1   \n",
       "12                                                  1   \n",
       "13                                                  1   \n",
       "14                                                  1   \n",
       "15                                                  1   \n",
       "16                                                  0   \n",
       "17                                                  1   \n",
       "18                                                  1   \n",
       "\n",
       "                                                    6                     7  \\\n",
       "0   How would you rate your experience with smart ...  Propensity Questions   \n",
       "1                                                   3                   NaN   \n",
       "2                                                   2                   NaN   \n",
       "3                                                   2                   NaN   \n",
       "4                                                   2                   NaN   \n",
       "5                                                   2                   NaN   \n",
       "6                                                   2                   NaN   \n",
       "7                                                   1                   NaN   \n",
       "8                                                   2                   NaN   \n",
       "9                                                   1                   NaN   \n",
       "10                                                  2                   NaN   \n",
       "11                                                  1                   NaN   \n",
       "12                                                  3                   NaN   \n",
       "13                                                  2                   NaN   \n",
       "14                                                  2                   NaN   \n",
       "15                                                  1                   NaN   \n",
       "16                                                  2                   NaN   \n",
       "17                                                  3                   NaN   \n",
       "18                                                  2                   NaN   \n",
       "\n",
       "                                                    8      ...        \\\n",
       "0   I usually trust machines until there is a reas...      ...         \n",
       "1                                                   3      ...         \n",
       "2                                                   4      ...         \n",
       "3                                                   4      ...         \n",
       "4                                                   4      ...         \n",
       "5                                                   4      ...         \n",
       "6                                                   5      ...         \n",
       "7                                                   4      ...         \n",
       "8                                                   4      ...         \n",
       "9                                                   5      ...         \n",
       "10                                                  4      ...         \n",
       "11                                                  4      ...         \n",
       "12                                                  5      ...         \n",
       "13                                                  4      ...         \n",
       "14                                                  4      ...         \n",
       "15                                                  3      ...         \n",
       "16                                                  4      ...         \n",
       "17                                                  4      ...         \n",
       "18                                                  3      ...         \n",
       "\n",
       "              286               287            288            289  \\\n",
       "0   exp2-st2-sec2  #ignore an alert  exp1-st1-sec1  exp1-st1-sec2   \n",
       "1              17               NaN              9             11   \n",
       "2              17               NaN              0              0   \n",
       "3              16               NaN              0              0   \n",
       "4              15               NaN              1              0   \n",
       "5               2               NaN              7              9   \n",
       "6               5               NaN              0              0   \n",
       "7               6               NaN              4              2   \n",
       "8              17               NaN              5              0   \n",
       "9               9               NaN              8             11   \n",
       "10             14               NaN              5              0   \n",
       "11             17               NaN              0              0   \n",
       "12             16               NaN              4              3   \n",
       "13             17               NaN              4              4   \n",
       "14             10               NaN              0              0   \n",
       "15             16               NaN              4              0   \n",
       "16             14               NaN              0              1   \n",
       "17             15               NaN             10              7   \n",
       "18             17               NaN              0              0   \n",
       "\n",
       "              290            291            292            293            294  \\\n",
       "0   exp1-st2-sec1  exp1-st2-sec2  exp2-st1-sec1  exp2-st1-sec2  exp2-st2-sec1   \n",
       "1              13              1              0              0              0   \n",
       "2               1              0              0              0              0   \n",
       "3               0              0              0              0              0   \n",
       "4               0              0              0              0              0   \n",
       "5               8             14              5             10             15   \n",
       "6               3              9              6              7              7   \n",
       "7               5              2              0              1              0   \n",
       "8               4              1              1              0              0   \n",
       "9              13             16             11              7              9   \n",
       "10              0              1              0              0              0   \n",
       "11              0              0              0              0              0   \n",
       "12              5             11              2              2              1   \n",
       "13              1              0              1              0              0   \n",
       "14              0              0              0              0              0   \n",
       "15              1              0              0              1              0   \n",
       "16              0              0              0              0              0   \n",
       "17              9             11              3              3              5   \n",
       "18              0              0              0              0              0   \n",
       "\n",
       "              295  \n",
       "0   exp2-st2-sec2  \n",
       "1               0  \n",
       "2               0  \n",
       "3               0  \n",
       "4               1  \n",
       "5              15  \n",
       "6               8  \n",
       "7               9  \n",
       "8               0  \n",
       "9               8  \n",
       "10              0  \n",
       "11              0  \n",
       "12              1  \n",
       "13              0  \n",
       "14              0  \n",
       "15              0  \n",
       "16              0  \n",
       "17              2  \n",
       "18              0  \n",
       "\n",
       "[19 rows x 297 columns]"
      ]
     },
     "execution_count": 3,
     "metadata": {},
     "output_type": "execute_result"
    }
   ],
   "source": [
    "exp1_data_T = pd.DataFrame.transpose(exp1_data).reset_index()\n",
    "exp2_data_T = pd.DataFrame.transpose(exp2_data).reset_index()\n",
    "exp1_data_T"
   ]
  },
  {
   "cell_type": "code",
   "execution_count": 4,
   "metadata": {},
   "outputs": [
    {
     "data": {
      "text/plain": [
       "(36, 8)"
      ]
     },
     "execution_count": 4,
     "metadata": {},
     "output_type": "execute_result"
    }
   ],
   "source": [
    "n_participant = exp1_data_T.shape[0]\n",
    "\n",
    "exp1_trust = exp1_data_T.values[1:n_participant,79:87].astype(int)\n",
    "exp2_trust = exp2_data_T.values[1:n_participant,79:87].astype(int)\n",
    "#exp_demo = np.concatenate((exp1_demo,exp2_demo),axis=0)\n",
    "exp_trust = np.vstack((exp1_trust,np.hstack((exp2_trust[:,4:],exp2_trust[:,:4])))).astype(int)\n",
    "exp_trust.shape"
   ]
  },
  {
   "cell_type": "code",
   "execution_count": 5,
   "metadata": {
    "collapsed": true,
    "scrolled": false
   },
   "outputs": [],
   "source": [
    "exp2_data_T = pd.DataFrame.transpose(exp2_data).reset_index()\n",
    "#exp2_data_T"
   ]
  },
  {
   "cell_type": "code",
   "execution_count": 6,
   "metadata": {},
   "outputs": [
    {
     "data": {
      "text/plain": [
       "(36, 7)"
      ]
     },
     "execution_count": 6,
     "metadata": {},
     "output_type": "execute_result"
    }
   ],
   "source": [
    "exp1_demo = exp1_data_T.values[1:n_participant,1:8]\n",
    "exp2_demo = exp2_data_T.values[1:n_participant,1:8]\n",
    "#exp_demo = np.concatenate((exp1_demo,exp2_demo),axis=0)\n",
    "exp_demo = np.vstack((exp1_demo,exp2_demo)).astype(int)\n",
    "exp_demo.shape"
   ]
  },
  {
   "cell_type": "code",
   "execution_count": 7,
   "metadata": {
    "scrolled": true
   },
   "outputs": [
    {
     "name": "stdout",
     "output_type": "stream",
     "text": [
      "[1 2]\n"
     ]
    },
    {
     "data": {
      "image/png": "[encoded data removed]",
      "text/plain": [
       "<matplotlib.figure.Figure at 0x1be9fd62b70>"
      ]
     },
     "metadata": {},
     "output_type": "display_data"
    },
    {
     "data": {
      "text/plain": [
       "(None, Counter({1: 15, 2: 21}))"
      ]
     },
     "execution_count": 7,
     "metadata": {},
     "output_type": "execute_result"
    }
   ],
   "source": [
    "gender = Counter(exp_demo[:,0])\n",
    "print(np.array(sorted(gender.items(), key= lambda t: (t[0]), reverse=False))[:,0])\n",
    "\n",
    "x = np.arange(len(gender.keys()))\n",
    "plt.bar(x, np.array(sorted(gender.items(), key= lambda t: (t[0]), reverse=False))[:,1])\n",
    "plt.xticks(x, \n",
    "           ('Male','Female'),\n",
    "           rotation=17)\n",
    "plt.title(\"Gender Distribution\")\n",
    "# plt.xlabel(\"Value\")\n",
    "plt.ylabel(\"Count\")\n",
    "\n",
    "plt.show(), Counter(pd.to_numeric(exp_demo[:,0]))"
   ]
  },
  {
   "cell_type": "code",
   "execution_count": 8,
   "metadata": {
    "scrolled": true
   },
   "outputs": [
    {
     "name": "stdout",
     "output_type": "stream",
     "text": [
      "[1 2 3]\n"
     ]
    },
    {
     "data": {
      "image/png": "[encoded data removed]",
      "text/plain": [
       "<matplotlib.figure.Figure at 0x1bea011ca20>"
      ]
     },
     "metadata": {},
     "output_type": "display_data"
    },
    {
     "data": {
      "text/plain": [
       "(None, Counter({1: 33, 2: 2, 3: 1}))"
      ]
     },
     "execution_count": 8,
     "metadata": {},
     "output_type": "execute_result"
    }
   ],
   "source": [
    "age = Counter(exp_demo[:,1])\n",
    "print(np.array(sorted(age.items(), key= lambda t: (t[0]), reverse=False))[:,0])\n",
    "\n",
    "x = np.arange(len(age.keys()))\n",
    "plt.bar(x, np.array(sorted(age.items(), key= lambda t: (t[0]), reverse=False))[:,1])\n",
    "plt.xticks(x, \n",
    "           ('Under 30','30-40','41-50'),\n",
    "           rotation=17)\n",
    "plt.title(\"Age Distribution\")\n",
    "# plt.xlabel(\"Value\")\n",
    "plt.ylabel(\"Count\")\n",
    "\n",
    "plt.show(), Counter(pd.to_numeric(exp_demo[:,1]))"
   ]
  },
  {
   "cell_type": "code",
   "execution_count": 9,
   "metadata": {},
   "outputs": [
    {
     "name": "stdout",
     "output_type": "stream",
     "text": [
      "[1 3 4 6 7 8]\n"
     ]
    },
    {
     "data": {
      "image/png": "[encoded data removed]",
      "text/plain": [
       "<matplotlib.figure.Figure at 0x1bea01d7e48>"
      ]
     },
     "metadata": {},
     "output_type": "display_data"
    },
    {
     "data": {
      "text/plain": [
       "(None, Counter({1: 2, 3: 4, 4: 11, 6: 1, 7: 12, 8: 6}))"
      ]
     },
     "execution_count": 9,
     "metadata": {},
     "output_type": "execute_result"
    }
   ],
   "source": [
    "ethic = Counter(exp_demo[:,2])\n",
    "print(np.array(sorted(ethic.items(), key= lambda t: (t[0]), reverse=False))[:,0])\n",
    "\n",
    "x = np.arange(len(ethic.keys()))\n",
    "plt.bar(x, np.array(sorted(ethic.items(), key= lambda t: (t[0]), reverse=False))[:,1])\n",
    "plt.xticks(x, \n",
    "           ('African','Caucasia','East Asian','Hispanic or Latino','South Asian','Other'),\n",
    "           rotation=17)\n",
    "plt.title(\"Ethic Background\")\n",
    "# plt.xlabel(\"Value\")\n",
    "plt.ylabel(\"Count\")\n",
    "\n",
    "plt.show(), Counter(pd.to_numeric(exp_demo[:,2]))"
   ]
  },
  {
   "cell_type": "code",
   "execution_count": 10,
   "metadata": {
    "scrolled": true
   },
   "outputs": [
    {
     "name": "stdout",
     "output_type": "stream",
     "text": [
      "[2 3 4 5 7]\n"
     ]
    },
    {
     "data": {
      "image/png": "[encoded data removed]",
      "text/plain": [
       "<matplotlib.figure.Figure at 0x1bea0264048>"
      ]
     },
     "metadata": {},
     "output_type": "display_data"
    },
    {
     "data": {
      "text/plain": [
       "(None, Counter({2: 8, 3: 6, 4: 17, 5: 2, 7: 3}))"
      ]
     },
     "execution_count": 10,
     "metadata": {},
     "output_type": "execute_result"
    }
   ],
   "source": [
    "edu = Counter(exp_demo[:,3])\n",
    "print(np.array(sorted(edu.items(), key= lambda t: (t[0]), reverse=False))[:,0])\n",
    "\n",
    "x = np.arange(len(edu.keys()))\n",
    "plt.bar(x, np.array(sorted(edu.items(), key= lambda t: (t[0]), reverse=False))[:,1])\n",
    "plt.xticks(x, \n",
    "           ('Secondary','Short-cycle','Bachelor','Master/Honours','Other'),\n",
    "           rotation=17)\n",
    "plt.title(\"Education Background\")\n",
    "# plt.xlabel(\"Value\")\n",
    "plt.ylabel(\"Count\")\n",
    "\n",
    "plt.show(), Counter(pd.to_numeric(exp_demo[:,3]))"
   ]
  },
  {
   "cell_type": "code",
   "execution_count": 11,
   "metadata": {
    "scrolled": true
   },
   "outputs": [
    {
     "name": "stdout",
     "output_type": "stream",
     "text": [
      "[2 3]\n"
     ]
    },
    {
     "data": {
      "image/png": "[encoded data removed]",
      "text/plain": [
       "<matplotlib.figure.Figure at 0x1bea031a160>"
      ]
     },
     "metadata": {},
     "output_type": "display_data"
    },
    {
     "data": {
      "text/plain": [
       "(None, Counter({2: 27, 3: 9}))"
      ]
     },
     "execution_count": 11,
     "metadata": {},
     "output_type": "execute_result"
    }
   ],
   "source": [
    "# technology expertise\n",
    "te = Counter(exp_demo[:,4])\n",
    "print(np.array(sorted(te.items(), key= lambda t: (t[0]), reverse=False))[:,0])\n",
    "\n",
    "x = np.arange(len(te.keys()))\n",
    "plt.bar(x, np.array(sorted(te.items(), key= lambda t: (t[0]), reverse=False))[:,1])\n",
    "plt.xticks(x, \n",
    "           ('Medium','High'),\n",
    "           rotation=17)\n",
    "plt.title(\"Technology Expertise\")\n",
    "# plt.xlabel(\"Value\")\n",
    "plt.ylabel(\"Count\")\n",
    "\n",
    "plt.show(), Counter(pd.to_numeric(exp_demo[:,4]))"
   ]
  },
  {
   "cell_type": "code",
   "execution_count": 12,
   "metadata": {
    "scrolled": false
   },
   "outputs": [
    {
     "name": "stdout",
     "output_type": "stream",
     "text": [
      "[0 1]\n"
     ]
    },
    {
     "data": {
      "image/png": "[encoded data removed]",
      "text/plain": [
       "<matplotlib.figure.Figure at 0x1bea1392208>"
      ]
     },
     "metadata": {},
     "output_type": "display_data"
    },
    {
     "data": {
      "text/plain": [
       "(None, Counter({0: 8, 1: 28}))"
      ]
     },
     "execution_count": 12,
     "metadata": {},
     "output_type": "execute_result"
    }
   ],
   "source": [
    "# Feel about technology in your life...\n",
    "\n",
    "tl = Counter(exp_demo[:,5])\n",
    "print(np.array(sorted(tl.items(), key= lambda t: (t[0]), reverse=False))[:,0])\n",
    "\n",
    "x = np.arange(len(tl.keys()))\n",
    "plt.bar(x, np.array(sorted(tl.items(), key= lambda t: (t[0]), reverse=False))[:,1])\n",
    "plt.xticks(x, \n",
    "           ('Neutral','Like'),\n",
    "           rotation=17)\n",
    "plt.title(\"Feel about Technology\")\n",
    "plt.ylabel(\"Count\")\n",
    "\n",
    "plt.show(), Counter(pd.to_numeric(exp_demo[:,5]))"
   ]
  },
  {
   "cell_type": "markdown",
   "metadata": {},
   "source": [
    "# Introductions:\n",
    "There are 4 stages in each experiment: A,B,C,D; Each stage has two sections with identical system settings\n",
    "\n",
    "System settings in the experiment one: \n",
    "\n",
    "|Events| A-1 | A-2 | B-1 | B-2 | C-1 | C-2 | D-1 | D-2 |          \n",
    "| :- |-: |-: |-: |-: |-: |-: |-: |-: |\n",
    "|# True Alerts |12|12|14|14|12|12|14|14|\n",
    "|# False Alerts| 5| 5| 6| 6| 2| 2| 3| 3|\n",
    "|# Misses      | 3| 2| 0| 0| 2| 2| 0| 0|\n",
    "\n",
    "The experiment two has the same system settings to experiment 1, but in a different order, swapped AB and CD\n",
    "\n",
    "|Events| C-1 | C-2 | D-1 | D-2 | A-1 | A-2 | B-1 | B-2 |          \n",
    "| :- |-: |-: |-: |-: |-: |-: |-: |-: |\n",
    "|# True Alerts |12|12|14|14|12|12|14|14|\n",
    "|# False Alerts| 2| 2| 3| 3| 5| 5| 6| 6|\n",
    "|# Misses      | 2| 2| 0| 0| 3| 2| 0| 0|\n",
    "\n",
    "Each experiment has 18 validate results"
   ]
  },
  {
   "cell_type": "markdown",
   "metadata": {},
   "source": [
    "# Trust Scores"
   ]
  },
  {
   "cell_type": "code",
   "execution_count": 13,
   "metadata": {},
   "outputs": [
    {
     "data": {
      "text/plain": [
       "(36, 8)"
      ]
     },
     "execution_count": 13,
     "metadata": {},
     "output_type": "execute_result"
    }
   ],
   "source": [
    "exp1_trust = exp1_data_T.values[1:n_participant,79:87].astype(int)\n",
    "exp2_trust = exp2_data_T.values[1:n_participant,79:87].astype(int)\n",
    "#exp_demo = np.concatenate((exp1_demo,exp2_demo),axis=0)\n",
    "exp_trust = np.vstack((exp1_trust,np.hstack((exp2_trust[:,4:],exp2_trust[:,:4])))).astype(int)\n",
    "exp_trust.shape"
   ]
  },
  {
   "cell_type": "code",
   "execution_count": 91,
   "metadata": {},
   "outputs": [
    {
     "data": {
      "image/png": "[encoded data removed]",
      "text/plain": [
       "<matplotlib.figure.Figure at 0x1bea1bdd208>"
      ]
     },
     "metadata": {},
     "output_type": "display_data"
    },
    {
     "data": {
      "image/png": "[encoded data removed]",
      "text/plain": [
       "<matplotlib.figure.Figure at 0x1bea1b82358>"
      ]
     },
     "metadata": {},
     "output_type": "display_data"
    },
    {
     "data": {
      "image/png": "[encoded data removed]",
      "text/plain": [
       "<matplotlib.figure.Figure at 0x1bea1bb45f8>"
      ]
     },
     "metadata": {},
     "output_type": "display_data"
    }
   ],
   "source": [
    "# exp1 mean & std\n",
    "x = np.arange(1,9)\n",
    "y = np.array(exp1_trust.mean(axis=0))\n",
    "e = np.array(exp1_trust.std(axis=0))\n",
    "\n",
    "plt.errorbar(x, y, e, linestyle='None', marker='^')\n",
    "axes = plt.gca()\n",
    "axes.set_ylim([0,5])\n",
    "\n",
    "for xy in zip(x, y):\n",
    "    axes.annotate('%.4s' % xy[1], xy=xy, textcoords='data')\n",
    "\n",
    "plt.title(\"Trust Score: Experiment One\")\n",
    "plt.show()\n",
    "\n",
    "# exp1_trust_ms = np.vstack((exp1_trust.mean(axis=0),exp1_trust.std(axis=0)))\n",
    "\n",
    "# exp2 mean & std\n",
    "x = np.arange(1,9)\n",
    "y = np.array(exp2_trust.mean(axis=0))\n",
    "e = np.array(exp2_trust.std(axis=0))\n",
    "\n",
    "plt.errorbar(x, y, e, linestyle='None', marker='^')\n",
    "axes = plt.gca()\n",
    "axes.set_ylim([0,5])\n",
    "\n",
    "for xy in zip(x, y):\n",
    "    axes.annotate('%.4s' % xy[1], xy=xy, textcoords='data')\n",
    "    \n",
    "plt.title(\"Trust Score: Experiment Two\")\n",
    "plt.show()\n",
    "# exp2_trust_ms = np.vstack((exp2_trust.mean(axis=0),exp2_trust.std(axis=0)))\n",
    "\n",
    "# overall mean & std\n",
    "x = np.arange(1,9)\n",
    "y = np.array(exp_trust.mean(axis=0))\n",
    "e = np.array(exp_trust.std(axis=0))\n",
    "\n",
    "plt.errorbar(x, y, e, linestyle='None', marker='^')\n",
    "axes = plt.gca()\n",
    "axes.set_ylim([0,5])\n",
    "\n",
    "for xy in zip(x, y):\n",
    "    axes.annotate('%.4s' % xy[1], xy=xy, textcoords='data')\n",
    "plt.title(\"Trust score: Both Experiments (in order of ABCD)\")\n",
    "plt.show()\n",
    "\n",
    "# np.vstack((exp_trust.mean(axis=0),exp_trust.std(axis=0)))"
   ]
  },
  {
   "cell_type": "markdown",
   "metadata": {},
   "source": [
    "## RQ1a: Trust Scores between first section with same section in the other exp (ind t-test)"
   ]
  },
  {
   "cell_type": "code",
   "execution_count": 17,
   "metadata": {
    "scrolled": true
   },
   "outputs": [
    {
     "name": "stdout",
     "output_type": "stream",
     "text": [
      "A-1 Section in exp1: Mean: 3.05555555556  Std: 0.704920974469\n",
      "A-1 Section in exp2: Mean: 2.44444444444  Std: 1.01227039768\n",
      "Ttest_indResult(statistic=2.0426487199475694, pvalue=0.048902381285184704) \n",
      "\n",
      "C-1 Section in exp2: Mean: 3.22222222222  Std: 0.916245694582\n",
      "C-1 Section in exp1: Mean: 3.16666666667  Std: 1.01379375505\n",
      "Ttest_indResult(statistic=0.16762808104168964, pvalue=0.86786897725947454)\n"
     ]
    }
   ],
   "source": [
    "# check if there is a training period\n",
    "\n",
    "exp_trust_1st_sec = exp1_trust[:, 0].T.ravel()\n",
    "exp_trust_5th_sec = exp2_trust[:, 4].T.ravel()\n",
    "\n",
    "print('A-1 Section in exp1: Mean:',exp_trust_1st_sec.mean(),' Std:',exp_trust_1st_sec.std())\n",
    "print('A-1 Section in exp2: Mean:',exp_trust_5th_sec.mean(),' Std:',exp_trust_5th_sec.std())\n",
    "print(sp.ttest_ind(exp_trust_1st_sec,exp_trust_5th_sec),'\\n')\n",
    "\n",
    "exp_trust_1st_sec = exp2_trust[:, 0].T.ravel()\n",
    "exp_trust_5th_sec = exp1_trust[:, 4].T.ravel()\n",
    "\n",
    "print('C-1 Section in exp2: Mean:',exp_trust_1st_sec.mean(),' Std:',exp_trust_1st_sec.std())\n",
    "print('C-1 Section in exp1: Mean:',exp_trust_5th_sec.mean(),' Std:',exp_trust_5th_sec.std())\n",
    "print(sp.ttest_ind(exp_trust_1st_sec,exp_trust_5th_sec))"
   ]
  },
  {
   "cell_type": "markdown",
   "metadata": {},
   "source": [
    "## RQ1b: Trust Scores between first and second section in all stages (related t-test)"
   ]
  },
  {
   "cell_type": "code",
   "execution_count": 18,
   "metadata": {},
   "outputs": [
    {
     "name": "stdout",
     "output_type": "stream",
     "text": [
      "1st Section: Mean: 3.07638888889  Std: 0.913478251209\n",
      "2nd Section: Mean: 3.15972222222  Std: 0.9254367921\n",
      "Ttest_relResult(statistic=-1.3286956381223773, pvalue=0.18606475613655418)\n"
     ]
    }
   ],
   "source": [
    "# check if there is a training period\n",
    "\n",
    "exp_trust_sec1 = exp_trust[:, np.r_[0,2,4,6]].T.ravel()\n",
    "exp_trust_sec2 = exp_trust[:, np.r_[1,3,5,7]].T.ravel()\n",
    "\n",
    "print('1st Section: Mean:',exp_trust_sec1.mean(),' Std:',exp_trust_sec1.std())\n",
    "print('2nd Section: Mean:',exp_trust_sec2.mean(),' Std:',exp_trust_sec2.std())\n",
    "print(sp.ttest_rel(exp_trust_sec1,exp_trust_sec2))"
   ]
  },
  {
   "cell_type": "markdown",
   "metadata": {},
   "source": [
    "## RQ2b Self-reported trust and system performance\n",
    "### Trust Scores vs System Performance (Hi FA vs Low FA ratio) – related t-test + wilcoxon"
   ]
  },
  {
   "cell_type": "code",
   "execution_count": 19,
   "metadata": {},
   "outputs": [
    {
     "name": "stdout",
     "output_type": "stream",
     "text": [
      "Sections in exp1 with high FA: Mean: 2.93055555556  Std: 0.822029819831\n",
      "Sections in exp1 with low FA: Mean: 3.43055555556  Std: 0.86323662407\n",
      "Ttest_relResult(statistic=-4.0477914205916523, pvalue=0.00013007222241807212)\n",
      "WilcoxonResult(statistic=298.5, pvalue=0.00033768795351875271) \n",
      "\n",
      "Sections in exp2 with high FA: Mean: 2.66666666667  Std: 0.866025403784\n",
      "Sections in exp2 with low FA: Mean: 3.44444444444  Std: 0.880165528764\n",
      "Ttest_relResult(statistic=-6.7217421984049777, pvalue=3.7864366581329582e-09)\n",
      "WilcoxonResult(statistic=298.5, pvalue=0.00033768795351875271) \n",
      "\n",
      "Sections with high FA: Mean: 2.79861111111  Std: 0.854561787564\n",
      "Sections with low FA: Mean: 3.4375  Std: 0.871769831371\n",
      "Ttest_relResult(statistic=-7.5051235911966332, pvalue=6.0007264667479925e-12)\n",
      "WilcoxonResult(statistic=866.0, pvalue=3.9361456224513951e-10)\n"
     ]
    }
   ],
   "source": [
    "# within subject exp1: high/low false rate\n",
    "\n",
    "exp1_trust_hifalse = exp1_trust[:, np.r_[0:4]].T.ravel()\n",
    "exp1_trust_lofalse = exp1_trust[:, np.r_[4:8]].T.ravel()\n",
    "\n",
    "print('Sections in exp1 with high FA: Mean:', exp1_trust_hifalse.mean(),' Std:',exp1_trust_hifalse.std())\n",
    "print('Sections in exp1 with low FA: Mean:', exp1_trust_lofalse.mean(),' Std:',exp1_trust_lofalse.std())\n",
    "print(sp.ttest_rel(exp1_trust_hifalse,exp1_trust_lofalse))\n",
    "print(sp.wilcoxon(exp1_trust_hifalse,exp1_trust_lofalse),'\\n')\n",
    "\n",
    "# within subject exp2: high/low false rate\n",
    "\n",
    "exp2_trust_hifalse = exp2_trust[:, np.r_[4:8]].T.ravel()\n",
    "exp2_trust_lofalse = exp2_trust[:, np.r_[0:4]].T.ravel()\n",
    "\n",
    "print('Sections in exp2 with high FA: Mean:', exp2_trust_hifalse.mean(),' Std:',exp2_trust_hifalse.std())\n",
    "print('Sections in exp2 with low FA: Mean:', exp2_trust_lofalse.mean(),' Std:',exp2_trust_lofalse.std())\n",
    "print(sp.ttest_rel(exp2_trust_hifalse,exp2_trust_lofalse))\n",
    "print(sp.wilcoxon(exp1_trust_hifalse,exp1_trust_lofalse),'\\n')\n",
    "\n",
    "# within subject all exps: high/low false rate\n",
    "\n",
    "exp_trust_hifalse = exp_trust[:, np.r_[0:4]].T.ravel()\n",
    "exp_trust_lofalse = exp_trust[:, np.r_[4:8]].T.ravel()\n",
    "\n",
    "print('Sections with high FA: Mean:',exp_trust_hifalse.mean(),' Std:',exp_trust_hifalse.std())\n",
    "print('Sections with low FA: Mean:',exp_trust_lofalse.mean(),' Std:',exp_trust_lofalse.std())\n",
    "print(sp.ttest_rel(exp_trust_hifalse,exp_trust_lofalse))\n",
    "print(sp.wilcoxon(exp_trust_hifalse,exp_trust_lofalse))"
   ]
  },
  {
   "cell_type": "markdown",
   "metadata": {},
   "source": [
    "## RQ2b Self-reported trust and system performance\n",
    "### Trust Scores vs System Performance (with/without missed events) – related t-test + wilcoxon"
   ]
  },
  {
   "cell_type": "code",
   "execution_count": 20,
   "metadata": {},
   "outputs": [
    {
     "name": "stdout",
     "output_type": "stream",
     "text": [
      "Sections(AC) with Misses: Mean: 3.09722222222  Std: 0.868583172986\n",
      "Sections(BD) without Misses: Mean: 3.26388888889  Std: 0.881807732186\n",
      "Ttest_relResult(statistic=-1.53839743456191, pvalue=0.12839649296770544)\n",
      "WilcoxonResult(statistic=270.5, pvalue=0.12203663647757461) \n",
      "\n",
      "Sections(A) with Misses: Mean: 2.91666666667  Std: 0.759202798262\n",
      "Sections(B) without Misses: Mean: 2.94444444444  Std: 0.880165528764\n",
      "Ttest_relResult(statistic=-0.18318582636182792, pvalue=0.85570929167642684)\n",
      "WilcoxonResult(statistic=100.0, pvalue=0.84021423104873694) \n",
      "\n",
      "Sections(C) with Misses: Mean: 3.27777777778  Std: 0.931280811902\n",
      "Sections(D) without Misses: Mean: 3.58333333333  Std: 0.759202798262\n",
      "Ttest_relResult(statistic=-1.9922530373796532, pvalue=0.054188980477851652)\n",
      "WilcoxonResult(statistic=44.0, pvalue=0.058001211965000389)\n"
     ]
    }
   ],
   "source": [
    "# exp1 AC&BD\n",
    "# within subject exp1: with/without misses \n",
    "\n",
    "exp1_trust_misses = np.hstack((exp1_trust[:,0],exp1_trust[:,1],exp1_trust[:,4],exp1_trust[:,5]))\n",
    "exp1_trust_nomisses = np.hstack((exp1_trust[:,2],exp1_trust[:,3],exp1_trust[:,6],exp1_trust[:,7]))\n",
    "\n",
    "print('Sections(AC) with Misses: Mean:',exp1_trust_misses.mean(),' Std:',exp1_trust_misses.std())\n",
    "print('Sections(BD) without Misses: Mean:',exp1_trust_nomisses.mean(),' Std:',exp1_trust_nomisses.std())\n",
    "print(sp.ttest_rel(exp1_trust_misses,exp1_trust_nomisses))\n",
    "print(sp.wilcoxon(exp1_trust_misses,exp1_trust_nomisses),'\\n')\n",
    "\n",
    "# exp1 A&B\n",
    "\n",
    "# within subject exp1: with/without misses \n",
    "\n",
    "exp1_trust_misses = np.hstack((exp1_trust[:,0],exp1_trust[:,1]))\n",
    "exp1_trust_nomisses = np.hstack((exp1_trust[:,2],exp1_trust[:,3]))\n",
    "\n",
    "print('Sections(A) with Misses: Mean:',exp1_trust_misses.mean(),' Std:',exp1_trust_misses.std())\n",
    "print('Sections(B) without Misses: Mean:',exp1_trust_nomisses.mean(),' Std:',exp1_trust_nomisses.std())\n",
    "print(sp.ttest_rel(exp1_trust_misses,exp1_trust_nomisses))\n",
    "print(sp.wilcoxon(exp1_trust_misses,exp1_trust_nomisses),'\\n')\n",
    "    \n",
    "# exp1 C&D\n",
    "\n",
    "# within subject exp1: with/without misses \n",
    "\n",
    "exp1_trust_misses = np.hstack((exp1_trust[:,4],exp1_trust[:,5]))\n",
    "exp1_trust_nomisses = np.hstack((exp1_trust[:,6],exp1_trust[:,7]))\n",
    "\n",
    "print('Sections(C) with Misses: Mean:',exp1_trust_misses.mean(),' Std:',exp1_trust_misses.std())\n",
    "print('Sections(D) without Misses: Mean:',exp1_trust_nomisses.mean(),' Std:',exp1_trust_nomisses.std())\n",
    "print(sp.ttest_rel(exp1_trust_misses,exp1_trust_nomisses))\n",
    "print(sp.wilcoxon(exp1_trust_misses,exp1_trust_nomisses))"
   ]
  },
  {
   "cell_type": "code",
   "execution_count": 21,
   "metadata": {},
   "outputs": [
    {
     "name": "stdout",
     "output_type": "stream",
     "text": [
      "Sections(AC) with Misses: Mean: 2.90277777778  Std: 1.0159795796\n",
      "Sections(BD) without Misses: Mean: 3.20833333333  Std: 0.865022478834\n",
      "Ttest_relResult(statistic=-2.9930402411757155, pvalue=0.003797946030106975)\n",
      "WilcoxonResult(statistic=182.0, pvalue=0.0057781171172439569) \n",
      "\n"
     ]
    }
   ],
   "source": [
    "# within subject exp2: with/without misses\n",
    "\n",
    "exp2_trust_misses = np.hstack((exp2_trust[:,0],exp2_trust[:,1],exp2_trust[:,4],exp2_trust[:,5]))\n",
    "exp2_trust_nomisses = np.hstack((exp2_trust[:,2],exp2_trust[:,3],exp2_trust[:,6],exp2_trust[:,7]))\n",
    "\n",
    "print('Sections(AC) with Misses: Mean:',exp2_trust_misses.mean(),' Std:',exp2_trust_misses.std())\n",
    "print('Sections(BD) without Misses: Mean:',exp2_trust_nomisses.mean(),' Std:',exp2_trust_nomisses.std())\n",
    "print(sp.ttest_rel(exp2_trust_misses,exp2_trust_nomisses))\n",
    "print(sp.wilcoxon(exp2_trust_misses,exp2_trust_nomisses),'\\n')"
   ]
  },
  {
   "cell_type": "code",
   "execution_count": 22,
   "metadata": {},
   "outputs": [
    {
     "name": "stdout",
     "output_type": "stream",
     "text": [
      "Sections with Misses: Mean: 3.0  Std: 0.950146187583\n",
      "Sections without Misses: Mean: 3.23611111111  Std: 0.873897012041\n",
      "Ttest_relResult(statistic=-3.1737022637577761, pvalue=0.0018429818095475278)\n",
      "WilcoxonResult(statistic=898.0, pvalue=0.0028003192548645157) \n",
      "\n"
     ]
    }
   ],
   "source": [
    "# within subject all exps: with/without misses\n",
    "\n",
    "exp_trust_misses = np.hstack((exp_trust[:,0],exp_trust[:,1],exp_trust[:,4],exp_trust[:,5]))\n",
    "exp_trust_nomisses = np.hstack((exp_trust[:,2],exp_trust[:,3],exp_trust[:,6],exp_trust[:,7]))\n",
    "\n",
    "print('Sections with Misses: Mean:',exp_trust_misses.mean(),' Std:',exp_trust_misses.std())\n",
    "print('Sections without Misses: Mean:',exp_trust_nomisses.mean(),' Std:',exp_trust_nomisses.std())\n",
    "print(sp.ttest_rel(exp_trust_misses,exp_trust_nomisses))\n",
    "print(sp.wilcoxon(exp_trust_misses,exp_trust_nomisses),'\\n')"
   ]
  },
  {
   "cell_type": "markdown",
   "metadata": {},
   "source": [
    "# Number of Events Attended"
   ]
  },
  {
   "cell_type": "code",
   "execution_count": 23,
   "metadata": {},
   "outputs": [
    {
     "data": {
      "text/plain": [
       "(36, 8)"
      ]
     },
     "execution_count": 23,
     "metadata": {},
     "output_type": "execute_result"
    }
   ],
   "source": [
    "exp1_attend = exp1_data_T.values[1:n_participant,124:132].astype(int)\n",
    "exp2_attend = exp2_data_T.values[1:n_participant,124:132].astype(int)\n",
    "# exp_demo = np.concatenate((exp1_demo,exp2_demo),axis=0)\n",
    "exp_attend = np.vstack((exp1_attend,np.hstack((exp2_attend[:,4:],exp2_attend[:,:4])))).astype(int)\n",
    "exp_attend.shape"
   ]
  },
  {
   "cell_type": "code",
   "execution_count": 24,
   "metadata": {},
   "outputs": [
    {
     "data": {
      "image/png": "[encoded data removed]",
      "text/plain": [
       "<matplotlib.figure.Figure at 0x1bea15db940>"
      ]
     },
     "metadata": {},
     "output_type": "display_data"
    },
    {
     "name": "stdout",
     "output_type": "stream",
     "text": [
      "[[ 11.88888889  11.88888889  12.77777778  11.83333333  12.05555556\n",
      "   12.44444444  12.66666667  13.16666667]\n",
      " [  3.60383883   3.47832796   2.73973956   4.04488703   3.71890399\n",
      "    2.75322482   3.82970843   2.21735578]]\n"
     ]
    },
    {
     "data": {
      "image/png": "[encoded data removed]",
      "text/plain": [
       "<matplotlib.figure.Figure at 0x1bea1449d68>"
      ]
     },
     "metadata": {},
     "output_type": "display_data"
    },
    {
     "name": "stdout",
     "output_type": "stream",
     "text": [
      "[[ 13.16666667  13.38888889  13.88888889  13.94444444  13.94444444\n",
      "   13.38888889  13.77777778  13.77777778]\n",
      " [  0.95742711   1.11249913   0.45812285   0.22906142   1.77864562\n",
      "    1.2969575    0.91624569   0.62853936]]\n"
     ]
    },
    {
     "data": {
      "image/png": "[encoded data removed]",
      "text/plain": [
       "<matplotlib.figure.Figure at 0x1be9fd5e6a0>"
      ]
     },
     "metadata": {},
     "output_type": "display_data"
    },
    {
     "name": "stdout",
     "output_type": "stream",
     "text": [
      "[[ 12.91666667  12.63888889  13.27777778  12.80555556  12.61111111\n",
      "   12.91666667  13.27777778  13.55555556]\n",
      " [  3.02191073   2.73000588   2.1030548    3.05340834   2.77165993\n",
      "    2.15219526   2.79494694   1.62351547]]\n"
     ]
    }
   ],
   "source": [
    "# exp1 mean & std\n",
    "x = np.arange(8)+1\n",
    "y = np.array(exp1_attend.mean(axis=0))\n",
    "e = np.array(exp1_attend.std(axis=0))\n",
    "\n",
    "plt.errorbar(x, y, e, linestyle='None', marker='^')\n",
    "axes = plt.gca()\n",
    "axes.set_ylim([5,20])\n",
    "\n",
    "for xy in zip(x, y):\n",
    "    axes.annotate('%.4s' % xy[1], xy=xy, textcoords='data')\n",
    "plt.title(\"# Event Attended: Experiment One\")\n",
    "plt.show()\n",
    "\n",
    "print(np.vstack((exp1_attend.mean(axis=0),exp1_attend.std(axis=0))))\n",
    "\n",
    "\n",
    "# exp2 mean & std\n",
    "x = np.arange(8)+1\n",
    "y = np.array(exp2_attend.mean(axis=0))\n",
    "e = np.array(exp2_attend.std(axis=0))\n",
    "\n",
    "plt.errorbar(x, y, e, linestyle='None', marker='^')\n",
    "axes = plt.gca()\n",
    "axes.set_ylim([5,20])\n",
    "\n",
    "for xy in zip(x, y):\n",
    "    axes.annotate('%.4s' % xy[1], xy=xy, textcoords='data')\n",
    "plt.title(\"# Event Attended: Experiment Two\")   \n",
    "plt.show()\n",
    "\n",
    "print(np.vstack((exp2_attend.mean(axis=0),exp2_attend.std(axis=0))))\n",
    "\n",
    "\n",
    "# overall mean & std\n",
    "x = np.arange(8)+1\n",
    "y = np.array(exp_attend.mean(axis=0))\n",
    "e = np.array(exp_attend.std(axis=0))\n",
    "\n",
    "plt.errorbar(x, y, e, linestyle='None', marker='^')\n",
    "axes = plt.gca()\n",
    "axes.set_ylim([5,20])\n",
    "\n",
    "for xy in zip(x, y):\n",
    "    axes.annotate('%.4s' % xy[1], xy=xy, textcoords='data')\n",
    "plt.title(\"# Event Attended: Both Experiments (in order of ABCD)\")    \n",
    "plt.show()\n",
    "\n",
    "print(np.vstack((exp_attend.mean(axis=0),exp_attend.std(axis=0))))"
   ]
  },
  {
   "cell_type": "markdown",
   "metadata": {},
   "source": [
    "## RQ1a: # Attended Events between first section with same section in the other exp (ind t-test)"
   ]
  },
  {
   "cell_type": "code",
   "execution_count": 25,
   "metadata": {
    "scrolled": true
   },
   "outputs": [
    {
     "name": "stdout",
     "output_type": "stream",
     "text": [
      "A-1 Section in exp1: Mean: 11.8888888889  Std: 3.60383883116\n",
      "A-1 Section in exp2: Mean: 13.9444444444  Std: 1.77864562151\n",
      "Ttest_indResult(statistic=-2.1088748978086156, pvalue=0.042398612943289948) \n",
      "\n",
      "C-1 Section in exp2: Mean: 13.1666666667  Std: 0.957427107756\n",
      "C-1 Section in exp1: Mean: 12.0555555556  Std: 3.7189039936\n",
      "Ttest_indResult(statistic=1.1929751125180623, pvalue=0.24113794604744104)\n"
     ]
    }
   ],
   "source": [
    "# check if there is a training period\n",
    "\n",
    "exp_attend_1st_sec = exp1_attend[:, 0].T.ravel()\n",
    "exp_attend_5th_sec = exp2_attend[:, 4].T.ravel()\n",
    "\n",
    "print('A-1 Section in exp1: Mean:',exp_attend_1st_sec.mean(),' Std:',exp_attend_1st_sec.std())\n",
    "print('A-1 Section in exp2: Mean:',exp_attend_5th_sec.mean(),' Std:',exp_attend_5th_sec.std())\n",
    "print(sp.ttest_ind(exp_attend_1st_sec,exp_attend_5th_sec),'\\n')\n",
    "\n",
    "exp_attend_1st_sec = exp2_attend[:, 0].T.ravel()\n",
    "exp_attend_5th_sec = exp1_attend[:, 4].T.ravel()\n",
    "\n",
    "print('C-1 Section in exp2: Mean:',exp_attend_1st_sec.mean(),' Std:',exp_attend_1st_sec.std())\n",
    "print('C-1 Section in exp1: Mean:',exp_attend_5th_sec.mean(),' Std:',exp_attend_5th_sec.std())\n",
    "print(sp.ttest_ind(exp_attend_1st_sec,exp_attend_5th_sec))"
   ]
  },
  {
   "cell_type": "markdown",
   "metadata": {},
   "source": [
    "## RQ1b: # Attended Events between first and second section in all stages (related t-test)"
   ]
  },
  {
   "cell_type": "code",
   "execution_count": 26,
   "metadata": {},
   "outputs": [
    {
     "name": "stdout",
     "output_type": "stream",
     "text": [
      "1st Section: Mean: 13.0208333333  std: 2.70921460021\n",
      "2nd Section: Mean: 12.9791666667  std: 2.47618868761\n",
      "Ttest_relResult(statistic=0.22380251489707545, pvalue=0.82323039218543759)\n"
     ]
    }
   ],
   "source": [
    "# check if there is a training period\n",
    "\n",
    "exp_attend_sec1 = exp_attend[:, np.r_[0,2,4,6]].T.ravel()\n",
    "exp_attend_sec2 = exp_attend[:, np.r_[1,3,5,7]].T.ravel()\n",
    "\n",
    "print('1st Section: Mean:',exp_attend_sec1.mean(),' std:',exp_attend_sec1.std())\n",
    "print('2nd Section: Mean:',exp_attend_sec2.mean(),' std:',exp_attend_sec2.std())\n",
    "print(sp.ttest_rel(exp_attend_sec1,exp_attend_sec2))"
   ]
  },
  {
   "cell_type": "markdown",
   "metadata": {},
   "source": [
    "## RQ3 User behaviour vs system performance\n",
    "### RQ3a # attended events vs system performance\n",
    "### Number of Attended Events vs System Performance (Hi FA vs Low FA ratio) – related t-test"
   ]
  },
  {
   "cell_type": "code",
   "execution_count": 27,
   "metadata": {},
   "outputs": [
    {
     "name": "stdout",
     "output_type": "stream",
     "text": [
      "Sections with high FA: Mean: 12.9097222222  std: 2.76363587619\n",
      "Sections with low FA: Mean: 13.0902777778  std: 2.41210257073\n",
      "Ttest_relResult(statistic=-0.75769795326595579, pvalue=0.44987861809997631)\n"
     ]
    }
   ],
   "source": [
    "# within population: high/low false rate\n",
    "\n",
    "exp_attend_hifalse = exp_attend[:, np.r_[0:4]].T.ravel()\n",
    "exp_attend_lofalse = exp_attend[:, np.r_[4:8]].T.ravel()\n",
    "\n",
    "print('Sections with high FA: Mean:', exp_attend_hifalse.mean(),' std:',exp_attend_hifalse.std())\n",
    "print('Sections with low FA: Mean:', exp_attend_lofalse.mean(),' std:',exp_attend_lofalse.std())\n",
    "print(sp.ttest_rel(exp_attend_hifalse,exp_attend_lofalse))"
   ]
  },
  {
   "cell_type": "markdown",
   "metadata": {},
   "source": [
    "### RQ3a # attended events vs system performance\n",
    "### Number of Attended Events vs System Performance (with/without missed events) – related t-test"
   ]
  },
  {
   "cell_type": "code",
   "execution_count": 28,
   "metadata": {},
   "outputs": [
    {
     "name": "stdout",
     "output_type": "stream",
     "text": [
      "Sections with Misses: Mean: 12.7708333333  std: 2.69185693342\n",
      "Sections without Misses: Mean: 13.2291666667  std: 2.47408442661\n",
      "Ttest_relResult(statistic=-3.0541386352349011, pvalue=0.0026927395934077392)\n"
     ]
    }
   ],
   "source": [
    "# within population with/without misses\n",
    "\n",
    "exp_attend_misses = np.hstack((exp_attend[:,0],exp_attend[:,1],exp_attend[:,4],exp_attend[:,5]))\n",
    "exp_attend_nomisses = np.hstack((exp_attend[:,2],exp_attend[:,3],exp_attend[:,6],exp_attend[:,7]))\n",
    "\n",
    "print('Sections with Misses: Mean:', exp_attend_misses.mean(),' std:',exp_attend_misses.std())\n",
    "print('Sections without Misses: Mean:', exp_attend_nomisses.mean(),' std:',exp_attend_nomisses.std())\n",
    "print(sp.ttest_rel(exp_attend_misses,exp_attend_nomisses))"
   ]
  },
  {
   "cell_type": "markdown",
   "metadata": {},
   "source": [
    "## RQ4 User Behaviour versus Self-reported Trust\n",
    "### RQ4a Correlation between Number of Attended Events and Trust Scores"
   ]
  },
  {
   "cell_type": "code",
   "execution_count": 29,
   "metadata": {},
   "outputs": [
    {
     "name": "stdout",
     "output_type": "stream",
     "text": [
      "PearsonrResult(correlation= 0.125001445122  pvalue= 0.0339687153667\n",
      "SpearmanrResult(correlation=0.087234605779643398, pvalue=0.13972960838964399) \n",
      "\n"
     ]
    }
   ],
   "source": [
    "# pearson correlation\n",
    "pear_ = sp.pearsonr(exp_trust.T.ravel(), exp_attend.T.ravel())\n",
    "print('PearsonrResult(correlation=',pear_[0],' pvalue=',pear_[1])\n",
    "# spearman correlation\n",
    "print(sp.spearmanr(exp_trust.T.ravel(), exp_attend.T.ravel()),'\\n')"
   ]
  },
  {
   "cell_type": "markdown",
   "metadata": {},
   "source": [
    "# Number of Alerts Attended"
   ]
  },
  {
   "cell_type": "code",
   "execution_count": 30,
   "metadata": {
    "scrolled": true
   },
   "outputs": [
    {
     "data": {
      "text/plain": [
       "(36, 8)"
      ]
     },
     "execution_count": 30,
     "metadata": {},
     "output_type": "execute_result"
    }
   ],
   "source": [
    "exp1_attend_alert = exp1_data_T.values[1:n_participant,280:288].astype(int)\n",
    "exp2_attend_alert = exp2_data_T.values[1:n_participant,280:288].astype(int)\n",
    "# exp_demo = np.concatenate((exp1_demo,exp2_demo),axis=0)\n",
    "exp_attend_alert = np.vstack((exp1_attend_alert,np.hstack((exp2_attend_alert[:,4:],exp2_attend_alert[:,:4])))).astype(int)\n",
    "exp_attend_alert.shape"
   ]
  },
  {
   "cell_type": "code",
   "execution_count": 31,
   "metadata": {
    "scrolled": true
   },
   "outputs": [
    {
     "data": {
      "image/png": "[encoded data removed]",
      "text/plain": [
       "<matplotlib.figure.Figure at 0x1bea1520ba8>"
      ]
     },
     "metadata": {},
     "output_type": "display_data"
    },
    {
     "data": {
      "text/plain": [
       "array([[ 12.72222222,  13.22222222,  14.33333333,  12.05555556,\n",
       "         10.5       ,  10.27777778,  13.16666667,  13.33333333],\n",
       "       [  3.8987969 ,   4.21051007,   4.8189441 ,   6.4676307 ,\n",
       "          3.81881308,   4.13394559,   5.38774329,   4.65474668]])"
      ]
     },
     "execution_count": 31,
     "metadata": {},
     "output_type": "execute_result"
    }
   ],
   "source": [
    "# exp1 mean & std\n",
    "x = np.arange(8)+1\n",
    "y = np.array(exp1_attend_alert.mean(axis=0))\n",
    "e = np.array(exp1_attend_alert.std(axis=0))\n",
    "\n",
    "plt.errorbar(x, y, e, linestyle='None', marker='^')\n",
    "axes = plt.gca()\n",
    "axes.set_ylim([5,20])\n",
    "\n",
    "for xy in zip(x, y):\n",
    "    axes.annotate('%.4s' % xy[1], xy=xy, textcoords='data')\n",
    "plt.title(\"# Alerts Attended: Experiment One\")\n",
    "plt.show()\n",
    "\n",
    "# exp1 mean & std\n",
    "np.vstack((exp1_attend_alert.mean(axis=0),exp1_attend_alert.std(axis=0)))"
   ]
  },
  {
   "cell_type": "code",
   "execution_count": 32,
   "metadata": {
    "scrolled": true
   },
   "outputs": [
    {
     "data": {
      "image/png": "[encoded data removed]",
      "text/plain": [
       "<matplotlib.figure.Figure at 0x1bea163d128>"
      ]
     },
     "metadata": {},
     "output_type": "display_data"
    },
    {
     "data": {
      "text/plain": [
       "array([[ 12.77777778,  13.16666667,  15.72222222,  15.55555556,\n",
       "         15.16666667,  15.        ,  17.88888889,  17.77777778],\n",
       "       [  1.47405546,   1.6414763 ,   3.44489244,   2.40883149,\n",
       "          3.78960567,   2.66666667,   4.03992421,   4.68514859]])"
      ]
     },
     "execution_count": 32,
     "metadata": {},
     "output_type": "execute_result"
    }
   ],
   "source": [
    "# exp2 mean & std\n",
    "x = np.arange(8)+1\n",
    "y = np.array(exp2_attend_alert.mean(axis=0))\n",
    "e = np.array(exp2_attend_alert.std(axis=0))\n",
    "\n",
    "plt.errorbar(x, y, e, linestyle='None', marker='^')\n",
    "axes = plt.gca()\n",
    "# axes.set_ylim([5,20])\n",
    "\n",
    "for xy in zip(x, y):\n",
    "    axes.annotate('%.4s' % xy[1], xy=xy, textcoords='data')\n",
    "plt.title(\"# Alerts Attended: Experiment Two\")   \n",
    "plt.show()\n",
    "\n",
    "# exp2 mean & std\n",
    "np.vstack((exp2_attend_alert.mean(axis=0),exp2_attend_alert.std(axis=0)))"
   ]
  },
  {
   "cell_type": "code",
   "execution_count": 33,
   "metadata": {
    "scrolled": true
   },
   "outputs": [
    {
     "data": {
      "image/png": "[encoded data removed]",
      "text/plain": [
       "<matplotlib.figure.Figure at 0x1bea1410860>"
      ]
     },
     "metadata": {},
     "output_type": "display_data"
    },
    {
     "data": {
      "text/plain": [
       "array([[ 13.94444444,  14.11111111,  16.11111111,  14.91666667,\n",
       "         11.63888889,  11.72222222,  14.44444444,  14.44444444],\n",
       "       [  4.0341903 ,   3.63453939,   4.7887471 ,   6.33059151,\n",
       "          3.11049101,   3.46098181,   4.69896232,   3.86899674]])"
      ]
     },
     "execution_count": 33,
     "metadata": {},
     "output_type": "execute_result"
    }
   ],
   "source": [
    "# overall mean & std\n",
    "x = np.arange(8)+1\n",
    "y = np.array(exp_attend_alert.mean(axis=0))\n",
    "e = np.array(exp_attend_alert.std(axis=0))\n",
    "\n",
    "plt.errorbar(x, y, e, linestyle='None', marker='^')\n",
    "axes = plt.gca()\n",
    "# axes.set_ylim([5,20])\n",
    "\n",
    "for xy in zip(x, y):\n",
    "    axes.annotate('%.4s' % xy[1], xy=xy, textcoords='data')\n",
    "plt.title(\"# Alerts Attended: Both Experiments (in order of ABCD)\")    \n",
    "plt.show()\n",
    "\n",
    "# overall mean & std\n",
    "np.vstack((exp_attend_alert.mean(axis=0),exp_attend_alert.std(axis=0)))"
   ]
  },
  {
   "cell_type": "markdown",
   "metadata": {},
   "source": [
    "## RQ1a: # Attended Alerts between first section with same section in the other exp (ind t-test)"
   ]
  },
  {
   "cell_type": "code",
   "execution_count": 34,
   "metadata": {
    "scrolled": true
   },
   "outputs": [
    {
     "name": "stdout",
     "output_type": "stream",
     "text": [
      "A-1 Section in exp1: Mean: 12.7222222222  Std: 3.89879690212\n",
      "A-1 Section in exp2: Mean: 15.1666666667  Std: 3.78960566697\n",
      "Ttest_indResult(statistic=-1.8537011562312498, pvalue=0.07247518615549392) \n",
      "\n",
      "C-1 Section in exp2: Mean: 12.7777777778  Std: 1.47405546238\n",
      "C-1 Section in exp1: Mean: 10.5  Std: 3.81881307913\n",
      "Ttest_indResult(statistic=2.2942904458336217, pvalue=0.028075183060318722)\n"
     ]
    }
   ],
   "source": [
    "# check if there is a training period\n",
    "\n",
    "exp_attend_alert_1st_sec = exp1_attend_alert[:, 0].T.ravel()\n",
    "exp_attend_alert_5th_sec = exp2_attend_alert[:, 4].T.ravel()\n",
    "\n",
    "print('A-1 Section in exp1: Mean:',exp_attend_alert_1st_sec.mean(),' Std:',exp_attend_alert_1st_sec.std())\n",
    "print('A-1 Section in exp2: Mean:',exp_attend_alert_5th_sec.mean(),' Std:',exp_attend_alert_5th_sec.std())\n",
    "print(sp.ttest_ind(exp_attend_alert_1st_sec,exp_attend_alert_5th_sec),'\\n')\n",
    "\n",
    "exp_attend_alert_1st_sec = exp2_attend_alert[:, 0].T.ravel()\n",
    "exp_attend_alert_5th_sec = exp1_attend_alert[:, 4].T.ravel()\n",
    "\n",
    "print('C-1 Section in exp2: Mean:',exp_attend_alert_1st_sec.mean(),' Std:',exp_attend_alert_1st_sec.std())\n",
    "print('C-1 Section in exp1: Mean:',exp_attend_alert_5th_sec.mean(),' Std:',exp_attend_alert_5th_sec.std())\n",
    "print(sp.ttest_ind(exp_attend_alert_1st_sec,exp_attend_alert_5th_sec))"
   ]
  },
  {
   "cell_type": "markdown",
   "metadata": {},
   "source": [
    "## RQ1b: # Attended Alerts between first and second section in all stages (related t-test)"
   ]
  },
  {
   "cell_type": "code",
   "execution_count": 35,
   "metadata": {
    "scrolled": true
   },
   "outputs": [
    {
     "name": "stdout",
     "output_type": "stream",
     "text": [
      "1st Section: Mean: 14.0347222222  std: 4.50526419629\n",
      "2nd Section: Mean: 13.7986111111  std: 4.64515856252\n",
      "Ttest_relResult(statistic=0.81413275585229805, pvalue=0.41692254663028094)\n"
     ]
    }
   ],
   "source": [
    "# check if there is a training period\n",
    "\n",
    "exp_attend_alert_sec1 = exp_attend_alert[:, np.r_[0,2,4,6]].T.ravel()\n",
    "exp_attend_alert_sec2 = exp_attend_alert[:, np.r_[1,3,5,7]].T.ravel()\n",
    "\n",
    "print('1st Section: Mean:',exp_attend_alert_sec1.mean(),' std:',exp_attend_alert_sec1.std())\n",
    "print('2nd Section: Mean:',exp_attend_alert_sec2.mean(),' std:',exp_attend_alert_sec2.std())\n",
    "print(sp.ttest_rel(exp_attend_alert_sec1,exp_attend_alert_sec2))"
   ]
  },
  {
   "cell_type": "markdown",
   "metadata": {},
   "source": [
    "### RQ3a # attended events vs system performance\n",
    "### Proportion of Attended Alerts vs System Performance (high/low false alert rate) – related t-test"
   ]
  },
  {
   "cell_type": "code",
   "execution_count": 36,
   "metadata": {},
   "outputs": [
    {
     "name": "stdout",
     "output_type": "stream",
     "text": [
      "Sections with high FA: Mean: 0.800428921569  std: 0.256818298231\n",
      "Sections with low FA: Mean: 0.84199929972  std: 0.244401881868\n",
      "Ttest_relResult(statistic=-2.0111317563439992, pvalue=0.04619092425070441)\n"
     ]
    }
   ],
   "source": [
    "# within subject all exps: high/low false rate\n",
    "\n",
    "exp_attend_alert_hifalse = (exp_attend_alert[:, np.r_[0:4]]/np.array([17,17,20,20])).T.ravel()\n",
    "exp_attend_alert_lofalse = (exp_attend_alert[:, np.r_[4:8]]/np.array([14,14,17,17])).T.ravel()\n",
    "\n",
    "print('Sections with high FA: Mean:',exp_attend_alert_hifalse.mean(),' std:',exp_attend_alert_hifalse.std())\n",
    "print('Sections with low FA: Mean:',exp_attend_alert_lofalse.mean(),' std:',exp_attend_alert_lofalse.std())\n",
    "print(sp.ttest_rel(exp_attend_alert_hifalse,exp_attend_alert_lofalse))"
   ]
  },
  {
   "cell_type": "markdown",
   "metadata": {},
   "source": [
    "### RQ3a # attended events vs system performance\n",
    "### Proportion of Attended Alerts vs System Performance (with/without missed events) – related t-test"
   ]
  },
  {
   "cell_type": "code",
   "execution_count": 37,
   "metadata": {},
   "outputs": [
    {
     "name": "stdout",
     "output_type": "stream",
     "text": [
      "Sections with Misses: Mean: 0.829744397759  Std: 0.230569802413\n",
      "Sections without Misses: Mean: 0.812683823529  Std: 0.270636289058\n",
      "Ttest_relResult(statistic=0.95545470406340627, pvalue=0.34096021173705748)\n"
     ]
    }
   ],
   "source": [
    "# within subject all exps: with/without misses\n",
    "\n",
    "exp_attend_alert_misses = (exp_attend_alert[:, np.r_[0,1,4,5]]/np.array([17,17,14,14])).T.ravel()\n",
    "exp_attend_alert_nomisses = (exp_attend_alert[:, np.r_[2,3,6,7]]/np.array([20,20,17,17])).T.ravel()\n",
    "# exp_attend_alert_misses = (np.vstack((exp_attend_alert[:,0],exp_attend_alert[:,1],exp_attend_alert[:,4],exp_attend_alert[:,5])).T/np.array([17,17,14,14])).T.ravel()\n",
    "# exp_attend_alert_nomisses = (np.vstack((exp_attend_alert[:,2],exp_attend_alert[:,3],exp_attend_alert[:,6],exp_attend_alert[:,7])).T/np.array([20,20,17,17])).T.ravel()\n",
    "\n",
    "\n",
    "print('Sections with Misses: Mean:',exp_attend_alert_misses.mean(),' Std:',exp_attend_alert_misses.std())\n",
    "print('Sections without Misses: Mean:',exp_attend_alert_nomisses.mean(),' Std:',exp_attend_alert_nomisses.std())\n",
    "print(sp.ttest_rel(exp_attend_alert_misses,exp_attend_alert_nomisses))\n",
    "# print(sp.wilcoxon(exp_attend_alert_misses,exp_attend_alert_nomisses),'\\n')\n"
   ]
  },
  {
   "cell_type": "markdown",
   "metadata": {},
   "source": [
    "## RQ4 User Behaviour versus Self-reported Trust\n",
    "### RQ4a Correlation between Proportion of Attended Alerts and Trust Scores"
   ]
  },
  {
   "cell_type": "code",
   "execution_count": 38,
   "metadata": {},
   "outputs": [
    {
     "name": "stdout",
     "output_type": "stream",
     "text": [
      "PearsonrResult(correlation= 0.103291866293  pvalue= 0.0801215243629\n",
      "SpearmanrResult(correlation=0.11962199909186257, pvalue=0.042507881685231806)\n"
     ]
    }
   ],
   "source": [
    "# pearson correlation\n",
    "pear_ = sp.pearsonr(exp_trust.T.ravel(), (exp_attend_alert/np.array([17,17,20,20,14,14,17,17])).T.ravel())\n",
    "print('PearsonrResult(correlation=',pear_[0],' pvalue=',pear_[1])\n",
    "# spearman correlation\n",
    "print(sp.spearmanr(exp_trust.T.ravel(), (exp_attend_alert/np.array([17,17,20,20,14,14,17,17])).T.ravel()))"
   ]
  },
  {
   "cell_type": "markdown",
   "metadata": {},
   "source": [
    "## RQ4 User Behaviour versus Self-reported Trust\n",
    "### RQ4a Correlation between Proportion of Attended False Alerts and Trust Scores"
   ]
  },
  {
   "cell_type": "code",
   "execution_count": 39,
   "metadata": {},
   "outputs": [
    {
     "name": "stdout",
     "output_type": "stream",
     "text": [
      "PearsonrResult(correlation= -0.23000102178  pvalue= 8.17500082239e-05\n",
      "SpearmanrResult(correlation=-0.20917320802327183, pvalue=0.00035161609904581865)\n"
     ]
    }
   ],
   "source": [
    "exp1_attendf = exp1_data_T.values[1:n_participant,214:222].astype(int)\n",
    "exp2_attendf = exp2_data_T.values[1:n_participant,214:222].astype(int)\n",
    "exp_attendf = np.vstack((exp1_attendf,np.hstack((exp2_attendf[:,4:],exp2_attendf[:,:4])))).astype(int)\n",
    "\n",
    "# pearson correlation\n",
    "pear_ = sp.pearsonr(exp_trust.T.ravel(), (exp_attendf/np.array([17,17,20,20,14,14,17,17])).T.ravel())\n",
    "print('PearsonrResult(correlation=',pear_[0],' pvalue=',pear_[1])\n",
    "# spearman correlation\n",
    "print(sp.spearmanr(exp_trust.T.ravel(), (exp_attendf/np.array([17,17,20,20,14,14,17,17])).T.ravel()))"
   ]
  },
  {
   "cell_type": "markdown",
   "metadata": {},
   "source": [
    "# Number of Checks Clicked"
   ]
  },
  {
   "cell_type": "code",
   "execution_count": 40,
   "metadata": {
    "scrolled": true
   },
   "outputs": [
    {
     "data": {
      "text/plain": [
       "(36, 8)"
      ]
     },
     "execution_count": 40,
     "metadata": {},
     "output_type": "execute_result"
    }
   ],
   "source": [
    "exp1_check = exp1_data_T.values[1:n_participant,253:261].astype(int)\n",
    "exp2_check = exp2_data_T.values[1:n_participant,253:261].astype(int)\n",
    "# exp_demo = np.concatenate((exp1_demo,exp2_demo),axis=0)\n",
    "exp_check = np.vstack((exp1_check,np.hstack((exp2_check[:,4:],exp2_check[:,:4])))).astype(int)\n",
    "exp_check.shape"
   ]
  },
  {
   "cell_type": "code",
   "execution_count": 41,
   "metadata": {},
   "outputs": [
    {
     "data": {
      "image/png": "[encoded data removed]",
      "text/plain": [
       "<matplotlib.figure.Figure at 0x1bea13df7b8>"
      ]
     },
     "metadata": {},
     "output_type": "display_data"
    }
   ],
   "source": [
    "# number of misses\n",
    "x = np.arange(8)+1\n",
    "y = np.array([3, 2, 0, 0, 2, 2, 0, 0])\n",
    "e = np.array([0, 0, 0, 0, 0, 0, 0, 0])\n",
    "\n",
    "plt.errorbar(x, y, e, linestyle='None', marker='^')\n",
    "axes = plt.gca()\n",
    "axes.set_ylim([0,6])\n",
    "\n",
    "for xy in zip(x, y):\n",
    "    axes.annotate('%.4s' % xy[1], xy=xy, textcoords='data')\n",
    "plt.title(\"# Misses: Experiment One (in order of ABCD)\")    \n",
    "plt.show()\n"
   ]
  },
  {
   "cell_type": "code",
   "execution_count": 42,
   "metadata": {
    "scrolled": true
   },
   "outputs": [
    {
     "data": {
      "image/png": "[encoded data removed]",
      "text/plain": [
       "<matplotlib.figure.Figure at 0x1bea01d7160>"
      ]
     },
     "metadata": {},
     "output_type": "display_data"
    },
    {
     "data": {
      "text/plain": [
       "array([[ 3.61111111,  4.77777778,  5.11111111,  4.33333333,  4.66666667,\n",
       "         5.33333333,  4.11111111,  3.94444444],\n",
       "       [ 4.41133501,  4.4416658 ,  3.81355607,  4.05517502,  2.78886676,\n",
       "         4.55826478,  3.75483228,  3.80748126]])"
      ]
     },
     "execution_count": 42,
     "metadata": {},
     "output_type": "execute_result"
    }
   ],
   "source": [
    "# exp1 mean & std\n",
    "x = np.arange(8)+1\n",
    "y = np.array(exp1_check.mean(axis=0))\n",
    "e = np.array(exp1_check.std(axis=0))\n",
    "\n",
    "plt.errorbar(x, y, e, linestyle='None', marker='^')\n",
    "axes = plt.gca()\n",
    "axes.set_ylim([0,10])\n",
    "\n",
    "for xy in zip(x, y):\n",
    "    axes.annotate('%.4s' % xy[1], xy=xy, textcoords='data')\n",
    "plt.title(\"# Checks: Experiment One\")\n",
    "plt.show()\n",
    "\n",
    "# exp1 mean & std\n",
    "np.vstack((exp1_check.mean(axis=0),exp1_check.std(axis=0)))"
   ]
  },
  {
   "cell_type": "code",
   "execution_count": 43,
   "metadata": {
    "scrolled": true
   },
   "outputs": [
    {
     "data": {
      "image/png": "[encoded data removed]",
      "text/plain": [
       "<matplotlib.figure.Figure at 0x1bea1ada6a0>"
      ]
     },
     "metadata": {},
     "output_type": "display_data"
    },
    {
     "data": {
      "text/plain": [
       "array([[ 4.88888889,  5.        ,  4.66666667,  3.44444444,  3.83333333,\n",
       "         4.83333333,  4.16666667,  4.44444444],\n",
       "       [ 4.13506535,  4.05517502,  4.43471157,  3.20108006,  4.0173236 ,\n",
       "         3.35410197,  4.0173236 ,  4.75186773]])"
      ]
     },
     "execution_count": 43,
     "metadata": {},
     "output_type": "execute_result"
    }
   ],
   "source": [
    "# exp2 mean & std\n",
    "x = np.arange(8)+1\n",
    "y = np.array(exp2_check.mean(axis=0))\n",
    "e = np.array(exp2_check.std(axis=0))\n",
    "\n",
    "plt.errorbar(x, y, e, linestyle='None', marker='^')\n",
    "axes = plt.gca()\n",
    "axes.set_ylim([0,10])\n",
    "\n",
    "for xy in zip(x, y):\n",
    "    axes.annotate('%.4s' % xy[1], xy=xy, textcoords='data')\n",
    "plt.title(\"# Checks: Experiment Two\")   \n",
    "plt.show()\n",
    "\n",
    "# exp2 mean & std\n",
    "np.vstack((exp2_check.mean(axis=0),exp2_check.std(axis=0)))"
   ]
  },
  {
   "cell_type": "code",
   "execution_count": 44,
   "metadata": {},
   "outputs": [
    {
     "data": {
      "image/png": "[encoded data removed]",
      "text/plain": [
       "<matplotlib.figure.Figure at 0x1bea01d0198>"
      ]
     },
     "metadata": {},
     "output_type": "display_data"
    },
    {
     "data": {
      "text/plain": [
       "array([[ 3.72222222,  4.80555556,  4.63888889,  4.38888889,  4.77777778,\n",
       "         5.16666667,  4.38888889,  3.69444444],\n",
       "       [ 4.22039434,  3.93572981,  3.94512905,  4.41762743,  3.52854322,\n",
       "         4.31727795,  4.11823707,  3.52624639]])"
      ]
     },
     "execution_count": 44,
     "metadata": {},
     "output_type": "execute_result"
    }
   ],
   "source": [
    "# overall mean & std\n",
    "x = np.arange(8)+1\n",
    "y = np.array(exp_check.mean(axis=0))\n",
    "e = np.array(exp_check.std(axis=0))\n",
    "\n",
    "plt.errorbar(x, y, e, linestyle='None', marker='^')\n",
    "axes = plt.gca()\n",
    "axes.set_ylim([0,10])\n",
    "\n",
    "for xy in zip(x, y):\n",
    "    axes.annotate('%.4s' % xy[1], xy=xy, textcoords='data')\n",
    "plt.title(\"# Checks: Both Experiments (in order of ABCD)\")    \n",
    "plt.show()\n",
    "\n",
    "# overall mean & std\n",
    "np.vstack((exp_check.mean(axis=0),exp_check.std(axis=0)))"
   ]
  },
  {
   "cell_type": "markdown",
   "metadata": {},
   "source": [
    "## RQ1a: # Checks between first section with same section in the other exp (ind t-test)"
   ]
  },
  {
   "cell_type": "code",
   "execution_count": 45,
   "metadata": {
    "scrolled": true
   },
   "outputs": [
    {
     "name": "stdout",
     "output_type": "stream",
     "text": [
      "A-1 Section in exp1: Mean: 3.61111111111  Std: 4.41133500691\n",
      "A-1 Section in exp2: Mean: 3.83333333333  Std: 4.01732359773\n",
      "Ttest_indResult(statistic=-0.15356579007511459, pvalue=0.87885996238143127) \n",
      "\n",
      "C-1 Section in exp2: Mean: 4.88888888889  Std: 4.13506534798\n",
      "C-1 Section in exp1: Mean: 4.66666666667  Std: 2.78886675511\n",
      "Ttest_indResult(statistic=0.18370328865599367, pvalue=0.85533744016124458)\n"
     ]
    }
   ],
   "source": [
    "# check if there is a training period\n",
    "\n",
    "exp_check_1st_sec = exp1_check[:, 0].T.ravel()\n",
    "exp_check_5th_sec = exp2_check[:, 4].T.ravel()\n",
    "\n",
    "print('A-1 Section in exp1: Mean:',exp_check_1st_sec.mean(),' Std:',exp_check_1st_sec.std())\n",
    "print('A-1 Section in exp2: Mean:',exp_check_5th_sec.mean(),' Std:',exp_check_5th_sec.std())\n",
    "print(sp.ttest_ind(exp_check_1st_sec,exp_check_5th_sec),'\\n')\n",
    "\n",
    "exp_check_1st_sec = exp2_check[:, 0].T.ravel()\n",
    "exp_check_5th_sec = exp1_check[:, 4].T.ravel()\n",
    "\n",
    "print('C-1 Section in exp2: Mean:',exp_check_1st_sec.mean(),' Std:',exp_check_1st_sec.std())\n",
    "print('C-1 Section in exp1: Mean:',exp_check_5th_sec.mean(),' Std:',exp_check_5th_sec.std())\n",
    "print(sp.ttest_ind(exp_check_1st_sec,exp_check_5th_sec))"
   ]
  },
  {
   "cell_type": "markdown",
   "metadata": {},
   "source": [
    "## RQ1b: #  Checks between first and second section in all stages (related t-test)"
   ]
  },
  {
   "cell_type": "code",
   "execution_count": 46,
   "metadata": {
    "scrolled": true
   },
   "outputs": [
    {
     "name": "stdout",
     "output_type": "stream",
     "text": [
      "1st Section: Mean: 4.38194444444  std: 3.98259499395\n",
      "2nd Section: Mean: 4.51388888889  std: 4.10112808179\n",
      "Ttest_relResult(statistic=-0.52342524210030461, pvalue=0.60148854591036782)\n"
     ]
    }
   ],
   "source": [
    "# check if there is a training period\n",
    "\n",
    "exp_check_sec1 = exp_check[:, np.r_[0,2,4,6]].T.ravel()\n",
    "exp_check_sec2 = exp_check[:, np.r_[1,3,5,7]].T.ravel()\n",
    "\n",
    "print('1st Section: Mean:',exp_check_sec1.mean(),' std:',exp_check_sec1.std())\n",
    "print('2nd Section: Mean:',exp_check_sec2.mean(),' std:',exp_check_sec2.std())\n",
    "print(sp.ttest_rel(exp_check_sec1,exp_check_sec2))"
   ]
  },
  {
   "cell_type": "markdown",
   "metadata": {},
   "source": [
    "## RQ3b Number of checks on residents vs system performance\n",
    "\n",
    "### Number of checks between high/low false alert rate (related t-test)"
   ]
  },
  {
   "cell_type": "code",
   "execution_count": 47,
   "metadata": {},
   "outputs": [
    {
     "name": "stdout",
     "output_type": "stream",
     "text": [
      "Sections with high FA: Mean: 4.38888888889  std: 4.15516932251\n",
      "Sections with low FA: Mean: 4.50694444444  std: 3.92640018864\n",
      "Ttest_relResult(statistic=-0.37553829337433181, pvalue=0.70781664351424589)\n"
     ]
    }
   ],
   "source": [
    "# within population: high/low false rate\n",
    "\n",
    "exp_check_hifalse = exp_check[:, np.r_[0:4]].T.ravel()\n",
    "exp_check_lofalse = exp_check[:, np.r_[4:8]].T.ravel()\n",
    "\n",
    "print('Sections with high FA: Mean:', exp_check_hifalse.mean(),' std:',exp_check_hifalse.std())\n",
    "print('Sections with low FA: Mean:',exp_check_lofalse.mean(),' std:',exp_check_lofalse.std())\n",
    "print(sp.ttest_rel(exp_check_hifalse,exp_check_lofalse))\n",
    "#sp.ttest_ind"
   ]
  },
  {
   "cell_type": "markdown",
   "metadata": {},
   "source": [
    "## RQ3b Number of checks on residents vs system performance\n",
    "\n",
    "### Number of checks with/without missed events (related t-test)"
   ]
  },
  {
   "cell_type": "code",
   "execution_count": 48,
   "metadata": {},
   "outputs": [
    {
     "name": "stdout",
     "output_type": "stream",
     "text": [
      "Sections with Misses: Mean: 4.61805555556  std: 4.04831331095\n",
      "Sections without Misses: Mean: 4.27777777778  std: 4.03017170237\n",
      "Ttest_relResult(statistic=1.163821170501963, pvalue=0.24643464190164668)\n"
     ]
    }
   ],
   "source": [
    "# within population with/without misses\n",
    "\n",
    "exp_check_misses = np.hstack((exp_check[:,0],exp_check[:,1],exp_check[:,4],exp_check[:,5]))\n",
    "exp_check_nomisses = np.hstack((exp_check[:,2],exp_check[:,3],exp_check[:,6],exp_check[:,7]))\n",
    "\n",
    "print('Sections with Misses: Mean:',exp_check_misses.mean(),' std:',exp_check_misses.std())\n",
    "print('Sections without Misses: Mean:',exp_check_nomisses.mean(),' std:',exp_check_nomisses.std())\n",
    "print(sp.ttest_rel(exp_check_misses,exp_check_nomisses))\n",
    "#sp.ttest_ind"
   ]
  },
  {
   "cell_type": "markdown",
   "metadata": {},
   "source": [
    "## RQ3b Number of checks vs missed events in the previous segment\n",
    "### Independent t-test/Wilcoxon signed-ranked test for number of checks in consecutive segments."
   ]
  },
  {
   "cell_type": "code",
   "execution_count": 49,
   "metadata": {},
   "outputs": [
    {
     "name": "stdout",
     "output_type": "stream",
     "text": [
      "Exp1: Sec 1  Mean: 3.61111111111  Std: 4.41133500691\n",
      "Exp1: Sec 2  Mean: 4.77777777778  Std: 4.44166579807\n",
      "Ttest_indResult(statistic=-0.7684103318255382, pvalue=0.44754811444334464)\n",
      "WilcoxonResult(statistic=36.5, pvalue=0.18082396332783868) \n",
      "\n",
      "Exp1: Sec 2  Mean: 4.77777777778  Std: 4.44166579807\n",
      "Exp1: Sec 3  Mean: 5.11111111111  Std: 3.81355606705\n",
      "Ttest_indResult(statistic=-0.23476642386682142, pvalue=0.81579817344143235)\n",
      "WilcoxonResult(statistic=40.5, pvalue=0.7242514885299367) \n",
      "\n",
      "Exp1: Sec 3  Mean: 5.11111111111  Std: 3.81355606705\n",
      "Exp1: Sec 4  Mean: 4.33333333333  Std: 4.0551750202\n",
      "Ttest_indResult(statistic=0.57608376991559074, pvalue=0.56835266465584511)\n",
      "WilcoxonResult(statistic=30.5, pvalue=0.2922869621254035) \n",
      "\n",
      "Exp1: Sec 4  Mean: 4.33333333333  Std: 4.0551750202\n",
      "Exp1: Sec 5  Mean: 4.66666666667  Std: 2.78886675511\n",
      "Ttest_indResult(statistic=-0.27925194963714589, pvalue=0.78174317754471345)\n",
      "WilcoxonResult(statistic=57.0, pvalue=0.56510600510745002) \n",
      "\n",
      "Exp1: Sec 5  Mean: 4.66666666667  Std: 2.78886675511\n",
      "Exp1: Sec 6  Mean: 5.33333333333  Std: 4.55826477706\n",
      "Ttest_indResult(statistic=-0.51438452512562582, pvalue=0.61031077116925536)\n",
      "WilcoxonResult(statistic=39.0, pvalue=0.64381389671128475) \n",
      "\n",
      "Exp1: Sec 6  Mean: 5.33333333333  Std: 4.55826477706\n",
      "Exp1: Sec 7  Mean: 4.11111111111  Std: 3.75483227749\n",
      "Ttest_indResult(statistic=0.85331213100503511, pvalue=0.39945807003897404)\n",
      "WilcoxonResult(statistic=38.5, pvalue=0.12358778668842554) \n",
      "\n",
      "Exp1: Sec 7  Mean: 4.11111111111  Std: 3.75483227749\n",
      "Exp1: Sec 8  Mean: 3.94444444444  Std: 3.8074812646\n",
      "Ttest_indResult(statistic=0.12850588106343536, pvalue=0.89850578389235214)\n",
      "WilcoxonResult(statistic=25.5, pvalue=0.4984436914670709) \n",
      "\n",
      "Exp2: Sec 1  Mean: 3.83333333333  Std: 4.01732359773\n",
      "Exp2: Sec 2  Mean: 4.83333333333  Std: 3.35410196625\n",
      "Ttest_indResult(statistic=-0.78783859715833504, pvalue=0.43624950570584187)\n",
      "WilcoxonResult(statistic=23.0, pvalue=0.20519386245574112) \n",
      "\n",
      "Exp2: Sec 2  Mean: 4.83333333333  Std: 3.35410196625\n",
      "Exp2: Sec 3  Mean: 4.16666666667  Std: 4.01732359773\n",
      "Ttest_indResult(statistic=0.52522573143888984, pvalue=0.60283486744657266)\n",
      "WilcoxonResult(statistic=32.0, pvalue=0.34382210506921285) \n",
      "\n",
      "Exp2: Sec 3  Mean: 4.16666666667  Std: 4.01732359773\n",
      "Exp2: Sec 4  Mean: 4.44444444444  Std: 4.75186772897\n",
      "Ttest_indResult(statistic=-0.1840598790051384, pvalue=0.85505987670191386)\n",
      "WilcoxonResult(statistic=35.5, pvalue=0.47278308612015796) \n",
      "\n",
      "Exp2: Sec 4  Mean: 4.44444444444  Std: 4.75186772897\n",
      "Exp2: Sec 5  Mean: 4.88888888889  Std: 4.13506534798\n",
      "Ttest_indResult(statistic=-0.29091191942959366, pvalue=0.77288596645110053)\n",
      "WilcoxonResult(statistic=70.0, pvalue=0.75775292428689722) \n",
      "\n",
      "Exp2: Sec 5  Mean: 4.88888888889  Std: 4.13506534798\n",
      "Exp2: Sec 6  Mean: 5.0  Std: 4.0551750202\n",
      "Ttest_indResult(statistic=-0.079100575179596858, pvalue=0.9374163574014347)\n",
      "WilcoxonResult(statistic=52.0, pvalue=0.64682846867883348) \n",
      "\n",
      "Exp2: Sec 6  Mean: 5.0  Std: 4.0551750202\n",
      "Exp2: Sec 7  Mean: 4.66666666667  Std: 4.43471156522\n",
      "Ttest_indResult(statistic=0.22870874995874604, pvalue=0.82046538632225596)\n",
      "WilcoxonResult(statistic=45.5, pvalue=0.65804912784837688) \n",
      "\n",
      "Exp2: Sec 7  Mean: 4.66666666667  Std: 4.43471156522\n",
      "Exp2: Sec 8  Mean: 3.44444444444  Std: 3.20108006464\n",
      "Ttest_indResult(statistic=0.92138351712934374, pvalue=0.36334223714713354)\n",
      "WilcoxonResult(statistic=0.0, pvalue=0.0070583320485281004) \n",
      "\n"
     ]
    },
    {
     "name": "stderr",
     "output_type": "stream",
     "text": [
      "C:\\Users\\final\\Anaconda3\\lib\\site-packages\\scipy\\stats\\morestats.py:2397: UserWarning: Warning: sample size too small for normal approximation.\n",
      "  warnings.warn(\"Warning: sample size too small for normal approximation.\")\n"
     ]
    }
   ],
   "source": [
    "# pearson correlation\n",
    "\n",
    "for sec_i in range(7):\n",
    "    exp_check_1st=exp_check[:n_participant-1,sec_i]\n",
    "    exp_check_2nd=exp_check[:n_participant-1,sec_i+1]\n",
    "    print('Exp1: Sec',sec_i+1,' Mean:',exp_check_1st.mean(),' Std:',exp_check_1st.std())\n",
    "    print('Exp1: Sec',sec_i+2,' Mean:',exp_check_2nd.mean(),' Std:',exp_check_2nd.std())\n",
    "    print(sp.ttest_ind(exp_check_1st.T.ravel(), exp_check_2nd.T.ravel()))\n",
    "    print(sp.wilcoxon(exp_check_1st.T.ravel(), exp_check_2nd.T.ravel()),'\\n')\n",
    "    \n",
    "for sec_i in range(7):\n",
    "    exp_check_1st=exp_check[n_participant-1:,sec_i]\n",
    "    exp_check_2nd=exp_check[n_participant-1:,sec_i+1]\n",
    "    print('Exp2: Sec',sec_i+1,' Mean:',exp_check_1st.mean(),' Std:',exp_check_1st.std())\n",
    "    print('Exp2: Sec',sec_i+2,' Mean:',exp_check_2nd.mean(),' Std:',exp_check_2nd.std())\n",
    "    print(sp.ttest_ind(exp_check_1st.T.ravel(), exp_check_2nd.T.ravel()))\n",
    "    print(sp.wilcoxon(exp_check_1st.T.ravel(), exp_check_2nd.T.ravel()),'\\n')"
   ]
  },
  {
   "cell_type": "markdown",
   "metadata": {},
   "source": [
    "## RQ3b Number of checks vs missed events in the previous segment\n",
    "### Correlation for number of checks in consecutive segments."
   ]
  },
  {
   "cell_type": "code",
   "execution_count": 50,
   "metadata": {},
   "outputs": [
    {
     "name": "stdout",
     "output_type": "stream",
     "text": [
      "Exp1: Sec 1  Mean: 3.61111111111  Std: 4.41133500691\n",
      "Exp1: Sec 2  Mean: 4.77777777778  Std: 4.44166579807\n",
      "PearsonrResult(correlation= 0.630714971624  pvalue= 0.00500996184357\n",
      "SpearmanrResult(correlation=0.50365091584892907, pvalue=0.033094314261581215) \n",
      "\n",
      "Exp1: Sec 2  Mean: 4.77777777778  Std: 4.44166579807\n",
      "Exp1: Sec 3  Mean: 5.11111111111  Std: 3.81355606705\n",
      "PearsonrResult(correlation= 0.765658351554  pvalue= 0.000212502046831\n",
      "SpearmanrResult(correlation=0.69515382028347494, pvalue=0.0013623826738295272) \n",
      "\n",
      "Exp1: Sec 3  Mean: 5.11111111111  Std: 3.81355606705\n",
      "Exp1: Sec 4  Mean: 4.33333333333  Std: 4.0551750202\n",
      "PearsonrResult(correlation= 0.608317364589  pvalue= 0.00739120542305\n",
      "SpearmanrResult(correlation=0.8067184739247073, pvalue=5.2340676195597627e-05) \n",
      "\n",
      "Exp1: Sec 4  Mean: 4.33333333333  Std: 4.0551750202\n",
      "Exp1: Sec 5  Mean: 4.66666666667  Std: 2.78886675511\n",
      "PearsonrResult(correlation= 0.638606712162  pvalue= 0.00433784319595\n",
      "SpearmanrResult(correlation=0.68000037673161517, pvalue=0.0019029514841012931) \n",
      "\n",
      "Exp1: Sec 5  Mean: 4.66666666667  Std: 2.78886675511\n",
      "Exp1: Sec 6  Mean: 5.33333333333  Std: 4.55826477706\n",
      "PearsonrResult(correlation= 0.734191686929  pvalue= 0.000522170541042\n",
      "SpearmanrResult(correlation=0.79110641580996577, pvalue=9.2416061902363204e-05) \n",
      "\n",
      "Exp1: Sec 6  Mean: 5.33333333333  Std: 4.55826477706\n",
      "Exp1: Sec 7  Mean: 4.11111111111  Std: 3.75483227749\n",
      "PearsonrResult(correlation= 0.776856123464  pvalue= 0.000149252929433\n",
      "SpearmanrResult(correlation=0.71807184829951698, pvalue=0.00079046399310479971) \n",
      "\n",
      "Exp1: Sec 7  Mean: 4.11111111111  Std: 3.75483227749\n",
      "Exp1: Sec 8  Mean: 3.94444444444  Std: 3.8074812646\n",
      "PearsonrResult(correlation= 0.843686747511  pvalue= 1.08406974573e-05\n",
      "SpearmanrResult(correlation=0.69223107808104156, pvalue=0.0014552787021527641) \n",
      "\n",
      "Exp2: Sec 1 2\n",
      "Exp1: Sec 1  Mean: 3.83333333333  Std: 4.01732359773\n",
      "Exp1: Sec 2  Mean: 4.83333333333  Std: 3.35410196625\n",
      "PearsonrResult(correlation= 0.649374119432  pvalue= 0.00354125675415\n",
      "SpearmanrResult(correlation=0.59134931955188907, pvalue=0.0097447033847646927) \n",
      "\n",
      "Exp2: Sec 2 3\n",
      "Exp1: Sec 2  Mean: 4.83333333333  Std: 3.35410196625\n",
      "Exp1: Sec 3  Mean: 4.16666666667  Std: 4.01732359773\n",
      "PearsonrResult(correlation= 0.661743150278  pvalue= 0.0027782651861\n",
      "SpearmanrResult(correlation=0.62975244133992314, pvalue=0.0050974352438819225) \n",
      "\n",
      "Exp2: Sec 3 4\n",
      "Exp1: Sec 3  Mean: 4.16666666667  Std: 4.01732359773\n",
      "Exp1: Sec 4  Mean: 4.44444444444  Std: 4.75186772897\n",
      "PearsonrResult(correlation= 0.907019641782  pvalue= 2.09114243807e-07\n",
      "SpearmanrResult(correlation=0.87314421848351398, pvalue=2.2480860938064101e-06) \n",
      "\n",
      "Exp2: Sec 4 5\n",
      "Exp1: Sec 4  Mean: 4.44444444444  Std: 4.75186772897\n",
      "Exp1: Sec 5  Mean: 4.88888888889  Std: 4.13506534798\n",
      "PearsonrResult(correlation= 0.302213135633  pvalue= 0.222887116257\n",
      "SpearmanrResult(correlation=0.10348751571267562, pvalue=0.68280393833336128) \n",
      "\n",
      "Exp2: Sec 5 6\n",
      "Exp1: Sec 5  Mean: 4.88888888889  Std: 4.13506534798\n",
      "Exp1: Sec 6  Mean: 5.0  Std: 4.0551750202\n",
      "PearsonrResult(correlation= 0.692439446847  pvalue= 0.00144848666083\n",
      "SpearmanrResult(correlation=0.65531700976366192, pvalue=0.0031557075947879322) \n",
      "\n",
      "Exp2: Sec 6 7\n",
      "Exp1: Sec 6  Mean: 5.0  Std: 4.0551750202\n",
      "Exp1: Sec 7  Mean: 4.66666666667  Std: 4.43471156522\n",
      "PearsonrResult(correlation= 0.834096459256  pvalue= 1.6907074178e-05\n",
      "SpearmanrResult(correlation=0.81903810498674368, pvalue=3.2212882357739854e-05) \n",
      "\n",
      "Exp2: Sec 7 8\n",
      "Exp1: Sec 7  Mean: 4.66666666667  Std: 4.43471156522\n",
      "Exp1: Sec 8  Mean: 3.44444444444  Std: 3.20108006464\n",
      "PearsonrResult(correlation= 0.965330536864  pvalue= 9.41316479883e-11\n",
      "SpearmanrResult(correlation=0.96113008744828832, pvalue=2.3190222557402608e-10) \n",
      "\n"
     ]
    }
   ],
   "source": [
    "# pearson correlation\n",
    "\n",
    "for sec_i in range(7):\n",
    "    exp_check_1st=exp_check[:n_participant-1,sec_i]\n",
    "    exp_check_2nd=exp_check[:n_participant-1,sec_i+1]\n",
    "    print('Exp1: Sec',sec_i+1,' Mean:',exp_check_1st.mean(),' Std:',exp_check_1st.std())\n",
    "    print('Exp1: Sec',sec_i+2,' Mean:',exp_check_2nd.mean(),' Std:',exp_check_2nd.std())\n",
    "    pear_ = sp.pearsonr(exp_check_1st.T.ravel(), exp_check_2nd.T.ravel())\n",
    "    print('PearsonrResult(correlation=',pear_[0],' pvalue=',pear_[1])\n",
    "    print(sp.spearmanr(exp_check_1st.T.ravel(), exp_check_2nd.T.ravel()),'\\n')\n",
    "\n",
    "for sec_i in range(7):\n",
    "    exp_check_1st=exp_check[n_participant-1:,sec_i]\n",
    "    exp_check_2nd=exp_check[n_participant-1:,sec_i+1]\n",
    "    print('Exp2: Sec',sec_i+1,sec_i+2)\n",
    "    print('Exp1: Sec',sec_i+1,' Mean:',exp_check_1st.mean(),' Std:',exp_check_1st.std())\n",
    "    print('Exp1: Sec',sec_i+2,' Mean:',exp_check_2nd.mean(),' Std:',exp_check_2nd.std())\n",
    "    pear_ = sp.pearsonr(exp_check_1st.T.ravel(), exp_check_2nd.T.ravel())\n",
    "    print('PearsonrResult(correlation=',pear_[0],' pvalue=',pear_[1])\n",
    "    print(sp.spearmanr(exp_check_1st.T.ravel(), exp_check_2nd.T.ravel()),'\\n')"
   ]
  },
  {
   "cell_type": "code",
   "execution_count": 51,
   "metadata": {
    "collapsed": true
   },
   "outputs": [],
   "source": [
    "# # Correlation between # Checks and previous misses\n",
    "\n",
    "# # pearson correlation\n",
    "# exp_check_ = exp_check[:,1:]\n",
    "# num_miss = np.multiply(np.ones(exp_check_.shape),[3,2,0,0,2,2,0])\n",
    "\n",
    "# print(num_miss.mean(),num_miss.std())\n",
    "# print(exp_check_.mean(),exp_check_.std())\n",
    "# pear_ = sp.pearsonr(num_miss.T.ravel(), exp_check_.T.ravel())\n",
    "# print('PearsonrResult(correlation=',pear_[0],', pvalue=',pear_[1])\n",
    "# print(sp.spearmanr(num_miss.T.ravel(), exp_check_.T.ravel()))"
   ]
  },
  {
   "cell_type": "markdown",
   "metadata": {},
   "source": [
    "## RQ3b Number of checks vs missed events in the previous segment\n",
    "### plots for number of checks in consecutive segments."
   ]
  },
  {
   "cell_type": "code",
   "execution_count": 52,
   "metadata": {},
   "outputs": [
    {
     "data": {
      "image/png": "[encoded data removed]",
      "text/plain": [
       "<matplotlib.figure.Figure at 0x1bea023ffd0>"
      ]
     },
     "metadata": {},
     "output_type": "display_data"
    },
    {
     "data": {
      "image/png": "[encoded data removed]",
      "text/plain": [
       "<matplotlib.figure.Figure at 0x1be9d9af860>"
      ]
     },
     "metadata": {},
     "output_type": "display_data"
    },
    {
     "data": {
      "image/png": "[encoded data removed]",
      "text/plain": [
       "<matplotlib.figure.Figure at 0x1bea154bbe0>"
      ]
     },
     "metadata": {},
     "output_type": "display_data"
    },
    {
     "data": {
      "image/png": "[encoded data removed]",
      "text/plain": [
       "<matplotlib.figure.Figure at 0x1bea023af28>"
      ]
     },
     "metadata": {},
     "output_type": "display_data"
    },
    {
     "data": {
      "image/png": "[encoded data removed]",
      "text/plain": [
       "<matplotlib.figure.Figure at 0x1bea14d8dd8>"
      ]
     },
     "metadata": {},
     "output_type": "display_data"
    },
    {
     "data": {
      "image/png": "[encoded data removed]",
      "text/plain": [
       "<matplotlib.figure.Figure at 0x1bea137ae80>"
      ]
     },
     "metadata": {},
     "output_type": "display_data"
    },
    {
     "data": {
      "image/png": "[encoded data removed]",
      "text/plain": [
       "<matplotlib.figure.Figure at 0x1bea136b9b0>"
      ]
     },
     "metadata": {},
     "output_type": "display_data"
    }
   ],
   "source": [
    "# Correlation between # Checks and previous misses\n",
    "\n",
    "num_miss = np.array([3,2,0,0,2,2,0])\n",
    "\n",
    "for sec_i in range(7):\n",
    "    sys = (num_miss[sec_i]+1)/(exp1_check[:,sec_i]+1)\n",
    "    check_chgs = (exp1_check[:,sec_i+1]-exp1_check[:,sec_i])/(exp1_check[:,sec_i]+1)\n",
    "    plt.figure()\n",
    "    axes = plt.gca()\n",
    "    axes.set_ylim([-1,8])\n",
    "    axes.set_xlim([0,4])\n",
    "    plt.scatter(sys, check_chgs, marker='.')\n",
    "    plt.title('Exp1: misses in Sec %s vs checks in Sec %s' %(sec_i+1,sec_i+2))   \n",
    "    plt.show()"
   ]
  },
  {
   "cell_type": "code",
   "execution_count": 53,
   "metadata": {
    "scrolled": false
   },
   "outputs": [
    {
     "data": {
      "image/png": "[encoded data removed]",
      "text/plain": [
       "<matplotlib.figure.Figure at 0x1bea15f8c18>"
      ]
     },
     "metadata": {},
     "output_type": "display_data"
    },
    {
     "data": {
      "image/png": "[encoded data removed]",
      "text/plain": [
       "<matplotlib.figure.Figure at 0x1bea136f160>"
      ]
     },
     "metadata": {},
     "output_type": "display_data"
    },
    {
     "data": {
      "image/png": "[encoded data removed]",
      "text/plain": [
       "<matplotlib.figure.Figure at 0x1bea14711d0>"
      ]
     },
     "metadata": {},
     "output_type": "display_data"
    },
    {
     "data": {
      "image/png": "[encoded data removed]",
      "text/plain": [
       "<matplotlib.figure.Figure at 0x1bea13beb00>"
      ]
     },
     "metadata": {},
     "output_type": "display_data"
    },
    {
     "data": {
      "image/png": "[encoded data removed]",
      "text/plain": [
       "<matplotlib.figure.Figure at 0x1bea02d6eb8>"
      ]
     },
     "metadata": {},
     "output_type": "display_data"
    },
    {
     "data": {
      "image/png": "[encoded data removed]",
      "text/plain": [
       "<matplotlib.figure.Figure at 0x1bea14a3160>"
      ]
     },
     "metadata": {},
     "output_type": "display_data"
    },
    {
     "data": {
      "image/png": "[encoded data removed]",
      "text/plain": [
       "<matplotlib.figure.Figure at 0x1bea14a3f28>"
      ]
     },
     "metadata": {},
     "output_type": "display_data"
    }
   ],
   "source": [
    "num_miss = np.array([2,2,0,0,3,2,0])\n",
    "\n",
    "for sec_i in range(7):\n",
    "    sys = (num_miss[sec_i]+1)/(exp2_check[:,sec_i]+1)\n",
    "    check_chgs = (exp2_check[:,sec_i+1]-exp2_check[:,sec_i])/(exp2_check[:,sec_i]+1)\n",
    "    plt.figure()\n",
    "    axes = plt.gca()\n",
    "    axes.set_ylim([-1,8])\n",
    "    axes.set_xlim([0,4])\n",
    "    plt.scatter(sys, check_chgs, marker='.')\n",
    "    plt.title('Exp2: misses in Sec %s vs checks in Sec %s' %(sec_i+1,sec_i+2))   \n",
    "    plt.show()"
   ]
  },
  {
   "cell_type": "markdown",
   "metadata": {},
   "source": [
    "## RQ4 User Behaviour versus Self-reported Trust\n",
    "### RQ4b Correlation between Number of Checks and Trust Scores"
   ]
  },
  {
   "cell_type": "code",
   "execution_count": 54,
   "metadata": {},
   "outputs": [
    {
     "name": "stdout",
     "output_type": "stream",
     "text": [
      "PearsonrResult(correlation= 0.106161292227  pvalue= 0.0720395095479\n",
      "SpearmanrResult(correlation=0.13062483676714454, pvalue=0.026647558055093695)\n"
     ]
    }
   ],
   "source": [
    "# pearson correlation\n",
    "pear_ = sp.pearsonr(exp_trust.T.ravel(), exp_check.T.ravel())\n",
    "print('PearsonrResult(correlation=',pear_[0],' pvalue=',pear_[1])\n",
    "# spearman correlation\n",
    "print(sp.spearmanr(exp_trust.T.ravel(), exp_check.T.ravel()))"
   ]
  },
  {
   "cell_type": "markdown",
   "metadata": {},
   "source": [
    "# Num of Admin Tasks"
   ]
  },
  {
   "cell_type": "code",
   "execution_count": 55,
   "metadata": {},
   "outputs": [
    {
     "data": {
      "text/plain": [
       "(36, 8)"
      ]
     },
     "execution_count": 55,
     "metadata": {},
     "output_type": "execute_result"
    }
   ],
   "source": [
    "exp1_admin = exp1_data_T.values[1:n_participant,94:102].astype(int)\n",
    "exp2_admin = exp2_data_T.values[1:n_participant,94:102].astype(int)\n",
    "# exp_demo = np.concatenate((exp1_demo,exp2_demo),axis=0)\n",
    "exp_admin = np.vstack((exp1_admin,np.hstack((exp2_admin[:,4:],exp2_admin[:,:4])))).astype(int)\n",
    "exp_admin.shape"
   ]
  },
  {
   "cell_type": "code",
   "execution_count": 56,
   "metadata": {},
   "outputs": [
    {
     "data": {
      "image/png": "[encoded data removed]",
      "text/plain": [
       "<matplotlib.figure.Figure at 0x1be9fd622e8>"
      ]
     },
     "metadata": {},
     "output_type": "display_data"
    },
    {
     "data": {
      "text/plain": [
       "array([[ 47.94444444,  49.77777778,  47.61111111,  47.94444444,\n",
       "         51.22222222,  50.72222222,  48.38888889,  49.83333333],\n",
       "       [  6.77800546,   3.18948891,   2.92762492,   6.72038542,\n",
       "          4.82534461,   4.22697101,   6.46476681,   4.51232879]])"
      ]
     },
     "execution_count": 56,
     "metadata": {},
     "output_type": "execute_result"
    }
   ],
   "source": [
    "# exp1 mean & std\n",
    "x = np.arange(8)\n",
    "y = np.array(exp1_admin.mean(axis=0))\n",
    "e = np.array(exp1_admin.std(axis=0))\n",
    "\n",
    "plt.errorbar(x, y, e, linestyle='None', marker='^')\n",
    "axes = plt.gca()\n",
    "axes.set_ylim([30,60])\n",
    "\n",
    "for xy in zip(x, y):\n",
    "    axes.annotate('%.4s' % xy[1], xy=xy, textcoords='data')\n",
    "    \n",
    "plt.title(\"# Admin Tasks: Experiment 1 (ABCD)\")    \n",
    "plt.show()\n",
    "\n",
    "# exp1 mean & std\n",
    "np.vstack((exp1_admin.mean(axis=0),exp1_admin.std(axis=0)))"
   ]
  },
  {
   "cell_type": "code",
   "execution_count": 57,
   "metadata": {
    "scrolled": true
   },
   "outputs": [
    {
     "data": {
      "image/png": "[encoded data removed]",
      "text/plain": [
       "<matplotlib.figure.Figure at 0x1bea15034a8>"
      ]
     },
     "metadata": {},
     "output_type": "display_data"
    },
    {
     "data": {
      "text/plain": [
       "array([[ 51.27777778,  50.        ,  48.88888889,  50.44444444,\n",
       "         50.77777778,  49.94444444,  47.16666667,  49.11111111],\n",
       "       [  2.42224771,   1.85592145,   1.76033106,   1.06574034,\n",
       "          2.34652356,   1.92850611,   2.06155281,   1.96889391]])"
      ]
     },
     "execution_count": 57,
     "metadata": {},
     "output_type": "execute_result"
    }
   ],
   "source": [
    "# exp2 mean & std\n",
    "x = np.arange(8)\n",
    "y = np.array(exp2_admin.mean(axis=0))\n",
    "e = np.array(exp2_admin.std(axis=0))\n",
    "\n",
    "plt.errorbar(x, y, e, linestyle='None', marker='^')\n",
    "axes = plt.gca()\n",
    "axes.set_ylim([30,60])\n",
    "\n",
    "for xy in zip(x, y):\n",
    "    axes.annotate('%.4s' % xy[1], xy=xy, textcoords='data')\n",
    "\n",
    "plt.title(\"# Admin Tasks: Experiment 2 (CDAB)\")    \n",
    "plt.show()\n",
    "\n",
    "# exp2 mean & std\n",
    "np.vstack((exp2_admin.mean(axis=0),exp2_admin.std(axis=0)))"
   ]
  },
  {
   "cell_type": "code",
   "execution_count": 58,
   "metadata": {},
   "outputs": [
    {
     "data": {
      "image/png": "[encoded data removed]",
      "text/plain": [
       "<matplotlib.figure.Figure at 0x1bea024c6d8>"
      ]
     },
     "metadata": {},
     "output_type": "display_data"
    },
    {
     "data": {
      "text/plain": [
       "array([[ 49.36111111,  49.86111111,  47.38888889,  48.52777778,\n",
       "         51.25      ,  50.36111111,  48.63888889,  50.13888889],\n",
       "       [  5.26599562,   2.63684131,   2.54162872,   4.98601439,\n",
       "          3.81790373,   3.28424503,   4.74431108,   3.29269206]])"
      ]
     },
     "execution_count": 58,
     "metadata": {},
     "output_type": "execute_result"
    }
   ],
   "source": [
    "# overall mean & std\n",
    "x = np.arange(8)\n",
    "y = np.array(exp_admin.mean(axis=0))\n",
    "e = np.array(exp_admin.std(axis=0))\n",
    "\n",
    "plt.errorbar(x, y, e, linestyle='None', marker='^')\n",
    "axes = plt.gca()\n",
    "axes.set_ylim([30,60])\n",
    "\n",
    "for xy in zip(x, y):\n",
    "    axes.annotate('%.4s' % xy[1], xy=xy, textcoords='data')\n",
    "plt.title(\"# Admin tasks: Both Experiments (in order of ABCD)\")    \n",
    "plt.show()\n",
    "\n",
    "# overall mean & std\n",
    "np.vstack((exp_admin.mean(axis=0),exp_admin.std(axis=0)))"
   ]
  },
  {
   "cell_type": "markdown",
   "metadata": {},
   "source": [
    "## Correlation between # Attended Admins vs # Attended Alerts"
   ]
  },
  {
   "cell_type": "code",
   "execution_count": 59,
   "metadata": {},
   "outputs": [
    {
     "data": {
      "text/plain": [
       "(0.031108671550072704, 0.59905290181491599)"
      ]
     },
     "execution_count": 59,
     "metadata": {},
     "output_type": "execute_result"
    }
   ],
   "source": [
    "# pearson correlation\n",
    "sp.pearsonr(exp_admin.T.ravel(), exp_attend_alert.ravel())"
   ]
  },
  {
   "cell_type": "code",
   "execution_count": 60,
   "metadata": {},
   "outputs": [
    {
     "data": {
      "text/plain": [
       "SpearmanrResult(correlation=0.068171904042508238, pvalue=0.24881752375667182)"
      ]
     },
     "execution_count": 60,
     "metadata": {},
     "output_type": "execute_result"
    }
   ],
   "source": [
    "# spearman correlation\n",
    "sp.spearmanr(exp_admin.T.ravel(), exp_attend_alert.ravel())"
   ]
  },
  {
   "cell_type": "markdown",
   "metadata": {},
   "source": [
    "# Selected report frequency "
   ]
  },
  {
   "cell_type": "code",
   "execution_count": 61,
   "metadata": {},
   "outputs": [
    {
     "name": "stdout",
     "output_type": "stream",
     "text": [
      "[0 1 2]\n",
      "['Disabled' 'High' 'Low']\n",
      "[0 1 2]\n",
      "['Disabled' 'High' 'Low']\n"
     ]
    },
    {
     "data": {
      "text/plain": [
       "(36, 4)"
      ]
     },
     "execution_count": 61,
     "metadata": {},
     "output_type": "execute_result"
    }
   ],
   "source": [
    "exp1_freq = exp1_data_T.values[1:n_participant,88:92]\n",
    "index, exp1_freq_temp =np.unique(exp1_freq.ravel(), return_inverse=True)\n",
    "print(np.arange(len(index)))\n",
    "print(index)\n",
    "exp1_freq = np.reshape(exp1_freq_temp,exp1_freq.shape).astype(int)\n",
    "\n",
    "exp2_freq = exp2_data_T.values[1:n_participant,88:92]\n",
    "index, exp2_freq_temp =np.unique(exp2_freq.ravel(), return_inverse=True)\n",
    "print(np.arange(len(index)))\n",
    "print(index)\n",
    "exp2_freq = np.reshape(exp2_freq_temp,exp2_freq.shape).astype(int)\n",
    "\n",
    "exp_freq = np.vstack((exp1_freq,np.hstack((exp2_freq[:,2:],exp2_freq[:,:2])))).astype(int)\n",
    "exp_freq.shape"
   ]
  },
  {
   "cell_type": "markdown",
   "metadata": {},
   "source": [
    "# Earnings & Losses"
   ]
  },
  {
   "cell_type": "code",
   "execution_count": 62,
   "metadata": {
    "collapsed": true
   },
   "outputs": [],
   "source": [
    "exp1_admin_w = exp1_data_T.values[1:n_participant,114:122].astype(int)\n",
    "exp2_admin_w = exp2_data_T.values[1:n_participant,114:122].astype(int)\n",
    "exp_admin_w = np.vstack((exp1_admin_w,np.hstack((exp2_admin_w[:,4:],exp2_admin_w[:,:4])))).astype(int)\n",
    "\n",
    "# correct cards:$4 \n",
    "# wrong cards: $4\n",
    "# use (total admin - 2x wrong admin)x$4 to get net profit\n",
    "Earnings_admin = 4*(exp_admin - 2*exp_admin_w)"
   ]
  },
  {
   "cell_type": "code",
   "execution_count": 63,
   "metadata": {},
   "outputs": [
    {
     "data": {
      "image/png": "[encoded data removed]",
      "text/plain": [
       "<matplotlib.figure.Figure at 0x1bea1439ac8>"
      ]
     },
     "metadata": {},
     "output_type": "display_data"
    },
    {
     "data": {
      "text/plain": [
       "array([[ 167.44444444,  166.33333333,  157.77777778,  160.11111111,\n",
       "         166.11111111,  171.66666667,  165.44444444,  171.22222222],\n",
       "       [  28.0658397 ,   27.33130074,   27.57526177,   31.41812797,\n",
       "          33.99981845,   28.86558889,   29.59208269,   31.99749219]])"
      ]
     },
     "execution_count": 63,
     "metadata": {},
     "output_type": "execute_result"
    }
   ],
   "source": [
    "# overall mean & std\n",
    "x = np.arange(8)\n",
    "y = np.array(Earnings_admin.mean(axis=0))\n",
    "e = np.array(Earnings_admin.std(axis=0))\n",
    "\n",
    "plt.errorbar(x, y, e, linestyle='None', marker='^')\n",
    "axes = plt.gca()\n",
    "# axes.set_ylim([30,60])\n",
    "\n",
    "for xy in zip(x, y):\n",
    "    axes.annotate('%.5s' % xy[1], xy=xy, textcoords='data')\n",
    "plt.title(\"Admin earnings: Both Experiments (in order of ABCD)\")    \n",
    "plt.show()\n",
    "\n",
    "# overall mean & std\n",
    "np.vstack((Earnings_admin.mean(axis=0),Earnings_admin.std(axis=0)))"
   ]
  },
  {
   "cell_type": "code",
   "execution_count": 64,
   "metadata": {
    "collapsed": true
   },
   "outputs": [],
   "source": [
    "# final balance\n",
    "exp1_fnl_balance = exp1_data_T.values[1:n_participant,244:252].astype(int)\n",
    "exp2_fnl_balance = exp2_data_T.values[1:n_participant,244:252].astype(int)\n",
    "# exp_demo = np.concatenate((exp1_demo,exp2_demo),axis=0)\n",
    "exp_fnl_balance = np.vstack((exp1_fnl_balance,np.hstack((exp2_fnl_balance[:,4:],exp2_fnl_balance[:,:4])))).astype(int)\n",
    "\n",
    "# reverse engineering to find total losses from monitoring system\n",
    "Total_loss = exp_fnl_balance - Earnings_admin - 150"
   ]
  },
  {
   "cell_type": "code",
   "execution_count": 65,
   "metadata": {},
   "outputs": [
    {
     "data": {
      "image/png": "[encoded data removed]",
      "text/plain": [
       "<matplotlib.figure.Figure at 0x1bea1b03710>"
      ]
     },
     "metadata": {},
     "output_type": "display_data"
    },
    {
     "data": {
      "text/plain": [
       "array([[-344.38888889, -256.41666667, -219.27777778, -231.22222222,\n",
       "        -221.69444444, -183.91666667, -147.05555556, -137.55555556],\n",
       "       [ 164.07235494,  139.32862333,  134.51385949,  167.24933335,\n",
       "         168.04179696,  105.87003957,  162.24500411,  106.54848777]])"
      ]
     },
     "execution_count": 65,
     "metadata": {},
     "output_type": "execute_result"
    }
   ],
   "source": [
    "# overall mean & std\n",
    "x = np.arange(8)\n",
    "y = np.array(Total_loss.mean(axis=0))\n",
    "e = np.array(Total_loss.std(axis=0))\n",
    "\n",
    "plt.errorbar(x, y, e, linestyle='None', marker='^')\n",
    "axes = plt.gca()\n",
    "# axes.set_ylim([30,60])\n",
    "\n",
    "for xy in zip(x, y):\n",
    "    axes.annotate('%.5s' % xy[1], xy=xy, textcoords='data')\n",
    "plt.title(\"Total losses: Both Experiments (in order of ABCD)\")    \n",
    "plt.show()\n",
    "\n",
    "# overall mean & std\n",
    "np.vstack((Total_loss.mean(axis=0),Total_loss.std(axis=0)))"
   ]
  },
  {
   "cell_type": "code",
   "execution_count": 66,
   "metadata": {},
   "outputs": [
    {
     "data": {
      "image/png": "[encoded data removed]",
      "text/plain": [
       "<matplotlib.figure.Figure at 0x1bea13f8860>"
      ]
     },
     "metadata": {},
     "output_type": "display_data"
    },
    {
     "data": {
      "text/plain": [
       "array([[ -26.94444444,   59.91666667,   88.5       ,   78.88888889,\n",
       "          94.41666667,  137.75      ,  168.38888889,  183.66666667],\n",
       "       [ 177.89665296,  143.01231008,  142.56080574,  181.06333726,\n",
       "         182.2936238 ,  114.60933038,  168.03162364,  118.62546101]])"
      ]
     },
     "execution_count": 66,
     "metadata": {},
     "output_type": "execute_result"
    }
   ],
   "source": [
    "# overall mean & std\n",
    "x = np.arange(8)\n",
    "y = np.array(exp_fnl_balance.mean(axis=0))\n",
    "e = np.array(exp_fnl_balance.std(axis=0))\n",
    "\n",
    "plt.errorbar(x, y, e, linestyle='None', marker='^')\n",
    "axes = plt.gca()\n",
    "# axes.set_ylim([30,60])\n",
    "\n",
    "for xy in zip(x, y):\n",
    "    axes.annotate('%.5s' % xy[1], xy=xy, textcoords='data')\n",
    "plt.title(\"Final balance: Both Experiments (in order of ABCD)\")    \n",
    "plt.show()\n",
    "\n",
    "# overall mean & std\n",
    "np.vstack((exp_fnl_balance.mean(axis=0),exp_fnl_balance.std(axis=0)))"
   ]
  },
  {
   "cell_type": "markdown",
   "metadata": {},
   "source": [
    "# Propensity Questions"
   ]
  },
  {
   "cell_type": "code",
   "execution_count": 67,
   "metadata": {
    "collapsed": true
   },
   "outputs": [],
   "source": [
    "exp1_prop = exp1_data_T.values[1:n_participant,9:15].astype(int)\n",
    "exp2_prop = exp2_data_T.values[1:n_participant,9:15].astype(int)\n",
    "# exp_demo = np.concatenate((exp1_demo,exp2_demo),axis=0)\n",
    "exp_prop = np.vstack((exp1_prop,np.hstack((exp2_prop[:,4:],exp2_prop[:,:4])))).astype(int)"
   ]
  },
  {
   "cell_type": "code",
   "execution_count": 68,
   "metadata": {},
   "outputs": [
    {
     "data": {
      "image/png": "[encoded data removed]",
      "text/plain": [
       "<matplotlib.figure.Figure at 0x1bea141f780>"
      ]
     },
     "metadata": {},
     "output_type": "display_data"
    },
    {
     "data": {
      "text/plain": [
       "array([[ 3.13888889,  2.61111111,  3.94444444,  2.88888889,  3.27777778,\n",
       "         3.33333333],\n",
       "       [ 1.10937364,  0.89062331,  0.62112999,  0.96545262,  1.01683362,\n",
       "         1.        ]])"
      ]
     },
     "execution_count": 68,
     "metadata": {},
     "output_type": "execute_result"
    }
   ],
   "source": [
    "# overall mean & std\n",
    "x = np.arange(6)+1\n",
    "y = np.array(exp_prop.mean(axis=0))\n",
    "e = np.array(exp_prop.std(axis=0))\n",
    "\n",
    "plt.errorbar(x, y, e, linestyle='None', marker='^')\n",
    "axes = plt.gca()\n",
    "axes.set_ylim([0,5])\n",
    "\n",
    "for xy in zip(x, y):\n",
    "    axes.annotate('%.4s' % xy[1], xy=xy, textcoords='data')\n",
    "plt.title(\"Propensity Questions: Both Experiments (ABCD) \\n 1: strongly disagree 5 strongly agree\")    \n",
    "plt.show()\n",
    "\n",
    "# overall mean & std\n",
    "np.vstack((exp_prop.mean(axis=0),exp_prop.std(axis=0)))"
   ]
  },
  {
   "cell_type": "markdown",
   "metadata": {},
   "source": [
    "# Post-stage Questions"
   ]
  },
  {
   "cell_type": "code",
   "execution_count": 69,
   "metadata": {
    "collapsed": true
   },
   "outputs": [],
   "source": [
    "# exp1_pstq = np.hstack((exp1_data_T.values[1:n_participant,16:19],exp1_data_T.values[1:n_participant,21:28],\n",
    "#                        exp1_data_T.values[1:n_participant,29:32],exp1_data_T.values[1:n_participant,34:41],\n",
    "#                        exp1_data_T.values[1:n_participant,42:45],exp1_data_T.values[1:n_participant,47:54],\n",
    "#                        exp1_data_T.values[1:n_participant,55:58],exp1_data_T.values[1:n_participant,60:67])).astype(int)\n",
    "# exp2_pstq = np.hstack((exp2_data_T.values[1:n_participant,16:19],exp2_data_T.values[1:n_participant,21:28],\n",
    "#                        exp2_data_T.values[1:n_participant,29:32],exp2_data_T.values[1:n_participant,34:41],\n",
    "#                        exp2_data_T.values[1:n_participant,42:45],exp2_data_T.values[1:n_participant,47:54],\n",
    "#                        exp2_data_T.values[1:n_participant,55:58],exp2_data_T.values[1:n_participant,60:67])).astype(int)\n",
    "\n",
    "exp1_pstq = exp1_data_T.values[1:n_participant, np.r_[16:19,21:28,29:32,34:41,42:45,47:54,55:58,60:67]].astype(int)\n",
    "exp2_pstq = exp2_data_T.values[1:n_participant, np.r_[16:19,21:28,29:32,34:41,42:45,47:54,55:58,60:67]].astype(int)\n",
    "\n",
    "# exp_demo = np.concatenate((exp1_demo,exp2_demo),axis=0)\n",
    "exp_pstq = np.vstack((exp1_pstq,np.hstack((exp2_pstq[:,20:],exp2_pstq[:,:20])))).astype(int)"
   ]
  },
  {
   "cell_type": "code",
   "execution_count": 70,
   "metadata": {},
   "outputs": [
    {
     "data": {
      "text/plain": [
       "(36, 40)"
      ]
     },
     "execution_count": 70,
     "metadata": {},
     "output_type": "execute_result"
    }
   ],
   "source": [
    "exp_pstq.shape"
   ]
  },
  {
   "cell_type": "code",
   "execution_count": 71,
   "metadata": {
    "scrolled": false
   },
   "outputs": [
    {
     "data": {
      "text/plain": [
       "array([[ 4.30555556,  3.13888889,  3.36111111,  3.08333333,  3.61111111,\n",
       "         3.5       ,  3.        ,  2.88888889,  2.72222222,  3.63888889,\n",
       "         4.22222222,  2.88888889,  3.19444444,  3.25      ,  3.66666667,\n",
       "         3.66666667,  3.19444444,  3.11111111,  2.63888889,  3.75      ,\n",
       "         4.25      ,  3.13888889,  2.94444444,  3.75      ,  3.91666667,\n",
       "         3.88888889,  3.47222222,  3.38888889,  2.58333333,  3.83333333,\n",
       "         4.27777778,  3.13888889,  2.75      ,  3.77777778,  3.86111111,\n",
       "         3.91666667,  3.58333333,  3.55555556,  2.5       ,  3.94444444],\n",
       "       [ 0.99497193,  1.18210682,  0.6730023 ,  0.8291562 ,  0.82589271,\n",
       "         0.72648316,  0.94280904,  0.99380799,  0.83702884,  0.6303781 ,\n",
       "         1.08297715,  1.24225999,  0.69997795,  0.89365044,  0.8819171 ,\n",
       "         0.81649658,  0.90736017,  1.04822013,  0.8548157 ,  0.7592028 ,\n",
       "         0.98248551,  1.13413643,  0.66434782,  0.72168784,  0.64009548,\n",
       "         0.6983225 ,  0.79882244,  0.95095793,  0.8620067 ,  0.60092521,\n",
       "         1.07007557,  1.13413643,  0.68211273,  0.85346064,  0.7510281 ,\n",
       "         0.72168784,  0.8291562 ,  0.95581392,  0.8660254 ,  0.74328268]])"
      ]
     },
     "execution_count": 71,
     "metadata": {},
     "output_type": "execute_result"
    }
   ],
   "source": [
    "# overall mean & std\n",
    "np.vstack((exp_pstq.mean(axis=0),exp_pstq.std(axis=0)))"
   ]
  },
  {
   "cell_type": "code",
   "execution_count": 72,
   "metadata": {},
   "outputs": [
    {
     "data": {
      "text/plain": [
       "array([[ 4.27777778,  2.94444444,  3.27777778,  3.16666667,  3.55555556,\n",
       "         3.61111111,  3.16666667,  2.94444444,  2.55555556,  3.77777778,\n",
       "         4.        ,  2.77777778,  3.27777778,  3.22222222,  3.55555556,\n",
       "         3.72222222,  3.27777778,  3.16666667,  2.77777778,  3.61111111,\n",
       "         4.        ,  3.11111111,  2.77777778,  3.83333333,  4.        ,\n",
       "         4.        ,  3.5       ,  3.55555556,  2.61111111,  4.        ,\n",
       "         4.11111111,  3.27777778,  2.77777778,  3.77777778,  3.83333333,\n",
       "         3.83333333,  3.55555556,  3.5       ,  2.55555556,  3.94444444],\n",
       "       [ 0.80315735,  1.02589918,  0.65026111,  0.76376262,  0.89580642,\n",
       "         0.59056366,  0.89752747,  0.84801875,  0.68493489,  0.53287017,\n",
       "         1.05409255,  1.18112731,  0.73071925,  0.91624569,  1.0122704 ,\n",
       "         0.86958199,  0.86958199,  0.95742711,  0.91624569,  0.95095793,\n",
       "         1.24721913,  1.24225999,  0.71145825,  0.60092521,  0.66666667,\n",
       "         0.57735027,  0.76376262,  0.83147942,  0.75563725,  0.57735027,\n",
       "         0.99380799,  0.98913855,  0.62853936,  0.85346064,  0.83333333,\n",
       "         0.76376262,  0.7617394 ,  0.76376262,  0.95581392,  0.77975938]])"
      ]
     },
     "execution_count": 72,
     "metadata": {},
     "output_type": "execute_result"
    }
   ],
   "source": [
    "# exp1 mean & std\n",
    "np.vstack((exp1_pstq.mean(axis=0),exp1_pstq.std(axis=0)))"
   ]
  },
  {
   "cell_type": "code",
   "execution_count": 73,
   "metadata": {
    "scrolled": true
   },
   "outputs": [
    {
     "data": {
      "text/plain": [
       "array([[ 4.5       ,  3.16666667,  3.11111111,  3.66666667,  3.83333333,\n",
       "         3.77777778,  3.44444444,  3.22222222,  2.55555556,  3.66666667,\n",
       "         4.44444444,  3.        ,  2.72222222,  3.77777778,  3.88888889,\n",
       "         4.        ,  3.61111111,  3.61111111,  2.44444444,  3.94444444,\n",
       "         4.33333333,  3.33333333,  3.44444444,  3.        ,  3.66666667,\n",
       "         3.38888889,  2.83333333,  2.83333333,  2.88888889,  3.5       ,\n",
       "         4.44444444,  3.        ,  3.11111111,  3.27777778,  3.77777778,\n",
       "         3.61111111,  3.11111111,  3.05555556,  2.5       ,  3.88888889],\n",
       "       [ 0.5       ,  1.01379376,  0.56655772,  0.81649658,  0.60092521,\n",
       "         0.7856742 ,  0.83147942,  1.03040206,  0.95581392,  0.57735027,\n",
       "         1.11665285,  1.24721913,  0.73071925,  0.85346064,  0.6573422 ,\n",
       "         0.66666667,  0.89062331,  1.11249913,  0.7617394 ,  0.70492097,\n",
       "         1.15470054,  1.29099445,  0.68493489,  0.8819171 ,  0.74535599,\n",
       "         0.82589271,  0.95742711,  1.11803399,  0.93623886,  0.68718427,\n",
       "         1.06574034,  1.29099445,  0.6573422 ,  0.86958199,  0.71145825,\n",
       "         0.75563725,  0.93623886,  1.1290223 ,  0.76376262,  0.45812285]])"
      ]
     },
     "execution_count": 73,
     "metadata": {},
     "output_type": "execute_result"
    }
   ],
   "source": [
    "# exp2 mean & std\n",
    "np.vstack((exp2_pstq.mean(axis=0),exp2_pstq.std(axis=0)))"
   ]
  },
  {
   "cell_type": "markdown",
   "metadata": {},
   "source": [
    "## RQ2a Opinion about the system & system performance\n",
    "### Difference between answers to S3, S4, S7, S8, -S9 (inverse) and System Performance (Hi FA vs Low FA ratio) – Wilcoxon signed-ranked test"
   ]
  },
  {
   "cell_type": "code",
   "execution_count": 74,
   "metadata": {
    "collapsed": true
   },
   "outputs": [],
   "source": [
    "Q_id = np.array([3,4,7,8,9])-1"
   ]
  },
  {
   "cell_type": "code",
   "execution_count": 75,
   "metadata": {
    "collapsed": true
   },
   "outputs": [],
   "source": [
    "Qs = [\n",
    "'How often did you attend to the system\\'s alerts?',\n",
    "'How often did you check on the residents?',\n",
    "'How much do you think this monitoring system needs to improve so you won\\'t feel the need to check on residents at all?',\n",
    "'I can rely on this monitoring system to function properly',\n",
    "'I know how to use this monitoring system to perform well (even if I don\\'t know exactly how it works)',\n",
    "'I know how to use this monitoring system to take care of the residents (even if I don\\'t know exactly how it works)', \n",
    "'This monitoring system is dependable',\n",
    "'I would use such a monitoring system for an elderly family member',\n",
    "'This monitoring system\\'s actions will have a harmful outcome',\n",
    "'My decisions were the most appropriate ones']"
   ]
  },
  {
   "cell_type": "code",
   "execution_count": 76,
   "metadata": {},
   "outputs": [
    {
     "name": "stdout",
     "output_type": "stream",
     "text": [
      "3 How much do you think this monitoring system needs to improve so you won't feel the need to check on residents at all?\n",
      "Sections with high FA: Mean: 3.27777777778  Std: 0.691661088777  Median: 3.0\n",
      "Sections with low FA: Mean: 2.84722222222  Std: 0.680272049792  Median: 3.0\n",
      "WilcoxonResult(statistic=75.0, pvalue=2.3129253702380791e-05)\n",
      "\n",
      "\n",
      "4 I can rely on this monitoring system to function properly\n",
      "Sections with high FA: Mean: 3.16666666667  Std: 0.866025403784  Median: 3.0\n",
      "Sections with low FA: Mean: 3.76388888889  Std: 0.790447404174  Median: 4.0\n",
      "WilcoxonResult(statistic=55.5, pvalue=3.4931357255314674e-06)\n",
      "\n",
      "\n",
      "7 This monitoring system is dependable\n",
      "Sections with high FA: Mean: 3.09722222222  Std: 0.930348235612  Median: 3.0\n",
      "Sections with low FA: Mean: 3.52777777778  Std: 0.816023934532  Median: 4.0\n",
      "WilcoxonResult(statistic=112.0, pvalue=0.0001422838609300976)\n",
      "\n",
      "\n",
      "8 I would use such a monitoring system for an elderly family member\n",
      "Sections with high FA: Mean: 3.0  Std: 1.02740233383  Median: 3.0\n",
      "Sections with low FA: Mean: 3.47222222222  Std: 0.957024065386  Median: 4.0\n",
      "WilcoxonResult(statistic=158.5, pvalue=0.0004814545732074447)\n",
      "\n",
      "\n",
      "9 This monitoring system's actions will have a harmful outcome\n",
      "Sections with high FA: Mean: 2.68055555556  Std: 0.846994504916  Median: 3.0\n",
      "Sections with low FA: Mean: 2.54166666667  Std: 0.865022478834  Median: 2.0\n",
      "WilcoxonResult(statistic=148.5, pvalue=0.19853431212189931)\n",
      "\n",
      "\n"
     ]
    }
   ],
   "source": [
    "for ids in Q_id: \n",
    "    pstq = exp_pstq[:,np.arange(ids,40,10)]\n",
    "    pstq_set1 = pstq[:, [0,1]].T.ravel()\n",
    "    pstq_set2 = pstq[:, [2,3]].T.ravel()\n",
    "    print(ids+1,Qs[ids])\n",
    "    print('Sections with high FA: Mean:', pstq_set1.mean(),' Std:',pstq_set1.std(),' Median:',np.median(pstq_set1))\n",
    "    print('Sections with low FA: Mean:', pstq_set2.mean(),' Std:',pstq_set2.std(),' Median:',np.median(pstq_set2))\n",
    "    print(sp.wilcoxon(pstq_set1,pstq_set2))\n",
    "    print('\\n')"
   ]
  },
  {
   "cell_type": "markdown",
   "metadata": {},
   "source": [
    "## RQ2a Opinion about the system & system performance\n",
    "### Answers to S3, S4, S7, -S9 (inverse) and System Performance (with/without missed events) – Wilcoxon signed-ranked test"
   ]
  },
  {
   "cell_type": "code",
   "execution_count": 77,
   "metadata": {},
   "outputs": [
    {
     "name": "stdout",
     "output_type": "stream",
     "text": [
      "3 How much do you think this monitoring system needs to improve so you won't feel the need to check on residents at all?\n",
      "Sections with misses: Mean: 3.15277777778  Std: 0.700391204618  Median: 3.0\n",
      "Sections without misses: Mean: 2.97222222222  Std: 0.725951908076  Median: 3.0\n",
      "WilcoxonResult(statistic=286.0, pvalue=0.063939089307543814)\n",
      "\n",
      "\n",
      "4 I can rely on this monitoring system to function properly\n",
      "Sections with misses: Mean: 3.41666666667  Std: 0.845740963758  Median: 4.0\n",
      "Sections without misses: Mean: 3.51388888889  Std: 0.912765266703  Median: 4.0\n",
      "WilcoxonResult(statistic=162.0, pvalue=0.3161562050651987)\n",
      "\n",
      "\n",
      "7 This monitoring system is dependable\n",
      "Sections with misses: Mean: 3.23611111111  Std: 0.905125153341  Median: 3.5\n",
      "Sections without misses: Mean: 3.38888888889  Std: 0.890623307882  Median: 4.0\n",
      "WilcoxonResult(statistic=201.0, pvalue=0.12730937393838346)\n",
      "\n",
      "\n",
      "8 I would use such a monitoring system for an elderly family member\n",
      "Sections with misses: Mean: 3.13888888889  Std: 1.00423486014  Median: 3.0\n",
      "Sections without misses: Mean: 3.33333333333  Std: 1.02740233383  Median: 4.0\n",
      "WilcoxonResult(statistic=143.0, pvalue=0.024982939285505573)\n",
      "\n",
      "\n",
      "9 This monitoring system's actions will have a harmful outcome\n",
      "Sections with misses: Mean: 2.65277777778  Std: 0.852442931003  Median: 3.0\n",
      "Sections without misses: Mean: 2.56944444444  Std: 0.86323662407  Median: 2.0\n",
      "WilcoxonResult(statistic=175.0, pvalue=0.50103005652228416)\n",
      "\n",
      "\n"
     ]
    }
   ],
   "source": [
    "for ids in Q_id: \n",
    "    pstq = exp_pstq[:,np.arange(ids,40,10)]\n",
    "    pstq_set1 = pstq[:, [0,2]].T.ravel()\n",
    "    pstq_set2 = pstq[:, [1,3]].T.ravel()\n",
    "    print(ids+1,Qs[ids])\n",
    "    print('Sections with misses: Mean:', pstq_set1.mean(),' Std:',pstq_set1.std(),' Median:',np.median(pstq_set1))\n",
    "    print('Sections without misses: Mean:', pstq_set2.mean(),' Std:',pstq_set2.std(),' Median:',np.median(pstq_set2))\n",
    "    print(sp.wilcoxon(pstq_set1,pstq_set2))\n",
    "    print('\\n')"
   ]
  },
  {
   "cell_type": "markdown",
   "metadata": {
    "collapsed": true
   },
   "source": [
    "# Post-game Questions"
   ]
  },
  {
   "cell_type": "code",
   "execution_count": 78,
   "metadata": {},
   "outputs": [
    {
     "data": {
      "text/plain": [
       "(36, 7)"
      ]
     },
     "execution_count": 78,
     "metadata": {},
     "output_type": "execute_result"
    }
   ],
   "source": [
    "exp1_pgq = exp1_data_T.values[1:n_participant,69:76]\n",
    "exp2_pgq = exp2_data_T.values[1:n_participant,69:76]\n",
    "exp_pgq = np.vstack((exp1_pgq,exp2_pgq)).astype(int)\n",
    "exp_pgq.shape"
   ]
  },
  {
   "cell_type": "code",
   "execution_count": 79,
   "metadata": {},
   "outputs": [
    {
     "name": "stdout",
     "output_type": "stream",
     "text": [
      "[2 3 4 5]\n"
     ]
    },
    {
     "data": {
      "image/png": "[encoded data removed]",
      "text/plain": [
       "<matplotlib.figure.Figure at 0x1bea0327630>"
      ]
     },
     "metadata": {},
     "output_type": "display_data"
    },
    {
     "data": {
      "text/plain": [
       "(None, Counter({2: 1, 3: 17, 4: 14, 5: 4}))"
      ]
     },
     "execution_count": 79,
     "metadata": {},
     "output_type": "execute_result"
    }
   ],
   "source": [
    "pg1 = Counter(exp_pgq[:,0])\n",
    "print(np.array(sorted(pg1.items(), key= lambda t: (t[0]), reverse=False))[:,0])\n",
    "\n",
    "x = np.arange(len(pg1.keys()))\n",
    "plt.bar(x, np.array(sorted(pg1.items(), key= lambda t: (t[0]), reverse=False))[:,1])\n",
    "plt.xticks(x, \n",
    "           ('Difficult','Fine','Easy','Very Easy'),\n",
    "           rotation=17)\n",
    "plt.title(\"How difficult was your admin job in the experiment?\")\n",
    "# plt.xlabel(\"Value\")\n",
    "plt.ylabel(\"Count\")\n",
    "\n",
    "plt.show(), Counter(pd.to_numeric(exp_pgq[:,0]))"
   ]
  },
  {
   "cell_type": "code",
   "execution_count": 80,
   "metadata": {},
   "outputs": [
    {
     "name": "stdout",
     "output_type": "stream",
     "text": [
      "[1 2 3 4 5]\n"
     ]
    },
    {
     "data": {
      "image/png": "[encoded data removed]",
      "text/plain": [
       "<matplotlib.figure.Figure at 0x1bea00cc240>"
      ]
     },
     "metadata": {},
     "output_type": "display_data"
    },
    {
     "data": {
      "text/plain": [
       "(None, Counter({1: 3, 2: 12, 3: 1, 4: 13, 5: 7}))"
      ]
     },
     "execution_count": 80,
     "metadata": {},
     "output_type": "execute_result"
    }
   ],
   "source": [
    "pg2 = Counter(exp_pgq[:,1])\n",
    "print(np.array(sorted(pg2.items(), key= lambda t: (t[0]), reverse=False))[:,0])\n",
    "\n",
    "x = np.arange(len(pg2.keys()))\n",
    "plt.bar(x, np.array(sorted(pg2.items(), key= lambda t: (t[0]), reverse=False))[:,1])\n",
    "plt.xticks(x, \n",
    "           ('Quite bored','A little bored','Neutral','A little engaged','Quite engaged'),\n",
    "           rotation=17)\n",
    "plt.title(\"How engaged were you with the experiment?\")\n",
    "# plt.xlabel(\"Value\")\n",
    "plt.ylabel(\"Count\")\n",
    "\n",
    "plt.show(), Counter(pd.to_numeric(exp_pgq[:,1]))"
   ]
  },
  {
   "cell_type": "code",
   "execution_count": 81,
   "metadata": {},
   "outputs": [
    {
     "name": "stdout",
     "output_type": "stream",
     "text": [
      "[1 2 3]\n"
     ]
    }
   ],
   "source": [
    "pg3 = Counter(exp_pgq[:,2])\n",
    "print(np.array(sorted(pg3.items(), key= lambda t: (t[0]), reverse=False))[:,0])"
   ]
  },
  {
   "cell_type": "code",
   "execution_count": 82,
   "metadata": {},
   "outputs": [
    {
     "data": {
      "image/png": "[encoded data removed]",
      "text/plain": [
       "<matplotlib.figure.Figure at 0x1bea0180908>"
      ]
     },
     "metadata": {},
     "output_type": "display_data"
    },
    {
     "data": {
      "text/plain": [
       "(None, Counter({1: 1, 2: 15, 3: 20}))"
      ]
     },
     "execution_count": 82,
     "metadata": {},
     "output_type": "execute_result"
    }
   ],
   "source": [
    "x = np.arange(len(pg3.keys()))\n",
    "plt.bar(x, np.array(sorted(pg3.items(), key= lambda t: (t[0]), reverse=False))[:,1])\n",
    "plt.xticks(x, \n",
    "           ('Quite Stressful','A little stressful','Not at all'),\n",
    "           rotation=17)\n",
    "plt.title(\"How stressful was the experiment?\")\n",
    "# plt.xlabel(\"Value\")\n",
    "plt.ylabel(\"Count\")\n",
    "\n",
    "plt.show(), Counter(pd.to_numeric(exp_pgq[:,2]))"
   ]
  },
  {
   "cell_type": "code",
   "execution_count": 83,
   "metadata": {},
   "outputs": [
    {
     "name": "stdout",
     "output_type": "stream",
     "text": [
      "[1 2 3 4]\n"
     ]
    }
   ],
   "source": [
    "pg4 = Counter(exp_pgq[:,3])\n",
    "print(np.array(sorted(pg4.items(), key= lambda t: (t[0]), reverse=False))[:,0])"
   ]
  },
  {
   "cell_type": "code",
   "execution_count": 84,
   "metadata": {},
   "outputs": [
    {
     "data": {
      "image/png": "[encoded data removed]",
      "text/plain": [
       "<matplotlib.figure.Figure at 0x1bea14da7b8>"
      ]
     },
     "metadata": {},
     "output_type": "display_data"
    },
    {
     "data": {
      "text/plain": [
       "(None, Counter({1: 1, 2: 6, 3: 20, 4: 9}))"
      ]
     },
     "execution_count": 84,
     "metadata": {},
     "output_type": "execute_result"
    }
   ],
   "source": [
    "x = np.arange(len(pg4.keys()))\n",
    "plt.bar(x, np.array(sorted(pg4.items(), key= lambda t: (t[0]), reverse=False))[:,1])\n",
    "plt.xticks(x, \n",
    "           ('Not at all','A little','Moderately','Very'),\n",
    "           rotation=17)\n",
    "plt.title(\"How important to do well in the card game?\")\n",
    "# plt.xlabel(\"Value\")\n",
    "plt.ylabel(\"Count\")\n",
    "\n",
    "plt.show(), Counter(pd.to_numeric(exp_pgq[:,3]))"
   ]
  },
  {
   "cell_type": "code",
   "execution_count": 85,
   "metadata": {},
   "outputs": [
    {
     "name": "stdout",
     "output_type": "stream",
     "text": [
      "[2 3 4]\n"
     ]
    }
   ],
   "source": [
    "pg5 = Counter(exp_pgq[:,4])\n",
    "print(np.array(sorted(pg5.items(), key= lambda t: (t[0]), reverse=False))[:,0])"
   ]
  },
  {
   "cell_type": "code",
   "execution_count": 86,
   "metadata": {
    "scrolled": true
   },
   "outputs": [
    {
     "data": {
      "image/png": "[encoded data removed]",
      "text/plain": [
       "<matplotlib.figure.Figure at 0x1bea13efe80>"
      ]
     },
     "metadata": {},
     "output_type": "display_data"
    },
    {
     "data": {
      "text/plain": [
       "(None, Counter({2: 5, 3: 11, 4: 20}))"
      ]
     },
     "execution_count": 86,
     "metadata": {},
     "output_type": "execute_result"
    }
   ],
   "source": [
    "x = np.arange(len(pg5.keys()))\n",
    "plt.bar(x, np.array(sorted(pg5.items(), key= lambda t: (t[0]), reverse=False))[:,1])\n",
    "plt.xticks(x, \n",
    "           ('Not at all','A little','Moderately','Very'),\n",
    "           rotation=17)\n",
    "plt.title(\"How important was it for you that the elderly residents are ok?\")\n",
    "# plt.xlabel(\"Value\")\n",
    "plt.ylabel(\"Count\")\n",
    "\n",
    "plt.show(), Counter(pd.to_numeric(exp_pgq[:,4]))"
   ]
  },
  {
   "cell_type": "code",
   "execution_count": 87,
   "metadata": {
    "scrolled": true
   },
   "outputs": [
    {
     "name": "stdout",
     "output_type": "stream",
     "text": [
      "[1 2 3]\n"
     ]
    }
   ],
   "source": [
    "pg6 = Counter(exp_pgq[:,5])\n",
    "print(np.array(sorted(pg6.items(), key= lambda t: (t[0]), reverse=False))[:,0])"
   ]
  },
  {
   "cell_type": "code",
   "execution_count": 88,
   "metadata": {},
   "outputs": [
    {
     "data": {
      "image/png": "[encoded data removed]",
      "text/plain": [
       "<matplotlib.figure.Figure at 0x1bea15de320>"
      ]
     },
     "metadata": {},
     "output_type": "display_data"
    },
    {
     "data": {
      "text/plain": [
       "(None, Counter({1: 12, 2: 5, 3: 19}))"
      ]
     },
     "execution_count": 88,
     "metadata": {},
     "output_type": "execute_result"
    }
   ],
   "source": [
    "x = np.arange(len(pg6.keys()))\n",
    "plt.bar(x, np.array(sorted(pg6.items(), key= lambda t: (t[0]), reverse=False))[:,1])\n",
    "plt.xticks(x, \n",
    "           ('The game experience','Interim report','Both'),\n",
    "           rotation=0)\n",
    "plt.title(\"How did you determine the trust to monitoring system?\")\n",
    "# plt.xlabel(\"Value\")\n",
    "plt.ylabel(\"Count\")\n",
    "\n",
    "plt.show(), Counter(pd.to_numeric(exp_pgq[:,5]))"
   ]
  },
  {
   "cell_type": "code",
   "execution_count": 89,
   "metadata": {},
   "outputs": [
    {
     "name": "stdout",
     "output_type": "stream",
     "text": [
      "[2]\n"
     ]
    }
   ],
   "source": [
    "pg7 = Counter(exp_pgq[:,6])\n",
    "print(np.array(sorted(pg7.items(), key= lambda t: (t[0]), reverse=False))[:,0])"
   ]
  },
  {
   "cell_type": "code",
   "execution_count": 90,
   "metadata": {
    "scrolled": true
   },
   "outputs": [
    {
     "data": {
      "image/png": "[encoded data removed]",
      "text/plain": [
       "<matplotlib.figure.Figure at 0x1bea1b810f0>"
      ]
     },
     "metadata": {},
     "output_type": "display_data"
    },
    {
     "data": {
      "text/plain": [
       "(None, Counter({2: 36}))"
      ]
     },
     "execution_count": 90,
     "metadata": {},
     "output_type": "execute_result"
    }
   ],
   "source": [
    "x = np.arange(len(pg7.keys()))\n",
    "plt.bar(x, np.array(sorted(pg7.items(), key= lambda t: (t[0]), reverse=False))[:,1])\n",
    "plt.xticks(x, \n",
    "           ('No','Yes'))\n",
    "plt.title(\"Was the tutorial video sufficiently helpful?\")\n",
    "# plt.xlabel(\"Value\")\n",
    "plt.ylabel(\"Count\")\n",
    "\n",
    "plt.show(), Counter(pd.to_numeric(exp_pgq[:,6]))"
   ]
  },
  {
   "cell_type": "code",
   "execution_count": null,
   "metadata": {
    "collapsed": true
   },
   "outputs": [],
   "source": []
  }
 ],
 "metadata": {
  "kernelspec": {
   "display_name": "Python 3",
   "language": "python",
   "name": "python3"
  },
  "language_info": {
   "codemirror_mode": {
    "name": "ipython",
    "version": 3
   },
   "file_extension": ".py",
   "mimetype": "text/x-python",
   "name": "python",
   "nbconvert_exporter": "python",
   "pygments_lexer": "ipython3",
   "version": "3.6.1"
  }
 },
 "nbformat": 4,
 "nbformat_minor": 2
}
