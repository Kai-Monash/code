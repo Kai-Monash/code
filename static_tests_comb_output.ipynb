{
 "cells": [
  {
   "cell_type": "markdown",
   "metadata": {},
   "source": [
    "# Introductions:\n",
    "There are 4 stages in each experiment: A,B,C,D; Each stage has two sections with identical system settings\n",
    "\n",
    "System settings in the experiment one: \n",
    "\n",
    "|Events| A-1 | A-2 | B-1 | B-2 | C-1 | C-2 | D-1 | D-2 |          \n",
    "| :- |-: |-: |-: |-: |-: |-: |-: |-: |\n",
    "|# True Alerts |12|12|14|14|12|12|14|14|\n",
    "|# False Alerts| 5| 5| 6| 6| 2| 2| 3| 3|\n",
    "|# Misses      | 3| 2| 0| 0| 2| 2| 0| 0|\n",
    "\n",
    "The experiment two has the same system settings to experiment 1, but in a different order, swapped AB and CD\n",
    "\n",
    "|Events| C-1 | C-2 | D-1 | D-2 | A-1 | A-2 | B-1 | B-2 |          \n",
    "| :- |-: |-: |-: |-: |-: |-: |-: |-: |\n",
    "|# True Alerts |12|12|14|14|12|12|14|14|\n",
    "|# False Alerts| 2| 2| 3| 3| 5| 5| 6| 6|\n",
    "|# Misses      | 2| 2| 0| 0| 3| 2| 0| 0|\n",
    "\n",
    "Each experiment has 18 validate results"
   ]
  },
  {
   "cell_type": "code",
   "execution_count": 1,
   "metadata": {},
   "outputs": [
    {
     "name": "stderr",
     "output_type": "stream",
     "text": [
      "C:\\Users\\final\\Anaconda3\\lib\\site-packages\\ipykernel_launcher.py:39: RuntimeWarning: invalid value encountered in true_divide\n",
      "C:\\Users\\final\\Anaconda3\\lib\\site-packages\\ipykernel_launcher.py:41: RuntimeWarning: invalid value encountered in true_divide\n"
     ]
    }
   ],
   "source": [
    "import pandas as pd\n",
    "import matplotlib.pyplot as plt\n",
    "import numpy as np\n",
    "import scipy.stats as sp\n",
    "import scipy.special as ss\n",
    "from collections import Counter\n",
    "from IPython.display import display, Markdown, Latex\n",
    "from sklearn import linear_model, datasets\n",
    "%matplotlib inline\n",
    "\n",
    "exp1_data = pd.read_csv(\"allTogetherSep.csv\")\n",
    "exp2_data = pd.read_csv(\"allTogetherOct.csv\")\n",
    "\n",
    "exp1_data_T = pd.DataFrame.transpose(exp1_data).reset_index()\n",
    "exp2_data_T = pd.DataFrame.transpose(exp2_data).reset_index()\n",
    "\n",
    "n_participant = exp1_data_T.shape[0]\n",
    "\n",
    "exp1_trust = exp1_data_T.values[1:n_participant,79:87].astype(int)\n",
    "exp2_trust = exp2_data_T.values[1:n_participant,79:87].astype(int)\n",
    "exp_trust = np.vstack((exp1_trust,np.hstack((exp2_trust[:,4:],exp2_trust[:,:4])))).astype(int)\n",
    "\n",
    "exp1_attend = exp1_data_T.values[1:n_participant,124:132].astype(int)\n",
    "exp2_attend = exp2_data_T.values[1:n_participant,124:132].astype(int)\n",
    "exp_attend = np.vstack((exp1_attend,np.hstack((exp2_attend[:,4:],exp2_attend[:,:4])))).astype(int)\n",
    "\n",
    "exp1_attend_alert = exp1_data_T.values[1:n_participant,280:288].astype(int)\n",
    "exp2_attend_alert = exp2_data_T.values[1:n_participant,280:288].astype(int)\n",
    "exp_attend_alert = np.vstack((exp1_attend_alert,np.hstack((exp2_attend_alert[:,4:],exp2_attend_alert[:,:4])))).astype(int)\n",
    "\n",
    "exp1_attend_alert_prop = exp1_attend_alert/np.array([17,17,20,20,14,14,17,17])\n",
    "exp2_attend_alert_prop = exp2_attend_alert/np.array([14,14,17,17,17,17,20,20])\n",
    "exp_attend_alert_prop = exp_attend_alert/np.array([17,17,20,20,14,14,17,17])\n",
    "\n",
    "exp1_attendf = exp1_data_T.values[1:n_participant,214:222].astype(int)\n",
    "exp2_attendf = exp2_data_T.values[1:n_participant,214:222].astype(int)\n",
    "exp_attendf = np.vstack((exp1_attendf,np.hstack((exp2_attendf[:,4:],exp2_attendf[:,:4])))).astype(int)\n",
    "\n",
    "exp1_attendf_prop = np.divide(exp1_attendf,exp1_attend_alert)\n",
    "exp2_attendf_prop = np.divide(exp2_attendf,exp2_attend_alert)\n",
    "exp_attendf_prop = np.divide(exp_attendf,exp_attend_alert)\n",
    "# zero attended outlier correction\n",
    "exp1_attendf_prop[6][6] = 0\n",
    "exp_attendf_prop[6][6] = 0\n",
    "\n",
    "exp1_check = exp1_data_T.values[1:n_participant,253:261].astype(int)\n",
    "exp2_check = exp2_data_T.values[1:n_participant,253:261].astype(int)\n",
    "exp_check = np.vstack((exp1_check,np.hstack((exp2_check[:,4:],exp2_check[:,:4])))).astype(int)\n",
    "\n",
    "exp1_demo = exp1_data_T.values[1:n_participant,1:8]\n",
    "exp2_demo = exp2_data_T.values[1:n_participant,1:8]\n",
    "exp_demo = np.vstack((exp1_demo,exp2_demo)).astype(int)\n",
    "exp_demo[:,5] += 2  # replace -1,0,1 to 1,2,3\n",
    "\n",
    "exp1_pstq = exp1_data_T.values[1:n_participant, np.r_[16:19,21:28,29:32,34:41,42:45,47:54,55:58,60:67]].astype(int)\n",
    "exp2_pstq = exp2_data_T.values[1:n_participant, np.r_[16:19,21:28,29:32,34:41,42:45,47:54,55:58,60:67]].astype(int)\n",
    "exp_pstq = np.vstack((exp1_pstq,np.hstack((exp2_pstq[:,20:],exp2_pstq[:,:20])))).astype(int)\n",
    "\n",
    "exp1_prop = exp1_data_T.values[1:n_participant,9:15].astype(int)\n",
    "exp2_prop = exp2_data_T.values[1:n_participant,9:15].astype(int)\n",
    "exp_prop = np.vstack((exp1_prop,np.hstack((exp2_prop[:,4:],exp2_prop[:,:4])))).astype(int)\n",
    "\n",
    "exp1_pgq = exp1_data_T.values[1:n_participant,69:76]\n",
    "exp2_pgq = exp2_data_T.values[1:n_participant,69:76]\n",
    "exp_pgq = np.vstack((exp1_pgq,exp2_pgq)).astype(int)\n",
    "\n",
    "exp1_freq = exp1_data_T.values[1:n_participant,88:92]\n",
    "exp2_freq = exp2_data_T.values[1:n_participant,88:92]\n",
    "exp_freq = np.vstack((exp1_freq,np.hstack((exp2_freq[:,2:],exp2_freq[:,:2]))))\n",
    "\n",
    "exp1_admin = exp1_data_T.values[1:n_participant,94:102].astype(int)\n",
    "exp2_admin = exp2_data_T.values[1:n_participant,94:102].astype(int)\n",
    "exp_admin = np.vstack((exp1_admin,np.hstack((exp2_admin[:,4:],exp2_admin[:,:4])))).astype(int)\n",
    "\n",
    "exp1_admin_w = exp1_data_T.values[1:n_participant,114:122].astype(int)\n",
    "exp2_admin_w = exp2_data_T.values[1:n_participant,114:122].astype(int)\n",
    "exp_admin_w = np.vstack((exp1_admin_w,np.hstack((exp2_admin_w[:,4:],exp2_admin_w[:,:4])))).astype(int)\n",
    "\n",
    "exp1_fnl_balance = exp1_data_T.values[1:n_participant,244:252].astype(int)\n",
    "exp2_fnl_balance = exp2_data_T.values[1:n_participant,244:252].astype(int)\n",
    "exp_fnl_balance = np.vstack((exp1_fnl_balance,np.hstack((exp2_fnl_balance[:,4:],exp2_fnl_balance[:,:4])))).astype(int)\n",
    "\n",
    "# correct cards:$4; wrong cards: $4; use (total admin - 2x wrong admin)x$4 to get net profit\n",
    "exp1_Earnings_admin = 4*(exp1_admin - 2*exp1_admin_w)\n",
    "exp2_Earnings_admin = 4*(exp2_admin - 2*exp2_admin_w)\n",
    "Earnings_admin = 4*(exp_admin - 2*exp_admin_w)\n",
    "\n",
    "# reverse engineering to find total losses from monitoring system\n",
    "exp1_Total_loss = exp1_fnl_balance - exp1_Earnings_admin - 150\n",
    "exp2_Total_loss = exp2_fnl_balance - exp2_Earnings_admin - 150\n",
    "Total_loss = exp_fnl_balance - Earnings_admin - 150"
   ]
  },
  {
   "cell_type": "code",
   "execution_count": 2,
   "metadata": {},
   "outputs": [
    {
     "data": {
      "text/markdown": [
       "# Trust Scores"
      ],
      "text/plain": [
       "<IPython.core.display.Markdown object>"
      ]
     },
     "metadata": {},
     "output_type": "display_data"
    },
    {
     "data": {
      "image/png": "[encoded data removed]",
      "text/plain": [
       "<matplotlib.figure.Figure at 0x1368a646438>"
      ]
     },
     "metadata": {},
     "output_type": "display_data"
    },
    {
     "data": {
      "image/png": "[encoded data removed]",
      "text/plain": [
       "<matplotlib.figure.Figure at 0x1368f8cbb00>"
      ]
     },
     "metadata": {},
     "output_type": "display_data"
    },
    {
     "data": {
      "image/png": "[encoded data removed]",
      "text/plain": [
       "<matplotlib.figure.Figure at 0x1368f8d8be0>"
      ]
     },
     "metadata": {},
     "output_type": "display_data"
    },
    {
     "data": {
      "text/markdown": [
       "# Number of Events Attended"
      ],
      "text/plain": [
       "<IPython.core.display.Markdown object>"
      ]
     },
     "metadata": {},
     "output_type": "display_data"
    },
    {
     "data": {
      "image/png": "[encoded data removed]",
      "text/plain": [
       "<matplotlib.figure.Figure at 0x1368f8d86a0>"
      ]
     },
     "metadata": {},
     "output_type": "display_data"
    },
    {
     "data": {
      "image/png": "[encoded data removed]",
      "text/plain": [
       "<matplotlib.figure.Figure at 0x1368faffe80>"
      ]
     },
     "metadata": {},
     "output_type": "display_data"
    },
    {
     "data": {
      "image/png": "[encoded data removed]",
      "text/plain": [
       "<matplotlib.figure.Figure at 0x1368fa4e7f0>"
      ]
     },
     "metadata": {},
     "output_type": "display_data"
    },
    {
     "data": {
      "text/markdown": [
       "# Number of Alerts Attended"
      ],
      "text/plain": [
       "<IPython.core.display.Markdown object>"
      ]
     },
     "metadata": {},
     "output_type": "display_data"
    },
    {
     "data": {
      "image/png": "[encoded data removed]",
      "text/plain": [
       "<matplotlib.figure.Figure at 0x1368fc4bef0>"
      ]
     },
     "metadata": {},
     "output_type": "display_data"
    },
    {
     "data": {
      "image/png": "[encoded data removed]",
      "text/plain": [
       "<matplotlib.figure.Figure at 0x1368fcf3eb8>"
      ]
     },
     "metadata": {},
     "output_type": "display_data"
    },
    {
     "data": {
      "image/png": "[encoded data removed]",
      "text/plain": [
       "<matplotlib.figure.Figure at 0x1368fc4b3c8>"
      ]
     },
     "metadata": {},
     "output_type": "display_data"
    },
    {
     "data": {
      "text/markdown": [
       "# Proportion of Alerts Attended"
      ],
      "text/plain": [
       "<IPython.core.display.Markdown object>"
      ]
     },
     "metadata": {},
     "output_type": "display_data"
    },
    {
     "data": {
      "image/png": "[encoded data removed]",
      "text/plain": [
       "<matplotlib.figure.Figure at 0x1368f9985f8>"
      ]
     },
     "metadata": {},
     "output_type": "display_data"
    },
    {
     "data": {
      "image/png": "[encoded data removed]",
      "text/plain": [
       "<matplotlib.figure.Figure at 0x1368fc21470>"
      ]
     },
     "metadata": {},
     "output_type": "display_data"
    },
    {
     "data": {
      "image/png": "[encoded data removed]",
      "text/plain": [
       "<matplotlib.figure.Figure at 0x1368f8c3940>"
      ]
     },
     "metadata": {},
     "output_type": "display_data"
    },
    {
     "data": {
      "text/markdown": [
       "# Number of Check clicked"
      ],
      "text/plain": [
       "<IPython.core.display.Markdown object>"
      ]
     },
     "metadata": {},
     "output_type": "display_data"
    },
    {
     "data": {
      "image/png": "[encoded data removed]",
      "text/plain": [
       "<matplotlib.figure.Figure at 0x1368fa7d550>"
      ]
     },
     "metadata": {},
     "output_type": "display_data"
    },
    {
     "data": {
      "image/png": "[encoded data removed]",
      "text/plain": [
       "<matplotlib.figure.Figure at 0x1368f4d9c88>"
      ]
     },
     "metadata": {},
     "output_type": "display_data"
    },
    {
     "data": {
      "image/png": "[encoded data removed]",
      "text/plain": [
       "<matplotlib.figure.Figure at 0x1368fd613c8>"
      ]
     },
     "metadata": {},
     "output_type": "display_data"
    },
    {
     "data": {
      "image/png": "[encoded data removed]",
      "text/plain": [
       "<matplotlib.figure.Figure at 0x1368fa18668>"
      ]
     },
     "metadata": {},
     "output_type": "display_data"
    }
   ],
   "source": [
    "########################### Trust Scores ################################\n",
    "display(Markdown('# Trust Scores'))\n",
    "\n",
    "# exp1 mean & std\n",
    "x = np.arange(1,9)\n",
    "y = np.array(exp1_trust.mean(axis=0))\n",
    "e = np.array(exp1_trust.std(axis=0))\n",
    "plt.errorbar(x, y, e, linestyle='None', marker='^')\n",
    "axes = plt.gca()\n",
    "axes.set_ylim([0,5])\n",
    "for xy in zip(x, y):\n",
    "    axes.annotate('%.4s' % xy[1], xy=xy, textcoords='data')\n",
    "plt.title(\"Trust Score: Experiment One\")\n",
    "plt.show()\n",
    "\n",
    "# exp2 mean & std\n",
    "x = np.arange(1,9)\n",
    "y = np.array(exp2_trust.mean(axis=0))\n",
    "e = np.array(exp2_trust.std(axis=0))\n",
    "plt.errorbar(x, y, e, linestyle='None', marker='^')\n",
    "axes = plt.gca()\n",
    "axes.set_ylim([0,5])\n",
    "for xy in zip(x, y):\n",
    "    axes.annotate('%.4s' % xy[1], xy=xy, textcoords='data')\n",
    "plt.title(\"Trust Score: Experiment Two\")\n",
    "plt.show()\n",
    "\n",
    "# overall mean & std\n",
    "x = np.arange(1,9)\n",
    "y = np.array(exp_trust.mean(axis=0))\n",
    "e = np.array(exp_trust.std(axis=0))\n",
    "plt.errorbar(x, y, e, linestyle='None', marker='^')\n",
    "axes = plt.gca()\n",
    "axes.set_ylim([0,5])\n",
    "for xy in zip(x, y):\n",
    "    axes.annotate('%.4s' % xy[1], xy=xy, textcoords='data')\n",
    "plt.title(\"Trust score: Both Experiments (in order of ABCD)\")\n",
    "plt.show()\n",
    "\n",
    "########################### Number of Events Attended ################################\n",
    "display(Markdown('# Number of Events Attended'))\n",
    "\n",
    "# exp1 mean & std\n",
    "x = np.arange(8)+1\n",
    "y = np.array(exp1_attend.mean(axis=0))\n",
    "e = np.array(exp1_attend.std(axis=0))\n",
    "plt.errorbar(x, y, e, linestyle='None', marker='^')\n",
    "axes = plt.gca()\n",
    "axes.set_ylim([5,20])\n",
    "for xy in zip(x, y):\n",
    "    axes.annotate('%.4s' % xy[1], xy=xy, textcoords='data')\n",
    "plt.title(\"# Event Attended: Experiment One\")\n",
    "plt.show()\n",
    "\n",
    "# exp2 mean & std\n",
    "x = np.arange(8)+1\n",
    "y = np.array(exp2_attend.mean(axis=0))\n",
    "e = np.array(exp2_attend.std(axis=0))\n",
    "plt.errorbar(x, y, e, linestyle='None', marker='^')\n",
    "axes = plt.gca()\n",
    "axes.set_ylim([5,20])\n",
    "for xy in zip(x, y):\n",
    "    axes.annotate('%.4s' % xy[1], xy=xy, textcoords='data')\n",
    "plt.title(\"# Event Attended: Experiment Two\")   \n",
    "plt.show()\n",
    "\n",
    "# overall mean & std\n",
    "x = np.arange(8)+1\n",
    "y = np.array(exp_attend.mean(axis=0))\n",
    "e = np.array(exp_attend.std(axis=0))\n",
    "plt.errorbar(x, y, e, linestyle='None', marker='^')\n",
    "axes = plt.gca()\n",
    "axes.set_ylim([5,20])\n",
    "for xy in zip(x, y):\n",
    "    axes.annotate('%.4s' % xy[1], xy=xy, textcoords='data')\n",
    "plt.title(\"# Event Attended: Both Experiments (in order of ABCD)\")    \n",
    "plt.show()\n",
    "\n",
    "########################### Number of Alerts Attended ################################\n",
    "display(Markdown('# Number of Alerts Attended'))\n",
    "\n",
    "# exp1 mean & std\n",
    "x = np.arange(8)+1\n",
    "y = np.array(exp1_attend_alert.mean(axis=0))\n",
    "e = np.array(exp1_attend_alert.std(axis=0))\n",
    "plt.errorbar(x, y, e, linestyle='None', marker='^')\n",
    "axes = plt.gca()\n",
    "axes.set_ylim([5,23])\n",
    "for xy in zip(x, y):\n",
    "    axes.annotate('%.4s' % xy[1], xy=xy, textcoords='data')\n",
    "plt.title(\"# Alerts Attended: Experiment One\")\n",
    "plt.show()\n",
    "\n",
    "# exp2 mean & std\n",
    "x = np.arange(8)+1\n",
    "y = np.array(exp2_attend_alert.mean(axis=0))\n",
    "e = np.array(exp2_attend_alert.std(axis=0))\n",
    "plt.errorbar(x, y, e, linestyle='None', marker='^')\n",
    "axes = plt.gca()\n",
    "axes.set_ylim([5,23])\n",
    "for xy in zip(x, y):\n",
    "    axes.annotate('%.4s' % xy[1], xy=xy, textcoords='data')\n",
    "plt.title(\"# Alerts Attended: Experiment Two\")   \n",
    "plt.show()\n",
    "\n",
    "# overall mean & std\n",
    "x = np.arange(8)+1\n",
    "y = np.array(exp_attend_alert.mean(axis=0))\n",
    "e = np.array(exp_attend_alert.std(axis=0))\n",
    "plt.errorbar(x, y, e, linestyle='None', marker='^')\n",
    "axes = plt.gca()\n",
    "axes.set_ylim([5,23])\n",
    "for xy in zip(x, y):\n",
    "    axes.annotate('%.4s' % xy[1], xy=xy, textcoords='data')\n",
    "plt.title(\"# Alerts Attended: Both Experiments (in order of ABCD)\")    \n",
    "plt.show()\n",
    "\n",
    "########################### Proportion of Alerts Attended ################################\n",
    "display(Markdown('# Proportion of Alerts Attended'))\n",
    "\n",
    "# exp1 mean & std\n",
    "x = np.arange(8)+1\n",
    "y = np.array(exp1_attend_alert_prop.mean(axis=0))\n",
    "e = np.array(exp1_attend_alert_prop.std(axis=0))\n",
    "plt.errorbar(x, y, e, linestyle='None', marker='^')\n",
    "axes = plt.gca()\n",
    "# axes.set_ylim([5,23])\n",
    "for xy in zip(x, y):\n",
    "    axes.annotate('%.4s' % xy[1], xy=xy, textcoords='data')\n",
    "plt.title(\"# Alerts Attended: Experiment One\")\n",
    "plt.show()\n",
    "\n",
    "# exp2 mean & std\n",
    "x = np.arange(8)+1\n",
    "y = np.array(exp2_attend_alert_prop.mean(axis=0))\n",
    "e = np.array(exp2_attend_alert_prop.std(axis=0))\n",
    "plt.errorbar(x, y, e, linestyle='None', marker='^')\n",
    "axes = plt.gca()\n",
    "# axes.set_ylim([5,23])\n",
    "for xy in zip(x, y):\n",
    "    axes.annotate('%.4s' % xy[1], xy=xy, textcoords='data')\n",
    "plt.title(\"# Alerts Attended: Experiment Two\")   \n",
    "plt.show()\n",
    "\n",
    "# overall mean & std\n",
    "x = np.arange(8)+1\n",
    "y = np.array(exp_attend_alert_prop.mean(axis=0))\n",
    "e = np.array(exp_attend_alert_prop.std(axis=0))\n",
    "plt.errorbar(x, y, e, linestyle='None', marker='^')\n",
    "axes = plt.gca()\n",
    "# axes.set_ylim([5,23])\n",
    "for xy in zip(x, y):\n",
    "    axes.annotate('%.4s' % xy[1], xy=xy, textcoords='data')\n",
    "plt.title(\"# Alerts Attended: Both Experiments (in order of ABCD)\")    \n",
    "plt.show()\n",
    "\n",
    "########################### Number of Check clicked ################################\n",
    "display(Markdown('# Number of Check clicked'))\n",
    "# number of misses\n",
    "x = np.arange(8)+1\n",
    "y = np.array([3, 2, 0, 0, 2, 2, 0, 0])\n",
    "e = np.array([0, 0, 0, 0, 0, 0, 0, 0])\n",
    "plt.errorbar(x, y, e, linestyle='None', marker='^')\n",
    "axes = plt.gca()\n",
    "axes.set_ylim([0,6])\n",
    "for xy in zip(x, y):\n",
    "    axes.annotate('%.4s' % xy[1], xy=xy, textcoords='data')\n",
    "plt.title(\"# Misses in order of ABCD\")    \n",
    "plt.show()\n",
    "\n",
    "# exp1 mean & std\n",
    "x = np.arange(8)+1\n",
    "y = np.array(exp1_check.mean(axis=0))\n",
    "e = np.array(exp1_check.std(axis=0))\n",
    "plt.errorbar(x, y, e, linestyle='None', marker='^')\n",
    "axes = plt.gca()\n",
    "axes.set_ylim([0,10])\n",
    "for xy in zip(x, y):\n",
    "    axes.annotate('%.4s' % xy[1], xy=xy, textcoords='data')\n",
    "plt.title(\"# Checks: Experiment One\")\n",
    "plt.show()\n",
    "\n",
    "# exp2 mean & std\n",
    "x = np.arange(8)+1\n",
    "y = np.array(exp2_check.mean(axis=0))\n",
    "e = np.array(exp2_check.std(axis=0))\n",
    "plt.errorbar(x, y, e, linestyle='None', marker='^')\n",
    "axes = plt.gca()\n",
    "axes.set_ylim([0,10])\n",
    "for xy in zip(x, y):\n",
    "    axes.annotate('%.4s' % xy[1], xy=xy, textcoords='data')\n",
    "plt.title(\"# Checks: Experiment Two\")   \n",
    "plt.show()\n",
    "\n",
    "# overall mean & std\n",
    "x = np.arange(8)+1\n",
    "y = np.array(exp_check.mean(axis=0))\n",
    "e = np.array(exp_check.std(axis=0))\n",
    "plt.errorbar(x, y, e, linestyle='None', marker='^')\n",
    "axes = plt.gca()\n",
    "axes.set_ylim([0,10])\n",
    "for xy in zip(x, y):\n",
    "    axes.annotate('%.4s' % xy[1], xy=xy, textcoords='data')\n",
    "plt.title(\"# Checks: Both Experiments (in order of ABCD)\")    \n",
    "plt.show()"
   ]
  },
  {
   "cell_type": "code",
   "execution_count": 3,
   "metadata": {
    "scrolled": true
   },
   "outputs": [
    {
     "data": {
      "text/markdown": [
       "# RQ1a Training Effect of very first section"
      ],
      "text/plain": [
       "<IPython.core.display.Markdown object>"
      ]
     },
     "metadata": {},
     "output_type": "display_data"
    },
    {
     "data": {
      "text/markdown": [
       "## RQ1a: Trust Scores between first section with same section in the other exp"
      ],
      "text/plain": [
       "<IPython.core.display.Markdown object>"
      ]
     },
     "metadata": {},
     "output_type": "display_data"
    },
    {
     "name": "stdout",
     "output_type": "stream",
     "text": [
      "A-1 Section in exp1: Mean: 3.05555555556  Std: 0.704920974469\n",
      "A-1 Section in exp2: Mean: 2.44444444444  Std: 1.01227039768\n",
      "WilcoxonResult(statistic=22.0, pvalue=0.045529285445673709) \n",
      "\n",
      "C-1 Section in exp2: Mean: 3.22222222222  Std: 0.916245694582\n",
      "C-1 Section in exp1: Mean: 3.16666666667  Std: 1.01379375505\n",
      "WilcoxonResult(statistic=21.5, pvalue=0.90258381265268661)\n"
     ]
    },
    {
     "name": "stderr",
     "output_type": "stream",
     "text": [
      "C:\\Users\\final\\Anaconda3\\lib\\site-packages\\scipy\\stats\\morestats.py:2397: UserWarning: Warning: sample size too small for normal approximation.\n",
      "  warnings.warn(\"Warning: sample size too small for normal approximation.\")\n"
     ]
    },
    {
     "data": {
      "text/markdown": [
       "## RQ1a: # Attended Events between first section with same section in the other exp"
      ],
      "text/plain": [
       "<IPython.core.display.Markdown object>"
      ]
     },
     "metadata": {},
     "output_type": "display_data"
    },
    {
     "name": "stdout",
     "output_type": "stream",
     "text": [
      "A-1 Section in exp1: Mean: 11.8888888889  Std: 3.60383883116\n",
      "A-1 Section in exp2: Mean: 13.9444444444  Std: 1.77864562151\n",
      "WilcoxonResult(statistic=9.0, pvalue=0.058511372732785706) \n",
      "\n",
      "C-1 Section in exp2: Mean: 13.1666666667  Std: 0.957427107756\n",
      "C-1 Section in exp1: Mean: 12.0555555556  Std: 3.7189039936\n",
      "WilcoxonResult(statistic=43.5, pvalue=0.56569506806142933)\n"
     ]
    },
    {
     "data": {
      "text/markdown": [
       "## RQ1a: # Attended Alerts between first section with same section in the other exp"
      ],
      "text/plain": [
       "<IPython.core.display.Markdown object>"
      ]
     },
     "metadata": {},
     "output_type": "display_data"
    },
    {
     "name": "stdout",
     "output_type": "stream",
     "text": [
      "A-1 Section in exp1: Mean: 12.7222222222  Std: 3.89879690212\n",
      "A-1 Section in exp2: Mean: 15.1666666667  Std: 3.78960566697\n",
      "WilcoxonResult(statistic=17.5, pvalue=0.050090305683375004) \n",
      "\n",
      "C-1 Section in exp2: Mean: 12.7777777778  Std: 1.47405546238\n",
      "C-1 Section in exp1: Mean: 10.5  Std: 3.81881307913\n",
      "WilcoxonResult(statistic=29.5, pvalue=0.079618742328643161)\n"
     ]
    },
    {
     "data": {
      "text/markdown": [
       "## RQ1a: Proportion Attended Alerts between first section with same section in the other exp"
      ],
      "text/plain": [
       "<IPython.core.display.Markdown object>"
      ]
     },
     "metadata": {},
     "output_type": "display_data"
    },
    {
     "name": "stdout",
     "output_type": "stream",
     "text": [
      "A-1 Section in exp1: Mean: 0.748366013072  Std: 0.229340994242\n",
      "A-1 Section in exp2: Mean: 0.892156862745  Std: 0.22291798041\n",
      "WilcoxonResult(statistic=18.5, pvalue=0.059017127726984975) \n",
      "\n",
      "C-1 Section in exp2: Mean: 12.7777777778  Std: 1.47405546238\n",
      "C-1 Section in exp1: Mean: 10.5  Std: 3.81881307913\n",
      "WilcoxonResult(statistic=29.5, pvalue=0.079618742328643161)\n"
     ]
    },
    {
     "data": {
      "text/markdown": [
       "## RQ1a: # Checks between first section with same section in the other exp"
      ],
      "text/plain": [
       "<IPython.core.display.Markdown object>"
      ]
     },
     "metadata": {},
     "output_type": "display_data"
    },
    {
     "name": "stdout",
     "output_type": "stream",
     "text": [
      "A-1 Section in exp1: Mean: 3.61111111111  Std: 4.41133500691\n",
      "A-1 Section in exp2: Mean: 3.83333333333  Std: 4.01732359773\n",
      "WilcoxonResult(statistic=59.0, pvalue=0.95461606045951108) \n",
      "\n",
      "C-1 Section in exp2: Mean: 4.88888888889  Std: 4.13506534798\n",
      "C-1 Section in exp1: Mean: 4.66666666667  Std: 2.78886675511\n",
      "WilcoxonResult(statistic=85.0, pvalue=0.98254016442401426)\n"
     ]
    },
    {
     "data": {
      "text/markdown": [
       "# RQ1b Effect of system order"
      ],
      "text/plain": [
       "<IPython.core.display.Markdown object>"
      ]
     },
     "metadata": {},
     "output_type": "display_data"
    },
    {
     "data": {
      "text/markdown": [
       "## RQ1b: Trust Scores between first and second section in all stages"
      ],
      "text/plain": [
       "<IPython.core.display.Markdown object>"
      ]
     },
     "metadata": {},
     "output_type": "display_data"
    },
    {
     "name": "stdout",
     "output_type": "stream",
     "text": [
      "1st Section: Mean: 3.07638888889  Std: 0.913478251209\n",
      "2nd Section: Mean: 3.15972222222  Std: 0.9254367921\n",
      "WilcoxonResult(statistic=779.0, pvalue=0.18940153741777255)\n"
     ]
    },
    {
     "data": {
      "text/markdown": [
       "## RQ1b: # Attended Events between first and second section in all stages"
      ],
      "text/plain": [
       "<IPython.core.display.Markdown object>"
      ]
     },
     "metadata": {},
     "output_type": "display_data"
    },
    {
     "name": "stdout",
     "output_type": "stream",
     "text": [
      "1st Section: Mean: 13.0208333333  std: 2.70921460021\n",
      "2nd Section: Mean: 12.9791666667  std: 2.47618868761\n",
      "WilcoxonResult(statistic=816.0, pvalue=0.93236187886629929)\n"
     ]
    },
    {
     "data": {
      "text/markdown": [
       "## RQ1b: # Attended Alerts between first and second section in all stages"
      ],
      "text/plain": [
       "<IPython.core.display.Markdown object>"
      ]
     },
     "metadata": {},
     "output_type": "display_data"
    },
    {
     "name": "stdout",
     "output_type": "stream",
     "text": [
      "1st Section: Mean: 14.0347222222  std: 4.50526419629\n",
      "2nd Section: Mean: 13.7986111111  std: 4.64515856252\n",
      "WilcoxonResult(statistic=2077.5, pvalue=0.67640261447125871)\n"
     ]
    },
    {
     "data": {
      "text/markdown": [
       "## RQ1b: Proportion Attended Alerts between first and second section in all stages"
      ],
      "text/plain": [
       "<IPython.core.display.Markdown object>"
      ]
     },
     "metadata": {},
     "output_type": "display_data"
    },
    {
     "name": "stdout",
     "output_type": "stream",
     "text": [
      "1st Section: Mean: 0.826709850607  std: 0.245177106358\n",
      "2nd Section: Mean: 0.815718370682  std: 0.257642672201\n",
      "WilcoxonResult(statistic=2121.5, pvalue=0.80613491224276412)\n"
     ]
    },
    {
     "data": {
      "text/markdown": [
       "## RQ1b: #  Checks between first and second section in all stages"
      ],
      "text/plain": [
       "<IPython.core.display.Markdown object>"
      ]
     },
     "metadata": {},
     "output_type": "display_data"
    },
    {
     "name": "stdout",
     "output_type": "stream",
     "text": [
      "1st Section: Mean: 4.38194444444  std: 3.98259499395\n",
      "2nd Section: Mean: 4.51388888889  std: 4.10112808179\n",
      "WilcoxonResult(statistic=2523.5, pvalue=0.85903723070164606)\n"
     ]
    }
   ],
   "source": [
    "display(Markdown('# RQ1a Training Effect of very first section'))\n",
    "display(Markdown('## RQ1a: Trust Scores between first section with same section in the other exp'))\n",
    "exp_trust_1st_sec = exp1_trust[:, 0].T.ravel()\n",
    "exp_trust_5th_sec = exp2_trust[:, 4].T.ravel()\n",
    "print('A-1 Section in exp1: Mean:',exp_trust_1st_sec.mean(),' Std:',exp_trust_1st_sec.std())\n",
    "print('A-1 Section in exp2: Mean:',exp_trust_5th_sec.mean(),' Std:',exp_trust_5th_sec.std())\n",
    "print(sp.wilcoxon(exp_trust_1st_sec,exp_trust_5th_sec),'\\n')\n",
    "exp_trust_1st_sec = exp2_trust[:, 0].T.ravel()\n",
    "exp_trust_5th_sec = exp1_trust[:, 4].T.ravel()\n",
    "print('C-1 Section in exp2: Mean:',exp_trust_1st_sec.mean(),' Std:',exp_trust_1st_sec.std())\n",
    "print('C-1 Section in exp1: Mean:',exp_trust_5th_sec.mean(),' Std:',exp_trust_5th_sec.std())\n",
    "print(sp.wilcoxon(exp_trust_1st_sec,exp_trust_5th_sec))\n",
    "\n",
    "display(Markdown('## RQ1a: # Attended Events between first section with same section in the other exp'))\n",
    "exp_attend_1st_sec = exp1_attend[:, 0].T.ravel()\n",
    "exp_attend_5th_sec = exp2_attend[:, 4].T.ravel()\n",
    "print('A-1 Section in exp1: Mean:',exp_attend_1st_sec.mean(),' Std:',exp_attend_1st_sec.std())\n",
    "print('A-1 Section in exp2: Mean:',exp_attend_5th_sec.mean(),' Std:',exp_attend_5th_sec.std())\n",
    "print(sp.wilcoxon(exp_attend_1st_sec,exp_attend_5th_sec),'\\n')\n",
    "exp_attend_1st_sec = exp2_attend[:, 0].T.ravel()\n",
    "exp_attend_5th_sec = exp1_attend[:, 4].T.ravel()\n",
    "print('C-1 Section in exp2: Mean:',exp_attend_1st_sec.mean(),' Std:',exp_attend_1st_sec.std())\n",
    "print('C-1 Section in exp1: Mean:',exp_attend_5th_sec.mean(),' Std:',exp_attend_5th_sec.std())\n",
    "print(sp.wilcoxon(exp_attend_1st_sec,exp_attend_5th_sec))\n",
    "\n",
    "display(Markdown('## RQ1a: # Attended Alerts between first section with same section in the other exp'))\n",
    "exp_attend_alert_1st_sec = exp1_attend_alert[:, 0].T.ravel()\n",
    "exp_attend_alert_5th_sec = exp2_attend_alert[:, 4].T.ravel()\n",
    "print('A-1 Section in exp1: Mean:',exp_attend_alert_1st_sec.mean(),' Std:',exp_attend_alert_1st_sec.std())\n",
    "print('A-1 Section in exp2: Mean:',exp_attend_alert_5th_sec.mean(),' Std:',exp_attend_alert_5th_sec.std())\n",
    "print(sp.wilcoxon(exp_attend_alert_1st_sec,exp_attend_alert_5th_sec),'\\n')\n",
    "exp_attend_alert_1st_sec = exp2_attend_alert[:, 0].T.ravel()\n",
    "exp_attend_alert_5th_sec = exp1_attend_alert[:, 4].T.ravel()\n",
    "print('C-1 Section in exp2: Mean:',exp_attend_alert_1st_sec.mean(),' Std:',exp_attend_alert_1st_sec.std())\n",
    "print('C-1 Section in exp1: Mean:',exp_attend_alert_5th_sec.mean(),' Std:',exp_attend_alert_5th_sec.std())\n",
    "print(sp.wilcoxon(exp_attend_alert_1st_sec,exp_attend_alert_5th_sec))\n",
    "\n",
    "display(Markdown('## RQ1a: Proportion Attended Alerts between first section with same section in the other exp'))\n",
    "exp_attend_alert_prop_1st_sec = exp1_attend_alert_prop[:, 0].T.ravel()\n",
    "exp_attend_alert_prop_5th_sec = exp2_attend_alert_prop[:, 4].T.ravel()\n",
    "print('A-1 Section in exp1: Mean:',exp_attend_alert_prop_1st_sec.mean(),' Std:',exp_attend_alert_prop_1st_sec.std())\n",
    "print('A-1 Section in exp2: Mean:',exp_attend_alert_prop_5th_sec.mean(),' Std:',exp_attend_alert_prop_5th_sec.std())\n",
    "print(sp.wilcoxon(exp_attend_alert_prop_1st_sec,exp_attend_alert_prop_5th_sec),'\\n')\n",
    "exp_attend_alert_1st_sec = exp2_attend_alert[:, 0].T.ravel()\n",
    "exp_attend_alert_5th_sec = exp1_attend_alert[:, 4].T.ravel()\n",
    "print('C-1 Section in exp2: Mean:',exp_attend_alert_1st_sec.mean(),' Std:',exp_attend_alert_1st_sec.std())\n",
    "print('C-1 Section in exp1: Mean:',exp_attend_alert_5th_sec.mean(),' Std:',exp_attend_alert_5th_sec.std())\n",
    "print(sp.wilcoxon(exp_attend_alert_1st_sec,exp_attend_alert_5th_sec))\n",
    "\n",
    "display(Markdown('## RQ1a: # Checks between first section with same section in the other exp'))\n",
    "exp_check_1st_sec = exp1_check[:, 0].T.ravel()\n",
    "exp_check_5th_sec = exp2_check[:, 4].T.ravel()\n",
    "print('A-1 Section in exp1: Mean:',exp_check_1st_sec.mean(),' Std:',exp_check_1st_sec.std())\n",
    "print('A-1 Section in exp2: Mean:',exp_check_5th_sec.mean(),' Std:',exp_check_5th_sec.std())\n",
    "print(sp.wilcoxon(exp_check_1st_sec,exp_check_5th_sec),'\\n')\n",
    "exp_check_1st_sec = exp2_check[:, 0].T.ravel()\n",
    "exp_check_5th_sec = exp1_check[:, 4].T.ravel()\n",
    "print('C-1 Section in exp2: Mean:',exp_check_1st_sec.mean(),' Std:',exp_check_1st_sec.std())\n",
    "print('C-1 Section in exp1: Mean:',exp_check_5th_sec.mean(),' Std:',exp_check_5th_sec.std())\n",
    "print(sp.wilcoxon(exp_check_1st_sec,exp_check_5th_sec))\n",
    "\n",
    "display(Markdown('# RQ1b Effect of system order'))\n",
    "display(Markdown('## RQ1b: Trust Scores between first and second section in all stages'))\n",
    "exp_trust_sec1 = exp_trust[:, np.r_[0,2,4,6]].T.ravel()\n",
    "exp_trust_sec2 = exp_trust[:, np.r_[1,3,5,7]].T.ravel()\n",
    "print('1st Section: Mean:',exp_trust_sec1.mean(),' Std:',exp_trust_sec1.std())\n",
    "print('2nd Section: Mean:',exp_trust_sec2.mean(),' Std:',exp_trust_sec2.std())\n",
    "print(sp.wilcoxon(exp_trust_sec1,exp_trust_sec2))\n",
    "\n",
    "display(Markdown('## RQ1b: # Attended Events between first and second section in all stages'))\n",
    "exp_attend_sec1 = exp_attend[:, np.r_[0,2,4,6]].T.ravel()\n",
    "exp_attend_sec2 = exp_attend[:, np.r_[1,3,5,7]].T.ravel()\n",
    "print('1st Section: Mean:',exp_attend_sec1.mean(),' std:',exp_attend_sec1.std())\n",
    "print('2nd Section: Mean:',exp_attend_sec2.mean(),' std:',exp_attend_sec2.std())\n",
    "print(sp.wilcoxon(exp_attend_sec1,exp_attend_sec2))\n",
    "\n",
    "display(Markdown('## RQ1b: # Attended Alerts between first and second section in all stages'))\n",
    "exp_attend_alert_sec1 = exp_attend_alert[:, np.r_[0,2,4,6]].T.ravel()\n",
    "exp_attend_alert_sec2 = exp_attend_alert[:, np.r_[1,3,5,7]].T.ravel()\n",
    "print('1st Section: Mean:',exp_attend_alert_sec1.mean(),' std:',exp_attend_alert_sec1.std())\n",
    "print('2nd Section: Mean:',exp_attend_alert_sec2.mean(),' std:',exp_attend_alert_sec2.std())\n",
    "print(sp.wilcoxon(exp_attend_alert_sec1,exp_attend_alert_sec2))\n",
    "\n",
    "display(Markdown('## RQ1b: Proportion Attended Alerts between first and second section in all stages'))\n",
    "exp_attend_alert_prop_sec1 = exp_attend_alert_prop[:, np.r_[0,2,4,6]].T.ravel()\n",
    "exp_attend_alert_prop_sec2 = exp_attend_alert_prop[:, np.r_[1,3,5,7]].T.ravel()\n",
    "print('1st Section: Mean:',exp_attend_alert_prop_sec1.mean(),' std:',exp_attend_alert_prop_sec1.std())\n",
    "print('2nd Section: Mean:',exp_attend_alert_prop_sec2.mean(),' std:',exp_attend_alert_prop_sec2.std())\n",
    "print(sp.wilcoxon(exp_attend_alert_prop_sec1,exp_attend_alert_prop_sec2))\n",
    "\n",
    "display(Markdown('## RQ1b: #  Checks between first and second section in all stages'))\n",
    "exp_check_sec1 = exp_check[:, np.r_[0,2,4,6]].T.ravel()\n",
    "exp_check_sec2 = exp_check[:, np.r_[1,3,5,7]].T.ravel()\n",
    "print('1st Section: Mean:',exp_check_sec1.mean(),' std:',exp_check_sec1.std())\n",
    "print('2nd Section: Mean:',exp_check_sec2.mean(),' std:',exp_check_sec2.std())\n",
    "print(sp.wilcoxon(exp_check_sec1,exp_check_sec2))"
   ]
  },
  {
   "cell_type": "code",
   "execution_count": 4,
   "metadata": {
    "scrolled": true
   },
   "outputs": [
    {
     "data": {
      "text/markdown": [
       "# RQ2 Opinion and self-reported trust vs system performance"
      ],
      "text/plain": [
       "<IPython.core.display.Markdown object>"
      ]
     },
     "metadata": {},
     "output_type": "display_data"
    },
    {
     "data": {
      "text/markdown": [
       "## RQ2a Opinion about the system & system performance"
      ],
      "text/plain": [
       "<IPython.core.display.Markdown object>"
      ]
     },
     "metadata": {},
     "output_type": "display_data"
    },
    {
     "data": {
      "text/markdown": [
       "### Differences between answers to S3, S4, S7, S8, S9 and System Performance (Hi FA vs Lo FA) "
      ],
      "text/plain": [
       "<IPython.core.display.Markdown object>"
      ]
     },
     "metadata": {},
     "output_type": "display_data"
    },
    {
     "name": "stdout",
     "output_type": "stream",
     "text": [
      "3 How much do you think this monitoring system needs to improve so you won't feel the need to check on residents at all?\n",
      "Sections with high FA: Mean: 3.27777777778  Std: 0.691661088777  Median: 3.0\n",
      "Sections with low FA: Mean: 2.84722222222  Std: 0.680272049792  Median: 3.0\n",
      "WilcoxonResult(statistic=75.0, pvalue=2.3129253702380791e-05)\n",
      "\n",
      "\n",
      "4 I can rely on this monitoring system to function properly\n",
      "Sections with high FA: Mean: 3.16666666667  Std: 0.866025403784  Median: 3.0\n",
      "Sections with low FA: Mean: 3.76388888889  Std: 0.790447404174  Median: 4.0\n",
      "WilcoxonResult(statistic=55.5, pvalue=3.4931357255314674e-06)\n",
      "\n",
      "\n",
      "7 This monitoring system is dependable\n",
      "Sections with high FA: Mean: 3.09722222222  Std: 0.930348235612  Median: 3.0\n",
      "Sections with low FA: Mean: 3.52777777778  Std: 0.816023934532  Median: 4.0\n",
      "WilcoxonResult(statistic=112.0, pvalue=0.0001422838609300976)\n",
      "\n",
      "\n",
      "8 I would use such a monitoring system for an elderly family member\n",
      "Sections with high FA: Mean: 3.0  Std: 1.02740233383  Median: 3.0\n",
      "Sections with low FA: Mean: 3.47222222222  Std: 0.957024065386  Median: 4.0\n",
      "WilcoxonResult(statistic=158.5, pvalue=0.0004814545732074447)\n",
      "\n",
      "\n",
      "9 This monitoring system's actions will have a harmful outcome\n",
      "Sections with high FA: Mean: 2.68055555556  Std: 0.846994504916  Median: 3.0\n",
      "Sections with low FA: Mean: 2.54166666667  Std: 0.865022478834  Median: 2.0\n",
      "WilcoxonResult(statistic=148.5, pvalue=0.19853431212189931)\n",
      "\n",
      "\n"
     ]
    },
    {
     "data": {
      "text/markdown": [
       "## RQ2a Opinion about the system & system performance"
      ],
      "text/plain": [
       "<IPython.core.display.Markdown object>"
      ]
     },
     "metadata": {},
     "output_type": "display_data"
    },
    {
     "data": {
      "text/markdown": [
       "### Differences between answers to S3, S4, S7, S9 and System Performance (with/without missed events) – Wilcoxon signed-ranked test"
      ],
      "text/plain": [
       "<IPython.core.display.Markdown object>"
      ]
     },
     "metadata": {},
     "output_type": "display_data"
    },
    {
     "name": "stdout",
     "output_type": "stream",
     "text": [
      "3 How much do you think this monitoring system needs to improve so you won't feel the need to check on residents at all?\n",
      "Sections with misses: Mean: 3.15277777778  Std: 0.700391204618  Median: 3.0\n",
      "Sections without misses: Mean: 2.97222222222  Std: 0.725951908076  Median: 3.0\n",
      "WilcoxonResult(statistic=286.0, pvalue=0.063939089307543814)\n",
      "\n",
      "\n",
      "4 I can rely on this monitoring system to function properly\n",
      "Sections with misses: Mean: 3.41666666667  Std: 0.845740963758  Median: 4.0\n",
      "Sections without misses: Mean: 3.51388888889  Std: 0.912765266703  Median: 4.0\n",
      "WilcoxonResult(statistic=162.0, pvalue=0.3161562050651987)\n",
      "\n",
      "\n",
      "7 This monitoring system is dependable\n",
      "Sections with misses: Mean: 3.23611111111  Std: 0.905125153341  Median: 3.5\n",
      "Sections without misses: Mean: 3.38888888889  Std: 0.890623307882  Median: 4.0\n",
      "WilcoxonResult(statistic=201.0, pvalue=0.12730937393838346)\n",
      "\n",
      "\n",
      "8 I would use such a monitoring system for an elderly family member\n",
      "Sections with misses: Mean: 3.13888888889  Std: 1.00423486014  Median: 3.0\n",
      "Sections without misses: Mean: 3.33333333333  Std: 1.02740233383  Median: 4.0\n",
      "WilcoxonResult(statistic=143.0, pvalue=0.024982939285505573)\n",
      "\n",
      "\n",
      "9 This monitoring system's actions will have a harmful outcome\n",
      "Sections with misses: Mean: 2.65277777778  Std: 0.852442931003  Median: 3.0\n",
      "Sections without misses: Mean: 2.56944444444  Std: 0.86323662407  Median: 2.0\n",
      "WilcoxonResult(statistic=175.0, pvalue=0.50103005652228416)\n",
      "\n",
      "\n"
     ]
    },
    {
     "data": {
      "text/markdown": [
       "## RQ2b Self-reported trust and system performance"
      ],
      "text/plain": [
       "<IPython.core.display.Markdown object>"
      ]
     },
     "metadata": {},
     "output_type": "display_data"
    },
    {
     "data": {
      "text/markdown": [
       "### Differences between Trust Scores vs System Performance (Hi FA vs Low FA ratio) – wilcoxon"
      ],
      "text/plain": [
       "<IPython.core.display.Markdown object>"
      ]
     },
     "metadata": {},
     "output_type": "display_data"
    },
    {
     "name": "stdout",
     "output_type": "stream",
     "text": [
      "Sections in exp1 with high FA: Mean: 2.93055555556  Std: 0.822029819831\n",
      "Sections in exp1 with low FA: Mean: 3.43055555556  Std: 0.86323662407\n",
      "WilcoxonResult(statistic=298.5, pvalue=0.00033768795351875271) \n",
      "\n",
      "Sections in exp2 with high FA: Mean: 2.66666666667  Std: 0.866025403784\n",
      "Sections in exp2 with low FA: Mean: 3.44444444444  Std: 0.880165528764\n",
      "WilcoxonResult(statistic=138.5, pvalue=1.4661349527624673e-07) \n",
      "\n",
      "Sections with high FA: Mean: 2.79861111111  Std: 0.854561787564\n",
      "Sections with low FA: Mean: 3.4375  Std: 0.871769831371\n",
      "WilcoxonResult(statistic=866.0, pvalue=3.9361456224513951e-10)\n"
     ]
    },
    {
     "data": {
      "text/markdown": [
       "### Differences between Trust Scores vs System Performance (with/without missed events) – wilcoxon"
      ],
      "text/plain": [
       "<IPython.core.display.Markdown object>"
      ]
     },
     "metadata": {},
     "output_type": "display_data"
    },
    {
     "data": {
      "text/markdown": [
       "Exp1: (AC vs BD) (A vs B) (C vs D)"
      ],
      "text/plain": [
       "<IPython.core.display.Markdown object>"
      ]
     },
     "metadata": {},
     "output_type": "display_data"
    },
    {
     "name": "stdout",
     "output_type": "stream",
     "text": [
      "Sections(AC) with Misses: Mean: 3.09722222222  Std: 0.868583172986\n",
      "Sections(BD) without Misses: Mean: 3.26388888889  Std: 0.881807732186\n",
      "WilcoxonResult(statistic=270.5, pvalue=0.12203663647757461) \n",
      "\n",
      "Sections(A) with Misses: Mean: 2.91666666667  Std: 0.759202798262\n",
      "Sections(B) without Misses: Mean: 2.94444444444  Std: 0.880165528764\n",
      "WilcoxonResult(statistic=100.0, pvalue=0.84021423104873694) \n",
      "\n",
      "Sections(C) with Misses: Mean: 3.27777777778  Std: 0.931280811902\n",
      "Sections(D) without Misses: Mean: 3.58333333333  Std: 0.759202798262\n",
      "WilcoxonResult(statistic=44.0, pvalue=0.058001211965000389)\n"
     ]
    },
    {
     "data": {
      "text/markdown": [
       "Exp2: (AC vs BD)"
      ],
      "text/plain": [
       "<IPython.core.display.Markdown object>"
      ]
     },
     "metadata": {},
     "output_type": "display_data"
    },
    {
     "name": "stdout",
     "output_type": "stream",
     "text": [
      "Sections(AC) with Misses: Mean: 2.90277777778  Std: 1.0159795796\n",
      "Sections(BD) without Misses: Mean: 3.20833333333  Std: 0.865022478834\n",
      "WilcoxonResult(statistic=182.0, pvalue=0.0057781171172439569) \n",
      "\n"
     ]
    },
    {
     "data": {
      "text/markdown": [
       "Combined exps: (ACAC vs BDBD)"
      ],
      "text/plain": [
       "<IPython.core.display.Markdown object>"
      ]
     },
     "metadata": {},
     "output_type": "display_data"
    },
    {
     "name": "stdout",
     "output_type": "stream",
     "text": [
      "Sections with Misses: Mean: 3.0  Std: 0.950146187583\n",
      "Sections without Misses: Mean: 3.23611111111  Std: 0.873897012041\n",
      "WilcoxonResult(statistic=898.0, pvalue=0.0028003192548645157) \n",
      "\n"
     ]
    }
   ],
   "source": [
    "display(Markdown('# RQ2 Opinion and self-reported trust vs system performance'))\n",
    "display(Markdown('## RQ2a Opinion about the system & system performance'))\n",
    "display(Markdown('### Differences between answers to S3, S4, S7, S8, S9 and System Performance (Hi FA vs Lo FA) '))\n",
    "\n",
    "Q_id = np.array([3,4,7,8,9])-1\n",
    "\n",
    "Qs = [\n",
    "'How often did you attend to the system\\'s alerts?',\n",
    "'How often did you check on the residents?',\n",
    "'How much do you think this monitoring system needs to improve so you won\\'t feel the need to check on residents at all?',\n",
    "'I can rely on this monitoring system to function properly',\n",
    "'I know how to use this monitoring system to perform well (even if I don\\'t know exactly how it works)',\n",
    "'I know how to use this monitoring system to take care of the residents (even if I don\\'t know exactly how it works)', \n",
    "'This monitoring system is dependable',\n",
    "'I would use such a monitoring system for an elderly family member',\n",
    "'This monitoring system\\'s actions will have a harmful outcome',\n",
    "'My decisions were the most appropriate ones']\n",
    "\n",
    "for ids in Q_id: \n",
    "    pstq = exp_pstq[:,np.arange(ids,40,10)]\n",
    "    pstq_set1 = pstq[:, [0,1]].T.ravel()\n",
    "    pstq_set2 = pstq[:, [2,3]].T.ravel()\n",
    "    print(ids+1,Qs[ids])\n",
    "    print('Sections with high FA: Mean:', pstq_set1.mean(),' Std:',pstq_set1.std(),' Median:',np.median(pstq_set1))\n",
    "    print('Sections with low FA: Mean:', pstq_set2.mean(),' Std:',pstq_set2.std(),' Median:',np.median(pstq_set2))\n",
    "    print(sp.wilcoxon(pstq_set1,pstq_set2))\n",
    "    print('\\n')\n",
    "\n",
    "display(Markdown('## RQ2a Opinion about the system & system performance'))\n",
    "display(Markdown('### Differences between answers to S3, S4, S7, S9 and System Performance (with/without missed events) – Wilcoxon signed-ranked test'))\n",
    "for ids in Q_id: \n",
    "    pstq = exp_pstq[:,np.arange(ids,40,10)]\n",
    "    pstq_set1 = pstq[:, [0,2]].T.ravel()\n",
    "    pstq_set2 = pstq[:, [1,3]].T.ravel()\n",
    "    print(ids+1,Qs[ids])\n",
    "    print('Sections with misses: Mean:', pstq_set1.mean(),' Std:',pstq_set1.std(),' Median:',np.median(pstq_set1))\n",
    "    print('Sections without misses: Mean:', pstq_set2.mean(),' Std:',pstq_set2.std(),' Median:',np.median(pstq_set2))\n",
    "    print(sp.wilcoxon(pstq_set1,pstq_set2))\n",
    "    print('\\n')\n",
    "\n",
    "display(Markdown('## RQ2b Self-reported trust and system performance'))\n",
    "display(Markdown('### Differences between Trust Scores vs System Performance (Hi FA vs Low FA ratio) – wilcoxon'))\n",
    "\n",
    "# within subject exp1: high/low false rate\n",
    "\n",
    "exp1_trust_hifalse = exp1_trust[:, np.r_[0:4]].T.ravel()\n",
    "exp1_trust_lofalse = exp1_trust[:, np.r_[4:8]].T.ravel()\n",
    "\n",
    "print('Sections in exp1 with high FA: Mean:', exp1_trust_hifalse.mean(),' Std:',exp1_trust_hifalse.std())\n",
    "print('Sections in exp1 with low FA: Mean:', exp1_trust_lofalse.mean(),' Std:',exp1_trust_lofalse.std())\n",
    "print(sp.wilcoxon(exp1_trust_hifalse,exp1_trust_lofalse),'\\n')\n",
    "\n",
    "# within subject exp2: high/low false rate\n",
    "\n",
    "exp2_trust_hifalse = exp2_trust[:, np.r_[4:8]].T.ravel()\n",
    "exp2_trust_lofalse = exp2_trust[:, np.r_[0:4]].T.ravel()\n",
    "\n",
    "print('Sections in exp2 with high FA: Mean:', exp2_trust_hifalse.mean(),' Std:',exp2_trust_hifalse.std())\n",
    "print('Sections in exp2 with low FA: Mean:', exp2_trust_lofalse.mean(),' Std:',exp2_trust_lofalse.std())\n",
    "print(sp.wilcoxon(exp2_trust_hifalse,exp2_trust_lofalse),'\\n')\n",
    "\n",
    "# within subject all exps: high/low false rate\n",
    "\n",
    "exp_trust_hifalse = exp_trust[:, np.r_[0:4]].T.ravel()\n",
    "exp_trust_lofalse = exp_trust[:, np.r_[4:8]].T.ravel()\n",
    "\n",
    "print('Sections with high FA: Mean:',exp_trust_hifalse.mean(),' Std:',exp_trust_hifalse.std())\n",
    "print('Sections with low FA: Mean:',exp_trust_lofalse.mean(),' Std:',exp_trust_lofalse.std())\n",
    "print(sp.wilcoxon(exp_trust_hifalse,exp_trust_lofalse))\n",
    "\n",
    "display(Markdown('### Differences between Trust Scores vs System Performance (with/without missed events) – wilcoxon'))\n",
    "display(Markdown('Exp1: (AC vs BD) (A vs B) (C vs D)'))\n",
    "# exp1 AC&BD\n",
    "# within subject exp1: with/without misses \n",
    "\n",
    "exp1_trust_misses = np.hstack((exp1_trust[:,0],exp1_trust[:,1],exp1_trust[:,4],exp1_trust[:,5]))\n",
    "exp1_trust_nomisses = np.hstack((exp1_trust[:,2],exp1_trust[:,3],exp1_trust[:,6],exp1_trust[:,7]))\n",
    "\n",
    "print('Sections(AC) with Misses: Mean:',exp1_trust_misses.mean(),' Std:',exp1_trust_misses.std())\n",
    "print('Sections(BD) without Misses: Mean:',exp1_trust_nomisses.mean(),' Std:',exp1_trust_nomisses.std())\n",
    "print(sp.wilcoxon(exp1_trust_misses,exp1_trust_nomisses),'\\n')\n",
    "\n",
    "# exp1 A&B\n",
    "# within subject exp1: with/without misses \n",
    "\n",
    "exp1_trust_misses = np.hstack((exp1_trust[:,0],exp1_trust[:,1]))\n",
    "exp1_trust_nomisses = np.hstack((exp1_trust[:,2],exp1_trust[:,3]))\n",
    "\n",
    "print('Sections(A) with Misses: Mean:',exp1_trust_misses.mean(),' Std:',exp1_trust_misses.std())\n",
    "print('Sections(B) without Misses: Mean:',exp1_trust_nomisses.mean(),' Std:',exp1_trust_nomisses.std())\n",
    "print(sp.wilcoxon(exp1_trust_misses,exp1_trust_nomisses),'\\n')\n",
    "    \n",
    "# exp1 C&D\n",
    "\n",
    "# within subject exp1: with/without misses \n",
    "\n",
    "exp1_trust_misses = np.hstack((exp1_trust[:,4],exp1_trust[:,5]))\n",
    "exp1_trust_nomisses = np.hstack((exp1_trust[:,6],exp1_trust[:,7]))\n",
    "\n",
    "print('Sections(C) with Misses: Mean:',exp1_trust_misses.mean(),' Std:',exp1_trust_misses.std())\n",
    "print('Sections(D) without Misses: Mean:',exp1_trust_nomisses.mean(),' Std:',exp1_trust_nomisses.std())\n",
    "print(sp.wilcoxon(exp1_trust_misses,exp1_trust_nomisses))\n",
    "\n",
    "display(Markdown('Exp2: (AC vs BD)'))\n",
    "\n",
    "exp2_trust_misses = np.hstack((exp2_trust[:,4],exp2_trust[:,5],exp2_trust[:,0],exp2_trust[:,1]))\n",
    "exp2_trust_nomisses = np.hstack((exp2_trust[:,6],exp2_trust[:,7],exp2_trust[:,2],exp2_trust[:,3]))\n",
    "\n",
    "print('Sections(AC) with Misses: Mean:',exp2_trust_misses.mean(),' Std:',exp2_trust_misses.std())\n",
    "print('Sections(BD) without Misses: Mean:',exp2_trust_nomisses.mean(),' Std:',exp2_trust_nomisses.std())\n",
    "print(sp.wilcoxon(exp2_trust_misses,exp2_trust_nomisses),'\\n')\n",
    "\n",
    "display(Markdown('Combined exps: (ACAC vs BDBD)'))\n",
    "\n",
    "exp_trust_misses = np.hstack((exp_trust[:,0],exp_trust[:,1],exp_trust[:,4],exp_trust[:,5]))\n",
    "exp_trust_nomisses = np.hstack((exp_trust[:,2],exp_trust[:,3],exp_trust[:,6],exp_trust[:,7]))\n",
    "\n",
    "print('Sections with Misses: Mean:',exp_trust_misses.mean(),' Std:',exp_trust_misses.std())\n",
    "print('Sections without Misses: Mean:',exp_trust_nomisses.mean(),' Std:',exp_trust_nomisses.std())\n",
    "print(sp.wilcoxon(exp_trust_misses,exp_trust_nomisses),'\\n')"
   ]
  },
  {
   "cell_type": "code",
   "execution_count": 5,
   "metadata": {
    "scrolled": false
   },
   "outputs": [
    {
     "data": {
      "text/markdown": [
       "# RQ3 User behaviour vs system performance"
      ],
      "text/plain": [
       "<IPython.core.display.Markdown object>"
      ]
     },
     "metadata": {},
     "output_type": "display_data"
    },
    {
     "data": {
      "text/markdown": [
       "## RQ3a # attended events vs system performance"
      ],
      "text/plain": [
       "<IPython.core.display.Markdown object>"
      ]
     },
     "metadata": {},
     "output_type": "display_data"
    },
    {
     "data": {
      "text/markdown": [
       "### Number of Attended Events vs System Performance (Hi FA vs Low FA ratio)"
      ],
      "text/plain": [
       "<IPython.core.display.Markdown object>"
      ]
     },
     "metadata": {},
     "output_type": "display_data"
    },
    {
     "name": "stdout",
     "output_type": "stream",
     "text": [
      "Sections in exp1 with high FA: Mean: 12.0972222222  std: 3.52041554611\n",
      "Sections in exp1 with low FA: Mean: 12.5833333333  std: 3.22641011377\n",
      "WilcoxonResult(statistic=199.5, pvalue=0.2265233440190878)\n",
      "Sections in exp2 with high FA: Mean: 13.5972222222  std: 0.844257106413\n",
      "Sections in exp2 with low FA: Mean: 13.7222222222  std: 1.24969131991\n",
      "WilcoxonResult(statistic=137.5, pvalue=0.49544299015719051)\n",
      "Sections with high FA: Mean: 12.9097222222  std: 2.76363587619\n",
      "Sections with low FA: Mean: 13.0902777778  std: 2.41210257073\n",
      "WilcoxonResult(statistic=734.0, pvalue=0.45976100187109026)\n"
     ]
    },
    {
     "data": {
      "text/markdown": [
       "### Number of Attended Events vs System Performance (with/without missed events)"
      ],
      "text/plain": [
       "<IPython.core.display.Markdown object>"
      ]
     },
     "metadata": {},
     "output_type": "display_data"
    },
    {
     "name": "stdout",
     "output_type": "stream",
     "text": [
      "Sections in exp1 with Misses: Mean: 12.0694444444  std: 3.4169771765\n",
      "Sections in exp1 without Misses: Mean: 12.6111111111  std: 3.33148096679\n",
      "WilcoxonResult(statistic=181.5, pvalue=0.015867411918975085)\n",
      "Sections in exp2 with Misses: Mean: 13.4722222222  std: 1.35372143678\n",
      "Sections in exp2 without Misses: Mean: 13.8472222222  std: 0.615984357265\n",
      "WilcoxonResult(statistic=155.5, pvalue=0.0074203604488517448)\n",
      "Sections with Misses: Mean: 12.7708333333  std: 2.69185693342\n",
      "Sections without Misses: Mean: 13.2291666667  std: 2.47408442661\n",
      "WilcoxonResult(statistic=661.5, pvalue=0.00031940652206522189)\n"
     ]
    },
    {
     "data": {
      "text/markdown": [
       "## RQ3a # Proportion of Attended Alerts vs system performance"
      ],
      "text/plain": [
       "<IPython.core.display.Markdown object>"
      ]
     },
     "metadata": {},
     "output_type": "display_data"
    },
    {
     "data": {
      "text/markdown": [
       "### Proportion of Attended Alerts vs System Performance (high/low false alert rate)"
      ],
      "text/plain": [
       "<IPython.core.display.Markdown object>"
      ]
     },
     "metadata": {},
     "output_type": "display_data"
    },
    {
     "name": "stdout",
     "output_type": "stream",
     "text": [
      "Sections in exp1 with high FA: Mean: 0.711397058824  std: 0.271187855756\n",
      "Sections in exp1 with low FA: Mean: 0.760737628385  std: 0.290937429154\n",
      "WilcoxonResult(statistic=637.0, pvalue=0.090683264399483696)\n",
      "Sections in exp2 with high FA: Mean: 0.923260971055  std: 0.147013787047\n",
      "Sections in exp2 with low FA: Mean: 0.889460784314  std: 0.206191848372\n",
      "WilcoxonResult(statistic=415.0, pvalue=0.48348319953294583)\n",
      "Sections with high FA: Mean: 0.800428921569  std: 0.256818298231\n",
      "Sections with low FA: Mean: 0.84199929972  std: 0.244401881868\n",
      "WilcoxonResult(statistic=1973.5, pvalue=0.041389729388223169)\n"
     ]
    },
    {
     "data": {
      "text/markdown": [
       "### Proportion of Attended Alerts vs System Performance (with/without missed events)"
      ],
      "text/plain": [
       "<IPython.core.display.Markdown object>"
      ]
     },
     "metadata": {},
     "output_type": "display_data"
    },
    {
     "name": "stdout",
     "output_type": "stream",
     "text": [
      "Sections in exp1 with Misses: Mean: 0.752567693744  Std: 0.262934019479\n",
      "Sections in exp1 without Misses: Mean: 0.719566993464  Std: 0.299542759861\n",
      "WilcoxonResult(statistic=766.5, pvalue=0.63354007828065617)\n",
      "Sections in exp2 with Misses: Mean: 0.906921101774  Std: 0.158990822643\n",
      "Sections in exp2 without Misses: Mean: 0.905800653595  Std: 0.198546339282\n",
      "WilcoxonResult(statistic=379.5, pvalue=0.36779259583827439)\n",
      "Sections with Misses: Mean: 0.829744397759  Std: 0.230569802413\n",
      "Sections without Misses: Mean: 0.812683823529  Std: 0.270636289058\n",
      "WilcoxonResult(statistic=2437.0, pvalue=0.89447162535836877)\n"
     ]
    },
    {
     "data": {
      "text/markdown": [
       "## RQ3b Number of checks on residents vs system performance"
      ],
      "text/plain": [
       "<IPython.core.display.Markdown object>"
      ]
     },
     "metadata": {},
     "output_type": "display_data"
    },
    {
     "data": {
      "text/markdown": [
       "### Number of checks between high/low false alert rate"
      ],
      "text/plain": [
       "<IPython.core.display.Markdown object>"
      ]
     },
     "metadata": {},
     "output_type": "display_data"
    },
    {
     "name": "stdout",
     "output_type": "stream",
     "text": [
      "Sections in exp1 with high FA: Mean: 4.45833333333  std: 4.22603537609\n",
      "Sections in exp1 with low FA: Mean: 4.51388888889  std: 3.81878782235\n",
      "WilcoxonResult(statistic=914.0, pvalue=0.994092552538137)\n",
      "Sections in exp2 with high FA: Mean: 4.5  std: 4.03112887415\n",
      "Sections in exp2 with low FA: Mean: 4.31944444444  std: 4.08189222491\n",
      "WilcoxonResult(statistic=728.0, pvalue=0.56613616369335884)\n",
      "Sections with high FA: Mean: 4.38888888889  std: 4.15516932251\n",
      "Sections with low FA: Mean: 4.50694444444  std: 3.92640018864\n",
      "WilcoxonResult(statistic=3254.0, pvalue=0.70027091120901908)\n"
     ]
    },
    {
     "data": {
      "text/markdown": [
       "### Number of checks with/without missed events"
      ],
      "text/plain": [
       "<IPython.core.display.Markdown object>"
      ]
     },
     "metadata": {},
     "output_type": "display_data"
    },
    {
     "name": "stdout",
     "output_type": "stream",
     "text": [
      "Sections in exp1 with Misses: Mean: 4.59722222222  std: 4.16219667638\n",
      "Sections in exp1 without Misses: Mean: 4.375  std: 3.88529099439\n",
      "WilcoxonResult(statistic=720.0, pvalue=0.5227473515066704)\n",
      "Sections in exp2 with Misses: Mean: 4.63888888889  std: 3.93102176269\n",
      "Sections in exp2 without Misses: Mean: 4.18055555556  std: 4.16775448763\n",
      "WilcoxonResult(statistic=567.5, pvalue=0.13022985556804142)\n",
      "Sections with Misses: Mean: 4.61805555556  std: 4.04831331095\n",
      "Sections without Misses: Mean: 4.27777777778  std: 4.03017170237\n",
      "WilcoxonResult(statistic=2555.5, pvalue=0.13657196507066791)\n"
     ]
    },
    {
     "data": {
      "text/markdown": [
       "### Number of checks vs missed events in the previous segment."
      ],
      "text/plain": [
       "<IPython.core.display.Markdown object>"
      ]
     },
     "metadata": {},
     "output_type": "display_data"
    },
    {
     "data": {
      "text/markdown": [
       "Wilcoxon signed-ranked test for number of checks in consecutive segments."
      ],
      "text/plain": [
       "<IPython.core.display.Markdown object>"
      ]
     },
     "metadata": {},
     "output_type": "display_data"
    },
    {
     "name": "stdout",
     "output_type": "stream",
     "text": [
      "Exp1: Sec 1  Mean: 3.61111111111  Std: 4.41133500691\n",
      "Exp1: Sec 2  Mean: 4.77777777778  Std: 4.44166579807\n",
      "WilcoxonResult(statistic=36.5, pvalue=0.18082396332783868) \n",
      "\n",
      "Exp1: Sec 2  Mean: 4.77777777778  Std: 4.44166579807\n",
      "Exp1: Sec 3  Mean: 5.11111111111  Std: 3.81355606705\n",
      "WilcoxonResult(statistic=40.5, pvalue=0.7242514885299367) \n",
      "\n",
      "Exp1: Sec 3  Mean: 5.11111111111  Std: 3.81355606705\n",
      "Exp1: Sec 4  Mean: 4.33333333333  Std: 4.0551750202\n",
      "WilcoxonResult(statistic=30.5, pvalue=0.2922869621254035) \n",
      "\n",
      "Exp1: Sec 4  Mean: 4.33333333333  Std: 4.0551750202\n",
      "Exp1: Sec 5  Mean: 4.66666666667  Std: 2.78886675511\n",
      "WilcoxonResult(statistic=57.0, pvalue=0.56510600510745002) \n",
      "\n",
      "Exp1: Sec 5  Mean: 4.66666666667  Std: 2.78886675511\n",
      "Exp1: Sec 6  Mean: 5.33333333333  Std: 4.55826477706\n",
      "WilcoxonResult(statistic=39.0, pvalue=0.64381389671128475) \n",
      "\n",
      "Exp1: Sec 6  Mean: 5.33333333333  Std: 4.55826477706\n",
      "Exp1: Sec 7  Mean: 4.11111111111  Std: 3.75483227749\n",
      "WilcoxonResult(statistic=38.5, pvalue=0.12358778668842554) \n",
      "\n",
      "Exp1: Sec 7  Mean: 4.11111111111  Std: 3.75483227749\n",
      "Exp1: Sec 8  Mean: 3.94444444444  Std: 3.8074812646\n",
      "WilcoxonResult(statistic=25.5, pvalue=0.4984436914670709) \n",
      "\n",
      "Exp2: Sec 1  Mean: 3.83333333333  Std: 4.01732359773\n",
      "Exp2: Sec 2  Mean: 4.83333333333  Std: 3.35410196625\n",
      "WilcoxonResult(statistic=23.0, pvalue=0.20519386245574112) \n",
      "\n",
      "Exp2: Sec 2  Mean: 4.83333333333  Std: 3.35410196625\n",
      "Exp2: Sec 3  Mean: 4.16666666667  Std: 4.01732359773\n",
      "WilcoxonResult(statistic=32.0, pvalue=0.34382210506921285) \n",
      "\n",
      "Exp2: Sec 3  Mean: 4.16666666667  Std: 4.01732359773\n",
      "Exp2: Sec 4  Mean: 4.44444444444  Std: 4.75186772897\n",
      "WilcoxonResult(statistic=35.5, pvalue=0.47278308612015796) \n",
      "\n",
      "Exp2: Sec 4  Mean: 4.44444444444  Std: 4.75186772897\n",
      "Exp2: Sec 5  Mean: 4.88888888889  Std: 4.13506534798\n",
      "WilcoxonResult(statistic=70.0, pvalue=0.75775292428689722) \n",
      "\n",
      "Exp2: Sec 5  Mean: 4.88888888889  Std: 4.13506534798\n",
      "Exp2: Sec 6  Mean: 5.0  Std: 4.0551750202\n",
      "WilcoxonResult(statistic=52.0, pvalue=0.64682846867883348) \n",
      "\n",
      "Exp2: Sec 6  Mean: 5.0  Std: 4.0551750202\n",
      "Exp2: Sec 7  Mean: 4.66666666667  Std: 4.43471156522\n",
      "WilcoxonResult(statistic=45.5, pvalue=0.65804912784837688) \n",
      "\n",
      "Exp2: Sec 7  Mean: 4.66666666667  Std: 4.43471156522\n",
      "Exp2: Sec 8  Mean: 3.44444444444  Std: 3.20108006464\n",
      "WilcoxonResult(statistic=0.0, pvalue=0.0070583320485281004) \n",
      "\n"
     ]
    },
    {
     "name": "stderr",
     "output_type": "stream",
     "text": [
      "C:\\Users\\final\\Anaconda3\\lib\\site-packages\\scipy\\stats\\morestats.py:2397: UserWarning: Warning: sample size too small for normal approximation.\n",
      "  warnings.warn(\"Warning: sample size too small for normal approximation.\")\n"
     ]
    },
    {
     "data": {
      "text/markdown": [
       "### plots for number of checks in consecutive segments."
      ],
      "text/plain": [
       "<IPython.core.display.Markdown object>"
      ]
     },
     "metadata": {},
     "output_type": "display_data"
    },
    {
     "name": "stdout",
     "output_type": "stream",
     "text": [
      "#miss 3\n",
      "#check_c [ 1 10 11  4 14  5  0  6  2  1  8  0  3 13  0  4  2  2]\n",
      "#check_p [ 0  1 10  1 14  0  0  0  8  2  5  3 10  9  0  2  0  0]\n",
      "Estimated coefficients (true,RANSAC): 0.598355059464 0.266666666667 4.0\n"
     ]
    },
    {
     "data": {
      "image/png": "[encoded data removed]",
      "text/plain": [
       "<matplotlib.figure.Figure at 0x1368fffef60>"
      ]
     },
     "metadata": {},
     "output_type": "display_data"
    },
    {
     "name": "stdout",
     "output_type": "stream",
     "text": [
      "#miss 2\n",
      "#check_c [ 3  7  9  5  9  4  0  6  2  1  5  3  6 16  8  6  0  2]\n",
      "#check_p [ 1 10 11  4 14  5  0  6  2  1  8  0  3 13  0  4  2  2]\n",
      "Estimated coefficients (true,RANSAC): 0.103754396125 0.2 3.0\n"
     ]
    },
    {
     "data": {
      "image/png": "[encoded data removed]",
      "text/plain": [
       "<matplotlib.figure.Figure at 0x1368ffb4f60>"
      ]
     },
     "metadata": {},
     "output_type": "display_data"
    },
    {
     "name": "stdout",
     "output_type": "stream",
     "text": [
      "#miss 0\n",
      "#check_c [ 1  3  7  6 14  6  0  2  2  1  1  1  7  7  5 13  0  2]\n",
      "#check_p [ 3  7  9  5  9  4  0  6  2  1  5  3  6 16  8  6  0  2]\n",
      "Estimated coefficients (true,RANSAC): 0.332868543082 0.0588235294118 1.0\n"
     ]
    },
    {
     "data": {
      "image/png": "[encoded data removed]",
      "text/plain": [
       "<matplotlib.figure.Figure at 0x1368fe49400>"
      ]
     },
     "metadata": {},
     "output_type": "display_data"
    },
    {
     "name": "stdout",
     "output_type": "stream",
     "text": [
      "#miss 0\n",
      "#check_c [ 7  6  8  6 10  5  0  5  3  3  5  0  6  8  1  6  4  1]\n",
      "#check_p [ 1  3  7  6 14  6  0  2  2  1  1  1  7  7  5 13  0  2]\n",
      "Estimated coefficients (true,RANSAC): 4.69642868915 0.0666666666667 1.0\n"
     ]
    },
    {
     "data": {
      "image/png": "[encoded data removed]",
      "text/plain": [
       "<matplotlib.figure.Figure at 0x1368fa7dfd0>"
      ]
     },
     "metadata": {},
     "output_type": "display_data"
    },
    {
     "name": "stdout",
     "output_type": "stream",
     "text": [
      "#miss 2\n",
      "#check_c [ 7  6  7  5 15  5  0  1  1  2  6  0  3  9  2 16  9  2]\n",
      "#check_p [ 7  6  8  6 10  5  0  5  3  3  5  0  6  8  1  6  4  1]\n",
      "Estimated coefficients (true,RANSAC): -0.000137371346451 0.272727272727 3.0\n"
     ]
    },
    {
     "data": {
      "image/png": "[encoded data removed]",
      "text/plain": [
       "<matplotlib.figure.Figure at 0x1368f8c50f0>"
      ]
     },
     "metadata": {},
     "output_type": "display_data"
    },
    {
     "name": "stdout",
     "output_type": "stream",
     "text": [
      "#miss 2\n",
      "#check_c [ 5  3  8  4 16  5  0  4  0  0  4  2  5  5  0  8  2  3]\n",
      "#check_p [ 7  6  7  5 15  5  0  1  1  2  6  0  3  9  2 16  9  2]\n",
      "Estimated coefficients (true,RANSAC): 1.65651267509 0.176470588235 3.0\n"
     ]
    },
    {
     "data": {
      "image/png": "[encoded data removed]",
      "text/plain": [
       "<matplotlib.figure.Figure at 0x1368fd66358>"
      ]
     },
     "metadata": {},
     "output_type": "display_data"
    },
    {
     "name": "stdout",
     "output_type": "stream",
     "text": [
      "#miss 0\n",
      "#check_c [ 3  3  5  4 17  5  0  3  0  3  4  1  2  6  0  5  8  2]\n",
      "#check_p [ 5  3  8  4 16  5  0  4  0  0  4  2  5  5  0  8  2  3]\n",
      "Estimated coefficients (true,RANSAC): 0.0499292897871 0.0588235294118 1.0\n"
     ]
    },
    {
     "data": {
      "image/png": "[encoded data removed]",
      "text/plain": [
       "<matplotlib.figure.Figure at 0x1368fa95128>"
      ]
     },
     "metadata": {},
     "output_type": "display_data"
    },
    {
     "name": "stdout",
     "output_type": "stream",
     "text": [
      "#miss 2\n",
      "#check_c [ 5  0  0  2  5  0  1 14  9 10  8  0  6  2  9  8  7  4]\n",
      "#check_p [ 6  0  1  1  4  1  1 10  2 12 11  4  8  2 12  0  6  7]\n",
      "Estimated coefficients (true,RANSAC): 0.544836470371\n"
     ]
    },
    {
     "ename": "NameError",
     "evalue": "name 'lw' is not defined",
     "output_type": "error",
     "traceback": [
      "\u001b[1;31m---------------------------------------------------------------------------\u001b[0m",
      "\u001b[1;31mNameError\u001b[0m                                 Traceback (most recent call last)",
      "\u001b[1;32m<ipython-input-5-5a1484a62a8c>\u001b[0m in \u001b[0;36m<module>\u001b[1;34m()\u001b[0m\n\u001b[0;32m    250\u001b[0m     \u001b[0mplt\u001b[0m\u001b[1;33m.\u001b[0m\u001b[0mscatter\u001b[0m\u001b[1;33m(\u001b[0m\u001b[0msys\u001b[0m\u001b[1;33m[\u001b[0m\u001b[0minlier_mask\u001b[0m\u001b[1;33m]\u001b[0m\u001b[1;33m,\u001b[0m \u001b[0mcheck_chgs\u001b[0m\u001b[1;33m[\u001b[0m\u001b[0minlier_mask\u001b[0m\u001b[1;33m]\u001b[0m\u001b[1;33m,\u001b[0m \u001b[0mcolor\u001b[0m\u001b[1;33m=\u001b[0m\u001b[1;34m'blue'\u001b[0m\u001b[1;33m,\u001b[0m \u001b[0mmarker\u001b[0m\u001b[1;33m=\u001b[0m\u001b[1;34m'.'\u001b[0m\u001b[1;33m,\u001b[0m \u001b[0mlabel\u001b[0m\u001b[1;33m=\u001b[0m\u001b[1;34m'Inliers'\u001b[0m\u001b[1;33m)\u001b[0m\u001b[1;33m\u001b[0m\u001b[0m\n\u001b[0;32m    251\u001b[0m     \u001b[0mplt\u001b[0m\u001b[1;33m.\u001b[0m\u001b[0mscatter\u001b[0m\u001b[1;33m(\u001b[0m\u001b[0msys\u001b[0m\u001b[1;33m[\u001b[0m\u001b[0moutlier_mask\u001b[0m\u001b[1;33m]\u001b[0m\u001b[1;33m,\u001b[0m \u001b[0mcheck_chgs\u001b[0m\u001b[1;33m[\u001b[0m\u001b[0moutlier_mask\u001b[0m\u001b[1;33m]\u001b[0m\u001b[1;33m,\u001b[0m \u001b[0mcolor\u001b[0m\u001b[1;33m=\u001b[0m\u001b[1;34m'red'\u001b[0m\u001b[1;33m,\u001b[0m \u001b[0mmarker\u001b[0m\u001b[1;33m=\u001b[0m\u001b[1;34m'.'\u001b[0m\u001b[1;33m,\u001b[0m \u001b[0mlabel\u001b[0m\u001b[1;33m=\u001b[0m\u001b[1;34m'Outliers'\u001b[0m\u001b[1;33m)\u001b[0m\u001b[1;33m\u001b[0m\u001b[0m\n\u001b[1;32m--> 252\u001b[1;33m     \u001b[0mplt\u001b[0m\u001b[1;33m.\u001b[0m\u001b[0mplot\u001b[0m\u001b[1;33m(\u001b[0m\u001b[0mline_X\u001b[0m\u001b[1;33m,\u001b[0m \u001b[0mline_y_ransac\u001b[0m\u001b[1;33m,\u001b[0m \u001b[0mcolor\u001b[0m\u001b[1;33m=\u001b[0m\u001b[1;34m'cornflowerblue'\u001b[0m\u001b[1;33m,\u001b[0m \u001b[0mlinewidth\u001b[0m\u001b[1;33m=\u001b[0m\u001b[0mlw\u001b[0m\u001b[1;33m,\u001b[0m \u001b[0mlabel\u001b[0m\u001b[1;33m=\u001b[0m\u001b[1;34m'RANSAC regressor'\u001b[0m\u001b[1;33m)\u001b[0m\u001b[1;33m\u001b[0m\u001b[0m\n\u001b[0m\u001b[0;32m    253\u001b[0m     \u001b[0mplt\u001b[0m\u001b[1;33m.\u001b[0m\u001b[0mlegend\u001b[0m\u001b[1;33m(\u001b[0m\u001b[0mloc\u001b[0m\u001b[1;33m=\u001b[0m\u001b[1;34m'upper right'\u001b[0m\u001b[1;33m)\u001b[0m\u001b[1;33m\u001b[0m\u001b[0m\n\u001b[0;32m    254\u001b[0m \u001b[1;33m\u001b[0m\u001b[0m\n",
      "\u001b[1;31mNameError\u001b[0m: name 'lw' is not defined"
     ]
    },
    {
     "data": {
      "image/png": "[encoded data removed]",
      "text/plain": [
       "<matplotlib.figure.Figure at 0x1368f989978>"
      ]
     },
     "metadata": {},
     "output_type": "display_data"
    }
   ],
   "source": [
    "display(Markdown('# RQ3 User behaviour vs system performance'))\n",
    "display(Markdown('## RQ3a # attended events vs system performance'))\n",
    "display(Markdown('### Number of Attended Events vs System Performance (Hi FA vs Low FA ratio)'))\n",
    "\n",
    "# exp1 within population: high/low false rate\n",
    "exp1_attend_hifalse = exp1_attend[:, np.r_[0:4]].T.ravel()\n",
    "exp1_attend_lofalse = exp1_attend[:, np.r_[4:8]].T.ravel()\n",
    "print('Sections in exp1 with high FA: Mean:', exp1_attend_hifalse.mean(),' std:',exp1_attend_hifalse.std())\n",
    "print('Sections in exp1 with low FA: Mean:', exp1_attend_lofalse.mean(),' std:',exp1_attend_lofalse.std())\n",
    "print(sp.wilcoxon(exp1_attend_hifalse,exp1_attend_lofalse))\n",
    "\n",
    "# exp2 within population: high/low false rate\n",
    "exp2_attend_hifalse = exp2_attend[:, np.r_[0:4]].T.ravel()\n",
    "exp2_attend_lofalse = exp2_attend[:, np.r_[4:8]].T.ravel()\n",
    "print('Sections in exp2 with high FA: Mean:', exp2_attend_hifalse.mean(),' std:',exp2_attend_hifalse.std())\n",
    "print('Sections in exp2 with low FA: Mean:', exp2_attend_lofalse.mean(),' std:',exp2_attend_lofalse.std())\n",
    "print(sp.wilcoxon(exp2_attend_hifalse,exp2_attend_lofalse))\n",
    "\n",
    "# within population: high/low false rate\n",
    "exp_attend_hifalse = exp_attend[:, np.r_[0:4]].T.ravel()\n",
    "exp_attend_lofalse = exp_attend[:, np.r_[4:8]].T.ravel()\n",
    "print('Sections with high FA: Mean:', exp_attend_hifalse.mean(),' std:',exp_attend_hifalse.std())\n",
    "print('Sections with low FA: Mean:', exp_attend_lofalse.mean(),' std:',exp_attend_lofalse.std())\n",
    "print(sp.wilcoxon(exp_attend_hifalse,exp_attend_lofalse))\n",
    "display(Markdown('### Number of Attended Events vs System Performance (with/without missed events)'))\n",
    "\n",
    "# exp1 within population with/without misses\n",
    "exp1_attend_misses = np.hstack((exp1_attend[:,0],exp1_attend[:,1],exp1_attend[:,4],exp1_attend[:,5]))\n",
    "exp1_attend_nomisses = np.hstack((exp1_attend[:,2],exp1_attend[:,3],exp1_attend[:,6],exp1_attend[:,7]))\n",
    "print('Sections in exp1 with Misses: Mean:', exp1_attend_misses.mean(),' std:',exp1_attend_misses.std())\n",
    "print('Sections in exp1 without Misses: Mean:', exp1_attend_nomisses.mean(),' std:',exp1_attend_nomisses.std())\n",
    "print(sp.wilcoxon(exp1_attend_misses,exp1_attend_nomisses))\n",
    "\n",
    "# exp2 within population with/without misses\n",
    "exp2_attend_misses = np.hstack((exp2_attend[:,0],exp2_attend[:,1],exp2_attend[:,4],exp2_attend[:,5]))\n",
    "exp2_attend_nomisses = np.hstack((exp2_attend[:,2],exp2_attend[:,3],exp2_attend[:,6],exp2_attend[:,7]))\n",
    "print('Sections in exp2 with Misses: Mean:', exp2_attend_misses.mean(),' std:',exp2_attend_misses.std())\n",
    "print('Sections in exp2 without Misses: Mean:', exp2_attend_nomisses.mean(),' std:',exp2_attend_nomisses.std())\n",
    "print(sp.wilcoxon(exp2_attend_misses,exp2_attend_nomisses))\n",
    "\n",
    "# within population with/without misses\n",
    "exp_attend_misses = np.hstack((exp_attend[:,0],exp_attend[:,1],exp_attend[:,4],exp_attend[:,5]))\n",
    "exp_attend_nomisses = np.hstack((exp_attend[:,2],exp_attend[:,3],exp_attend[:,6],exp_attend[:,7]))\n",
    "print('Sections with Misses: Mean:', exp_attend_misses.mean(),' std:',exp_attend_misses.std())\n",
    "print('Sections without Misses: Mean:', exp_attend_nomisses.mean(),' std:',exp_attend_nomisses.std())\n",
    "print(sp.wilcoxon(exp_attend_misses,exp_attend_nomisses))\n",
    "\n",
    "display(Markdown('## RQ3a # Proportion of Attended Alerts vs system performance'))\n",
    "display(Markdown('### Proportion of Attended Alerts vs System Performance (high/low false alert rate)'))\n",
    "\n",
    "# within subject exp1: high/low false rate\n",
    "exp1_attend_alert_hifalse = (exp1_attend_alert_prop[:, np.r_[0:4]]).T.ravel()\n",
    "exp1_attend_alert_lofalse = (exp1_attend_alert_prop[:, np.r_[4:8]]).T.ravel()\n",
    "print('Sections in exp1 with high FA: Mean:',exp1_attend_alert_hifalse.mean(),' std:',exp1_attend_alert_hifalse.std())\n",
    "print('Sections in exp1 with low FA: Mean:',exp1_attend_alert_lofalse.mean(),' std:',exp1_attend_alert_lofalse.std())\n",
    "print(sp.wilcoxon(exp1_attend_alert_hifalse,exp1_attend_alert_lofalse))\n",
    "\n",
    "# within subject exp2: high/low false rate\n",
    "exp2_attend_alert_hifalse = (exp2_attend_alert_prop[:, np.r_[0:4]]).T.ravel()\n",
    "exp2_attend_alert_lofalse = (exp2_attend_alert_prop[:, np.r_[4:8]]).T.ravel()\n",
    "print('Sections in exp2 with high FA: Mean:',exp2_attend_alert_hifalse.mean(),' std:',exp2_attend_alert_hifalse.std())\n",
    "print('Sections in exp2 with low FA: Mean:',exp2_attend_alert_lofalse.mean(),' std:',exp2_attend_alert_lofalse.std())\n",
    "print(sp.wilcoxon(exp2_attend_alert_hifalse,exp2_attend_alert_lofalse))\n",
    "\n",
    "# within subject all exps: high/low false rate\n",
    "exp_attend_alert_hifalse = (exp_attend_alert_prop[:, np.r_[0:4]]).T.ravel()\n",
    "exp_attend_alert_lofalse = (exp_attend_alert_prop[:, np.r_[4:8]]).T.ravel()\n",
    "print('Sections with high FA: Mean:',exp_attend_alert_hifalse.mean(),' std:',exp_attend_alert_hifalse.std())\n",
    "print('Sections with low FA: Mean:',exp_attend_alert_lofalse.mean(),' std:',exp_attend_alert_lofalse.std())\n",
    "print(sp.wilcoxon(exp_attend_alert_hifalse,exp_attend_alert_lofalse))\n",
    "\n",
    "display(Markdown('### Proportion of Attended Alerts vs System Performance (with/without missed events)'))\n",
    "\n",
    "# within subject exp1: with/without misses\n",
    "exp1_attend_alert_misses = (exp1_attend_alert_prop[:, np.r_[0,1,4,5]]).T.ravel()\n",
    "exp1_attend_alert_nomisses = (exp1_attend_alert_prop[:, np.r_[2,3,6,7]]).T.ravel()\n",
    "print('Sections in exp1 with Misses: Mean:',exp1_attend_alert_misses.mean(),' Std:',exp1_attend_alert_misses.std())\n",
    "print('Sections in exp1 without Misses: Mean:',exp1_attend_alert_nomisses.mean(),' Std:',exp1_attend_alert_nomisses.std())\n",
    "print(sp.wilcoxon(exp1_attend_alert_misses,exp1_attend_alert_nomisses))\n",
    "\n",
    "# within subject exp2: with/without misses\n",
    "exp2_attend_alert_misses = (exp2_attend_alert_prop[:, np.r_[0,1,4,5]]).T.ravel()\n",
    "exp2_attend_alert_nomisses = (exp2_attend_alert_prop[:, np.r_[2,3,6,7]]).T.ravel()\n",
    "print('Sections in exp2 with Misses: Mean:',exp2_attend_alert_misses.mean(),' Std:',exp2_attend_alert_misses.std())\n",
    "print('Sections in exp2 without Misses: Mean:',exp2_attend_alert_nomisses.mean(),' Std:',exp2_attend_alert_nomisses.std())\n",
    "print(sp.wilcoxon(exp2_attend_alert_misses,exp2_attend_alert_nomisses))\n",
    "\n",
    "# within subject all exp: with/without misses\n",
    "exp_attend_alert_misses = (exp_attend_alert_prop[:, np.r_[0,1,4,5]]).T.ravel()\n",
    "exp_attend_alert_nomisses = (exp_attend_alert_prop[:, np.r_[2,3,6,7]]).T.ravel()\n",
    "print('Sections with Misses: Mean:',exp_attend_alert_misses.mean(),' Std:',exp_attend_alert_misses.std())\n",
    "print('Sections without Misses: Mean:',exp_attend_alert_nomisses.mean(),' Std:',exp_attend_alert_nomisses.std())\n",
    "print(sp.wilcoxon(exp_attend_alert_misses,exp_attend_alert_nomisses))\n",
    "\n",
    "display(Markdown('## RQ3b Number of checks on residents vs system performance'))\n",
    "display(Markdown('### Number of checks between high/low false alert rate'))\n",
    "\n",
    "# exp1 within population: high/low false rate\n",
    "exp1_check_hifalse = exp1_check[:, np.r_[0:4]].T.ravel()\n",
    "exp1_check_lofalse = exp1_check[:, np.r_[4:8]].T.ravel()\n",
    "print('Sections in exp1 with high FA: Mean:', exp1_check_hifalse.mean(),' std:',exp1_check_hifalse.std())\n",
    "print('Sections in exp1 with low FA: Mean:',exp1_check_lofalse.mean(),' std:',exp1_check_lofalse.std())\n",
    "print(sp.wilcoxon(exp1_check_hifalse,exp1_check_lofalse))\n",
    "\n",
    "# exp2 within population: high/low false rate\n",
    "exp2_check_hifalse = exp2_check[:, np.r_[0:4]].T.ravel()\n",
    "exp2_check_lofalse = exp2_check[:, np.r_[4:8]].T.ravel()\n",
    "print('Sections in exp2 with high FA: Mean:', exp2_check_hifalse.mean(),' std:',exp2_check_hifalse.std())\n",
    "print('Sections in exp2 with low FA: Mean:',exp2_check_lofalse.mean(),' std:',exp2_check_lofalse.std())\n",
    "print(sp.wilcoxon(exp2_check_hifalse,exp2_check_lofalse))\n",
    "\n",
    "# within population: high/low false rate\n",
    "exp_check_hifalse = exp_check[:, np.r_[0:4]].T.ravel()\n",
    "exp_check_lofalse = exp_check[:, np.r_[4:8]].T.ravel()\n",
    "print('Sections with high FA: Mean:', exp_check_hifalse.mean(),' std:',exp_check_hifalse.std())\n",
    "print('Sections with low FA: Mean:',exp_check_lofalse.mean(),' std:',exp_check_lofalse.std())\n",
    "print(sp.wilcoxon(exp_check_hifalse,exp_check_lofalse))\n",
    "\n",
    "display(Markdown('### Number of checks with/without missed events'))\n",
    "\n",
    "# exp1 within population with/without misses\n",
    "exp1_check_misses = np.hstack((exp1_check[:,0],exp1_check[:,1],exp1_check[:,4],exp1_check[:,5]))\n",
    "exp1_check_nomisses = np.hstack((exp1_check[:,2],exp1_check[:,3],exp1_check[:,6],exp1_check[:,7]))\n",
    "print('Sections in exp1 with Misses: Mean:',exp1_check_misses.mean(),' std:',exp1_check_misses.std())\n",
    "print('Sections in exp1 without Misses: Mean:',exp1_check_nomisses.mean(),' std:',exp1_check_nomisses.std())\n",
    "print(sp.wilcoxon(exp1_check_misses,exp1_check_nomisses))\n",
    "\n",
    "# exp2 within population with/without misses\n",
    "exp2_check_misses = np.hstack((exp2_check[:,0],exp2_check[:,1],exp2_check[:,4],exp2_check[:,5]))\n",
    "exp2_check_nomisses = np.hstack((exp2_check[:,2],exp2_check[:,3],exp2_check[:,6],exp2_check[:,7]))\n",
    "print('Sections in exp2 with Misses: Mean:',exp2_check_misses.mean(),' std:',exp2_check_misses.std())\n",
    "print('Sections in exp2 without Misses: Mean:',exp2_check_nomisses.mean(),' std:',exp2_check_nomisses.std())\n",
    "print(sp.wilcoxon(exp2_check_misses,exp2_check_nomisses))\n",
    "\n",
    "# within population with/without misses\n",
    "exp_check_misses = np.hstack((exp_check[:,0],exp_check[:,1],exp_check[:,4],exp_check[:,5]))\n",
    "exp_check_nomisses = np.hstack((exp_check[:,2],exp_check[:,3],exp_check[:,6],exp_check[:,7]))\n",
    "print('Sections with Misses: Mean:',exp_check_misses.mean(),' std:',exp_check_misses.std())\n",
    "print('Sections without Misses: Mean:',exp_check_nomisses.mean(),' std:',exp_check_nomisses.std())\n",
    "print(sp.wilcoxon(exp_check_misses,exp_check_nomisses))\n",
    "\n",
    "display(Markdown('### Number of checks vs missed events in the previous segment.'))\n",
    "display(Markdown('Wilcoxon signed-ranked test for number of checks in consecutive segments.'))\n",
    "\n",
    "# pearson correlation\n",
    "\n",
    "for sec_i in range(7):\n",
    "    exp_check_1st=exp_check[:n_participant-1,sec_i]\n",
    "    exp_check_2nd=exp_check[:n_participant-1,sec_i+1]\n",
    "    print('Exp1: Sec',sec_i+1,' Mean:',exp_check_1st.mean(),' Std:',exp_check_1st.std())\n",
    "    print('Exp1: Sec',sec_i+2,' Mean:',exp_check_2nd.mean(),' Std:',exp_check_2nd.std())\n",
    "    print(sp.wilcoxon(exp_check_1st.T.ravel(), exp_check_2nd.T.ravel()),'\\n')\n",
    "\n",
    "for sec_i in range(7):\n",
    "    exp_check_1st=exp_check[n_participant-1:,sec_i]\n",
    "    exp_check_2nd=exp_check[n_participant-1:,sec_i+1]\n",
    "    print('Exp2: Sec',sec_i+1,' Mean:',exp_check_1st.mean(),' Std:',exp_check_1st.std())\n",
    "    print('Exp2: Sec',sec_i+2,' Mean:',exp_check_2nd.mean(),' Std:',exp_check_2nd.std())\n",
    "    print(sp.wilcoxon(exp_check_1st.T.ravel(), exp_check_2nd.T.ravel()),'\\n')\n",
    "\n",
    "# display(Markdown('### Correlation for number of checks in consecutive segments.'))\n",
    "\n",
    "# # pearson correlation\n",
    "\n",
    "# for sec_i in range(7):\n",
    "#     exp_check_1st=exp_check[:n_participant-1,sec_i]\n",
    "#     exp_check_2nd=exp_check[:n_participant-1,sec_i+1]\n",
    "#     print('Exp1: Sec',sec_i+1,' Mean:',exp_check_1st.mean(),' Std:',exp_check_1st.std())\n",
    "#     print('Exp1: Sec',sec_i+2,' Mean:',exp_check_2nd.mean(),' Std:',exp_check_2nd.std())\n",
    "#     pear_ = sp.pearsonr(exp_check_1st.T.ravel(), exp_check_2nd.T.ravel())\n",
    "#     print('PearsonrResult(correlation=',pear_[0],', pvalue=',pear_[1],sep='')\n",
    "#     print(sp.spearmanr(exp_check_1st.T.ravel(), exp_check_2nd.T.ravel()),'\\n')\n",
    "\n",
    "# for sec_i in range(7):\n",
    "#     exp_check_1st=exp_check[n_participant-1:,sec_i]\n",
    "#     exp_check_2nd=exp_check[n_participant-1:,sec_i+1]\n",
    "#     print('Exp2: Sec',sec_i+1,sec_i+2)\n",
    "#     print('Exp1: Sec',sec_i+1,' Mean:',exp_check_1st.mean(),' Std:',exp_check_1st.std())\n",
    "#     print('Exp1: Sec',sec_i+2,' Mean:',exp_check_2nd.mean(),' Std:',exp_check_2nd.std())\n",
    "#     pear_ = sp.pearsonr(exp_check_1st.T.ravel(), exp_check_2nd.T.ravel())\n",
    "#     print('PearsonrResult(correlation=',pear_[0],', pvalue=',pear_[1],sep='')\n",
    "#     print(sp.spearmanr(exp_check_1st.T.ravel(), exp_check_2nd.T.ravel()),'\\n')\n",
    "\n",
    "display(Markdown('### plots for number of checks in consecutive segments.'))\n",
    "\n",
    "# Correlation between # Checks and previous misses\n",
    "\n",
    "num_miss = np.array([3,2,0,0,2,2,0])\n",
    "\n",
    "for sec_i in range(7):\n",
    "    sys = (num_miss[sec_i]+1)/(exp1_check[:,sec_i]+1)\n",
    "    check_chgs = (exp1_check[:,sec_i+1]-exp1_check[:,sec_i])/(exp1_check[:,sec_i]+1)\n",
    "    print('#miss',num_miss[sec_i])\n",
    "    print('#check_c',exp1_check[:,sec_i+1])\n",
    "    print('#check_p',exp1_check[:,sec_i])\n",
    "\n",
    "    sys = sys.reshape((-1,1))\n",
    "    check_chgs = check_chgs.reshape((-1,1))\n",
    "    \n",
    "    # Robustly fit linear model with RANSAC algorithm\n",
    "    ransac = linear_model.RANSACRegressor(random_state=1)\n",
    "    ransac.fit(sys, check_chgs)\n",
    "    inlier_mask = ransac.inlier_mask_\n",
    "    outlier_mask = np.logical_not(inlier_mask)\n",
    "    \n",
    "    # Predict data of estimated models\n",
    "    line_X = np.arange(sys.min(), sys.max(),0.1)[:, np.newaxis]\n",
    "    line_y_ransac = ransac.predict(line_X)\n",
    "    \n",
    "    print('Estimated coefficients (true,RANSAC):', ransac.estimator_.coef_[0][0], sys.min(), sys.max())\n",
    "\n",
    "    plt.figure()\n",
    "    axes = plt.gca()\n",
    "    axes.set_ylim([-1,8])\n",
    "    axes.set_xlim([0,4])\n",
    "    plt.scatter(sys[inlier_mask], check_chgs[inlier_mask], color='blue', marker='.', label='Inliers')\n",
    "    plt.scatter(sys[outlier_mask], check_chgs[outlier_mask], color='red', marker='.', label='Outliers')\n",
    "    plt.plot(line_X, line_y_ransac, color='cornflowerblue', linewidth=2, label='RANSAC regressor')\n",
    "    plt.legend(loc='upper right')\n",
    "\n",
    "    plt.title('Exp1: misses in Sec %s vs checks in Sec %s' %(sec_i+1,sec_i+2))   \n",
    "    plt.show()\n",
    "\n",
    "num_miss = np.array([2,2,0,0,3,2,0])\n",
    "\n",
    "for sec_i in range(7):\n",
    "    sys = (num_miss[sec_i]+1)/(exp2_check[:,sec_i]+1)\n",
    "    check_chgs = (exp2_check[:,sec_i+1]-exp2_check[:,sec_i])/(exp2_check[:,sec_i]+1)\n",
    "    print('#miss',num_miss[sec_i])\n",
    "    print('#check_c',exp2_check[:,sec_i+1])\n",
    "    print('#check_p',exp2_check[:,sec_i])\n",
    "    \n",
    "    sys = sys.reshape((-1,1))\n",
    "    check_chgs = check_chgs.reshape((-1,1))\n",
    "    \n",
    "    # Robustly fit linear model with RANSAC algorithm\n",
    "    ransac = linear_model.RANSACRegressor(random_state=1)\n",
    "    ransac.fit(sys, check_chgs)\n",
    "    inlier_mask = ransac.inlier_mask_\n",
    "    outlier_mask = np.logical_not(inlier_mask)\n",
    "    print('Estimated coefficients (true,RANSAC):', ransac.estimator_.coef_[0][0])\n",
    "\n",
    "    # Predict data of estimated models\n",
    "    line_X = np.arange(sys.min(), sys.max(),0.1)[:, np.newaxis]\n",
    "    line_y_ransac = ransac.predict(line_X)\n",
    "    plt.figure()\n",
    "    axes = plt.gca()\n",
    "    axes.set_ylim([-1,8])\n",
    "    axes.set_xlim([0,4])\n",
    "    plt.scatter(sys[inlier_mask], check_chgs[inlier_mask], color='blue', marker='.', label='Inliers')\n",
    "    plt.scatter(sys[outlier_mask], check_chgs[outlier_mask], color='red', marker='.', label='Outliers')\n",
    "    plt.plot(line_X, line_y_ransac, color='cornflowerblue', linewidth=lw, label='RANSAC regressor')\n",
    "    plt.legend(loc='upper right')\n",
    "    \n",
    "    plt.title('Exp2: misses in Sec %s vs checks in Sec %s' %(sec_i+1,sec_i+2))   \n",
    "    plt.show()\n"
   ]
  },
  {
   "cell_type": "code",
   "execution_count": null,
   "metadata": {
    "scrolled": true
   },
   "outputs": [],
   "source": [
    "display(Markdown('# RQ4 User Behaviour versus Self-reported Trust'))\n",
    "display(Markdown('## RQ4a Proportion of attends and self-reported trust'))\n",
    "display(Markdown('### Correlation between Number of Attended Events and Trust Scores'))\n",
    "\n",
    "# spearman correlation\n",
    "print(sp.spearmanr(exp_trust.T.ravel(), exp_attend.T.ravel()))\n",
    "\n",
    "display(Markdown('### Correlation between Proportion of Attended Alerts and Trust Scores'))\n",
    "\n",
    "# spearman correlation\n",
    "print(sp.spearmanr(exp_trust.T.ravel(), exp_attend_alert_prop.T.ravel()))\n",
    "\n",
    "display(Markdown('### Correlation between Proportion of Attended False Alerts and Trust Scores'))\n",
    "\n",
    "# spearman correlation\n",
    "print(sp.spearmanr(exp_trust.T.ravel(), exp_attendf_prop.T.ravel()))\n",
    "\n",
    "display(Markdown('## RQ4b Number of checks on residents versus self-reported trust'))\n",
    "display(Markdown('### Correlation between Number of Checks and Trust Scores'))\n",
    "\n",
    "# spearman correlation\n",
    "print(sp.spearmanr(exp_trust.T.ravel(), exp_check.T.ravel()))\n",
    "\n",
    "display(Markdown('## RQ4c Changes in OK reports vs behaviour and self-reported trust'))\n",
    "# display(Markdown('### Correlation between Number of Checks and Trust Scores'))\n",
    "\n",
    "# Correlation between selected report frequency and Number of attends\n",
    "# Correlation between selected report frequency and Number of checks\n",
    "# Correlation between selected report frequency and Trust Scores\n",
    "\n",
    "# count of frequency changes\n",
    "freq_type = ['Disabled','Low','High']\n",
    "freq_cnt = {key: 0 for key in freq_type}\n",
    "freq_cnt.update(Counter(exp_freq.ravel()))\n",
    "print(freq_cnt)\n",
    "\n",
    "def HLD(exp_, exp_freq, sec_idx=0):\n",
    "    if sec_idx==0:\n",
    "        exp_ = exp_[:, np.r_[0,2,4,6]].T.ravel()\n",
    "    else:\n",
    "        exp_ = exp_[:, np.r_[1,3,5,7]].T.ravel()\n",
    "        \n",
    "    exp_H = exp_[exp_freq.T.ravel()=='High']\n",
    "    exp_LD = exp_[exp_freq.T.ravel()!='High']\n",
    "    print('H Mean:',exp_H.mean(),' Std:',exp_H.std())\n",
    "    print('LD Mean:',exp_LD.mean(),' Std:',exp_LD.std())\n",
    "    print(sp.ranksums(exp_H, exp_LD))\n",
    "\n",
    "print('\\nWith previous section\\n')\n",
    "print('Proportion Alert:')\n",
    "HLD(exp_attend_alert_prop, exp_freq,0)\n",
    "print('# Check:')\n",
    "HLD(exp_check, exp_freq,0)\n",
    "print('Proportion attended False Alert:')\n",
    "HLD(exp_attendf_prop, exp_freq,0)\n",
    "\n",
    "print('\\nWith next section\\n')\n",
    "print('Proportion Alert:')\n",
    "HLD(exp_attend_alert_prop, exp_freq,1)\n",
    "print('# Check:')\n",
    "HLD(exp_check, exp_freq,1)\n",
    "print('Proportion attended False Alert:')\n",
    "HLD(exp_attendf_prop, exp_freq,1)"
   ]
  },
  {
   "cell_type": "code",
   "execution_count": null,
   "metadata": {},
   "outputs": [],
   "source": [
    "display(Markdown('## RQ5. User behaviour versus self-perceived behaviour'))\n",
    "display(Markdown('How often did you attend to the system\\'s alerts?'))\n",
    "# Answers to Q1\n",
    "pstq_Q1 = exp_pstq[:,np.arange(0,40,10)].ravel()\n",
    "# sum of attend proportion of two sections within the same system\n",
    "sum_attend_prop = np.sum(exp_attend_alert_prop.reshape((-1, 2)), axis=1)  \n",
    "# spearman correlation\n",
    "print(sp.spearmanr(pstq_Q1, sum_attend_prop))\n",
    "\n",
    "display(Markdown('How often did you check on the residents?'))\n",
    "# Answers to Q1\n",
    "pstq_Q2 = exp_pstq[:,np.arange(1,40,10)].ravel()\n",
    "# sum of attend proportion of two sections within the same system\n",
    "sum_check = np.sum(exp_check.reshape((-1, 2)), axis=1)  \n",
    "# spearman correlation\n",
    "print(sp.spearmanr(pstq_Q2, sum_check))\n",
    "\n",
    "display(Markdown('## RQ6. Confidence in user-system team performance'))\n",
    "Q_id = np.array([5,6,10])-1 # read question list from Qs\n",
    "pstq_id = np.array([])\n",
    "\n",
    "\n",
    "\n",
    "for ids in Q_id: \n",
    "    pstq = exp_pstq[:,np.arange(ids,40,10)]\n",
    "    pstq_id = np.hstack((pstq_id, pstq.ravel()))\n",
    "    \n",
    "    print('Q',ids+1,': ',Qs[ids],sep=\"\")\n",
    "    print('Overall Mean:', pstq.mean(),' Std:',pstq.std(),' Median:',np.median(pstq))\n",
    "    \n",
    "    y = np.array(pstq.mean(axis=0))\n",
    "    e = np.array(pstq.std(axis=0))\n",
    "    x = np.arange(len(y))+1\n",
    "    \n",
    "    plt.errorbar(x, y, e, linestyle='None', marker='^')\n",
    "    plt.xticks(np.arange(min(x), max(x)+1, 1))\n",
    "    plt.yticks(np.arange(6))\n",
    "    axes = plt.gca()\n",
    "    for xy in zip(x, y):\n",
    "        axes.annotate('%.4s' % xy[1], xy=xy, textcoords='data')\n",
    "    plt.show()\n",
    "    print('correlation with loss from monitoring task')\n",
    "    print(sp.spearmanr(pstq.ravel(), np.sum(Total_loss.reshape((-1, 2)),axis=1)),'\\n')\n",
    "    print('correlation with # attended events from monitoring task')\n",
    "    print(sp.spearmanr(pstq.ravel(), np.sum(exp_attend.reshape((-1, 2)),axis=1)),'\\n')    \n",
    "    print('correlation with proportion of attend from monitoring task')\n",
    "    print(sp.spearmanr(pstq.ravel(), np.sum(exp_attend_alert_prop.reshape((-1, 2)),axis=1)),'\\n')\n",
    "    print('correlation with # check from monitoring task')\n",
    "    print(sp.spearmanr(pstq.ravel(), np.sum(exp_check.reshape((-1, 2)),axis=1)),'\\n')\n",
    "\n",
    "pstq_id = pstq_id.reshape((-1,len(pstq.ravel())))\n",
    "    \n",
    "def corrcoefp(matrix):\n",
    "    rows, cols = matrix.shape[0], matrix.shape[1]\n",
    "    r = np.ones(shape=(rows, rows))\n",
    "    p = np.ones(shape=(rows, rows))\n",
    "    for i in range(rows):\n",
    "        for j in range(i+1, rows):\n",
    "            #r_, p_ = sp.pearsonr(matrix[i], matrix[j])\n",
    "            r_, p_ = sp.spearmanr(matrix[i], matrix[j])\n",
    "            r[i, j] = r[j, i] = np.around(r_, decimals=5)\n",
    "            p[i, j] = p[j, i] = p_\n",
    "    return r, p\n",
    "\n",
    "r,p = corrcoefp(pstq_id)\n",
    "\n",
    "r = np.vstack((Q_id+1,r))\n",
    "r = np.hstack((np.insert(Q_id+1,0,0)[np.newaxis].T,r)) # note: need to add one more dimension so it can transpose\n",
    "p = np.vstack((Q_id+1,p))\n",
    "p = np.hstack((np.insert(Q_id+1,0,0)[np.newaxis].T,p))         \n",
    "print('Spearman r between questions:')\n",
    "print(np.around(r, decimals=3),'\\n')\n",
    "print('Spearman p-value between questions:')\n",
    "print(np.around(p, decimals=3))"
   ]
  },
  {
   "cell_type": "code",
   "execution_count": null,
   "metadata": {},
   "outputs": [],
   "source": [
    "display(Markdown('## RQ7 Number of Admin Tasks and Earnings from Admin Tasks'))\n",
    "\n",
    "# exp1 mean & std\n",
    "x = np.arange(8)+1\n",
    "y = np.array(exp1_admin.mean(axis=0))\n",
    "e = np.array(exp1_admin.std(axis=0))\n",
    "plt.errorbar(x, y, e, linestyle='None', marker='^')\n",
    "axes = plt.gca()\n",
    "axes.set_ylim([30,60])\n",
    "for xy in zip(x, y):\n",
    "    axes.annotate('%.4s' % xy[1], xy=xy, textcoords='data')\n",
    "plt.title(\"# Admin Tasks: Experiment 1 (ABCD)\")    \n",
    "plt.show()\n",
    "\n",
    "# exp2 mean & std\n",
    "x = np.arange(8)+1\n",
    "y = np.array(exp2_admin.mean(axis=0))\n",
    "e = np.array(exp2_admin.std(axis=0))\n",
    "plt.errorbar(x, y, e, linestyle='None', marker='^')\n",
    "axes = plt.gca()\n",
    "axes.set_ylim([30,60])\n",
    "for xy in zip(x, y):\n",
    "    axes.annotate('%.4s' % xy[1], xy=xy, textcoords='data')\n",
    "plt.title(\"# Admin Tasks: Experiment 2 (CDAB)\")    \n",
    "plt.show()\n",
    "\n",
    "# overall mean & std\n",
    "x = np.arange(8)+1\n",
    "y = np.array(exp_admin.mean(axis=0))\n",
    "e = np.array(exp_admin.std(axis=0))\n",
    "plt.errorbar(x, y, e, linestyle='None', marker='^')\n",
    "axes = plt.gca()\n",
    "axes.set_ylim([30,60])\n",
    "for xy in zip(x, y):\n",
    "    axes.annotate('%.4s' % xy[1], xy=xy, textcoords='data')\n",
    "plt.title(\"# Admin tasks: Both Experiments (in order of ABCD)\")    \n",
    "plt.show()\n",
    "\n",
    "\n",
    "display(Markdown('### Correlation between # Attended Admins vs proportion of Attended Alerts'))\n",
    "# pearson correlation\n",
    "pear_ = sp.pearsonr(exp_admin.T.ravel(), exp_attend_alert_prop.ravel())\n",
    "print('PearsonrResult(correlation=',pear_[0],', pvalue=',pear_[1],sep='')\n",
    "print(sp.spearmanr(exp_admin.T.ravel(), exp_attend_alert_prop.ravel()))\n",
    "\n",
    "display(Markdown('### Correlation between # Attended Admins vs # Checks'))\n",
    "# pearson correlation\n",
    "pear_ = sp.pearsonr(exp_admin.T.ravel(), exp_check.ravel())\n",
    "print('PearsonrResult(correlation=',pear_[0],', pvalue=',pear_[1],sep='')\n",
    "print(sp.spearmanr(exp_admin.T.ravel(), exp_check.ravel()))\n",
    "\n",
    "display(Markdown('### Correlation between # Attended Admins vs # Attended events'))\n",
    "# pearson correlation\n",
    "pear_ = sp.pearsonr(exp_admin.T.ravel(), exp_attend.ravel())\n",
    "print('PearsonrResult(correlation=',pear_[0],', pvalue=',pear_[1],sep='')\n",
    "print(sp.spearmanr(exp_admin.T.ravel(), exp_attend.ravel()))\n",
    "\n",
    "display(Markdown('### Correlation between # Attended Admins vs # Attended Alerts'))\n",
    "# pearson correlation\n",
    "pear_ = sp.pearsonr(exp_admin.T.ravel(), exp_attend_alert.ravel())\n",
    "print('PearsonrResult(correlation=',pear_[0],', pvalue=',pear_[1],sep='')\n",
    "print(sp.spearmanr(exp_admin.T.ravel(), exp_attend_alert.ravel()))"
   ]
  },
  {
   "cell_type": "code",
   "execution_count": null,
   "metadata": {},
   "outputs": [],
   "source": [
    "display(Markdown('## RQ8 Earnings & Losses'))\n",
    "display(Markdown('### Admin Earnings'))\n",
    "\n",
    "\n",
    "exp1_fnl_balance = exp1_data_T.values[1:n_participant,244:252].astype(int)\n",
    "exp2_fnl_balance = exp2_data_T.values[1:n_participant,244:252].astype(int)\n",
    "exp_fnl_balance = np.vstack((exp1_fnl_balance,np.hstack((exp2_fnl_balance[:,4:],exp2_fnl_balance[:,:4])))).astype(int)\n",
    "\n",
    "# correct cards:$4; wrong cards: $4; use (total admin - 2x wrong admin)x$4 to get net profit\n",
    "exp1_Earnings_admin = 4*(exp1_admin - 2*exp1_admin_w)\n",
    "exp2_Earnings_admin = 4*(exp2_admin - 2*exp2_admin_w)\n",
    "Earnings_admin = 4*(exp_admin - 2*exp_admin_w)\n",
    "\n",
    "# reverse engineering to find total losses from monitoring system\n",
    "exp1_Total_loss = exp1_fnl_balance - exp1_Earnings_admin - 150\n",
    "exp2_Total_loss = exp2_fnl_balance - exp2_Earnings_admin - 150\n",
    "Total_loss = exp_fnl_balance - Earnings_admin - 150\n",
    "\n",
    "\n",
    "############################################ earnings\n",
    "# exp1\n",
    "x = np.arange(8)+1\n",
    "y = np.array(exp1_Earnings_admin.mean(axis=0))\n",
    "e = np.array(exp1_Earnings_admin.std(axis=0))\n",
    "plt.errorbar(x, y, e, linestyle='None', marker='^')\n",
    "axes = plt.gca()\n",
    "axes.set_ylim([100,220])\n",
    "for xy in zip(x, y):\n",
    "    axes.annotate('%.5s' % xy[1], xy=xy, textcoords='data')\n",
    "plt.title(\"Admin earnings: Experiment One (ABCD)\")    \n",
    "plt.show()\n",
    "\n",
    "# exp2\n",
    "x = np.arange(8)+1\n",
    "y = np.array(exp2_Earnings_admin.mean(axis=0))\n",
    "e = np.array(exp2_Earnings_admin.std(axis=0))\n",
    "plt.errorbar(x, y, e, linestyle='None', marker='^')\n",
    "axes = plt.gca()\n",
    "axes.set_ylim([100,220])\n",
    "for xy in zip(x, y):\n",
    "    axes.annotate('%.5s' % xy[1], xy=xy, textcoords='data')\n",
    "plt.title(\"Admin earnings: Experiment Two (CDAB)\")    \n",
    "plt.show()\n",
    "\n",
    "# overall\n",
    "x = np.arange(8)+1\n",
    "y = np.array(Earnings_admin.mean(axis=0))\n",
    "e = np.array(Earnings_admin.std(axis=0))\n",
    "plt.errorbar(x, y, e, linestyle='None', marker='^')\n",
    "axes = plt.gca()\n",
    "axes.set_ylim([100,220])\n",
    "for xy in zip(x, y):\n",
    "    axes.annotate('%.5s' % xy[1], xy=xy, textcoords='data')\n",
    "plt.title(\"Admin earnings: Both Experiments (ABCD)\")    \n",
    "plt.show()\n",
    "\n",
    "print('\\nEarnings: Between high FAs and low FAs \\n')\n",
    "Earnings_admin_hi = exp_check[:, np.r_[0,1,4,5]].T.ravel()\n",
    "Earnings_admin_lo = exp_check[:, np.r_[1,3,5,7]].T.ravel()\n",
    "print(sp.wilcoxon(Earnings_admin_hi,Earnings_admin_lo))\n",
    "\n",
    "print('\\nEarnings: Between same segment across two experiments \\n')\n",
    "for idx in range(8):\n",
    "#     print(Earnings_admin[:(n_participant-1),idx])\n",
    "#     print(Earnings_admin[(n_participant-1):,idx])\n",
    "    print(sp.wilcoxon(Earnings_admin[:(n_participant-1),idx],\\\n",
    "                       Earnings_admin[(n_participant-1):,idx]))\n",
    "    \n",
    "print('\\nEarnings: Between consecutive segments in same system setting \\n')\n",
    "    \n",
    "for idx in range(7):\n",
    "    print('Exp1: between section',idx+1,'and',idx+2)\n",
    "    print(sp.wilcoxon(Earnings_admin[:(n_participant-1),idx],\\\n",
    "                       Earnings_admin[:(n_participant-1),idx+1]))\n",
    "    \n",
    "for idx in range(7):\n",
    "    print('Exp2: between section',idx+1,'and',idx+2)\n",
    "    print(sp.wilcoxon(Earnings_admin[(n_participant-1):,idx],\\\n",
    "                       Earnings_admin[(n_participant-1):,idx+1]))\n",
    "\n",
    "display(Markdown('### Total losses from events/alerts/attend/checks/misses'))\n",
    "\n",
    "############################################ losses\n",
    "# exp1\n",
    "x = np.arange(8)+1\n",
    "y = np.array(exp1_Total_loss.mean(axis=0))\n",
    "e = np.array(exp1_Total_loss.std(axis=0))\n",
    "plt.errorbar(x, y, e, linestyle='None', marker='^')\n",
    "axes = plt.gca()\n",
    "axes.set_ylim([-700,100])\n",
    "for xy in zip(x, y):\n",
    "    axes.annotate('%.5s' % xy[1], xy=xy, textcoords='data')\n",
    "plt.title(\"Total losses: Experiment One (ABCD)\")    \n",
    "plt.show()\n",
    "\n",
    "# exp2\n",
    "x = np.arange(8)+1\n",
    "y = np.array(exp2_Total_loss.mean(axis=0))\n",
    "e = np.array(exp2_Total_loss.std(axis=0))\n",
    "plt.errorbar(x, y, e, linestyle='None', marker='^')\n",
    "axes = plt.gca()\n",
    "axes.set_ylim([-700,100])\n",
    "for xy in zip(x, y):\n",
    "    axes.annotate('%.5s' % xy[1], xy=xy, textcoords='data')\n",
    "plt.title(\"Total losses: Experiment Two (CDAB)\")    \n",
    "plt.show()\n",
    "\n",
    "# overall mean & std\n",
    "x = np.arange(8)+1\n",
    "y = np.array(Total_loss.mean(axis=0))\n",
    "e = np.array(Total_loss.std(axis=0))\n",
    "plt.errorbar(x, y, e, linestyle='None', marker='^')\n",
    "axes = plt.gca()\n",
    "axes.set_ylim([-700,100])\n",
    "for xy in zip(x, y):\n",
    "    axes.annotate('%.5s' % xy[1], xy=xy, textcoords='data')\n",
    "plt.title(\"Total losses: Both Experiments (in order of ABCD)\")    \n",
    "plt.show()\n",
    "\n",
    "print('\\nLosses: Between same segment across two experiments \\n')\n",
    "\n",
    "for idx in range(8):\n",
    "#     print(Total_loss[:(n_participant-1),idx])\n",
    "#     print(Total_loss[(n_participant-1):,idx])\n",
    "    print(sp.wilcoxon(Total_loss[:(n_participant-1),idx],\\\n",
    "                       Total_loss[(n_participant-1):,idx]))\n",
    "\n",
    "print('\\nLosses: Between consecutive segments in same system setting \\n')\n",
    "    \n",
    "for idx in range(7):\n",
    "    print('Exp1: between section',idx+1,'and',idx+2)\n",
    "    print(sp.wilcoxon(Total_loss[:(n_participant-1),idx],\\\n",
    "                       Total_loss[:(n_participant-1),idx+1]))\n",
    "for idx in range(7):\n",
    "    print('Exp2: between section',idx+1,'and',idx+2)\n",
    "    print(sp.wilcoxon(Total_loss[(n_participant-1):,idx],\\\n",
    "                       Total_loss[(n_participant-1):,idx+1]))\n",
    "    \n",
    "display(Markdown('### Final balance from the experiments'))\n",
    "\n",
    "########################################### total balance\n",
    "# exp1\n",
    "x = np.arange(8)+1\n",
    "y = np.array(exp1_fnl_balance.mean(axis=0))\n",
    "e = np.array(exp1_fnl_balance.std(axis=0))\n",
    "plt.errorbar(x, y, e, linestyle='None', marker='^')\n",
    "axes = plt.gca()\n",
    "axes.set_ylim([-400,400])\n",
    "for xy in zip(x, y):\n",
    "    axes.annotate('%.5s' % xy[1], xy=xy, textcoords='data')\n",
    "plt.title(\"Final balance: Experiment One (ABCD)\")    \n",
    "plt.show()\n",
    "\n",
    "# exp2\n",
    "x = np.arange(8)+1\n",
    "y = np.array(exp2_fnl_balance.mean(axis=0))\n",
    "e = np.array(exp2_fnl_balance.std(axis=0))\n",
    "plt.errorbar(x, y, e, linestyle='None', marker='^')\n",
    "axes = plt.gca()\n",
    "axes.set_ylim([-400,400])\n",
    "for xy in zip(x, y):\n",
    "    axes.annotate('%.5s' % xy[1], xy=xy, textcoords='data')\n",
    "plt.title(\"Final balance: Experiment Two (CDAB)\")    \n",
    "plt.show()\n",
    "\n",
    "# overall mean & std\n",
    "x = np.arange(8)+1\n",
    "y = np.array(exp_fnl_balance.mean(axis=0))\n",
    "e = np.array(exp_fnl_balance.std(axis=0))\n",
    "plt.errorbar(x, y, e, linestyle='None', marker='^')\n",
    "axes = plt.gca()\n",
    "axes.set_ylim([-400,400])\n",
    "for xy in zip(x, y):\n",
    "    axes.annotate('%.5s' % xy[1], xy=xy, textcoords='data')\n",
    "plt.title(\"Final balance: Both Experiments (in order of ABCD)\")    \n",
    "plt.show()\n",
    "\n"
   ]
  },
  {
   "cell_type": "code",
   "execution_count": null,
   "metadata": {
    "scrolled": true
   },
   "outputs": [],
   "source": [
    "display(Markdown('## RQ9 Trust-Propensity Questionnaire'))\n",
    "\n",
    "Qs_propensity = ['I usually trust machines until there is a reason not to',\n",
    "'For the most part; I distrust machines',\n",
    "'In general; I would rely on a machine to assist me',\n",
    "'My tendency to trust machines is high',\n",
    "'It is difficult for me to trust machines to do their job',\n",
    "'I am likely to trust a machine even when I have little knowledge about it']\n",
    "\n",
    "for qid in range(len(Qs_propensity)):\n",
    "    print('Q',qid+1,': ',Qs_propensity[qid],sep='')\n",
    "\n",
    "# overall mean & std\n",
    "x = np.arange(6)+1\n",
    "y = np.array(exp_prop.mean(axis=0))\n",
    "e = np.array(exp_prop.std(axis=0))\n",
    "plt.errorbar(x, y, e, linestyle='None', marker='^')\n",
    "axes = plt.gca()\n",
    "axes.set_ylim([0,5])\n",
    "for xy in zip(x, y):\n",
    "    axes.annotate('%.4s' % xy[1], xy=xy, textcoords='data')\n",
    "plt.title(\"Propensity Questions: Both Experiments (ABCD) \\n 1: strongly disagree 5 strongly agree\")    \n",
    "plt.show()\n",
    "\n",
    "\n",
    "display(Markdown('### Among trust-propensity questions:'))\n",
    "print('\\033[1m'+'Hypotheses:\\n')\n",
    "print('Q1 inversely correlated with 2 and 5, directly correlated with 3, 4 and 6.')\n",
    "print('Q2 directly correlated with 5, inversely correlated with 3, 4 and 6.')\n",
    "print('Q3 directly correlated with 4 and 6, inversely correlated with 5.')\n",
    "print('Q4 directly correlated with 6, inversely correlated with 5.')\n",
    "print('Q5 inversely correlated with 6.'+'\\033[0m'+'\\n')\n",
    "print('Correlation test.\\n')\n",
    "\n",
    "# def corrcoefp(matrix):\n",
    "#     r = np.corrcoef(matrix)\n",
    "#     rf = r[np.triu_indices(r.shape[0], 1)]\n",
    "#     df = matrix.shape[1] - 2\n",
    "#     ts = rf * rf * (df / (1 - rf * rf))\n",
    "#     pf = ss.betainc(0.5 * df, 0.5, df / (df + ts))\n",
    "#     p = np.zeros(shape=r.shape)\n",
    "#     p[np.triu_indices(p.shape[0], 1)] = pf\n",
    "#     p[np.tril_indices(p.shape[0], -1)] = pf\n",
    "#     p[np.diag_indices(p.shape[0])] = np.ones(p.shape[0])\n",
    "#     return r, p\n",
    "\n",
    "def corrcoefp(matrix):\n",
    "    rows, cols = matrix.shape[0], matrix.shape[1]\n",
    "    r = np.ones(shape=(rows, rows))\n",
    "    p = np.ones(shape=(rows, rows))\n",
    "    for i in range(rows):\n",
    "        for j in range(i+1, rows):\n",
    "            #r_, p_ = sp.pearsonr(matrix[i], matrix[j])\n",
    "            r_, p_ = sp.spearmanr(matrix[i], matrix[j])\n",
    "            r[i, j] = r[j, i] = np.around(r_, decimals=5)\n",
    "            p[i, j] = p[j, i] = p_\n",
    "    return r, p\n",
    "\n",
    "r,p = corrcoefp(exp_prop.T)\n",
    "\n",
    "r = np.vstack((np.arange(6)+1,r))\n",
    "r = np.hstack((np.arange(7)[np.newaxis].T,r)) # note: need to add one more dimension so it can transpose\n",
    "p = np.vstack((np.arange(6)+1,p))\n",
    "p = np.hstack((np.arange(7)[np.newaxis].T,p))         \n",
    "print('Spearman r between questions:')\n",
    "print(np.around(r, decimals=3),'\\n')\n",
    "print('Spearman p-value between questions:')\n",
    "print(np.around(p, decimals=3))\n",
    "\n",
    "display(Markdown('### Between trust-propensity questions and trust:'))\n",
    "print('\\033[1m'+'Hypotheses:\\n')\n",
    "print('Q1 3 4 6 directly correlated with self-reported trust and proportion of attends, inversely correlated with number of checks.')\n",
    "print('Q2 5 inversely correlated with self-reported trust and proportion of attends, directly correlated with number of checks.'+'\\033[0m'+'\\n')\n",
    "print('Below summarises the correlation between answers and four user behavior trust:')\n",
    "print('\\033[1m'+'Trust Score, # events, Prop Alert and # Check'+'\\033[0m'+'\\n')\n",
    "\n",
    "# pearson correlation             \n",
    "for qid in range(len(Qs_propensity)):\n",
    "    print('Q',qid+1,': ',Qs_propensity[qid],sep='')\n",
    "    user_trust = np.vstack((exp_prop[:,qid],\\\n",
    "                 np.sum(exp_trust,axis=1),\\\n",
    "                 np.sum(exp_attend,axis=1),\\\n",
    "                 np.sum(exp_attend_alert_prop,axis=1),\\\n",
    "                 np.sum(exp_check,axis=1)))\n",
    "    r,p = corrcoefp(user_trust)\n",
    "    result = np.vstack((np.around(r[0,1:],decimals=3),np.around(p[0,1:],decimals=3)))\n",
    "    print('    r:',result[0],sep='')\n",
    "    print('    p:',result[1],sep='')"
   ]
  },
  {
   "cell_type": "code",
   "execution_count": null,
   "metadata": {},
   "outputs": [],
   "source": [
    "########################### Pre-game questionnaire ################################\n",
    "display(Markdown('# RQ10 Pre-game questionnaire'))\n",
    "\n",
    "Qs_pre =['What is your gender?',\n",
    "'Please indicate your age',\n",
    "'Please indicate your ethnic background',\n",
    "'What is your highest level of education?',\n",
    "'How would you rate your technology expertise?',\n",
    "'How do you feel about including technology in your life?',\n",
    "'How would you rate your experience with smart devices?']\n",
    "\n",
    "opts =[['Male','Female','Other'],\n",
    "['Under 30','30','40','41-50','51-60','61-70','Over 70'],\n",
    "['African','AAPI','Caucasian','East Asian','HAL','Middle Eastern','South Asian','Other'],\n",
    "['Primary','Secondary','Short-cycle','Bachelor','Master,','PhD','Other'],\n",
    "['Low','Medium','High'],\n",
    "['Dislike','Neutral','Like'],\n",
    "['Low','Medium','High']]\n",
    "\n",
    "for idx in range(len(Qs_pre)): \n",
    "    \n",
    "    ans = np.arange(len(opts[idx]))+1\n",
    "    cnt = {key: 0 for key in ans}\n",
    "    cnt.update(Counter(exp_demo[:,idx]))\n",
    "    plt.bar(ans,list(cnt.values()))\n",
    "    plt.xticks(ans, opts[idx], rotation=17)\n",
    "    plt.title(Qs_pre[idx])\n",
    "    plt.ylabel(\"Count\")\n",
    "    plt.show()"
   ]
  },
  {
   "cell_type": "code",
   "execution_count": null,
   "metadata": {},
   "outputs": [],
   "source": [
    "########################### Post-game questionnaire ################################\n",
    "display(Markdown('# RQ11 Post-game questionnaire'))\n",
    "\n",
    "Qs_post =['How difficult was your admin job in the experiment?',\n",
    "'How engaged were you with the experiment?',\n",
    "'How stressful was the experiment?',\n",
    "'How important to do well in the card game?',\n",
    "'How important the elderly residents are ok?',\n",
    "'How did you determine your trust to monitoring system?',\n",
    "'Was the tutorial video sufficiently helpful?']\n",
    "\n",
    "\n",
    "for qid in range(len(Qs_post)):\n",
    "    print('Q',qid+1,': ',Qs_post[qid],sep='')\n",
    "    \n",
    "print('\\n'+'\\033[1m'+'Hypotheses:')\n",
    "print('Q4 is directly correlated with income (sum of all).')\n",
    "print('Q5 is inversely correlated with losses (sum of all).'+'\\033[0m'+'\\n')\n",
    "\n",
    "print('Q4 vs income:')\n",
    "print('    Answers to Q4: Mean:', exp_pgq[:,3].mean(),' std:',exp_pgq[:,3].std())\n",
    "print('    Total income:  Mean:',np.sum(Earnings_admin, axis=1).mean(),' std:',np.sum(Earnings_admin, axis=1).std())\n",
    "# spearman correlation\n",
    "print('   ',sp.spearmanr(exp_pgq[:,3], np.sum(Earnings_admin, axis=1)))\n",
    "      \n",
    "print('Q4 vs losses:')\n",
    "print('    Answers to Q4: Mean:', exp_pgq[:,3].mean(),' std:',exp_pgq[:,3].std())\n",
    "print('    Total losses:  Mean:', np.sum(Total_loss, axis=1).mean(),' std:',np.sum(Total_loss, axis=1).std())\n",
    "# spearman correlation\n",
    "print('   ',sp.spearmanr(exp_pgq[:,3], np.sum(Total_loss, axis=1)))\n",
    "      \n",
    "print('Q5 vs income:')\n",
    "print('    Answers to Q5: Mean:', exp_pgq[:,4].mean(),' std:',exp_pgq[:,4].std())\n",
    "print('    Total income:  Mean:',np.sum(Earnings_admin, axis=1).mean(),' std:',np.sum(Earnings_admin, axis=1).std())\n",
    "# spearman correlation\n",
    "print('   ',sp.spearmanr(exp_pgq[:,4], np.sum(Earnings_admin, axis=1)))\n",
    "      \n",
    "print('Q5 vs losses:')\n",
    "print('    Answers to Q5: Mean:', exp_pgq[:,4].mean(),' std:',exp_pgq[:,4].std())\n",
    "print('    Total losses:  Mean:',np.sum(Total_loss, axis=1).mean(),' std:',np.sum(Total_loss, axis=1).std())\n",
    "# spearman correlation\n",
    "print('   ',sp.spearmanr(exp_pgq[:,4], np.sum(Total_loss, axis=1)))\n",
    "\n",
    "print('Q5 vs # check:')\n",
    "print('    Answers to Q5: Mean:', exp_pgq[:,4].mean(),' std:',exp_pgq[:,4].std())\n",
    "print('    Total # check:  Mean:',np.sum(exp_attend_alert_prop, axis=1).mean(),' std:',np.sum(exp_attend_alert_prop, axis=1).std())\n",
    "# spearman correlation\n",
    "print('   ',sp.spearmanr(exp_pgq[:,4], np.sum(exp_attend_alert_prop, axis=1)))\n",
    "\n",
    "print('Q5 vs proportion of attended alert:')\n",
    "print('    Answers to Q5: Mean:', exp_pgq[:,4].mean(),' std:',exp_pgq[:,4].std())\n",
    "print('    Total proportion of attended alert:  Mean:',np.sum(exp_check, axis=1).mean(),' std:',np.sum(exp_check, axis=1).std())\n",
    "# spearman correlation\n",
    "print('   ',sp.spearmanr(exp_pgq[:,4], np.sum(exp_check, axis=1)))\n",
    "\n",
    "opts =[['Very Difficult','Difficult','Fine','Easy','Very Easy'],\n",
    "['Quite bored','A little bored','Neutral','A little engaged','Quite engaged'],\n",
    "['Quite Stressful','A little stressful','Not at all'],\n",
    "['Not at all','A little','Moderately','Very'],\n",
    "['Not at all','A little','Moderately','Very'],\n",
    "['The game','Interim report','Both','Other'],\n",
    "['No','Yes']]\n",
    "\n",
    "\n",
    "for idx in range(len(Qs_post)): \n",
    "    \n",
    "    ans = np.arange(len(opts[idx]))+1\n",
    "    cnt = {key: 0 for key in ans}\n",
    "    cnt.update(Counter(exp_pgq[:,idx]))\n",
    "    plt.bar(ans,list(cnt.values()))\n",
    "    plt.xticks(ans, opts[idx], rotation=17)\n",
    "    plt.title(Qs_post[idx])\n",
    "    plt.ylabel(\"Count\")\n",
    "    plt.show()"
   ]
  }
 ],
 "metadata": {
  "kernelspec": {
   "display_name": "Python 3",
   "language": "python",
   "name": "python3"
  },
  "language_info": {
   "codemirror_mode": {
    "name": "ipython",
    "version": 3
   },
   "file_extension": ".py",
   "mimetype": "text/x-python",
   "name": "python",
   "nbconvert_exporter": "python",
   "pygments_lexer": "ipython3",
   "version": "3.6.1"
  }
 },
 "nbformat": 4,
 "nbformat_minor": 2
}
